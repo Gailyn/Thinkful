{
  "nbformat": 4,
  "nbformat_minor": 0,
  "metadata": {
    "colab": {
      "name": "Project Euler.ipynb",
      "provenance": []
    },
    "kernelspec": {
      "name": "python3",
      "display_name": "Python 3"
    }
  },
  "cells": [
    {
      "cell_type": "markdown",
      "metadata": {
        "id": "VQKPzs7n2BEN",
        "colab_type": "text"
      },
      "source": [
        "#1"
      ]
    },
    {
      "cell_type": "code",
      "metadata": {
        "id": "vP_R99hoY2Tu",
        "colab_type": "code",
        "colab": {
          "base_uri": "https://localhost:8080/",
          "height": 35
        },
        "outputId": "04d2fb98-18bb-47ff-cd0b-533837faba22"
      },
      "source": [
        "\n",
        "answer = 0\n",
        "for i in range(1000):\n",
        "    if i % 3 == 0 or i % 5 == 0:\n",
        "        answer += i\n",
        "        \n",
        "print(answer)"
      ],
      "execution_count": 1,
      "outputs": [
        {
          "output_type": "stream",
          "text": [
            "233168\n"
          ],
          "name": "stdout"
        }
      ]
    },
    {
      "cell_type": "markdown",
      "metadata": {
        "id": "wyHnwQ1D1jv4",
        "colab_type": "text"
      },
      "source": [
        "#2\n"
      ]
    },
    {
      "cell_type": "code",
      "metadata": {
        "id": "lmgUgb8NY8tL",
        "colab_type": "code",
        "colab": {
          "base_uri": "https://localhost:8080/",
          "height": 35
        },
        "outputId": "c2e51628-0072-48ad-df31-5628adf0a81b"
      },
      "source": [
        "\n",
        "fib = []\n",
        "fib_sum = []\n",
        "for i in range(100):\n",
        "    if i == 1 or i == 2:\n",
        "        num = i\n",
        "        fib.append(num)\n",
        "        if i == 2:\n",
        "            fib_sum.append(num)\n",
        "    elif i >= 3:\n",
        "        num = fib[i-2] + fib[i-3]\n",
        "        fib.append(num)\n",
        "        if num < 4000000 and num % 2 ==0:\n",
        "            fib_sum.append(num)\n",
        "sum(fib_sum)"
      ],
      "execution_count": 2,
      "outputs": [
        {
          "output_type": "execute_result",
          "data": {
            "text/plain": [
              "4613732"
            ]
          },
          "metadata": {
            "tags": []
          },
          "execution_count": 2
        }
      ]
    },
    {
      "cell_type": "markdown",
      "metadata": {
        "id": "X5z2GiFC1p7k",
        "colab_type": "text"
      },
      "source": [
        "#3\n"
      ]
    },
    {
      "cell_type": "code",
      "metadata": {
        "id": "NsLfBOyvY_UI",
        "colab_type": "code",
        "colab": {
          "base_uri": "https://localhost:8080/",
          "height": 35
        },
        "outputId": "08dd8a07-5946-4707-d78d-3e20d714dcce"
      },
      "source": [
        "num = 600851475143\n",
        "i = 2\n",
        "while i * i < num:\n",
        "    while num % i == 0:\n",
        "        num = num // i\n",
        "    i = i + 1\n",
        "print(num)"
      ],
      "execution_count": 3,
      "outputs": [
        {
          "output_type": "stream",
          "text": [
            "6857\n"
          ],
          "name": "stdout"
        }
      ]
    },
    {
      "cell_type": "markdown",
      "metadata": {
        "id": "P21JvsC71t_4",
        "colab_type": "text"
      },
      "source": [
        "#4"
      ]
    },
    {
      "cell_type": "code",
      "metadata": {
        "id": "0Hzyen5fZETb",
        "colab_type": "code",
        "colab": {
          "base_uri": "https://localhost:8080/",
          "height": 35
        },
        "outputId": "e081bf4e-f21a-4067-aaf2-261bbc67c469"
      },
      "source": [
        "\n",
        "n = range(100,1000)\n",
        "spl = []\n",
        "\n",
        "for i in n:\n",
        "    for j in n:\n",
        "        prod = i*j\n",
        "        num = []\n",
        "        for x in str(prod):\n",
        "            num.append(int(x))\n",
        "        if num[0] == num[-1] and num[1] == num[-2] and num[2] == num[-3]:\n",
        "            spl.append([prod])\n",
        "        \n",
        "print(max(spl))"
      ],
      "execution_count": 4,
      "outputs": [
        {
          "output_type": "stream",
          "text": [
            "[906609]\n"
          ],
          "name": "stdout"
        }
      ]
    },
    {
      "cell_type": "markdown",
      "metadata": {
        "id": "BeDEgx_e1vyC",
        "colab_type": "text"
      },
      "source": [
        "#5\n"
      ]
    },
    {
      "cell_type": "code",
      "metadata": {
        "id": "EopUBz7VZJCQ",
        "colab_type": "code",
        "colab": {
          "base_uri": "https://localhost:8080/",
          "height": 35
        },
        "outputId": "1aab6d82-d601-4b34-b755-05fd731f69a2"
      },
      "source": [
        "\n",
        "nums = range(10,1000000000,10)\n",
        "a = set()\n",
        "for n in nums:\n",
        "    if n%2==0 and n%3==0 and n%4==0 and n%5==0 and n%6==0 and n%7==0 and n%8==0 and n%9==0 and n%11==0 and n%12==0 and n%13==0 and n%14==0 and n%15==0 and n%16==0 and n%17==0 and n%18==0 and n%19==0 and n%20==0:\n",
        "        a.add(n)\n",
        "min(a)"
      ],
      "execution_count": 5,
      "outputs": [
        {
          "output_type": "execute_result",
          "data": {
            "text/plain": [
              "232792560"
            ]
          },
          "metadata": {
            "tags": []
          },
          "execution_count": 5
        }
      ]
    },
    {
      "cell_type": "markdown",
      "metadata": {
        "id": "gmIXXkY11zIK",
        "colab_type": "text"
      },
      "source": [
        "#6"
      ]
    },
    {
      "cell_type": "code",
      "metadata": {
        "id": "BqAJzmgyZMQi",
        "colab_type": "code",
        "colab": {
          "base_uri": "https://localhost:8080/",
          "height": 35
        },
        "outputId": "084e3b4c-ab16-4084-dd19-52054ac779a5"
      },
      "source": [
        "squares = []\n",
        "for n in range(1,101):\n",
        "    squares.append(n**2)\n",
        "    summ = sum(range(1,101))**2\n",
        "diff = summ - sum(squares)\n",
        "diff"
      ],
      "execution_count": 6,
      "outputs": [
        {
          "output_type": "execute_result",
          "data": {
            "text/plain": [
              "25164150"
            ]
          },
          "metadata": {
            "tags": []
          },
          "execution_count": 6
        }
      ]
    },
    {
      "cell_type": "markdown",
      "metadata": {
        "id": "cR2NPr3y1ygW",
        "colab_type": "text"
      },
      "source": [
        "#7"
      ]
    },
    {
      "cell_type": "code",
      "metadata": {
        "id": "ohCScg-LZRRr",
        "colab_type": "code",
        "colab": {
          "base_uri": "https://localhost:8080/",
          "height": 35
        },
        "outputId": "2fe2d40e-f2ea-47a6-904d-2cb00fd6c13a"
      },
      "source": [
        "\n",
        "def nth_prime_number(n):\n",
        "    # initial prime number list\n",
        "    prime_list = [2]\n",
        "    # first number to test if prime\n",
        "    num = 3\n",
        "    # keep generating primes until we get to the nth one\n",
        "    while len(prime_list) < n:\n",
        "\n",
        "        # check if num is divisible by any prime before it\n",
        "        for p in prime_list:\n",
        "            # if there is no remainder dividing the number\n",
        "            # then the number is not a prime\n",
        "            if num % p == 0:\n",
        "                # break to stop testing more numbers, we know it's not a prime\n",
        "                break\n",
        "\n",
        "        # if it is a prime, then add it to the list\n",
        "        # after a for loop, else runs if the \"break\" command has not been given\n",
        "        else:\n",
        "            # append to prime list\n",
        "            prime_list.append(num)\n",
        "\n",
        "        # same optimization you had, don't check even numbers\n",
        "        num += 2\n",
        "\n",
        "    # return the last prime number generated\n",
        "    return prime_list[-1]\n",
        "\n",
        "nth_prime_number(10001)"
      ],
      "execution_count": 7,
      "outputs": [
        {
          "output_type": "execute_result",
          "data": {
            "text/plain": [
              "104743"
            ]
          },
          "metadata": {
            "tags": []
          },
          "execution_count": 7
        }
      ]
    },
    {
      "cell_type": "markdown",
      "metadata": {
        "id": "_DMRnzPO12el",
        "colab_type": "text"
      },
      "source": [
        "#8"
      ]
    },
    {
      "cell_type": "code",
      "metadata": {
        "id": "YPtHpYG7ZUIz",
        "colab_type": "code",
        "colab": {
          "base_uri": "https://localhost:8080/",
          "height": 131
        },
        "outputId": "8e4de8d3-dfdd-435c-fb87-50f5d5856a13"
      },
      "source": [
        "number_list = 7316717653133062491922511967442657474235534919493496983520312774506326239578318016984801869478851843858615607891129494954595017379583319528532088055111254069874715852386305071569329096329522744304355766896648950445244523161731856403098711121722383113622298934233803081353362766142828064444866452387493035890729629049156044077239071381051585930796086670172427121883998797908792274921901699720888093776657273330010533678812202354218097512545405947522435258490771167055601360483958644670632441572215539753697817977846174064955149290862569321978468622482839722413756570560574902614079729686524145351004748216637048440319989000889524345065854122758866688116427171479924442928230863465674813919123162824586178664583591245665294765456828489128831426076900422421902267105562632111110937054421750694165896040807198403850962455444362981230987879927244284909188845801561660979191338754992005240636899125607176060588611646710940507754100225698315520005593572972571636269561882670428252483600823257530420752963450\n",
        "\n",
        "#def prod_n_adj_digits(input_num, n):\n",
        "num_list = []\n",
        "prods = []\n",
        "for num in str(number_list):\n",
        "    num_list.append(int(num))\n",
        "    for i in range(12, len(num_list)):\n",
        "        prod = num_list[i] * num_list[i-1] * num_list[i-2] * num_list[i-3] * num_list[i-4]*\n",
        "        num_list[i-5] * num_list[i-6] * num_list[i-7] * num_list[i-8] * num_list[i-9] * num_list[i-10] * \n",
        "        num_list[i-11] * num_list[i-12]\n",
        "        prods.append(prod)\n",
        "max(prods)"
      ],
      "execution_count": 9,
      "outputs": [
        {
          "output_type": "error",
          "ename": "SyntaxError",
          "evalue": "ignored",
          "traceback": [
            "\u001b[0;36m  File \u001b[0;32m\"<ipython-input-9-d0e4bcfc2ba9>\"\u001b[0;36m, line \u001b[0;32m9\u001b[0m\n\u001b[0;31m    prod = num_list[i] * num_list[i-1] * num_list[i-2] * num_list[i-3] * num_list[i-4]*\u001b[0m\n\u001b[0m                                                                                       ^\u001b[0m\n\u001b[0;31mSyntaxError\u001b[0m\u001b[0;31m:\u001b[0m invalid syntax\n"
          ]
        }
      ]
    },
    {
      "cell_type": "markdown",
      "metadata": {
        "id": "cOf8tKsd13yG",
        "colab_type": "text"
      },
      "source": [
        "#9"
      ]
    },
    {
      "cell_type": "code",
      "metadata": {
        "id": "M5OfaZm4ZXdm",
        "colab_type": "code",
        "colab": {
          "base_uri": "https://localhost:8080/",
          "height": 86
        },
        "outputId": "8f9dbfec-d5d0-468c-84c9-108cf4e4e99d"
      },
      "source": [
        "\n",
        "a_list = range(1000)\n",
        "b_list = range(1000)\n",
        "for a in a_list:\n",
        "    for b in b_list:\n",
        "        c = 1000 - a - b\n",
        "        if a < b and b < c and a**2 + b**2 == c**2 and a+b+c==1000:\n",
        "            print(a)\n",
        "            print(b)\n",
        "            print(c)\n",
        "            print(a*b*c)"
      ],
      "execution_count": 10,
      "outputs": [
        {
          "output_type": "stream",
          "text": [
            "200\n",
            "375\n",
            "425\n",
            "31875000\n"
          ],
          "name": "stdout"
        }
      ]
    },
    {
      "cell_type": "markdown",
      "metadata": {
        "id": "CPtQ5rs016aQ",
        "colab_type": "text"
      },
      "source": [
        "#10"
      ]
    },
    {
      "cell_type": "code",
      "metadata": {
        "id": "rIYkIobRZaHL",
        "colab_type": "code",
        "colab": {
          "base_uri": "https://localhost:8080/",
          "height": 35
        },
        "outputId": "2166d63d-f175-499e-9201-765aa1140a50"
      },
      "source": [
        "def eratosthenes2(n):\n",
        "    #Declare a set - an unordered collection of unique elements\n",
        "    multiples = set()\n",
        "\n",
        "    #Iterate through [2,2000000]\n",
        "    for i in range(2, n+1):\n",
        "\n",
        "        #If i has not been eliminated already \n",
        "        if i not in multiples:\n",
        "\n",
        "            #Yay prime!\n",
        "            yield i\n",
        "\n",
        "            #Add multiples of the prime in the range to the 'invalid' set\n",
        "            multiples.update(range(i*i, n+1, i))\n",
        "\n",
        "#Now sum it up\n",
        "iter = 0\n",
        "ml = list(eratosthenes2(2000000))\n",
        "for x in ml:\n",
        "    iter = int(x) + iter\n",
        "\n",
        "print(iter)"
      ],
      "execution_count": 11,
      "outputs": [
        {
          "output_type": "stream",
          "text": [
            "142913828922\n"
          ],
          "name": "stdout"
        }
      ]
    },
    {
      "cell_type": "markdown",
      "metadata": {
        "id": "mdrBiS2r1_Wu",
        "colab_type": "text"
      },
      "source": [
        "I had trouble with Question 8 and struggled with questions 9, 10, and 7 I will look at the answers \n",
        "\n"
      ]
    },
    {
      "cell_type": "code",
      "metadata": {
        "id": "BY7feD8Y2qS2",
        "colab_type": "code",
        "colab": {}
      },
      "source": [
        ""
      ],
      "execution_count": 0,
      "outputs": []
    }
  ]
}