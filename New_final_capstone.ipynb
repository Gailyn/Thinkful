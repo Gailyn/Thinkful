{
  "nbformat": 4,
  "nbformat_minor": 0,
  "metadata": {
    "colab": {
      "name": "New final capstone.ipynb",
      "provenance": [],
      "collapsed_sections": [],
      "machine_shape": "hm"
    },
    "kernelspec": {
      "name": "python3",
      "display_name": "Python 3"
    },
    "accelerator": "GPU"
  },
  "cells": [
    {
      "cell_type": "code",
      "metadata": {
        "id": "BzbZVy8RoVTf",
        "colab_type": "code",
        "colab": {}
      },
      "source": [
        "\n",
        "\n",
        "\n",
        "%matplotlib inline\n",
        "\n",
        "\n",
        "from sklearn import ensemble\n",
        "from sklearn.preprocessing import LabelEncoder, LabelBinarizer\n",
        "from sklearn.utils import resample\n",
        "from sklearn.decomposition import PCA\n",
        "from sklearn.preprocessing import normalize\n",
        "from sklearn.cluster import KMeans\n",
        "from sklearn.preprocessing import StandardScaler\n",
        "from sklearn.model_selection import train_test_split, GridSearchCV\n",
        "from sklearn.linear_model import LogisticRegression\n",
        "from sklearn.ensemble import RandomForestClassifier\n",
        "\n",
        "from sklearn.neural_network import MLPClassifier\n",
        "from sklearn.model_selection import cross_val_score\n",
        "from sklearn.metrics import confusion_matrix, classification_report\n",
        "\n",
        "import pandas as pd # data processing, CSV file I/O (e.g. pd.read_csv)\n",
        "import matplotlib.pyplot as plt\n",
        "import seaborn as sns\n",
        "import cv2\n",
        "\n",
        "import numpy as np\n",
        "import pandas as pd # data processing, CSV file I/O (e.g. pd.read_csv)\n",
        "import matplotlib.pyplot as plt\n",
        "import seaborn as sns\n",
        "\n",
        "# Input data files are available in the \"../input/\" directory.\n",
        "# For example, running this (by clicking run or pressing Shift+Enter) will list the files in the input directory\n",
        "import warnings\n",
        "# filter warnings\n",
        "warnings.filterwarnings('ignore')\n",
        "\n",
        "from subprocess import check_output\n",
        "\n",
        "# Import various componenets for model building\n",
        "import keras\n",
        "from keras.models import Sequential\n",
        "from keras.layers import Dense, Dropout, Flatten, Conv2D, MaxPooling2D\n",
        "from keras.layers import LSTM, Input, TimeDistributed\n",
        "from keras.models import Model\n",
        "from keras.optimizers import RMSprop\n",
        "\n",
        "# Import the backend\n",
        "from keras import backend as K\n",
        "\n",
        "import numpy as np\n",
        "import cv2\n",
        "import pandas as pd\n",
        "%matplotlib inline\n",
        "import matplotlib.pyplot as plt\n",
        "from matplotlib.offsetbox import OffsetImage, AnnotationBbox\n",
        "import glob\n",
        "import os\n",
        "from sklearn.decomposition import PCA\n",
        "from sklearn.manifold import TSNE\n",
        "from sklearn.preprocessing import StandardScaler\n",
        "from sklearn.ensemble import RandomForestClassifier\n",
        "from sklearn.model_selection import train_test_split\n",
        "from sklearn.metrics import accuracy_score\n",
        "from sklearn import svm\n",
        "from sklearn.cluster import KMeans"
      ],
      "execution_count": 0,
      "outputs": []
    },
    {
      "cell_type": "markdown",
      "metadata": {
        "id": "PDpVMMOdqbnR",
        "colab_type": "text"
      },
      "source": [
        "Objective: build a model predicting users’ demographic characteristics based on their app usage, geolocation, and cell phone properties. Furthermore, the goal is to aid developers and marketers engage in data-driven efforts that are relevant to and personalized to their end users preferences."
      ]
    },
    {
      "cell_type": "markdown",
      "metadata": {
        "id": "hm60-O4KqaAH",
        "colab_type": "text"
      },
      "source": [
        "# Processing the data\n",
        "\n",
        "In this first section I will read in the Talkingdata using the Kaggle API in addtion to preparing the data to be visualized and modeled "
      ]
    },
    {
      "cell_type": "code",
      "metadata": {
        "id": "xLLwe-CWod8a",
        "colab_type": "code",
        "outputId": "5f3e8410-5595-4280-be99-570422d7d204",
        "colab": {
          "resources": {
            "http://localhost:8080/nbextensions/google.colab/files.js": {
              "data": "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",
              "ok": true,
              "headers": [
                [
                  "content-type",
                  "application/javascript"
                ]
              ],
              "status": 200,
              "status_text": ""
            }
          },
          "base_uri": "https://localhost:8080/",
          "height": 89
        }
      },
      "source": [
        "# from the Kaggle account settings page.\n",
        "from google.colab import files\n",
        "files.upload()"
      ],
      "execution_count": 12,
      "outputs": [
        {
          "output_type": "display_data",
          "data": {
            "text/html": [
              "\n",
              "     <input type=\"file\" id=\"files-3a50ea7d-039c-4b57-a90c-cd2aa6036293\" name=\"files[]\" multiple disabled />\n",
              "     <output id=\"result-3a50ea7d-039c-4b57-a90c-cd2aa6036293\">\n",
              "      Upload widget is only available when the cell has been executed in the\n",
              "      current browser session. Please rerun this cell to enable.\n",
              "      </output>\n",
              "      <script src=\"/nbextensions/google.colab/files.js\"></script> "
            ],
            "text/plain": [
              "<IPython.core.display.HTML object>"
            ]
          },
          "metadata": {
            "tags": []
          }
        },
        {
          "output_type": "stream",
          "text": [
            "Saving kaggle.json to kaggle (1).json\n"
          ],
          "name": "stdout"
        },
        {
          "output_type": "execute_result",
          "data": {
            "text/plain": [
              "{'kaggle.json': b'{\"username\":\"gailyn\",\"key\":\"f838642402b2c5fc90e6d2d0e8d7b171\"}'}"
            ]
          },
          "metadata": {
            "tags": []
          },
          "execution_count": 12
        }
      ]
    },
    {
      "cell_type": "code",
      "metadata": {
        "id": "yaS8soWcok40",
        "colab_type": "code",
        "outputId": "3d61b719-ee7d-404d-ab29-7c9c4243ea62",
        "colab": {
          "base_uri": "https://localhost:8080/",
          "height": 35
        }
      },
      "source": [
        "!ls -lha kaggle.json"
      ],
      "execution_count": 13,
      "outputs": [
        {
          "output_type": "stream",
          "text": [
            "-rw-r--r-- 1 root root 62 Nov 22 18:03 kaggle.json\n"
          ],
          "name": "stdout"
        }
      ]
    },
    {
      "cell_type": "code",
      "metadata": {
        "id": "eV-myHP4onKo",
        "colab_type": "code",
        "colab": {}
      },
      "source": [
        "!pip install -q kaggle"
      ],
      "execution_count": 0,
      "outputs": []
    },
    {
      "cell_type": "code",
      "metadata": {
        "id": "gdtuFgYJoqyE",
        "colab_type": "code",
        "colab": {}
      },
      "source": [
        "# The Kaggle API client expects this file to be in ~/.kaggle,\n",
        "# so moving it there.\n",
        "!mkdir -p ~/.kaggle\n",
        "!cp kaggle.json ~/.kaggle/\n",
        "\n",
        "# This permissions change avoids a warning on Kaggle tool startup.\n",
        "!chmod 600 ~/.kaggle/kaggle.json"
      ],
      "execution_count": 0,
      "outputs": []
    },
    {
      "cell_type": "code",
      "metadata": {
        "id": "0r5kCUCpotW4",
        "colab_type": "code",
        "outputId": "ac943bd9-c4b0-48a8-f1be-beff31356da7",
        "colab": {
          "base_uri": "https://localhost:8080/",
          "height": 469
        }
      },
      "source": [
        "!kaggle competitions download -c talkingdata-mobile-user-demographics"
      ],
      "execution_count": 16,
      "outputs": [
        {
          "output_type": "stream",
          "text": [
            "Warning: Looks like you're using an outdated API Version, please consider updating (server 1.5.6 / client 1.5.4)\n",
            "Downloading gender_age_test.csv.zip to /content\n",
            "\r  0% 0.00/1.05M [00:00<?, ?B/s]\n",
            "\r100% 1.05M/1.05M [00:00<00:00, 73.0MB/s]\n",
            "Downloading app_labels.csv.zip to /content\n",
            "\r  0% 0.00/4.04M [00:00<?, ?B/s]\n",
            "\r100% 4.04M/4.04M [00:00<00:00, 37.2MB/s]\n",
            "Downloading label_categories.csv.zip to /content\n",
            "\r  0% 0.00/7.67k [00:00<?, ?B/s]\n",
            "\r100% 7.67k/7.67k [00:00<00:00, 6.78MB/s]\n",
            "Downloading phone_brand_device_model.csv.zip to /content\n",
            "\r  0% 0.00/2.42M [00:00<?, ?B/s]\n",
            "\r100% 2.42M/2.42M [00:00<00:00, 165MB/s]\n",
            "Downloading sample_submission.csv.zip to /content\n",
            "\r  0% 0.00/1.32M [00:00<?, ?B/s]\n",
            "\r100% 1.32M/1.32M [00:00<00:00, 189MB/s]\n",
            "Downloading events.csv.zip to /content\n",
            "\r  0% 0.00/62.2M [00:00<?, ?B/s]\r  8% 5.00M/62.2M [00:00<00:02, 22.7MB/s]\r 14% 9.00M/62.2M [00:00<00:02, 24.6MB/s]\r 40% 25.0M/62.2M [00:00<00:01, 28.7MB/s]\r 53% 33.0M/62.2M [00:00<00:00, 34.7MB/s]\r 92% 57.0M/62.2M [00:01<00:00, 38.7MB/s]\n",
            "100% 62.2M/62.2M [00:01<00:00, 47.7MB/s]\n",
            "Downloading app_events.csv.zip to /content\n",
            " 99% 210M/211M [00:03<00:00, 60.6MB/s]\n",
            "100% 211M/211M [00:03<00:00, 62.0MB/s]\n",
            "Downloading gender_age_train.csv.zip to /content\n",
            "  0% 0.00/891k [00:00<?, ?B/s]\n",
            "100% 891k/891k [00:00<00:00, 124MB/s]\n"
          ],
          "name": "stdout"
        }
      ]
    },
    {
      "cell_type": "code",
      "metadata": {
        "id": "AQ9iUWH2ouG8",
        "colab_type": "code",
        "outputId": "32bfc565-01dc-4d96-f75e-bbb6484cd767",
        "colab": {
          "base_uri": "https://localhost:8080/",
          "height": 121
        }
      },
      "source": [
        "!ls \n"
      ],
      "execution_count": 17,
      "outputs": [
        {
          "output_type": "stream",
          "text": [
            " app_events.csv.zip\t    kaggle.json\n",
            " app_labels.csv.zip\t    label_categories.csv.zip\n",
            " events.csv.zip\t\t    phone_brand_device_model.csv.zip\n",
            " gender_age_test.csv.zip    sample_data\n",
            " gender_age_train.csv.zip   sample_submission.csv.zip\n",
            "'kaggle (1).json'\n"
          ],
          "name": "stdout"
        }
      ]
    },
    {
      "cell_type": "code",
      "metadata": {
        "id": "-ZG_K8e2oysn",
        "colab_type": "code",
        "colab": {}
      },
      "source": [
        "import zipfile\n",
        "\n",
        "# Unzipping all of the files to gain acess to csv for each subset \n",
        "with zipfile.ZipFile('app_events.csv.zip', 'r') as zip_ref:\n",
        "  zip_ref.extractall('app_events.csv')\n",
        "\n",
        "with zipfile.ZipFile('app_labels.csv.zip', 'r') as zip_ref:\n",
        "  zip_ref.extractall('app_labels.csv')\n",
        "\n",
        "with zipfile.ZipFile('events.csv.zip', 'r') as zip_ref:\n",
        "  zip_ref.extractall('events.csv')\n",
        "\n",
        "with zipfile.ZipFile('gender_age_test.csv.zip', 'r') as zip_ref:\n",
        "  zip_ref.extractall('gender_age_test.csv')\n",
        "\n",
        "with zipfile.ZipFile('gender_age_train.csv.zip', 'r') as zip_ref:\n",
        "  zip_ref.extractall('gender_age_train.csv')\n",
        "\n",
        "with zipfile.ZipFile('label_categories.csv.zip', 'r') as zip_ref:\n",
        "  zip_ref.extractall('label_categories.csv')\n",
        "\n",
        "with zipfile.ZipFile('phone_brand_device_model.csv.zip', 'r') as zip_ref:\n",
        "  zip_ref.extractall('phone_brand_device_model.csv')\n"
      ],
      "execution_count": 0,
      "outputs": []
    },
    {
      "cell_type": "code",
      "metadata": {
        "id": "MDnp-uF1o7A5",
        "colab_type": "code",
        "colab": {}
      },
      "source": [
        "apps = pd.read_csv(('app_events.csv/app_events.csv'),usecols=['event_id','app_id','is_active'], dtype={'is_active':bool})\n",
        "\n",
        "gendertest = pd.read_csv('gender_age_test.csv/gender_age_test.csv')\n",
        "gendertrain = pd.read_csv(('gender_age_train.csv/gender_age_train.csv'),index_col='device_id')\n",
        "\n",
        "phone = pd.read_csv('phone_brand_device_model.csv/phone_brand_device_model.csv')\n",
        "# Get rid of duplicate device ids in phone\n",
        "phone = phone.drop_duplicates('device_id',keep='first')\n",
        "\n",
        "app_labels = pd.read_csv('app_labels.csv/app_labels.csv')\n",
        "events = pd.read_csv(('events.csv/events.csv'), usecols = ['event_id', 'device_id'])\n",
        "labelcats = pd.read_csv(('label_categories.csv/label_categories.csv'),index_col='label_id',squeeze=True)\n",
        "\n"
      ],
      "execution_count": 0,
      "outputs": []
    },
    {
      "cell_type": "code",
      "metadata": {
        "id": "zRP-X5vXqCAm",
        "colab_type": "code",
        "colab": {}
      },
      "source": [
        ""
      ],
      "execution_count": 0,
      "outputs": []
    },
    {
      "cell_type": "markdown",
      "metadata": {
        "id": "isHBdktBqGqS",
        "colab_type": "text"
      },
      "source": [
        "# Exploration "
      ]
    },
    {
      "cell_type": "code",
      "metadata": {
        "id": "er3rdZOnqJAK",
        "colab_type": "code",
        "outputId": "2cd91e68-7d1a-4be4-f551-041c3bd1c676",
        "colab": {
          "base_uri": "https://localhost:8080/",
          "height": 437
        }
      },
      "source": [
        "gendertrain"
      ],
      "execution_count": 20,
      "outputs": [
        {
          "output_type": "execute_result",
          "data": {
            "text/html": [
              "<div>\n",
              "<style scoped>\n",
              "    .dataframe tbody tr th:only-of-type {\n",
              "        vertical-align: middle;\n",
              "    }\n",
              "\n",
              "    .dataframe tbody tr th {\n",
              "        vertical-align: top;\n",
              "    }\n",
              "\n",
              "    .dataframe thead th {\n",
              "        text-align: right;\n",
              "    }\n",
              "</style>\n",
              "<table border=\"1\" class=\"dataframe\">\n",
              "  <thead>\n",
              "    <tr style=\"text-align: right;\">\n",
              "      <th></th>\n",
              "      <th>gender</th>\n",
              "      <th>age</th>\n",
              "      <th>group</th>\n",
              "    </tr>\n",
              "    <tr>\n",
              "      <th>device_id</th>\n",
              "      <th></th>\n",
              "      <th></th>\n",
              "      <th></th>\n",
              "    </tr>\n",
              "  </thead>\n",
              "  <tbody>\n",
              "    <tr>\n",
              "      <th>-8076087639492063270</th>\n",
              "      <td>M</td>\n",
              "      <td>35</td>\n",
              "      <td>M32-38</td>\n",
              "    </tr>\n",
              "    <tr>\n",
              "      <th>-2897161552818060146</th>\n",
              "      <td>M</td>\n",
              "      <td>35</td>\n",
              "      <td>M32-38</td>\n",
              "    </tr>\n",
              "    <tr>\n",
              "      <th>-8260683887967679142</th>\n",
              "      <td>M</td>\n",
              "      <td>35</td>\n",
              "      <td>M32-38</td>\n",
              "    </tr>\n",
              "    <tr>\n",
              "      <th>-4938849341048082022</th>\n",
              "      <td>M</td>\n",
              "      <td>30</td>\n",
              "      <td>M29-31</td>\n",
              "    </tr>\n",
              "    <tr>\n",
              "      <th>245133531816851882</th>\n",
              "      <td>M</td>\n",
              "      <td>30</td>\n",
              "      <td>M29-31</td>\n",
              "    </tr>\n",
              "    <tr>\n",
              "      <th>...</th>\n",
              "      <td>...</td>\n",
              "      <td>...</td>\n",
              "      <td>...</td>\n",
              "    </tr>\n",
              "    <tr>\n",
              "      <th>4682031842235089751</th>\n",
              "      <td>M</td>\n",
              "      <td>30</td>\n",
              "      <td>M29-31</td>\n",
              "    </tr>\n",
              "    <tr>\n",
              "      <th>-9178703742877135986</th>\n",
              "      <td>M</td>\n",
              "      <td>30</td>\n",
              "      <td>M29-31</td>\n",
              "    </tr>\n",
              "    <tr>\n",
              "      <th>180946546684162312</th>\n",
              "      <td>M</td>\n",
              "      <td>20</td>\n",
              "      <td>M22-</td>\n",
              "    </tr>\n",
              "    <tr>\n",
              "      <th>1390702386071991851</th>\n",
              "      <td>M</td>\n",
              "      <td>37</td>\n",
              "      <td>M32-38</td>\n",
              "    </tr>\n",
              "    <tr>\n",
              "      <th>89181010588227347</th>\n",
              "      <td>M</td>\n",
              "      <td>25</td>\n",
              "      <td>M23-26</td>\n",
              "    </tr>\n",
              "  </tbody>\n",
              "</table>\n",
              "<p>74645 rows × 3 columns</p>\n",
              "</div>"
            ],
            "text/plain": [
              "                     gender  age   group\n",
              "device_id                               \n",
              "-8076087639492063270      M   35  M32-38\n",
              "-2897161552818060146      M   35  M32-38\n",
              "-8260683887967679142      M   35  M32-38\n",
              "-4938849341048082022      M   30  M29-31\n",
              " 245133531816851882       M   30  M29-31\n",
              "...                     ...  ...     ...\n",
              " 4682031842235089751      M   30  M29-31\n",
              "-9178703742877135986      M   30  M29-31\n",
              " 180946546684162312       M   20    M22-\n",
              " 1390702386071991851      M   37  M32-38\n",
              " 89181010588227347        M   25  M23-26\n",
              "\n",
              "[74645 rows x 3 columns]"
            ]
          },
          "metadata": {
            "tags": []
          },
          "execution_count": 20
        }
      ]
    },
    {
      "cell_type": "code",
      "metadata": {
        "id": "A1bhc_jDtdhL",
        "colab_type": "code",
        "outputId": "8c0045ee-d29a-4dec-8a39-b670bedc6325",
        "colab": {
          "base_uri": "https://localhost:8080/",
          "height": 407
        }
      },
      "source": [
        "gendertest"
      ],
      "execution_count": 21,
      "outputs": [
        {
          "output_type": "execute_result",
          "data": {
            "text/html": [
              "<div>\n",
              "<style scoped>\n",
              "    .dataframe tbody tr th:only-of-type {\n",
              "        vertical-align: middle;\n",
              "    }\n",
              "\n",
              "    .dataframe tbody tr th {\n",
              "        vertical-align: top;\n",
              "    }\n",
              "\n",
              "    .dataframe thead th {\n",
              "        text-align: right;\n",
              "    }\n",
              "</style>\n",
              "<table border=\"1\" class=\"dataframe\">\n",
              "  <thead>\n",
              "    <tr style=\"text-align: right;\">\n",
              "      <th></th>\n",
              "      <th>device_id</th>\n",
              "    </tr>\n",
              "  </thead>\n",
              "  <tbody>\n",
              "    <tr>\n",
              "      <th>0</th>\n",
              "      <td>1002079943728939269</td>\n",
              "    </tr>\n",
              "    <tr>\n",
              "      <th>1</th>\n",
              "      <td>-1547860181818787117</td>\n",
              "    </tr>\n",
              "    <tr>\n",
              "      <th>2</th>\n",
              "      <td>7374582448058474277</td>\n",
              "    </tr>\n",
              "    <tr>\n",
              "      <th>3</th>\n",
              "      <td>-6220210354783429585</td>\n",
              "    </tr>\n",
              "    <tr>\n",
              "      <th>4</th>\n",
              "      <td>-5893464122623104785</td>\n",
              "    </tr>\n",
              "    <tr>\n",
              "      <th>...</th>\n",
              "      <td>...</td>\n",
              "    </tr>\n",
              "    <tr>\n",
              "      <th>112066</th>\n",
              "      <td>4280900819321920929</td>\n",
              "    </tr>\n",
              "    <tr>\n",
              "      <th>112067</th>\n",
              "      <td>818534825520551359</td>\n",
              "    </tr>\n",
              "    <tr>\n",
              "      <th>112068</th>\n",
              "      <td>-8956851351560395765</td>\n",
              "    </tr>\n",
              "    <tr>\n",
              "      <th>112069</th>\n",
              "      <td>6097318236795836256</td>\n",
              "    </tr>\n",
              "    <tr>\n",
              "      <th>112070</th>\n",
              "      <td>622421180514002079</td>\n",
              "    </tr>\n",
              "  </tbody>\n",
              "</table>\n",
              "<p>112071 rows × 1 columns</p>\n",
              "</div>"
            ],
            "text/plain": [
              "                  device_id\n",
              "0       1002079943728939269\n",
              "1      -1547860181818787117\n",
              "2       7374582448058474277\n",
              "3      -6220210354783429585\n",
              "4      -5893464122623104785\n",
              "...                     ...\n",
              "112066  4280900819321920929\n",
              "112067   818534825520551359\n",
              "112068 -8956851351560395765\n",
              "112069  6097318236795836256\n",
              "112070   622421180514002079\n",
              "\n",
              "[112071 rows x 1 columns]"
            ]
          },
          "metadata": {
            "tags": []
          },
          "execution_count": 21
        }
      ]
    },
    {
      "cell_type": "code",
      "metadata": {
        "id": "eFWXSMX4tor5",
        "colab_type": "code",
        "outputId": "3c18430c-8f9f-443b-d15a-96d738a3fafd",
        "colab": {
          "base_uri": "https://localhost:8080/",
          "height": 407
        }
      },
      "source": [
        "apps"
      ],
      "execution_count": 22,
      "outputs": [
        {
          "output_type": "execute_result",
          "data": {
            "text/html": [
              "<div>\n",
              "<style scoped>\n",
              "    .dataframe tbody tr th:only-of-type {\n",
              "        vertical-align: middle;\n",
              "    }\n",
              "\n",
              "    .dataframe tbody tr th {\n",
              "        vertical-align: top;\n",
              "    }\n",
              "\n",
              "    .dataframe thead th {\n",
              "        text-align: right;\n",
              "    }\n",
              "</style>\n",
              "<table border=\"1\" class=\"dataframe\">\n",
              "  <thead>\n",
              "    <tr style=\"text-align: right;\">\n",
              "      <th></th>\n",
              "      <th>event_id</th>\n",
              "      <th>app_id</th>\n",
              "      <th>is_active</th>\n",
              "    </tr>\n",
              "  </thead>\n",
              "  <tbody>\n",
              "    <tr>\n",
              "      <th>0</th>\n",
              "      <td>2</td>\n",
              "      <td>5927333115845830913</td>\n",
              "      <td>True</td>\n",
              "    </tr>\n",
              "    <tr>\n",
              "      <th>1</th>\n",
              "      <td>2</td>\n",
              "      <td>-5720078949152207372</td>\n",
              "      <td>False</td>\n",
              "    </tr>\n",
              "    <tr>\n",
              "      <th>2</th>\n",
              "      <td>2</td>\n",
              "      <td>-1633887856876571208</td>\n",
              "      <td>False</td>\n",
              "    </tr>\n",
              "    <tr>\n",
              "      <th>3</th>\n",
              "      <td>2</td>\n",
              "      <td>-653184325010919369</td>\n",
              "      <td>True</td>\n",
              "    </tr>\n",
              "    <tr>\n",
              "      <th>4</th>\n",
              "      <td>2</td>\n",
              "      <td>8693964245073640147</td>\n",
              "      <td>True</td>\n",
              "    </tr>\n",
              "    <tr>\n",
              "      <th>...</th>\n",
              "      <td>...</td>\n",
              "      <td>...</td>\n",
              "      <td>...</td>\n",
              "    </tr>\n",
              "    <tr>\n",
              "      <th>32473062</th>\n",
              "      <td>3252948</td>\n",
              "      <td>6607018907660377991</td>\n",
              "      <td>True</td>\n",
              "    </tr>\n",
              "    <tr>\n",
              "      <th>32473063</th>\n",
              "      <td>3252948</td>\n",
              "      <td>6602285879264922467</td>\n",
              "      <td>True</td>\n",
              "    </tr>\n",
              "    <tr>\n",
              "      <th>32473064</th>\n",
              "      <td>3252948</td>\n",
              "      <td>4348659952760821294</td>\n",
              "      <td>True</td>\n",
              "    </tr>\n",
              "    <tr>\n",
              "      <th>32473065</th>\n",
              "      <td>3252948</td>\n",
              "      <td>-995726944612374565</td>\n",
              "      <td>True</td>\n",
              "    </tr>\n",
              "    <tr>\n",
              "      <th>32473066</th>\n",
              "      <td>3252948</td>\n",
              "      <td>2306067392090419925</td>\n",
              "      <td>True</td>\n",
              "    </tr>\n",
              "  </tbody>\n",
              "</table>\n",
              "<p>32473067 rows × 3 columns</p>\n",
              "</div>"
            ],
            "text/plain": [
              "          event_id               app_id  is_active\n",
              "0                2  5927333115845830913       True\n",
              "1                2 -5720078949152207372      False\n",
              "2                2 -1633887856876571208      False\n",
              "3                2  -653184325010919369       True\n",
              "4                2  8693964245073640147       True\n",
              "...            ...                  ...        ...\n",
              "32473062   3252948  6607018907660377991       True\n",
              "32473063   3252948  6602285879264922467       True\n",
              "32473064   3252948  4348659952760821294       True\n",
              "32473065   3252948  -995726944612374565       True\n",
              "32473066   3252948  2306067392090419925       True\n",
              "\n",
              "[32473067 rows x 3 columns]"
            ]
          },
          "metadata": {
            "tags": []
          },
          "execution_count": 22
        }
      ]
    },
    {
      "cell_type": "code",
      "metadata": {
        "id": "xc3fA3gGts0-",
        "colab_type": "code",
        "outputId": "99315144-9fa6-4623-c6fd-c891ac74a1fd",
        "colab": {
          "base_uri": "https://localhost:8080/",
          "height": 407
        }
      },
      "source": [
        "phone"
      ],
      "execution_count": 23,
      "outputs": [
        {
          "output_type": "execute_result",
          "data": {
            "text/html": [
              "<div>\n",
              "<style scoped>\n",
              "    .dataframe tbody tr th:only-of-type {\n",
              "        vertical-align: middle;\n",
              "    }\n",
              "\n",
              "    .dataframe tbody tr th {\n",
              "        vertical-align: top;\n",
              "    }\n",
              "\n",
              "    .dataframe thead th {\n",
              "        text-align: right;\n",
              "    }\n",
              "</style>\n",
              "<table border=\"1\" class=\"dataframe\">\n",
              "  <thead>\n",
              "    <tr style=\"text-align: right;\">\n",
              "      <th></th>\n",
              "      <th>device_id</th>\n",
              "      <th>phone_brand</th>\n",
              "      <th>device_model</th>\n",
              "    </tr>\n",
              "  </thead>\n",
              "  <tbody>\n",
              "    <tr>\n",
              "      <th>0</th>\n",
              "      <td>-8890648629457979026</td>\n",
              "      <td>小米</td>\n",
              "      <td>红米</td>\n",
              "    </tr>\n",
              "    <tr>\n",
              "      <th>1</th>\n",
              "      <td>1277779817574759137</td>\n",
              "      <td>小米</td>\n",
              "      <td>MI 2</td>\n",
              "    </tr>\n",
              "    <tr>\n",
              "      <th>2</th>\n",
              "      <td>5137427614288105724</td>\n",
              "      <td>三星</td>\n",
              "      <td>Galaxy S4</td>\n",
              "    </tr>\n",
              "    <tr>\n",
              "      <th>3</th>\n",
              "      <td>3669464369358936369</td>\n",
              "      <td>SUGAR</td>\n",
              "      <td>时尚手机</td>\n",
              "    </tr>\n",
              "    <tr>\n",
              "      <th>4</th>\n",
              "      <td>-5019277647504317457</td>\n",
              "      <td>三星</td>\n",
              "      <td>Galaxy Note 2</td>\n",
              "    </tr>\n",
              "    <tr>\n",
              "      <th>...</th>\n",
              "      <td>...</td>\n",
              "      <td>...</td>\n",
              "      <td>...</td>\n",
              "    </tr>\n",
              "    <tr>\n",
              "      <th>187239</th>\n",
              "      <td>3210973037848940984</td>\n",
              "      <td>小米</td>\n",
              "      <td>MI 2S</td>\n",
              "    </tr>\n",
              "    <tr>\n",
              "      <th>187240</th>\n",
              "      <td>7979541072208733273</td>\n",
              "      <td>小米</td>\n",
              "      <td>MI 4</td>\n",
              "    </tr>\n",
              "    <tr>\n",
              "      <th>187241</th>\n",
              "      <td>-187404680852357705</td>\n",
              "      <td>小米</td>\n",
              "      <td>红米2</td>\n",
              "    </tr>\n",
              "    <tr>\n",
              "      <th>187242</th>\n",
              "      <td>-2718274279595622821</td>\n",
              "      <td>小米</td>\n",
              "      <td>MI 3</td>\n",
              "    </tr>\n",
              "    <tr>\n",
              "      <th>187243</th>\n",
              "      <td>3098391762071677791</td>\n",
              "      <td>vivo</td>\n",
              "      <td>X1</td>\n",
              "    </tr>\n",
              "  </tbody>\n",
              "</table>\n",
              "<p>186716 rows × 3 columns</p>\n",
              "</div>"
            ],
            "text/plain": [
              "                  device_id phone_brand   device_model\n",
              "0      -8890648629457979026          小米             红米\n",
              "1       1277779817574759137          小米           MI 2\n",
              "2       5137427614288105724          三星      Galaxy S4\n",
              "3       3669464369358936369       SUGAR           时尚手机\n",
              "4      -5019277647504317457          三星  Galaxy Note 2\n",
              "...                     ...         ...            ...\n",
              "187239  3210973037848940984          小米          MI 2S\n",
              "187240  7979541072208733273          小米           MI 4\n",
              "187241  -187404680852357705          小米            红米2\n",
              "187242 -2718274279595622821          小米           MI 3\n",
              "187243  3098391762071677791        vivo             X1\n",
              "\n",
              "[186716 rows x 3 columns]"
            ]
          },
          "metadata": {
            "tags": []
          },
          "execution_count": 23
        }
      ]
    },
    {
      "cell_type": "code",
      "metadata": {
        "id": "RoyD0GLKtwJN",
        "colab_type": "code",
        "outputId": "a3358ca4-51cf-412b-baca-1f40d9347b56",
        "colab": {
          "base_uri": "https://localhost:8080/",
          "height": 138
        }
      },
      "source": [
        "app_labels.info()"
      ],
      "execution_count": 24,
      "outputs": [
        {
          "output_type": "stream",
          "text": [
            "<class 'pandas.core.frame.DataFrame'>\n",
            "RangeIndex: 459943 entries, 0 to 459942\n",
            "Data columns (total 2 columns):\n",
            "app_id      459943 non-null int64\n",
            "label_id    459943 non-null int64\n",
            "dtypes: int64(2)\n",
            "memory usage: 7.0 MB\n"
          ],
          "name": "stdout"
        }
      ]
    },
    {
      "cell_type": "code",
      "metadata": {
        "id": "F1TUVF9pt1py",
        "colab_type": "code",
        "outputId": "08526459-683e-4559-bcfc-08ff8731ee72",
        "colab": {
          "base_uri": "https://localhost:8080/",
          "height": 242
        }
      },
      "source": [
        "labelcats"
      ],
      "execution_count": 25,
      "outputs": [
        {
          "output_type": "execute_result",
          "data": {
            "text/plain": [
              "label_id\n",
              "1                       NaN\n",
              "2            game-game type\n",
              "3          game-Game themes\n",
              "4            game-Art Style\n",
              "5         game-Leisure time\n",
              "               ...         \n",
              "1017    Heritage Foundation\n",
              "1018         Direct Banking\n",
              "1019    Internet Securities\n",
              "1020       Bank Credit Card\n",
              "1021     Internet Insurance\n",
              "Name: category, Length: 930, dtype: object"
            ]
          },
          "metadata": {
            "tags": []
          },
          "execution_count": 25
        }
      ]
    },
    {
      "cell_type": "markdown",
      "metadata": {
        "id": "NZ5ZK1c0ugLk",
        "colab_type": "text"
      },
      "source": [
        "## Visualizations"
      ]
    },
    {
      "cell_type": "markdown",
      "metadata": {
        "id": "xfMeaQmbuoVq",
        "colab_type": "text"
      },
      "source": [
        "## Age"
      ]
    },
    {
      "cell_type": "markdown",
      "metadata": {
        "id": "p2iIq183utNt",
        "colab_type": "text"
      },
      "source": [
        "\n",
        "\n",
        "> The age of the users skews towards the younger side with the most active users being in their 20s, despite the average age represented is 31\n",
        "\n"
      ]
    },
    {
      "cell_type": "code",
      "metadata": {
        "id": "3eBMBtpst1UR",
        "colab_type": "code",
        "outputId": "68c1bb04-4cb4-4ffe-a4cd-84f7a8ac51f2",
        "colab": {
          "base_uri": "https://localhost:8080/",
          "height": 288
        }
      },
      "source": [
        "gendertrain.describe()"
      ],
      "execution_count": 26,
      "outputs": [
        {
          "output_type": "execute_result",
          "data": {
            "text/html": [
              "<div>\n",
              "<style scoped>\n",
              "    .dataframe tbody tr th:only-of-type {\n",
              "        vertical-align: middle;\n",
              "    }\n",
              "\n",
              "    .dataframe tbody tr th {\n",
              "        vertical-align: top;\n",
              "    }\n",
              "\n",
              "    .dataframe thead th {\n",
              "        text-align: right;\n",
              "    }\n",
              "</style>\n",
              "<table border=\"1\" class=\"dataframe\">\n",
              "  <thead>\n",
              "    <tr style=\"text-align: right;\">\n",
              "      <th></th>\n",
              "      <th>age</th>\n",
              "    </tr>\n",
              "  </thead>\n",
              "  <tbody>\n",
              "    <tr>\n",
              "      <th>count</th>\n",
              "      <td>74645.000000</td>\n",
              "    </tr>\n",
              "    <tr>\n",
              "      <th>mean</th>\n",
              "      <td>31.410342</td>\n",
              "    </tr>\n",
              "    <tr>\n",
              "      <th>std</th>\n",
              "      <td>9.868735</td>\n",
              "    </tr>\n",
              "    <tr>\n",
              "      <th>min</th>\n",
              "      <td>1.000000</td>\n",
              "    </tr>\n",
              "    <tr>\n",
              "      <th>25%</th>\n",
              "      <td>25.000000</td>\n",
              "    </tr>\n",
              "    <tr>\n",
              "      <th>50%</th>\n",
              "      <td>29.000000</td>\n",
              "    </tr>\n",
              "    <tr>\n",
              "      <th>75%</th>\n",
              "      <td>36.000000</td>\n",
              "    </tr>\n",
              "    <tr>\n",
              "      <th>max</th>\n",
              "      <td>96.000000</td>\n",
              "    </tr>\n",
              "  </tbody>\n",
              "</table>\n",
              "</div>"
            ],
            "text/plain": [
              "                age\n",
              "count  74645.000000\n",
              "mean      31.410342\n",
              "std        9.868735\n",
              "min        1.000000\n",
              "25%       25.000000\n",
              "50%       29.000000\n",
              "75%       36.000000\n",
              "max       96.000000"
            ]
          },
          "metadata": {
            "tags": []
          },
          "execution_count": 26
        }
      ]
    },
    {
      "cell_type": "code",
      "metadata": {
        "id": "0lI0fwKSvAa4",
        "colab_type": "code",
        "outputId": "767b8864-b15f-4da3-dfd8-2656cb594c69",
        "colab": {
          "base_uri": "https://localhost:8080/",
          "height": 104
        }
      },
      "source": [
        "print(gendertrain.age.mode())\n",
        "print(gendertrain.age.min())\n",
        "print(gendertrain.age.max())\n",
        "print(gendertrain.age.median())"
      ],
      "execution_count": 27,
      "outputs": [
        {
          "output_type": "stream",
          "text": [
            "0    26\n",
            "dtype: int64\n",
            "1\n",
            "96\n",
            "29.0\n"
          ],
          "name": "stdout"
        }
      ]
    },
    {
      "cell_type": "code",
      "metadata": {
        "id": "_QboNb1zvHDx",
        "colab_type": "code",
        "outputId": "03a793e3-e0d8-4a62-e856-62de7d243a7d",
        "colab": {
          "base_uri": "https://localhost:8080/",
          "height": 312
        }
      },
      "source": [
        "plt.title('Age Distribution')\n",
        "#genderTrain.gender\n",
        "sns.distplot(gendertrain.age)"
      ],
      "execution_count": 28,
      "outputs": [
        {
          "output_type": "execute_result",
          "data": {
            "text/plain": [
              "<matplotlib.axes._subplots.AxesSubplot at 0x7f89fd883588>"
            ]
          },
          "metadata": {
            "tags": []
          },
          "execution_count": 28
        },
        {
          "output_type": "display_data",
          "data": {
            "image/png": "[encoded data removed]",
            "text/plain": [
              "<Figure size 432x288 with 1 Axes>"
            ]
          },
          "metadata": {
            "tags": []
          }
        }
      ]
    },
    {
      "cell_type": "markdown",
      "metadata": {
        "id": "_zZtqE_lvWU3",
        "colab_type": "text"
      },
      "source": [
        "## Gender"
      ]
    },
    {
      "cell_type": "markdown",
      "metadata": {
        "id": "O1Evdga5vbpK",
        "colab_type": "text"
      },
      "source": [
        "\n",
        "\n",
        "> The dataset has a heavy empahsis on male users. When looking at category distribution, the most heavily populated categories are males 23 to 38. Overall when compaing in respective age groups the male users outnumber the female users.\n",
        "\n"
      ]
    },
    {
      "cell_type": "code",
      "metadata": {
        "id": "0e63kGs4wIps",
        "colab_type": "code",
        "outputId": "d847a601-b30c-4b38-e0f2-b5f1163fce56",
        "colab": {
          "base_uri": "https://localhost:8080/",
          "height": 312
        }
      },
      "source": [
        "gendertrain.gender.value_counts().plot(kind='barh')\n",
        "plt.title('Gender Distribution')\n",
        "plt.xlabel('Count')"
      ],
      "execution_count": 29,
      "outputs": [
        {
          "output_type": "execute_result",
          "data": {
            "text/plain": [
              "Text(0.5, 0, 'Count')"
            ]
          },
          "metadata": {
            "tags": []
          },
          "execution_count": 29
        },
        {
          "output_type": "display_data",
          "data": {
            "image/png": "[encoded data removed]",
            "text/plain": [
              "<Figure size 432x288 with 1 Axes>"
            ]
          },
          "metadata": {
            "tags": []
          }
        }
      ]
    },
    {
      "cell_type": "code",
      "metadata": {
        "id": "dx07oWCfwSJ8",
        "colab_type": "code",
        "outputId": "e0ddb090-44ff-49f2-d86a-399543f0d819",
        "colab": {
          "base_uri": "https://localhost:8080/",
          "height": 312
        }
      },
      "source": [
        "gendertrain.group.value_counts().plot(kind='barh')\n",
        "plt.title('Group Distribution')\n",
        "plt.xlabel('Individuals')"
      ],
      "execution_count": 30,
      "outputs": [
        {
          "output_type": "execute_result",
          "data": {
            "text/plain": [
              "Text(0.5, 0, 'Individuals')"
            ]
          },
          "metadata": {
            "tags": []
          },
          "execution_count": 30
        },
        {
          "output_type": "display_data",
          "data": {
            "image/png": "[encoded data removed]",
            "text/plain": [
              "<Figure size 432x288 with 1 Axes>"
            ]
          },
          "metadata": {
            "tags": []
          }
        }
      ]
    },
    {
      "cell_type": "markdown",
      "metadata": {
        "id": "VXd4XaX6wc6j",
        "colab_type": "text"
      },
      "source": [
        "## App Usage"
      ]
    },
    {
      "cell_type": "code",
      "metadata": {
        "id": "EjvwaRjQwYX4",
        "colab_type": "code",
        "outputId": "a38ebebd-38a7-43cd-e783-bcaa7ae25dc5",
        "colab": {
          "base_uri": "https://localhost:8080/",
          "height": 312
        }
      },
      "source": [
        "apps.is_active.value_counts().plot(kind='barh')\n",
        "plt.title('Active usage versus inactive usage')\n",
        "plt.xlabel('Count')"
      ],
      "execution_count": 31,
      "outputs": [
        {
          "output_type": "execute_result",
          "data": {
            "text/plain": [
              "Text(0.5, 0, 'Count')"
            ]
          },
          "metadata": {
            "tags": []
          },
          "execution_count": 31
        },
        {
          "output_type": "display_data",
          "data": {
            "image/png": "[encoded data removed]",
            "text/plain": [
              "<Figure size 432x288 with 1 Axes>"
            ]
          },
          "metadata": {
            "tags": []
          }
        }
      ]
    },
    {
      "cell_type": "markdown",
      "metadata": {
        "id": "YcsmKNEiqRT7",
        "colab_type": "text"
      },
      "source": [
        "# Merging the subsets of the data\n"
      ]
    },
    {
      "cell_type": "code",
      "metadata": {
        "id": "OBEAyKhJqdYx",
        "colab_type": "code",
        "outputId": "669e2ca0-d97b-4547-c730-4c23d9203b6e",
        "colab": {
          "base_uri": "https://localhost:8080/",
          "height": 198
        }
      },
      "source": [
        "app_merge = pd.read_csv('app_events.csv/app_events.csv', usecols=['event_id','app_id','is_active'])\n",
        "device_b = (\n",
        "    app_merge\n",
        "    \n",
        "     # Merge on event_id\n",
        "    .merge(events, how = 'left', left_on = 'event_id', right_on = 'event_id')\n",
        "    \n",
        "     # event_id itself is not interesting\n",
        "    .drop('event_id', axis = 1)\n",
        "    \n",
        "     # Because the events correspond to more than just\n",
        "     # being installed, there are many duplicates\n",
        "    .drop_duplicates()\n",
        ")\n",
        "\n",
        "# Our data now looks like this\n",
        "device_b.head()"
      ],
      "execution_count": 32,
      "outputs": [
        {
          "output_type": "execute_result",
          "data": {
            "text/html": [
              "<div>\n",
              "<style scoped>\n",
              "    .dataframe tbody tr th:only-of-type {\n",
              "        vertical-align: middle;\n",
              "    }\n",
              "\n",
              "    .dataframe tbody tr th {\n",
              "        vertical-align: top;\n",
              "    }\n",
              "\n",
              "    .dataframe thead th {\n",
              "        text-align: right;\n",
              "    }\n",
              "</style>\n",
              "<table border=\"1\" class=\"dataframe\">\n",
              "  <thead>\n",
              "    <tr style=\"text-align: right;\">\n",
              "      <th></th>\n",
              "      <th>app_id</th>\n",
              "      <th>is_active</th>\n",
              "      <th>device_id</th>\n",
              "    </tr>\n",
              "  </thead>\n",
              "  <tbody>\n",
              "    <tr>\n",
              "      <th>0</th>\n",
              "      <td>5927333115845830913</td>\n",
              "      <td>1</td>\n",
              "      <td>-6401643145415154744</td>\n",
              "    </tr>\n",
              "    <tr>\n",
              "      <th>1</th>\n",
              "      <td>-5720078949152207372</td>\n",
              "      <td>0</td>\n",
              "      <td>-6401643145415154744</td>\n",
              "    </tr>\n",
              "    <tr>\n",
              "      <th>2</th>\n",
              "      <td>-1633887856876571208</td>\n",
              "      <td>0</td>\n",
              "      <td>-6401643145415154744</td>\n",
              "    </tr>\n",
              "    <tr>\n",
              "      <th>3</th>\n",
              "      <td>-653184325010919369</td>\n",
              "      <td>1</td>\n",
              "      <td>-6401643145415154744</td>\n",
              "    </tr>\n",
              "    <tr>\n",
              "      <th>4</th>\n",
              "      <td>8693964245073640147</td>\n",
              "      <td>1</td>\n",
              "      <td>-6401643145415154744</td>\n",
              "    </tr>\n",
              "  </tbody>\n",
              "</table>\n",
              "</div>"
            ],
            "text/plain": [
              "                app_id  is_active            device_id\n",
              "0  5927333115845830913          1 -6401643145415154744\n",
              "1 -5720078949152207372          0 -6401643145415154744\n",
              "2 -1633887856876571208          0 -6401643145415154744\n",
              "3  -653184325010919369          1 -6401643145415154744\n",
              "4  8693964245073640147          1 -6401643145415154744"
            ]
          },
          "metadata": {
            "tags": []
          },
          "execution_count": 32
        }
      ]
    },
    {
      "cell_type": "code",
      "metadata": {
        "id": "TdhXc3svqljy",
        "colab_type": "code",
        "colab": {}
      },
      "source": [
        "# Combine the two columns\n",
        "phone['brand_and_model'] = phone['phone_brand'].astype(str) + phone['device_model']\n",
        "\n",
        "# Build numerical labels for our models\n",
        "model_encoder = LabelEncoder().fit(phone['brand_and_model'])\n",
        "\n",
        "# Store in a new column\n",
        "phone['encoded_model'] = model_encoder.transform(phone['brand_and_model'])"
      ],
      "execution_count": 0,
      "outputs": []
    },
    {
      "cell_type": "code",
      "metadata": {
        "id": "Eu4oXt_wruQQ",
        "colab_type": "code",
        "outputId": "70a87e55-c8d9-4fdc-e8ba-2397597ccbf5",
        "colab": {
          "base_uri": "https://localhost:8080/",
          "height": 198
        }
      },
      "source": [
        "events.head()"
      ],
      "execution_count": 0,
      "outputs": [
        {
          "output_type": "execute_result",
          "data": {
            "text/html": [
              "<div>\n",
              "<style scoped>\n",
              "    .dataframe tbody tr th:only-of-type {\n",
              "        vertical-align: middle;\n",
              "    }\n",
              "\n",
              "    .dataframe tbody tr th {\n",
              "        vertical-align: top;\n",
              "    }\n",
              "\n",
              "    .dataframe thead th {\n",
              "        text-align: right;\n",
              "    }\n",
              "</style>\n",
              "<table border=\"1\" class=\"dataframe\">\n",
              "  <thead>\n",
              "    <tr style=\"text-align: right;\">\n",
              "      <th></th>\n",
              "      <th>event_id</th>\n",
              "      <th>device_id</th>\n",
              "    </tr>\n",
              "  </thead>\n",
              "  <tbody>\n",
              "    <tr>\n",
              "      <th>0</th>\n",
              "      <td>1</td>\n",
              "      <td>29182687948017175</td>\n",
              "    </tr>\n",
              "    <tr>\n",
              "      <th>1</th>\n",
              "      <td>2</td>\n",
              "      <td>-6401643145415154744</td>\n",
              "    </tr>\n",
              "    <tr>\n",
              "      <th>2</th>\n",
              "      <td>3</td>\n",
              "      <td>-4833982096941402721</td>\n",
              "    </tr>\n",
              "    <tr>\n",
              "      <th>3</th>\n",
              "      <td>4</td>\n",
              "      <td>-6815121365017318426</td>\n",
              "    </tr>\n",
              "    <tr>\n",
              "      <th>4</th>\n",
              "      <td>5</td>\n",
              "      <td>-5373797595892518570</td>\n",
              "    </tr>\n",
              "  </tbody>\n",
              "</table>\n",
              "</div>"
            ],
            "text/plain": [
              "   event_id            device_id\n",
              "0         1    29182687948017175\n",
              "1         2 -6401643145415154744\n",
              "2         3 -4833982096941402721\n",
              "3         4 -6815121365017318426\n",
              "4         5 -5373797595892518570"
            ]
          },
          "metadata": {
            "tags": []
          },
          "execution_count": 21
        }
      ]
    },
    {
      "cell_type": "code",
      "metadata": {
        "id": "ta2wgU9srbOd",
        "colab_type": "code",
        "outputId": "1869dbf2-c6d0-4c92-91f2-922629f22669",
        "colab": {
          "base_uri": "https://localhost:8080/",
          "height": 215
        }
      },
      "source": [
        " # Adding labels to app_events\n",
        "apps_labeled = pd.merge(app_labels,\n",
        "                       apps[['app_id', 'is_active']],\n",
        "                       on='app_id').dropna().drop_duplicates()\n",
        "\n",
        "print(apps_labeled.shape)\n",
        "apps_labeled.head()"
      ],
      "execution_count": 34,
      "outputs": [
        {
          "output_type": "stream",
          "text": [
            "(117374, 3)\n"
          ],
          "name": "stdout"
        },
        {
          "output_type": "execute_result",
          "data": {
            "text/html": [
              "<div>\n",
              "<style scoped>\n",
              "    .dataframe tbody tr th:only-of-type {\n",
              "        vertical-align: middle;\n",
              "    }\n",
              "\n",
              "    .dataframe tbody tr th {\n",
              "        vertical-align: top;\n",
              "    }\n",
              "\n",
              "    .dataframe thead th {\n",
              "        text-align: right;\n",
              "    }\n",
              "</style>\n",
              "<table border=\"1\" class=\"dataframe\">\n",
              "  <thead>\n",
              "    <tr style=\"text-align: right;\">\n",
              "      <th></th>\n",
              "      <th>app_id</th>\n",
              "      <th>label_id</th>\n",
              "      <th>is_active</th>\n",
              "    </tr>\n",
              "  </thead>\n",
              "  <tbody>\n",
              "    <tr>\n",
              "      <th>0</th>\n",
              "      <td>7324884708820027918</td>\n",
              "      <td>251</td>\n",
              "      <td>False</td>\n",
              "    </tr>\n",
              "    <tr>\n",
              "      <th>6</th>\n",
              "      <td>7324884708820027918</td>\n",
              "      <td>251</td>\n",
              "      <td>True</td>\n",
              "    </tr>\n",
              "    <tr>\n",
              "      <th>11</th>\n",
              "      <td>7324884708820027918</td>\n",
              "      <td>691</td>\n",
              "      <td>False</td>\n",
              "    </tr>\n",
              "    <tr>\n",
              "      <th>17</th>\n",
              "      <td>7324884708820027918</td>\n",
              "      <td>691</td>\n",
              "      <td>True</td>\n",
              "    </tr>\n",
              "    <tr>\n",
              "      <th>22</th>\n",
              "      <td>7324884708820027918</td>\n",
              "      <td>751</td>\n",
              "      <td>False</td>\n",
              "    </tr>\n",
              "  </tbody>\n",
              "</table>\n",
              "</div>"
            ],
            "text/plain": [
              "                 app_id  label_id  is_active\n",
              "0   7324884708820027918       251      False\n",
              "6   7324884708820027918       251       True\n",
              "11  7324884708820027918       691      False\n",
              "17  7324884708820027918       691       True\n",
              "22  7324884708820027918       751      False"
            ]
          },
          "metadata": {
            "tags": []
          },
          "execution_count": 34
        }
      ]
    },
    {
      "cell_type": "markdown",
      "metadata": {
        "id": "AP4P5Ibp1_N9",
        "colab_type": "text"
      },
      "source": [
        ""
      ]
    },
    {
      "cell_type": "code",
      "metadata": {
        "id": "qFGMrp7XsqMb",
        "colab_type": "code",
        "outputId": "e6826610-d69d-49af-c676-868fe071689e",
        "colab": {
          "base_uri": "https://localhost:8080/",
          "height": 215
        }
      },
      "source": [
        "# Merge gendertrain and device_b\n",
        "gt_device = pd.merge(gendertrain,\n",
        "                  device_b[['app_id', 'is_active', 'device_id']],\n",
        "                  on='device_id').dropna().drop_duplicates()\n",
        "#Shape of ga_apps\n",
        "print(gt_device.shape)\n",
        "\n",
        "# Show how the new df looks.\n",
        "gt_device.head()"
      ],
      "execution_count": 35,
      "outputs": [
        {
          "output_type": "stream",
          "text": [
            "(1097150, 6)\n"
          ],
          "name": "stdout"
        },
        {
          "output_type": "execute_result",
          "data": {
            "text/html": [
              "<div>\n",
              "<style scoped>\n",
              "    .dataframe tbody tr th:only-of-type {\n",
              "        vertical-align: middle;\n",
              "    }\n",
              "\n",
              "    .dataframe tbody tr th {\n",
              "        vertical-align: top;\n",
              "    }\n",
              "\n",
              "    .dataframe thead th {\n",
              "        text-align: right;\n",
              "    }\n",
              "</style>\n",
              "<table border=\"1\" class=\"dataframe\">\n",
              "  <thead>\n",
              "    <tr style=\"text-align: right;\">\n",
              "      <th></th>\n",
              "      <th>device_id</th>\n",
              "      <th>gender</th>\n",
              "      <th>age</th>\n",
              "      <th>group</th>\n",
              "      <th>app_id</th>\n",
              "      <th>is_active</th>\n",
              "    </tr>\n",
              "  </thead>\n",
              "  <tbody>\n",
              "    <tr>\n",
              "      <th>0</th>\n",
              "      <td>-8260683887967679142</td>\n",
              "      <td>M</td>\n",
              "      <td>35</td>\n",
              "      <td>M32-38</td>\n",
              "      <td>4287147352639325907</td>\n",
              "      <td>0</td>\n",
              "    </tr>\n",
              "    <tr>\n",
              "      <th>1</th>\n",
              "      <td>-8260683887967679142</td>\n",
              "      <td>M</td>\n",
              "      <td>35</td>\n",
              "      <td>M32-38</td>\n",
              "      <td>-4085686983594738208</td>\n",
              "      <td>0</td>\n",
              "    </tr>\n",
              "    <tr>\n",
              "      <th>2</th>\n",
              "      <td>-8260683887967679142</td>\n",
              "      <td>M</td>\n",
              "      <td>35</td>\n",
              "      <td>M32-38</td>\n",
              "      <td>6324194957022958681</td>\n",
              "      <td>0</td>\n",
              "    </tr>\n",
              "    <tr>\n",
              "      <th>3</th>\n",
              "      <td>-8260683887967679142</td>\n",
              "      <td>M</td>\n",
              "      <td>35</td>\n",
              "      <td>M32-38</td>\n",
              "      <td>-8687507491028761317</td>\n",
              "      <td>0</td>\n",
              "    </tr>\n",
              "    <tr>\n",
              "      <th>4</th>\n",
              "      <td>-8260683887967679142</td>\n",
              "      <td>M</td>\n",
              "      <td>35</td>\n",
              "      <td>M32-38</td>\n",
              "      <td>877288515501232570</td>\n",
              "      <td>1</td>\n",
              "    </tr>\n",
              "  </tbody>\n",
              "</table>\n",
              "</div>"
            ],
            "text/plain": [
              "             device_id gender  age   group               app_id  is_active\n",
              "0 -8260683887967679142      M   35  M32-38  4287147352639325907          0\n",
              "1 -8260683887967679142      M   35  M32-38 -4085686983594738208          0\n",
              "2 -8260683887967679142      M   35  M32-38  6324194957022958681          0\n",
              "3 -8260683887967679142      M   35  M32-38 -8687507491028761317          0\n",
              "4 -8260683887967679142      M   35  M32-38   877288515501232570          1"
            ]
          },
          "metadata": {
            "tags": []
          },
          "execution_count": 35
        }
      ]
    },
    {
      "cell_type": "code",
      "metadata": {
        "id": "-lht4xnLstva",
        "colab_type": "code",
        "outputId": "64688adb-6dbf-42ac-c17f-ec81f021e1ed",
        "colab": {
          "base_uri": "https://localhost:8080/",
          "height": 322
        }
      },
      "source": [
        "# Merge the previous data set with brands now. \n",
        "gt_phoneapps = pd.merge(gt_device,\n",
        "                         phone[['device_id', 'encoded_model']],\n",
        "                         on='device_id').dropna().drop_duplicates()\n",
        "\n",
        "print(gt_phoneapps.shape)\n",
        "\n",
        "#Look at how the data looks.\n",
        "gt_phoneapps.head()"
      ],
      "execution_count": 36,
      "outputs": [
        {
          "output_type": "stream",
          "text": [
            "(1097150, 7)\n"
          ],
          "name": "stdout"
        },
        {
          "output_type": "execute_result",
          "data": {
            "text/html": [
              "<div>\n",
              "<style scoped>\n",
              "    .dataframe tbody tr th:only-of-type {\n",
              "        vertical-align: middle;\n",
              "    }\n",
              "\n",
              "    .dataframe tbody tr th {\n",
              "        vertical-align: top;\n",
              "    }\n",
              "\n",
              "    .dataframe thead th {\n",
              "        text-align: right;\n",
              "    }\n",
              "</style>\n",
              "<table border=\"1\" class=\"dataframe\">\n",
              "  <thead>\n",
              "    <tr style=\"text-align: right;\">\n",
              "      <th></th>\n",
              "      <th>device_id</th>\n",
              "      <th>gender</th>\n",
              "      <th>age</th>\n",
              "      <th>group</th>\n",
              "      <th>app_id</th>\n",
              "      <th>is_active</th>\n",
              "      <th>encoded_model</th>\n",
              "    </tr>\n",
              "  </thead>\n",
              "  <tbody>\n",
              "    <tr>\n",
              "      <th>0</th>\n",
              "      <td>-8260683887967679142</td>\n",
              "      <td>M</td>\n",
              "      <td>35</td>\n",
              "      <td>M32-38</td>\n",
              "      <td>4287147352639325907</td>\n",
              "      <td>0</td>\n",
              "      <td>843</td>\n",
              "    </tr>\n",
              "    <tr>\n",
              "      <th>1</th>\n",
              "      <td>-8260683887967679142</td>\n",
              "      <td>M</td>\n",
              "      <td>35</td>\n",
              "      <td>M32-38</td>\n",
              "      <td>-4085686983594738208</td>\n",
              "      <td>0</td>\n",
              "      <td>843</td>\n",
              "    </tr>\n",
              "    <tr>\n",
              "      <th>2</th>\n",
              "      <td>-8260683887967679142</td>\n",
              "      <td>M</td>\n",
              "      <td>35</td>\n",
              "      <td>M32-38</td>\n",
              "      <td>6324194957022958681</td>\n",
              "      <td>0</td>\n",
              "      <td>843</td>\n",
              "    </tr>\n",
              "    <tr>\n",
              "      <th>3</th>\n",
              "      <td>-8260683887967679142</td>\n",
              "      <td>M</td>\n",
              "      <td>35</td>\n",
              "      <td>M32-38</td>\n",
              "      <td>-8687507491028761317</td>\n",
              "      <td>0</td>\n",
              "      <td>843</td>\n",
              "    </tr>\n",
              "    <tr>\n",
              "      <th>4</th>\n",
              "      <td>-8260683887967679142</td>\n",
              "      <td>M</td>\n",
              "      <td>35</td>\n",
              "      <td>M32-38</td>\n",
              "      <td>877288515501232570</td>\n",
              "      <td>1</td>\n",
              "      <td>843</td>\n",
              "    </tr>\n",
              "  </tbody>\n",
              "</table>\n",
              "</div>"
            ],
            "text/plain": [
              "             device_id gender  ...  is_active encoded_model\n",
              "0 -8260683887967679142      M  ...          0           843\n",
              "1 -8260683887967679142      M  ...          0           843\n",
              "2 -8260683887967679142      M  ...          0           843\n",
              "3 -8260683887967679142      M  ...          0           843\n",
              "4 -8260683887967679142      M  ...          1           843\n",
              "\n",
              "[5 rows x 7 columns]"
            ]
          },
          "metadata": {
            "tags": []
          },
          "execution_count": 36
        }
      ]
    },
    {
      "cell_type": "code",
      "metadata": {
        "id": "onNUzDyss4Zz",
        "colab_type": "code",
        "outputId": "1817184e-a2a2-40ba-ee90-093124ee8eb1",
        "colab": {
          "base_uri": "https://localhost:8080/",
          "height": 287
        }
      },
      "source": [
        "\n",
        "# Putting all of the data sets together.\n",
        "gender_full = pd.merge(gt_phoneapps,\n",
        "                                 apps_labeled[['app_id', 'label_id']],\n",
        "                                 on='app_id').dropna().drop_duplicates()\n",
        "\n",
        "print(gender_full.shape)\n",
        "\n",
        "#Look at how the data looks.\n",
        "gender_full.head()"
      ],
      "execution_count": 37,
      "outputs": [
        {
          "output_type": "stream",
          "text": [
            "(7034111, 8)\n"
          ],
          "name": "stdout"
        },
        {
          "output_type": "execute_result",
          "data": {
            "text/html": [
              "<div>\n",
              "<style scoped>\n",
              "    .dataframe tbody tr th:only-of-type {\n",
              "        vertical-align: middle;\n",
              "    }\n",
              "\n",
              "    .dataframe tbody tr th {\n",
              "        vertical-align: top;\n",
              "    }\n",
              "\n",
              "    .dataframe thead th {\n",
              "        text-align: right;\n",
              "    }\n",
              "</style>\n",
              "<table border=\"1\" class=\"dataframe\">\n",
              "  <thead>\n",
              "    <tr style=\"text-align: right;\">\n",
              "      <th></th>\n",
              "      <th>device_id</th>\n",
              "      <th>gender</th>\n",
              "      <th>age</th>\n",
              "      <th>group</th>\n",
              "      <th>app_id</th>\n",
              "      <th>is_active</th>\n",
              "      <th>encoded_model</th>\n",
              "      <th>label_id</th>\n",
              "    </tr>\n",
              "  </thead>\n",
              "  <tbody>\n",
              "    <tr>\n",
              "      <th>0</th>\n",
              "      <td>-8260683887967679142</td>\n",
              "      <td>M</td>\n",
              "      <td>35</td>\n",
              "      <td>M32-38</td>\n",
              "      <td>4287147352639325907</td>\n",
              "      <td>0</td>\n",
              "      <td>843</td>\n",
              "      <td>713</td>\n",
              "    </tr>\n",
              "    <tr>\n",
              "      <th>2</th>\n",
              "      <td>-8260683887967679142</td>\n",
              "      <td>M</td>\n",
              "      <td>35</td>\n",
              "      <td>M32-38</td>\n",
              "      <td>4287147352639325907</td>\n",
              "      <td>0</td>\n",
              "      <td>843</td>\n",
              "      <td>704</td>\n",
              "    </tr>\n",
              "    <tr>\n",
              "      <th>4</th>\n",
              "      <td>-8260683887967679142</td>\n",
              "      <td>M</td>\n",
              "      <td>35</td>\n",
              "      <td>M32-38</td>\n",
              "      <td>4287147352639325907</td>\n",
              "      <td>0</td>\n",
              "      <td>843</td>\n",
              "      <td>548</td>\n",
              "    </tr>\n",
              "    <tr>\n",
              "      <th>6</th>\n",
              "      <td>8761770737926125955</td>\n",
              "      <td>F</td>\n",
              "      <td>22</td>\n",
              "      <td>F23-</td>\n",
              "      <td>4287147352639325907</td>\n",
              "      <td>0</td>\n",
              "      <td>226</td>\n",
              "      <td>713</td>\n",
              "    </tr>\n",
              "    <tr>\n",
              "      <th>8</th>\n",
              "      <td>8761770737926125955</td>\n",
              "      <td>F</td>\n",
              "      <td>22</td>\n",
              "      <td>F23-</td>\n",
              "      <td>4287147352639325907</td>\n",
              "      <td>0</td>\n",
              "      <td>226</td>\n",
              "      <td>704</td>\n",
              "    </tr>\n",
              "  </tbody>\n",
              "</table>\n",
              "</div>"
            ],
            "text/plain": [
              "             device_id gender  age  ... is_active  encoded_model  label_id\n",
              "0 -8260683887967679142      M   35  ...         0            843       713\n",
              "2 -8260683887967679142      M   35  ...         0            843       704\n",
              "4 -8260683887967679142      M   35  ...         0            843       548\n",
              "6  8761770737926125955      F   22  ...         0            226       713\n",
              "8  8761770737926125955      F   22  ...         0            226       704\n",
              "\n",
              "[5 rows x 8 columns]"
            ]
          },
          "metadata": {
            "tags": []
          },
          "execution_count": 37
        }
      ]
    },
    {
      "cell_type": "code",
      "metadata": {
        "id": "7C4QVgJetOau",
        "colab_type": "code",
        "outputId": "6ffdad0c-cef2-4d85-be3e-c5ae1709a695",
        "colab": {
          "base_uri": "https://localhost:8080/",
          "height": 69
        }
      },
      "source": [
        "# feature engineering\n",
        "# Convert gender into a binary output\n",
        "gender_full['gender'] = gender_full['gender'].apply(lambda x: 1 if x == 'M' else 0 )\n",
        "gender_full.gender.value_counts()"
      ],
      "execution_count": 38,
      "outputs": [
        {
          "output_type": "execute_result",
          "data": {
            "text/plain": [
              "1    4942458\n",
              "0    2091653\n",
              "Name: gender, dtype: int64"
            ]
          },
          "metadata": {
            "tags": []
          },
          "execution_count": 38
        }
      ]
    },
    {
      "cell_type": "code",
      "metadata": {
        "id": "88VEo_XgtVuO",
        "colab_type": "code",
        "outputId": "11edaf85-266b-4d72-d5ef-cf92294c5d8d",
        "colab": {
          "base_uri": "https://localhost:8080/",
          "height": 287
        }
      },
      "source": [
        "\n",
        "# Make another copy since the previous copy has already been dummified.\n",
        "# Putting all of the data sets together.\n",
        "gender_full_copy = pd.merge(gt_phoneapps,\n",
        "                                 apps_labeled[['app_id', 'label_id']],\n",
        "                                 on='app_id').dropna().drop_duplicates()\n",
        "\n",
        "# Convert gender into a binary output\n",
        "gender_full_copy ['gender'] = gender_full_copy['gender'].apply(lambda x: 1 if x == 'M' else 0 )\n",
        "\n",
        "#Show me the shape\n",
        "print(gender_full_copy.shape)\n",
        "\n",
        "#Look at how the data looks.\n",
        "gender_full_copy.head()"
      ],
      "execution_count": 40,
      "outputs": [
        {
          "output_type": "stream",
          "text": [
            "(7034111, 8)\n"
          ],
          "name": "stdout"
        },
        {
          "output_type": "execute_result",
          "data": {
            "text/html": [
              "<div>\n",
              "<style scoped>\n",
              "    .dataframe tbody tr th:only-of-type {\n",
              "        vertical-align: middle;\n",
              "    }\n",
              "\n",
              "    .dataframe tbody tr th {\n",
              "        vertical-align: top;\n",
              "    }\n",
              "\n",
              "    .dataframe thead th {\n",
              "        text-align: right;\n",
              "    }\n",
              "</style>\n",
              "<table border=\"1\" class=\"dataframe\">\n",
              "  <thead>\n",
              "    <tr style=\"text-align: right;\">\n",
              "      <th></th>\n",
              "      <th>device_id</th>\n",
              "      <th>gender</th>\n",
              "      <th>age</th>\n",
              "      <th>group</th>\n",
              "      <th>app_id</th>\n",
              "      <th>is_active</th>\n",
              "      <th>encoded_model</th>\n",
              "      <th>label_id</th>\n",
              "    </tr>\n",
              "  </thead>\n",
              "  <tbody>\n",
              "    <tr>\n",
              "      <th>0</th>\n",
              "      <td>-8260683887967679142</td>\n",
              "      <td>1</td>\n",
              "      <td>35</td>\n",
              "      <td>M32-38</td>\n",
              "      <td>4287147352639325907</td>\n",
              "      <td>0</td>\n",
              "      <td>843</td>\n",
              "      <td>713</td>\n",
              "    </tr>\n",
              "    <tr>\n",
              "      <th>2</th>\n",
              "      <td>-8260683887967679142</td>\n",
              "      <td>1</td>\n",
              "      <td>35</td>\n",
              "      <td>M32-38</td>\n",
              "      <td>4287147352639325907</td>\n",
              "      <td>0</td>\n",
              "      <td>843</td>\n",
              "      <td>704</td>\n",
              "    </tr>\n",
              "    <tr>\n",
              "      <th>4</th>\n",
              "      <td>-8260683887967679142</td>\n",
              "      <td>1</td>\n",
              "      <td>35</td>\n",
              "      <td>M32-38</td>\n",
              "      <td>4287147352639325907</td>\n",
              "      <td>0</td>\n",
              "      <td>843</td>\n",
              "      <td>548</td>\n",
              "    </tr>\n",
              "    <tr>\n",
              "      <th>6</th>\n",
              "      <td>8761770737926125955</td>\n",
              "      <td>0</td>\n",
              "      <td>22</td>\n",
              "      <td>F23-</td>\n",
              "      <td>4287147352639325907</td>\n",
              "      <td>0</td>\n",
              "      <td>226</td>\n",
              "      <td>713</td>\n",
              "    </tr>\n",
              "    <tr>\n",
              "      <th>8</th>\n",
              "      <td>8761770737926125955</td>\n",
              "      <td>0</td>\n",
              "      <td>22</td>\n",
              "      <td>F23-</td>\n",
              "      <td>4287147352639325907</td>\n",
              "      <td>0</td>\n",
              "      <td>226</td>\n",
              "      <td>704</td>\n",
              "    </tr>\n",
              "  </tbody>\n",
              "</table>\n",
              "</div>"
            ],
            "text/plain": [
              "             device_id  gender  age  ... is_active  encoded_model  label_id\n",
              "0 -8260683887967679142       1   35  ...         0            843       713\n",
              "2 -8260683887967679142       1   35  ...         0            843       704\n",
              "4 -8260683887967679142       1   35  ...         0            843       548\n",
              "6  8761770737926125955       0   22  ...         0            226       713\n",
              "8  8761770737926125955       0   22  ...         0            226       704\n",
              "\n",
              "[5 rows x 8 columns]"
            ]
          },
          "metadata": {
            "tags": []
          },
          "execution_count": 40
        }
      ]
    },
    {
      "cell_type": "code",
      "metadata": {
        "id": "C5A43ZBlteQA",
        "colab_type": "code",
        "colab": {}
      },
      "source": [
        ""
      ],
      "execution_count": 0,
      "outputs": []
    },
    {
      "cell_type": "code",
      "metadata": {
        "id": "IFIQGq6Oty0Y",
        "colab_type": "code",
        "outputId": "6a68e0bb-da8e-4300-b8e7-56d6277c0179",
        "colab": {
          "base_uri": "https://localhost:8080/",
          "height": 316
        }
      },
      "source": [
        "\n",
        "# Convert label_id into a continuous variable\n",
        "# even though it's numerical, it hasn't been standardized \n",
        "type_dummies = pd.get_dummies(gender_full['label_id'])\n",
        "\n",
        "# Concatenate the dummies with the original data set.\n",
        "gender_full = pd.concat([gender_full, type_dummies], axis=1)\n",
        "\n",
        "print(gender_full.shape)\n",
        "\n",
        "gender_full.head()"
      ],
      "execution_count": 41,
      "outputs": [
        {
          "output_type": "stream",
          "text": [
            "(7034111, 493)\n"
          ],
          "name": "stdout"
        },
        {
          "output_type": "execute_result",
          "data": {
            "text/html": [
              "<div>\n",
              "<style scoped>\n",
              "    .dataframe tbody tr th:only-of-type {\n",
              "        vertical-align: middle;\n",
              "    }\n",
              "\n",
              "    .dataframe tbody tr th {\n",
              "        vertical-align: top;\n",
              "    }\n",
              "\n",
              "    .dataframe thead th {\n",
              "        text-align: right;\n",
              "    }\n",
              "</style>\n",
              "<table border=\"1\" class=\"dataframe\">\n",
              "  <thead>\n",
              "    <tr style=\"text-align: right;\">\n",
              "      <th></th>\n",
              "      <th>device_id</th>\n",
              "      <th>gender</th>\n",
              "      <th>age</th>\n",
              "      <th>group</th>\n",
              "      <th>app_id</th>\n",
              "      <th>is_active</th>\n",
              "      <th>encoded_model</th>\n",
              "      <th>label_id</th>\n",
              "      <th>2</th>\n",
              "      <th>4</th>\n",
              "      <th>6</th>\n",
              "      <th>7</th>\n",
              "      <th>8</th>\n",
              "      <th>9</th>\n",
              "      <th>10</th>\n",
              "      <th>11</th>\n",
              "      <th>12</th>\n",
              "      <th>13</th>\n",
              "      <th>14</th>\n",
              "      <th>16</th>\n",
              "      <th>17</th>\n",
              "      <th>18</th>\n",
              "      <th>19</th>\n",
              "      <th>20</th>\n",
              "      <th>21</th>\n",
              "      <th>22</th>\n",
              "      <th>23</th>\n",
              "      <th>24</th>\n",
              "      <th>25</th>\n",
              "      <th>26</th>\n",
              "      <th>27</th>\n",
              "      <th>29</th>\n",
              "      <th>30</th>\n",
              "      <th>31</th>\n",
              "      <th>32</th>\n",
              "      <th>33</th>\n",
              "      <th>35</th>\n",
              "      <th>36</th>\n",
              "      <th>37</th>\n",
              "      <th>38</th>\n",
              "      <th>...</th>\n",
              "      <th>973</th>\n",
              "      <th>974</th>\n",
              "      <th>975</th>\n",
              "      <th>976</th>\n",
              "      <th>977</th>\n",
              "      <th>978</th>\n",
              "      <th>980</th>\n",
              "      <th>982</th>\n",
              "      <th>983</th>\n",
              "      <th>984</th>\n",
              "      <th>986</th>\n",
              "      <th>987</th>\n",
              "      <th>988</th>\n",
              "      <th>990</th>\n",
              "      <th>991</th>\n",
              "      <th>993</th>\n",
              "      <th>995</th>\n",
              "      <th>996</th>\n",
              "      <th>997</th>\n",
              "      <th>998</th>\n",
              "      <th>999</th>\n",
              "      <th>1002</th>\n",
              "      <th>1003</th>\n",
              "      <th>1005</th>\n",
              "      <th>1006</th>\n",
              "      <th>1007</th>\n",
              "      <th>1008</th>\n",
              "      <th>1009</th>\n",
              "      <th>1010</th>\n",
              "      <th>1011</th>\n",
              "      <th>1012</th>\n",
              "      <th>1013</th>\n",
              "      <th>1014</th>\n",
              "      <th>1015</th>\n",
              "      <th>1016</th>\n",
              "      <th>1017</th>\n",
              "      <th>1018</th>\n",
              "      <th>1019</th>\n",
              "      <th>1020</th>\n",
              "      <th>1021</th>\n",
              "    </tr>\n",
              "  </thead>\n",
              "  <tbody>\n",
              "    <tr>\n",
              "      <th>0</th>\n",
              "      <td>-8260683887967679142</td>\n",
              "      <td>1</td>\n",
              "      <td>35</td>\n",
              "      <td>M32-38</td>\n",
              "      <td>4287147352639325907</td>\n",
              "      <td>0</td>\n",
              "      <td>843</td>\n",
              "      <td>713</td>\n",
              "      <td>0</td>\n",
              "      <td>0</td>\n",
              "      <td>0</td>\n",
              "      <td>0</td>\n",
              "      <td>0</td>\n",
              "      <td>0</td>\n",
              "      <td>0</td>\n",
              "      <td>0</td>\n",
              "      <td>0</td>\n",
              "      <td>0</td>\n",
              "      <td>0</td>\n",
              "      <td>0</td>\n",
              "      <td>0</td>\n",
              "      <td>0</td>\n",
              "      <td>0</td>\n",
              "      <td>0</td>\n",
              "      <td>0</td>\n",
              "      <td>0</td>\n",
              "      <td>0</td>\n",
              "      <td>0</td>\n",
              "      <td>0</td>\n",
              "      <td>0</td>\n",
              "      <td>0</td>\n",
              "      <td>0</td>\n",
              "      <td>0</td>\n",
              "      <td>0</td>\n",
              "      <td>0</td>\n",
              "      <td>0</td>\n",
              "      <td>0</td>\n",
              "      <td>0</td>\n",
              "      <td>0</td>\n",
              "      <td>0</td>\n",
              "      <td>...</td>\n",
              "      <td>0</td>\n",
              "      <td>0</td>\n",
              "      <td>0</td>\n",
              "      <td>0</td>\n",
              "      <td>0</td>\n",
              "      <td>0</td>\n",
              "      <td>0</td>\n",
              "      <td>0</td>\n",
              "      <td>0</td>\n",
              "      <td>0</td>\n",
              "      <td>0</td>\n",
              "      <td>0</td>\n",
              "      <td>0</td>\n",
              "      <td>0</td>\n",
              "      <td>0</td>\n",
              "      <td>0</td>\n",
              "      <td>0</td>\n",
              "      <td>0</td>\n",
              "      <td>0</td>\n",
              "      <td>0</td>\n",
              "      <td>0</td>\n",
              "      <td>0</td>\n",
              "      <td>0</td>\n",
              "      <td>0</td>\n",
              "      <td>0</td>\n",
              "      <td>0</td>\n",
              "      <td>0</td>\n",
              "      <td>0</td>\n",
              "      <td>0</td>\n",
              "      <td>0</td>\n",
              "      <td>0</td>\n",
              "      <td>0</td>\n",
              "      <td>0</td>\n",
              "      <td>0</td>\n",
              "      <td>0</td>\n",
              "      <td>0</td>\n",
              "      <td>0</td>\n",
              "      <td>0</td>\n",
              "      <td>0</td>\n",
              "      <td>0</td>\n",
              "    </tr>\n",
              "    <tr>\n",
              "      <th>2</th>\n",
              "      <td>-8260683887967679142</td>\n",
              "      <td>1</td>\n",
              "      <td>35</td>\n",
              "      <td>M32-38</td>\n",
              "      <td>4287147352639325907</td>\n",
              "      <td>0</td>\n",
              "      <td>843</td>\n",
              "      <td>704</td>\n",
              "      <td>0</td>\n",
              "      <td>0</td>\n",
              "      <td>0</td>\n",
              "      <td>0</td>\n",
              "      <td>0</td>\n",
              "      <td>0</td>\n",
              "      <td>0</td>\n",
              "      <td>0</td>\n",
              "      <td>0</td>\n",
              "      <td>0</td>\n",
              "      <td>0</td>\n",
              "      <td>0</td>\n",
              "      <td>0</td>\n",
              "      <td>0</td>\n",
              "      <td>0</td>\n",
              "      <td>0</td>\n",
              "      <td>0</td>\n",
              "      <td>0</td>\n",
              "      <td>0</td>\n",
              "      <td>0</td>\n",
              "      <td>0</td>\n",
              "      <td>0</td>\n",
              "      <td>0</td>\n",
              "      <td>0</td>\n",
              "      <td>0</td>\n",
              "      <td>0</td>\n",
              "      <td>0</td>\n",
              "      <td>0</td>\n",
              "      <td>0</td>\n",
              "      <td>0</td>\n",
              "      <td>0</td>\n",
              "      <td>0</td>\n",
              "      <td>...</td>\n",
              "      <td>0</td>\n",
              "      <td>0</td>\n",
              "      <td>0</td>\n",
              "      <td>0</td>\n",
              "      <td>0</td>\n",
              "      <td>0</td>\n",
              "      <td>0</td>\n",
              "      <td>0</td>\n",
              "      <td>0</td>\n",
              "      <td>0</td>\n",
              "      <td>0</td>\n",
              "      <td>0</td>\n",
              "      <td>0</td>\n",
              "      <td>0</td>\n",
              "      <td>0</td>\n",
              "      <td>0</td>\n",
              "      <td>0</td>\n",
              "      <td>0</td>\n",
              "      <td>0</td>\n",
              "      <td>0</td>\n",
              "      <td>0</td>\n",
              "      <td>0</td>\n",
              "      <td>0</td>\n",
              "      <td>0</td>\n",
              "      <td>0</td>\n",
              "      <td>0</td>\n",
              "      <td>0</td>\n",
              "      <td>0</td>\n",
              "      <td>0</td>\n",
              "      <td>0</td>\n",
              "      <td>0</td>\n",
              "      <td>0</td>\n",
              "      <td>0</td>\n",
              "      <td>0</td>\n",
              "      <td>0</td>\n",
              "      <td>0</td>\n",
              "      <td>0</td>\n",
              "      <td>0</td>\n",
              "      <td>0</td>\n",
              "      <td>0</td>\n",
              "    </tr>\n",
              "    <tr>\n",
              "      <th>4</th>\n",
              "      <td>-8260683887967679142</td>\n",
              "      <td>1</td>\n",
              "      <td>35</td>\n",
              "      <td>M32-38</td>\n",
              "      <td>4287147352639325907</td>\n",
              "      <td>0</td>\n",
              "      <td>843</td>\n",
              "      <td>548</td>\n",
              "      <td>0</td>\n",
              "      <td>0</td>\n",
              "      <td>0</td>\n",
              "      <td>0</td>\n",
              "      <td>0</td>\n",
              "      <td>0</td>\n",
              "      <td>0</td>\n",
              "      <td>0</td>\n",
              "      <td>0</td>\n",
              "      <td>0</td>\n",
              "      <td>0</td>\n",
              "      <td>0</td>\n",
              "      <td>0</td>\n",
              "      <td>0</td>\n",
              "      <td>0</td>\n",
              "      <td>0</td>\n",
              "      <td>0</td>\n",
              "      <td>0</td>\n",
              "      <td>0</td>\n",
              "      <td>0</td>\n",
              "      <td>0</td>\n",
              "      <td>0</td>\n",
              "      <td>0</td>\n",
              "      <td>0</td>\n",
              "      <td>0</td>\n",
              "      <td>0</td>\n",
              "      <td>0</td>\n",
              "      <td>0</td>\n",
              "      <td>0</td>\n",
              "      <td>0</td>\n",
              "      <td>0</td>\n",
              "      <td>0</td>\n",
              "      <td>...</td>\n",
              "      <td>0</td>\n",
              "      <td>0</td>\n",
              "      <td>0</td>\n",
              "      <td>0</td>\n",
              "      <td>0</td>\n",
              "      <td>0</td>\n",
              "      <td>0</td>\n",
              "      <td>0</td>\n",
              "      <td>0</td>\n",
              "      <td>0</td>\n",
              "      <td>0</td>\n",
              "      <td>0</td>\n",
              "      <td>0</td>\n",
              "      <td>0</td>\n",
              "      <td>0</td>\n",
              "      <td>0</td>\n",
              "      <td>0</td>\n",
              "      <td>0</td>\n",
              "      <td>0</td>\n",
              "      <td>0</td>\n",
              "      <td>0</td>\n",
              "      <td>0</td>\n",
              "      <td>0</td>\n",
              "      <td>0</td>\n",
              "      <td>0</td>\n",
              "      <td>0</td>\n",
              "      <td>0</td>\n",
              "      <td>0</td>\n",
              "      <td>0</td>\n",
              "      <td>0</td>\n",
              "      <td>0</td>\n",
              "      <td>0</td>\n",
              "      <td>0</td>\n",
              "      <td>0</td>\n",
              "      <td>0</td>\n",
              "      <td>0</td>\n",
              "      <td>0</td>\n",
              "      <td>0</td>\n",
              "      <td>0</td>\n",
              "      <td>0</td>\n",
              "    </tr>\n",
              "    <tr>\n",
              "      <th>6</th>\n",
              "      <td>8761770737926125955</td>\n",
              "      <td>0</td>\n",
              "      <td>22</td>\n",
              "      <td>F23-</td>\n",
              "      <td>4287147352639325907</td>\n",
              "      <td>0</td>\n",
              "      <td>226</td>\n",
              "      <td>713</td>\n",
              "      <td>0</td>\n",
              "      <td>0</td>\n",
              "      <td>0</td>\n",
              "      <td>0</td>\n",
              "      <td>0</td>\n",
              "      <td>0</td>\n",
              "      <td>0</td>\n",
              "      <td>0</td>\n",
              "      <td>0</td>\n",
              "      <td>0</td>\n",
              "      <td>0</td>\n",
              "      <td>0</td>\n",
              "      <td>0</td>\n",
              "      <td>0</td>\n",
              "      <td>0</td>\n",
              "      <td>0</td>\n",
              "      <td>0</td>\n",
              "      <td>0</td>\n",
              "      <td>0</td>\n",
              "      <td>0</td>\n",
              "      <td>0</td>\n",
              "      <td>0</td>\n",
              "      <td>0</td>\n",
              "      <td>0</td>\n",
              "      <td>0</td>\n",
              "      <td>0</td>\n",
              "      <td>0</td>\n",
              "      <td>0</td>\n",
              "      <td>0</td>\n",
              "      <td>0</td>\n",
              "      <td>0</td>\n",
              "      <td>0</td>\n",
              "      <td>...</td>\n",
              "      <td>0</td>\n",
              "      <td>0</td>\n",
              "      <td>0</td>\n",
              "      <td>0</td>\n",
              "      <td>0</td>\n",
              "      <td>0</td>\n",
              "      <td>0</td>\n",
              "      <td>0</td>\n",
              "      <td>0</td>\n",
              "      <td>0</td>\n",
              "      <td>0</td>\n",
              "      <td>0</td>\n",
              "      <td>0</td>\n",
              "      <td>0</td>\n",
              "      <td>0</td>\n",
              "      <td>0</td>\n",
              "      <td>0</td>\n",
              "      <td>0</td>\n",
              "      <td>0</td>\n",
              "      <td>0</td>\n",
              "      <td>0</td>\n",
              "      <td>0</td>\n",
              "      <td>0</td>\n",
              "      <td>0</td>\n",
              "      <td>0</td>\n",
              "      <td>0</td>\n",
              "      <td>0</td>\n",
              "      <td>0</td>\n",
              "      <td>0</td>\n",
              "      <td>0</td>\n",
              "      <td>0</td>\n",
              "      <td>0</td>\n",
              "      <td>0</td>\n",
              "      <td>0</td>\n",
              "      <td>0</td>\n",
              "      <td>0</td>\n",
              "      <td>0</td>\n",
              "      <td>0</td>\n",
              "      <td>0</td>\n",
              "      <td>0</td>\n",
              "    </tr>\n",
              "    <tr>\n",
              "      <th>8</th>\n",
              "      <td>8761770737926125955</td>\n",
              "      <td>0</td>\n",
              "      <td>22</td>\n",
              "      <td>F23-</td>\n",
              "      <td>4287147352639325907</td>\n",
              "      <td>0</td>\n",
              "      <td>226</td>\n",
              "      <td>704</td>\n",
              "      <td>0</td>\n",
              "      <td>0</td>\n",
              "      <td>0</td>\n",
              "      <td>0</td>\n",
              "      <td>0</td>\n",
              "      <td>0</td>\n",
              "      <td>0</td>\n",
              "      <td>0</td>\n",
              "      <td>0</td>\n",
              "      <td>0</td>\n",
              "      <td>0</td>\n",
              "      <td>0</td>\n",
              "      <td>0</td>\n",
              "      <td>0</td>\n",
              "      <td>0</td>\n",
              "      <td>0</td>\n",
              "      <td>0</td>\n",
              "      <td>0</td>\n",
              "      <td>0</td>\n",
              "      <td>0</td>\n",
              "      <td>0</td>\n",
              "      <td>0</td>\n",
              "      <td>0</td>\n",
              "      <td>0</td>\n",
              "      <td>0</td>\n",
              "      <td>0</td>\n",
              "      <td>0</td>\n",
              "      <td>0</td>\n",
              "      <td>0</td>\n",
              "      <td>0</td>\n",
              "      <td>0</td>\n",
              "      <td>0</td>\n",
              "      <td>...</td>\n",
              "      <td>0</td>\n",
              "      <td>0</td>\n",
              "      <td>0</td>\n",
              "      <td>0</td>\n",
              "      <td>0</td>\n",
              "      <td>0</td>\n",
              "      <td>0</td>\n",
              "      <td>0</td>\n",
              "      <td>0</td>\n",
              "      <td>0</td>\n",
              "      <td>0</td>\n",
              "      <td>0</td>\n",
              "      <td>0</td>\n",
              "      <td>0</td>\n",
              "      <td>0</td>\n",
              "      <td>0</td>\n",
              "      <td>0</td>\n",
              "      <td>0</td>\n",
              "      <td>0</td>\n",
              "      <td>0</td>\n",
              "      <td>0</td>\n",
              "      <td>0</td>\n",
              "      <td>0</td>\n",
              "      <td>0</td>\n",
              "      <td>0</td>\n",
              "      <td>0</td>\n",
              "      <td>0</td>\n",
              "      <td>0</td>\n",
              "      <td>0</td>\n",
              "      <td>0</td>\n",
              "      <td>0</td>\n",
              "      <td>0</td>\n",
              "      <td>0</td>\n",
              "      <td>0</td>\n",
              "      <td>0</td>\n",
              "      <td>0</td>\n",
              "      <td>0</td>\n",
              "      <td>0</td>\n",
              "      <td>0</td>\n",
              "      <td>0</td>\n",
              "    </tr>\n",
              "  </tbody>\n",
              "</table>\n",
              "<p>5 rows × 493 columns</p>\n",
              "</div>"
            ],
            "text/plain": [
              "             device_id  gender  age   group  ...  1018  1019  1020  1021\n",
              "0 -8260683887967679142       1   35  M32-38  ...     0     0     0     0\n",
              "2 -8260683887967679142       1   35  M32-38  ...     0     0     0     0\n",
              "4 -8260683887967679142       1   35  M32-38  ...     0     0     0     0\n",
              "6  8761770737926125955       0   22    F23-  ...     0     0     0     0\n",
              "8  8761770737926125955       0   22    F23-  ...     0     0     0     0\n",
              "\n",
              "[5 rows x 493 columns]"
            ]
          },
          "metadata": {
            "tags": []
          },
          "execution_count": 41
        }
      ]
    },
    {
      "cell_type": "code",
      "metadata": {
        "id": "iY-toZB4t16g",
        "colab_type": "code",
        "outputId": "9fe66a2f-3a7a-4903-cdec-a03c7d3cc598",
        "colab": {
          "base_uri": "https://localhost:8080/",
          "height": 242
        }
      },
      "source": [
        "gender_full.group.value_counts()\n"
      ],
      "execution_count": 42,
      "outputs": [
        {
          "output_type": "execute_result",
          "data": {
            "text/plain": [
              "M32-38    1185421\n",
              "M39+      1107632\n",
              "M23-26     817660\n",
              "M29-31     810956\n",
              "M27-28     530780\n",
              "F33-42     517420\n",
              "M22-       490009\n",
              "F43+       391188\n",
              "F29-32     368450\n",
              "F23-       303034\n",
              "F24-26     265262\n",
              "F27-28     246299\n",
              "Name: group, dtype: int64"
            ]
          },
          "metadata": {
            "tags": []
          },
          "execution_count": 42
        }
      ]
    },
    {
      "cell_type": "code",
      "metadata": {
        "id": "KfxbJdCO59hi",
        "colab_type": "code",
        "colab": {}
      },
      "source": [
        "# Downsampling the gender/age training set to 50000.\n",
        "#ga_m_youngest = ga_apps_labeled_brands[ga_apps_labeled_brands.group=='M22-']\n",
        "cat1=gender_full[gender_full.group=='M22-']\n",
        "cat1_downsampled = resample(cat1,replace=True,n_samples=30000)\n",
        "cat2= gender_full[gender_full.group=='M23-26']\n",
        "cat2_downsampled = resample(cat2,replace=True,n_samples=30000)\n",
        "cat3 = gender_full[gender_full.group=='M27-28']\n",
        "cat3_downsampled = resample(cat3, replace=True, n_samples=30000) \n",
        "\n",
        "cat4 = gender_full[gender_full.group=='M29-31']\n",
        "cat4_downsampled = resample(cat4,replace=True, n_samples=30000)\n",
        "cat5 = gender_full[gender_full.group=='M32-38']\n",
        "cat5_downsampled = resample(cat5, replace=True,  n_samples=30000)\n",
        "\n",
        "cat6 = gender_full[gender_full.group=='M39+']\n",
        "cat6_downsampled = resample(cat6, replace=True, n_samples=30000)\n",
        "\n",
        "# Downsample majority class\n"
      ],
      "execution_count": 0,
      "outputs": []
    },
    {
      "cell_type": "code",
      "metadata": {
        "id": "pcOhndLeWcXs",
        "colab_type": "code",
        "colab": {}
      },
      "source": [
        "\n",
        "cat7 = gender_full[gender_full.group=='F23-']\n",
        "cat7_downsampled = resample(cat7, replace=True, n_samples=30000)\n",
        "\n",
        "cat8 = gender_full[gender_full.group=='F24-26']\n",
        "cat8_downsampled = resample(cat8, replace=True, n_samples=30000)\n",
        "\n",
        "cat9 = gender_full[gender_full.group=='F27-28']\n",
        "cat9_downsampled = resample(cat9, replace=True, n_samples=30000)\n",
        "cat10 = gender_full[gender_full.group=='F29-32']\n",
        "cat10_downsampled = resample(cat10, replace=True, n_samples=30000)\n",
        "cat11 = gender_full[gender_full.group=='F33-42']\n",
        "cat11_downsampled = resample(cat11, replace=True,n_samples=30000)\n",
        "cat12 = gender_full[gender_full.group=='F43+']\n",
        "cat12_downsampled = resample(cat12, replace=True, n_samples=30000)"
      ],
      "execution_count": 0,
      "outputs": []
    },
    {
      "cell_type": "code",
      "metadata": {
        "id": "jXaQOa4EWeXc",
        "colab_type": "code",
        "colab": {
          "base_uri": "https://localhost:8080/",
          "height": 242
        },
        "outputId": "77eee115-b261-4ae9-e3f7-0d439ce7741b"
      },
      "source": [
        "\n",
        "# Combine downsampled majority class \n",
        "gender_full_sampled = pd.concat([cat1_downsampled,cat2_downsampled,\n",
        "                               cat3_downsampled,cat4_downsampled,\n",
        "                               cat5_downsampled, cat6_downsampled,\n",
        "                               cat7_downsampled, cat8_downsampled,\n",
        "                               cat9_downsampled, cat10_downsampled,\n",
        "                              cat11_downsampled, cat12_downsampled])\n",
        " \n",
        "# Display new class counts\n",
        "gender_full_sampled.group.value_counts()"
      ],
      "execution_count": 46,
      "outputs": [
        {
          "output_type": "execute_result",
          "data": {
            "text/plain": [
              "M29-31    30000\n",
              "F23-      30000\n",
              "F27-28    30000\n",
              "M23-26    30000\n",
              "M22-      30000\n",
              "F29-32    30000\n",
              "F24-26    30000\n",
              "M27-28    30000\n",
              "F33-42    30000\n",
              "M39+      30000\n",
              "F43+      30000\n",
              "M32-38    30000\n",
              "Name: group, dtype: int64"
            ]
          },
          "metadata": {
            "tags": []
          },
          "execution_count": 46
        }
      ]
    },
    {
      "cell_type": "markdown",
      "metadata": {
        "id": "DbQbA5iGNWBx",
        "colab_type": "text"
      },
      "source": [
        "# Using PCA"
      ]
    },
    {
      "cell_type": "code",
      "metadata": {
        "id": "OqbVp1V9QHiw",
        "colab_type": "code",
        "colab": {}
      },
      "source": [
        "# PCA \n",
        "# PCA for 10 components \n",
        "from sklearn.decomposition import PCA\n",
        "X = gender_full_sampled.drop(['group'], axis=1)\n",
        "y = gender_full_sampled['group'].values\n",
        "\n",
        "# Use PCA to create new columns \n",
        "pca = PCA(n_components=10)\n",
        "principalComponents = pca.fit_transform(X)\n",
        "pca_X = pd.DataFrame(data = principalComponents, \n",
        "                     columns = ['principal component 1', 'principal component 2', 'principal component 3', \n",
        "                                'principal component 4','principal component 5','principal component 6', \n",
        "                               'principal component 7', 'principal component 8','principal component 9','principal component 10'])"
      ],
      "execution_count": 0,
      "outputs": []
    },
    {
      "cell_type": "markdown",
      "metadata": {
        "id": "TpEmJgnsSpos",
        "colab_type": "text"
      },
      "source": [
        "### Naive Bayes"
      ]
    },
    {
      "cell_type": "code",
      "metadata": {
        "id": "cgWwOvRXSovN",
        "colab_type": "code",
        "outputId": "11a3d08e-b530-422e-d4f6-d1c6bb16cda8",
        "colab": {
          "base_uri": "https://localhost:8080/",
          "height": 432
        }
      },
      "source": [
        "from sklearn.metrics import roc_curve\n",
        "from sklearn.metrics import roc_auc_score\n",
        "from sklearn.naive_bayes import BernoulliNB\n",
        "from sklearn.model_selection import train_test_split\n",
        "\n",
        "\n",
        "# Instantiate our model and Fit our model to the data.\n",
        "bnb = BernoulliNB()\n",
        "bnb.fit(pca_X, y)\n",
        "\n",
        "# Use train_test_split to create the necessary training and test groups\n",
        "X_train, X_test, y_train, y_test = train_test_split(pca_X,y, test_size=0.3, random_state=200)\n",
        "print('With 20% Holdout: ' + str(bnb.fit(X_train, y_train).score(X_test, y_test)))\n",
        "print('Testing on Sample: ' + str(bnb.fit(pca_X, y).score(pca_X, y)))\n",
        "\n",
        "# Cross validating using 10 folds  \n",
        "from sklearn.model_selection import cross_val_score\n",
        "print(cross_val_score(bnb,pca_X , y, cv=10))\n",
        "\n",
        "#Classification report \n",
        "from sklearn.metrics import classification_report\n",
        "print('Native Bayes Classification report :')\n",
        "print(classification_report(y_test, bnb.predict(X_test)))\n",
        "\n"
      ],
      "execution_count": 0,
      "outputs": [
        {
          "output_type": "stream",
          "text": [
            "With 20% Holdout: 0.3544888888888889\n",
            "Testing on Sample: 0.3542533333333333\n",
            "[0.3504     0.3532     0.353      0.35773333 0.35246667 0.3532\n",
            " 0.35133333 0.35653333 0.35276667 0.35376667]\n",
            "Native Bayes Classification report :\n",
            "              precision    recall  f1-score   support\n",
            "\n",
            "        F23-       0.30      0.38      0.33      7397\n",
            "      F24-26       0.29      0.25      0.26      7514\n",
            "      F27-28       0.27      0.46      0.34      7405\n",
            "      F29-32       0.00      0.00      0.00      7628\n",
            "      F33-42       0.49      0.49      0.49      7603\n",
            "        F43+       0.47      0.59      0.53      7425\n",
            "        M22-       0.27      0.34      0.30      7505\n",
            "      M23-26       0.27      0.15      0.19      7499\n",
            "      M27-28       0.26      0.50      0.34      7621\n",
            "      M29-31       0.27      0.05      0.09      7466\n",
            "      M32-38       0.51      0.55      0.53      7529\n",
            "        M39+       0.52      0.51      0.51      7408\n",
            "\n",
            "    accuracy                           0.35     90000\n",
            "   macro avg       0.33      0.35      0.33     90000\n",
            "weighted avg       0.33      0.35      0.33     90000\n",
            "\n"
          ],
          "name": "stdout"
        }
      ]
    },
    {
      "cell_type": "markdown",
      "metadata": {
        "id": "dtecXt4sSuOP",
        "colab_type": "text"
      },
      "source": [
        "### Random Forest"
      ]
    },
    {
      "cell_type": "code",
      "metadata": {
        "id": "56HvSfteTEiZ",
        "colab_type": "code",
        "outputId": "5539fc5a-0770-465e-d4b6-3c71268a8398",
        "colab": {
          "base_uri": "https://localhost:8080/",
          "height": 121
        }
      },
      "source": [
        "# Model 3: Random Forest gridsearchcv  took 300 min \n",
        "from sklearn import ensemble\n",
        "from sklearn.model_selection import GridSearchCV\n",
        "rfc = ensemble.RandomForestClassifier()\n",
        "\n",
        "\n",
        "\n",
        "param_grid = { \n",
        "    'n_estimators': [15, 200, 500],\n",
        "    'max_features': [7,8,9,10],\n",
        "    'max_depth': [6,7,8]\n",
        "}\n",
        "\n",
        "\n",
        "grid = GridSearchCV(rfc, param_grid, cv=2, verbose=3, n_jobs=-1)\n",
        "\n",
        "grid.fit(pca_X,y)\n",
        "\n",
        "# Show the best parameter and best score \n",
        "print(grid.best_params_)\n",
        "print( grid.best_score_)"
      ],
      "execution_count": 0,
      "outputs": [
        {
          "output_type": "stream",
          "text": [
            "Fitting 2 folds for each of 36 candidates, totalling 72 fits\n"
          ],
          "name": "stdout"
        },
        {
          "output_type": "stream",
          "text": [
            "[Parallel(n_jobs=-1)]: Using backend LokyBackend with 4 concurrent workers.\n",
            "[Parallel(n_jobs=-1)]: Done  24 tasks      | elapsed: 23.7min\n",
            "[Parallel(n_jobs=-1)]: Done  72 out of  72 | elapsed: 94.3min finished\n"
          ],
          "name": "stderr"
        },
        {
          "output_type": "stream",
          "text": [
            "{'max_depth': 8, 'max_features': 8, 'n_estimators': 15}\n",
            "0.9924533333333333\n"
          ],
          "name": "stdout"
        }
      ]
    },
    {
      "cell_type": "code",
      "metadata": {
        "id": "PFmQFWfnUmWf",
        "colab_type": "code",
        "outputId": "f85c55c9-6c5d-4cb3-a0e2-437d07e177b9",
        "colab": {
          "base_uri": "https://localhost:8080/",
          "height": 432
        }
      },
      "source": [
        "# Random forest model using pca , \n",
        "from sklearn import ensemble\n",
        "rfc = ensemble.RandomForestClassifier(n_estimators=15, max_features= 8, max_depth=8)\n",
        "\n",
        "\n",
        "from sklearn.model_selection import train_test_split\n",
        "# Use train_test_split to create the necessary training and test groups\n",
        "X_train, X_test, y_train, y_test = train_test_split(pca_X, y ,test_size=0.2, random_state=100)\n",
        "print('With 20% Holdout: ' + str(rfc.fit(X_train, y_train).score(X_test, y_test)))\n",
        "print('Testing on Sample: ' + str(rfc.fit(pca_X, y).score(pca_X, y)))\n",
        "\n",
        "\n",
        "# Cross validating using 10 folds  \n",
        "from sklearn.model_selection import cross_val_score\n",
        "print(cross_val_score(rfc, pca_X, y, cv=10))\n",
        "\n",
        "\n",
        "from sklearn.metrics import classification_report\n",
        "print('Random Forest report :')\n",
        "print(classification_report(y_test, rfc.predict(X_test)))\n",
        "\n",
        "\n"
      ],
      "execution_count": 0,
      "outputs": [
        {
          "output_type": "stream",
          "text": [
            "With 20% Holdout: 0.9893833333333333\n",
            "Testing on Sample: 0.9913766666666667\n",
            "[0.9909     0.99023333 0.99256667 0.9897     0.99026667 0.99236667\n",
            " 0.99196667 0.99056667 0.9912     0.99276667]\n",
            "Random Forest report :\n",
            "              precision    recall  f1-score   support\n",
            "\n",
            "        F23-       1.00      0.99      1.00      4910\n",
            "      F24-26       0.97      0.99      0.98      5058\n",
            "      F27-28       0.97      0.97      0.97      4908\n",
            "      F29-32       1.00      0.98      0.99      4981\n",
            "      F33-42       1.00      1.00      1.00      5079\n",
            "        F43+       1.00      1.00      1.00      5034\n",
            "        M22-       1.00      1.00      1.00      5000\n",
            "      M23-26       1.00      0.99      0.99      5073\n",
            "      M27-28       0.98      1.00      0.99      4986\n",
            "      M29-31       0.99      0.99      0.99      4937\n",
            "      M32-38       1.00      1.00      1.00      5055\n",
            "        M39+       1.00      1.00      1.00      4979\n",
            "\n",
            "    accuracy                           0.99     60000\n",
            "   macro avg       0.99      0.99      0.99     60000\n",
            "weighted avg       0.99      0.99      0.99     60000\n",
            "\n"
          ],
          "name": "stdout"
        }
      ]
    },
    {
      "cell_type": "markdown",
      "metadata": {
        "id": "NBazfqY7VQvH",
        "colab_type": "text"
      },
      "source": [
        "## Decision Tree"
      ]
    },
    {
      "cell_type": "code",
      "metadata": {
        "id": "uQslOD4pVP-9",
        "colab_type": "code",
        "outputId": "7964861b-67b1-48b8-fadd-4c6aaa4ee3c8",
        "colab": {
          "base_uri": "https://localhost:8080/",
          "height": 124
        }
      },
      "source": [
        "# Decision Tree Gridsearch \n",
        "from sklearn.tree import DecisionTreeClassifier\n",
        "from sklearn.model_selection import GridSearchCV\n",
        "\n",
        "\n",
        "# Initialize the model\n",
        "decision_tree = DecisionTreeClassifier()\n",
        "\n",
        "# Set parameters for dtc\n",
        "params = [{'max_features': [7, 8, 9, 10],\n",
        "             'max_depth': [ 6, 7,8]}]\n",
        "\n",
        "\n",
        "\n",
        "# Search for the best paramters. \n",
        "decision_tree_grid = GridSearchCV(decision_tree, params, cv=2, verbose=1, n_jobs=-1)\n",
        "\n",
        "# Fit the grid and obtain results\n",
        "decision_tree_grid.fit(pca_X, y)\n",
        "\n",
        "# Return best parameters and best score\n",
        "print(decision_tree_grid.best_params_)\n",
        "print(decision_tree_grid.best_score_)"
      ],
      "execution_count": 0,
      "outputs": [
        {
          "output_type": "stream",
          "text": [
            "Fitting 2 folds for each of 12 candidates, totalling 24 fits\n"
          ],
          "name": "stdout"
        },
        {
          "output_type": "stream",
          "text": [
            "[Parallel(n_jobs=-1)]: Using backend LokyBackend with 4 concurrent workers.\n",
            "[Parallel(n_jobs=-1)]: Done  24 out of  24 | elapsed:   17.8s finished\n"
          ],
          "name": "stderr"
        },
        {
          "output_type": "stream",
          "text": [
            "{'max_depth': 8, 'max_features': 10}\n",
            "0.9871\n"
          ],
          "name": "stdout"
        }
      ]
    },
    {
      "cell_type": "code",
      "metadata": {
        "id": "g0Cwe05zVZEU",
        "colab_type": "code",
        "outputId": "6d414d1c-9642-4839-f8d6-76ea1c665085",
        "colab": {
          "base_uri": "https://localhost:8080/",
          "height": 432
        }
      },
      "source": [
        "decision_tree = DecisionTreeClassifier( \n",
        "    criterion='entropy',\n",
        "    max_features=10,\n",
        "    max_depth=8)\n",
        "\n",
        "\n",
        "from sklearn.model_selection import train_test_split\n",
        "# Use train_test_split to create the necessary training and test groups\n",
        "X_train, X_test, y_train, y_test = train_test_split(pca_X,y, test_size=0.2, random_state=20)\n",
        "print('With 20% Holdout: ' + str(decision_tree.fit(X_train, y_train).score(X_test, y_test)))\n",
        "print('Testing on Sample: ' + str(decision_tree.fit(pca_X, y).score(pca_X, y)))\n",
        "\n",
        "\n",
        "# Cross validating using 10 folds  \n",
        "from sklearn.model_selection import cross_val_score\n",
        "print(cross_val_score(decision_tree, pca_X, y, cv=10))\n",
        "\n",
        "\n",
        "from sklearn.metrics import classification_report\n",
        "print('Decision Tree report :')\n",
        "print(classification_report(y_test, decision_tree.predict(X_test)))"
      ],
      "execution_count": 0,
      "outputs": [
        {
          "output_type": "stream",
          "text": [
            "With 20% Holdout: 0.9982\n",
            "Testing on Sample: 0.9977133333333333\n",
            "[0.9976     0.9969     0.9977     0.9984     0.99776667 0.99736667\n",
            " 0.99856667 0.99766667 0.99726667 0.99773333]\n",
            "Decision Tree report :\n",
            "              precision    recall  f1-score   support\n",
            "\n",
            "        F23-       1.00      1.00      1.00      4988\n",
            "      F24-26       0.99      1.00      0.99      4944\n",
            "      F27-28       1.00      0.98      0.99      4900\n",
            "      F29-32       0.99      1.00      1.00      4962\n",
            "      F33-42       1.00      1.00      1.00      4973\n",
            "        F43+       1.00      1.00      1.00      5041\n",
            "        M22-       1.00      1.00      1.00      5022\n",
            "      M23-26       1.00      1.00      1.00      5104\n",
            "      M27-28       1.00      1.00      1.00      4970\n",
            "      M29-31       1.00      1.00      1.00      5044\n",
            "      M32-38       1.00      1.00      1.00      5037\n",
            "        M39+       1.00      1.00      1.00      5015\n",
            "\n",
            "    accuracy                           1.00     60000\n",
            "   macro avg       1.00      1.00      1.00     60000\n",
            "weighted avg       1.00      1.00      1.00     60000\n",
            "\n"
          ],
          "name": "stdout"
        }
      ]
    },
    {
      "cell_type": "markdown",
      "metadata": {
        "id": "4DYo0MMnU8NO",
        "colab_type": "text"
      },
      "source": [
        "###Logistic Regression "
      ]
    },
    {
      "cell_type": "code",
      "metadata": {
        "id": "16362vHdyPUU",
        "colab_type": "code",
        "colab": {}
      },
      "source": [
        "# Set up best parameters\n",
        "lr3 = LogisticRegression(C=100, max_iter=25, multi_class='multinomial', solver='lbfgs')\n",
        "\n",
        "# Fit the model\n",
        "lr3.fit(X_train2, y_train2)\n",
        "\n",
        "lr3.score(X_train2, y_train2)"
      ],
      "execution_count": 0,
      "outputs": []
    },
    {
      "cell_type": "markdown",
      "metadata": {
        "id": "jcnVVUwAx4dj",
        "colab_type": "text"
      },
      "source": [
        ""
      ]
    },
    {
      "cell_type": "code",
      "metadata": {
        "id": "cXe9qfQVvCr-",
        "colab_type": "code",
        "outputId": "e0e98f83-b117-4bf9-c489-a12f728b35bb",
        "colab": {
          "base_uri": "https://localhost:8080/",
          "height": 35
        }
      },
      "source": [
        "# Set up best parameters\n",
        "lr3 = LogisticRegression(C=1, max_iter=5, multi_class='multinomial', solver='lbfgs')\n",
        "\n",
        "# Fit the model\n",
        "lr3.fit(pca_X, y)\n",
        "\n",
        "lr3.score(pca_X, y)"
      ],
      "execution_count": 0,
      "outputs": [
        {
          "output_type": "execute_result",
          "data": {
            "text/plain": [
              "0.08736"
            ]
          },
          "metadata": {
            "tags": []
          },
          "execution_count": 39
        }
      ]
    },
    {
      "cell_type": "code",
      "metadata": {
        "id": "6BWeinJnVES7",
        "colab_type": "code",
        "outputId": "328bb979-928c-4b9f-83d3-eb4e411aabdf",
        "colab": {
          "base_uri": "https://localhost:8080/",
          "height": 72
        }
      },
      "source": [
        "from sklearn.model_selection import GridSearchCV\n",
        "# Logistic Regression Gridsearch cv \n",
        "from sklearn.linear_model import LogisticRegression\n",
        "logr = LogisticRegression()\n",
        "\n",
        "# Create regularization penalty space\n",
        "penalty = ['l1', 'l2']\n",
        "\n",
        "# Create regularization hyperparameter space\n",
        "C = (0.01, 0.1, 1, 10, 100, 1000)\n",
        "\n",
        "# Create hyperparameter options\n",
        "parameters = dict(C=C, penalty=penalty)\n",
        "\n",
        "# Use GS-CV to see which alpha level is best.\n",
        "\n",
        "logr_grid = GridSearchCV(logr, parameters, cv=2, verbose=1)\n",
        "\n",
        "#Fit the logistic regression \n",
        "logr_grid.fit(pca_X, y)\n",
        "\n",
        "#return best parameters and best score\n",
        "\n",
        "print(logr_grid.best_params_)\n",
        "print(logr_grid.best_score_)"
      ],
      "execution_count": 0,
      "outputs": [
        {
          "output_type": "stream",
          "text": [
            "Fitting 2 folds for each of 12 candidates, totalling 24 fits\n"
          ],
          "name": "stdout"
        },
        {
          "output_type": "stream",
          "text": [
            "[Parallel(n_jobs=1)]: Using backend SequentialBackend with 1 concurrent workers.\n"
          ],
          "name": "stderr"
        }
      ]
    },
    {
      "cell_type": "code",
      "metadata": {
        "id": "z_AURnhhVXCg",
        "colab_type": "code",
        "colab": {}
      },
      "source": [
        "# Logistic regression model \n",
        "logr = LogisticRegression(C= 10, penalty='l1')\n",
        "\n",
        "\n",
        "logr.fit(pca_X,y)\n",
        "\n",
        "# Use train_test_split to create the necessary training and test groups\n",
        "X_train, X_test, y_train, y_test = train_test_split(pca_X, y, test_size=0.2, random_state=20)\n",
        "print('With 20% Holdout: ' + str(logr.fit(X_train, y_train).score(X_test, y_test)))\n",
        "print('Testing on Sample: ' + str(logr.fit(pca_X, y).score(pca_X, y)))\n",
        "\n",
        "# Cross validating using 10 folds  \n",
        "from sklearn.model_selection import cross_val_score\n",
        "print(cross_val_score(logr, pca_X, y, cv=3))\n",
        "\n",
        "from sklearn.metrics import classification_report\n",
        "print('Logistic regression report :')\n",
        "print(classification_report(y_test, logr.predict(X_test)))\n"
      ],
      "execution_count": 0,
      "outputs": []
    },
    {
      "cell_type": "code",
      "metadata": {
        "id": "LF7wD-UbqCbG",
        "colab_type": "code",
        "colab": {}
      },
      "source": [
        "# Logistic regression model \n",
        "logr = LogisticRegression(C= 10, penalty='l1')\n",
        "\n",
        "\n",
        "logr.fit(pca_X,y)\n",
        "\n",
        "# Use train_test_split to create the necessary training and test groups\n",
        "X_train, X_test, y_train, y_test = train_test_split(pca_X, y, test_size=0.2, random_state=20)\n",
        "print('With 20% Holdout: ' + str(logr.fit(X_train, y_train).score(X_test, y_test)))\n",
        "print('Testing on Sample: ' + str(logr.fit(pca_X, y).score(pca_X, y)))\n",
        "\n",
        "# Cross validating using 10 folds  \n",
        "from sklearn.model_selection import cross_val_score\n",
        "print(cross_val_score(logr, pca_X, y, cv=10))\n",
        "\n",
        "from sklearn.metrics import classification_report\n",
        "print('Logistic regression report :')\n",
        "print(classification_report(y_test, logr.predict(X_test)))\n"
      ],
      "execution_count": 0,
      "outputs": []
    },
    {
      "cell_type": "markdown",
      "metadata": {
        "id": "eOoxyWYtUiVm",
        "colab_type": "text"
      },
      "source": [
        "### Gradient Boosting "
      ]
    },
    {
      "cell_type": "code",
      "metadata": {
        "id": "FXsZyYDGUhj2",
        "colab_type": "code",
        "colab": {}
      },
      "source": [
        "# Parameters to test in gridsearch cv \n",
        "\n",
        "params = {'n_estimators': [150, 200, 300, 500],\n",
        "                           \n",
        "          'max_depth': [5,6,7,8],\n",
        "         }\n",
        "\n",
        "# Initialize and fit the model.\n",
        "gb = ensemble.GradientBoostingClassifier()\n",
        "\n",
        "# Use the grid\n",
        "gb_grid = GridSearchCV(gb, params, cv=2, verbose=1, n_jobs=-1)\n",
        "\n",
        "# Fit the grid\n",
        "gb_grid.fit(pca_X, y)\n",
        "\n",
        "# Return best parameters and best score\n",
        "print(gb_grid.best_params_)\n",
        "print(gb_grid.best_score_)"
      ],
      "execution_count": 0,
      "outputs": []
    },
    {
      "cell_type": "code",
      "metadata": {
        "id": "n2QH6dbUVBPN",
        "colab_type": "code",
        "outputId": "67d09fdd-6e0c-4474-c38a-39b869695d5b",
        "colab": {
          "base_uri": "https://localhost:8080/",
          "height": 415
        }
      },
      "source": [
        "# Gradient boosting model \n",
        "# Best Parameters from gridsearchcv \n",
        "params = {'n_estimators': 50,\n",
        "          'max_depth': 6,\n",
        "          'loss': 'deviance'}\n",
        "\n",
        "# Initialize and fit the model.\n",
        "gb = ensemble.GradientBoostingClassifier(**params)\n",
        "\n",
        "gb.fit(pca_X,y)\n",
        "\n",
        "# Use train_test_split to create the necessary training and test groups\n",
        "X_train, X_test, y_train, y_test = train_test_split(pca_X,y, test_size=0.2, random_state=20)\n",
        "print('With 20% Holdout: ' + str(gb.fit(X_train, y_train).score(X_test, y_test)))\n",
        "print('Testing on Sample: ' + str(gb.fit(pca_X, y).score(pca_X, y)))\n",
        "\n",
        "# Cross validating using 10 folds  \n",
        "from sklearn.model_selection import cross_val_score\n",
        "print(cross_val_score(gb, pca_X, y, cv=2))\n",
        "\n",
        "from sklearn.metrics import classification_report\n",
        "print('Gradient Boosting report :')\n",
        "print(classification_report(y_test, gb.predict(X_test)))\n",
        "\n"
      ],
      "execution_count": 0,
      "outputs": [
        {
          "output_type": "stream",
          "text": [
            "With 20% Holdout: 0.9995416666666667\n",
            "Testing on Sample: 1.0\n",
            "[0.9995     0.99948889]\n",
            "Gradient Boosting report :\n",
            "              precision    recall  f1-score   support\n",
            "\n",
            "        F23-       1.00      1.00      1.00      5965\n",
            "      F24-26       1.00      1.00      1.00      5851\n",
            "      F27-28       1.00      1.00      1.00      5995\n",
            "      F29-32       1.00      1.00      1.00      6045\n",
            "      F33-42       1.00      1.00      1.00      5936\n",
            "        F43+       1.00      1.00      1.00      5979\n",
            "        M22-       1.00      1.00      1.00      6132\n",
            "      M23-26       1.00      1.00      1.00      6006\n",
            "      M27-28       1.00      1.00      1.00      6011\n",
            "      M29-31       1.00      1.00      1.00      6004\n",
            "      M32-38       1.00      1.00      1.00      6001\n",
            "        M39+       1.00      1.00      1.00      6075\n",
            "\n",
            "    accuracy                           1.00     72000\n",
            "   macro avg       1.00      1.00      1.00     72000\n",
            "weighted avg       1.00      1.00      1.00     72000\n",
            "\n"
          ],
          "name": "stdout"
        }
      ]
    },
    {
      "cell_type": "code",
      "metadata": {
        "id": "b5RhBJlw-6W7",
        "colab_type": "code",
        "outputId": "7d86ea63-2479-4657-eaf1-15ef76443936",
        "colab": {
          "base_uri": "https://localhost:8080/",
          "height": 415
        }
      },
      "source": [
        "# Gradient boosting model \n",
        "# Best Parameters from gridsearchcv \n",
        "params = {'n_estimators': 25,\n",
        "          'max_depth': 4,\n",
        "          'loss': 'deviance'}\n",
        "\n",
        "# Initialize and fit the model.\n",
        "gb = ensemble.GradientBoostingClassifier(**params)\n",
        "\n",
        "gb.fit(pca_X,y)\n",
        "\n",
        "# Use train_test_split to create the necessary training and test groups\n",
        "X_train, X_test, y_train, y_test = train_test_split(pca_X,y, test_size=0.2, random_state=20)\n",
        "print('With 20% Holdout: ' + str(gb.fit(X_train, y_train).score(X_test, y_test)))\n",
        "print('Testing on Sample: ' + str(gb.fit(pca_X, y).score(pca_X, y)))\n",
        "\n",
        "# Cross validating using 10 folds  \n",
        "from sklearn.model_selection import cross_val_score\n",
        "print(cross_val_score(gb, pca_X, y, cv=2))\n",
        "\n",
        "from sklearn.metrics import classification_report\n",
        "print('Gradient Boosting report :')\n",
        "print(classification_report(y_test, gb.predict(X_test)))"
      ],
      "execution_count": 0,
      "outputs": [
        {
          "output_type": "stream",
          "text": [
            "With 20% Holdout: 0.9911111111111112\n",
            "Testing on Sample: 0.9914222222222222\n",
            "[0.98869444 0.98929444]\n",
            "Gradient Boosting report :\n",
            "              precision    recall  f1-score   support\n",
            "\n",
            "        F23-       0.99      1.00      1.00      5965\n",
            "      F24-26       0.98      0.99      0.99      5851\n",
            "      F27-28       1.00      0.98      0.99      5995\n",
            "      F29-32       0.99      0.99      0.99      6045\n",
            "      F33-42       1.00      1.00      1.00      5936\n",
            "        F43+       1.00      1.00      1.00      5979\n",
            "        M22-       0.99      1.00      1.00      6132\n",
            "      M23-26       0.98      0.98      0.98      6006\n",
            "      M27-28       0.98      0.97      0.98      6011\n",
            "      M29-31       0.99      0.99      0.99      6004\n",
            "      M32-38       0.99      0.99      0.99      6001\n",
            "        M39+       1.00      1.00      1.00      6075\n",
            "\n",
            "    accuracy                           0.99     72000\n",
            "   macro avg       0.99      0.99      0.99     72000\n",
            "weighted avg       0.99      0.99      0.99     72000\n",
            "\n"
          ],
          "name": "stdout"
        }
      ]
    },
    {
      "cell_type": "code",
      "metadata": {
        "id": "68oCYeSEyRym",
        "colab_type": "code",
        "outputId": "38ddf6b8-637a-4885-e7f7-1c7273dfb5ee",
        "colab": {
          "base_uri": "https://localhost:8080/",
          "height": 415
        }
      },
      "source": [
        "# Gradient boosting model \n",
        "# Best Parameters from gridsearchcv \n",
        "params = {'n_estimators': 10,\n",
        "          'max_depth': 4,\n",
        "          'loss': 'deviance'}\n",
        "\n",
        "# Initialize and fit the model.\n",
        "gb = ensemble.GradientBoostingClassifier(**params)\n",
        "\n",
        "gb.fit(pca_X,y)\n",
        "\n",
        "# Use train_test_split to create the necessary training and test groups\n",
        "X_train, X_test, y_train, y_test = train_test_split(pca_X,y, test_size=0.2, random_state=20)\n",
        "print('With 20% Holdout: ' + str(gb.fit(X_train, y_train).score(X_test, y_test)))\n",
        "print('Testing on Sample: ' + str(gb.fit(pca_X, y).score(pca_X, y)))\n",
        "\n",
        "# Cross validating using 10 folds  \n",
        "from sklearn.model_selection import cross_val_score\n",
        "print(cross_val_score(gb, pca_X, y, cv=3))\n",
        "\n",
        "from sklearn.metrics import classification_report\n",
        "print('Gradient Boosting report :')\n",
        "print(classification_report(y_test, gb.predict(X_test)))"
      ],
      "execution_count": 0,
      "outputs": [
        {
          "output_type": "stream",
          "text": [
            "With 20% Holdout: 0.9401388888888889\n",
            "Testing on Sample: 0.9408222222222222\n",
            "[0.94481111 0.93969444]\n",
            "Gradient Boosting report :\n",
            "              precision    recall  f1-score   support\n",
            "\n",
            "        F23-       0.99      1.00      0.99      5965\n",
            "      F24-26       0.93      0.91      0.92      5851\n",
            "      F27-28       0.87      0.82      0.84      5995\n",
            "      F29-32       0.87      0.92      0.89      6045\n",
            "      F33-42       0.95      0.98      0.97      5936\n",
            "        F43+       1.00      1.00      1.00      5979\n",
            "        M22-       0.99      1.00      1.00      6132\n",
            "      M23-26       0.97      0.94      0.96      6006\n",
            "      M27-28       0.90      0.87      0.88      6011\n",
            "      M29-31       0.87      0.89      0.88      6004\n",
            "      M32-38       0.94      0.97      0.96      6001\n",
            "        M39+       1.00      1.00      1.00      6075\n",
            "\n",
            "    accuracy                           0.94     72000\n",
            "   macro avg       0.94      0.94      0.94     72000\n",
            "weighted avg       0.94      0.94      0.94     72000\n",
            "\n"
          ],
          "name": "stdout"
        }
      ]
    },
    {
      "cell_type": "code",
      "metadata": {
        "id": "7dTkY42F0YQB",
        "colab_type": "code",
        "outputId": "f867eb4a-00b6-403e-b813-1cc129f3122f",
        "colab": {
          "base_uri": "https://localhost:8080/",
          "height": 415
        }
      },
      "source": [
        "# Gradient boosting model \n",
        "# Best Parameters from gridsearchcv \n",
        "params = {'n_estimators': 5,\n",
        "          'max_depth': 8,\n",
        "          'loss': 'deviance'}\n",
        "\n",
        "# Initialize and fit the model.\n",
        "gb = ensemble.GradientBoostingClassifier(**params)\n",
        "\n",
        "gb.fit(pca_X,y)\n",
        "\n",
        "# Use train_test_split to create the necessary training and test groups\n",
        "X_train, X_test, y_train, y_test = train_test_split(pca_X,y, test_size=0.2, random_state=20)\n",
        "print('With 20% Holdout: ' + str(gb.fit(X_train, y_train).score(X_test, y_test)))\n",
        "print('Testing on Sample: ' + str(gb.fit(pca_X, y).score(pca_X, y)))\n",
        "\n",
        "# Cross validating using 10 folds  \n",
        "from sklearn.model_selection import cross_val_score\n",
        "print(cross_val_score(gb, pca_X, y, cv=3))\n",
        "\n",
        "from sklearn.metrics import classification_report\n",
        "print('Gradient Boosting report :')\n",
        "print(classification_report(y_test, gb.predict(X_test)))"
      ],
      "execution_count": 0,
      "outputs": [
        {
          "output_type": "stream",
          "text": [
            "With 20% Holdout: 0.9994583333333333\n",
            "Testing on Sample: 0.9999666666666667\n",
            "[0.9993     0.99929167 0.999325  ]\n",
            "Gradient Boosting report :\n",
            "              precision    recall  f1-score   support\n",
            "\n",
            "        F23-       1.00      1.00      1.00      5965\n",
            "      F24-26       1.00      1.00      1.00      5851\n",
            "      F27-28       1.00      1.00      1.00      5995\n",
            "      F29-32       1.00      1.00      1.00      6045\n",
            "      F33-42       1.00      1.00      1.00      5936\n",
            "        F43+       1.00      1.00      1.00      5979\n",
            "        M22-       1.00      1.00      1.00      6132\n",
            "      M23-26       1.00      1.00      1.00      6006\n",
            "      M27-28       1.00      1.00      1.00      6011\n",
            "      M29-31       1.00      1.00      1.00      6004\n",
            "      M32-38       1.00      1.00      1.00      6001\n",
            "        M39+       1.00      1.00      1.00      6075\n",
            "\n",
            "    accuracy                           1.00     72000\n",
            "   macro avg       1.00      1.00      1.00     72000\n",
            "weighted avg       1.00      1.00      1.00     72000\n",
            "\n"
          ],
          "name": "stdout"
        }
      ]
    },
    {
      "cell_type": "code",
      "metadata": {
        "id": "RlDBwVIl9xiA",
        "colab_type": "code",
        "outputId": "a66ec74b-2856-4b73-ff9d-b1dbe7b7fcea",
        "colab": {
          "base_uri": "https://localhost:8080/",
          "height": 415
        }
      },
      "source": [
        "# Gradient boosting model \n",
        "# Best Parameters from gridsearchcv \n",
        "params = {'n_estimators': 5,\n",
        "          'max_depth': 4,\n",
        "          'loss': 'deviance'}\n",
        "\n",
        "# Initialize and fit the model.\n",
        "gb = ensemble.GradientBoostingClassifier(**params)\n",
        "\n",
        "gb.fit(pca_X,y)\n",
        "\n",
        "# Use train_test_split to create the necessary training and test groups\n",
        "X_train, X_test, y_train, y_test = train_test_split(pca_X,y, test_size=0.2, random_state=20)\n",
        "print('With 20% Holdout: ' + str(gb.fit(X_train, y_train).score(X_test, y_test)))\n",
        "print('Testing on Sample: ' + str(gb.fit(pca_X, y).score(pca_X, y)))\n",
        "\n",
        "# Cross validating using 10 folds  \n",
        "from sklearn.model_selection import cross_val_score\n",
        "print(cross_val_score(gb, pca_X, y, cv=3))\n",
        "\n",
        "from sklearn.metrics import classification_report\n",
        "print('Gradient Boosting report :')\n",
        "print(classification_report(y_test, gb.predict(X_test)))"
      ],
      "execution_count": 0,
      "outputs": [
        {
          "output_type": "stream",
          "text": [
            "With 20% Holdout: 0.9386944444444445\n",
            "Testing on Sample: 0.9395083333333333\n",
            "[0.94098333 0.938275   0.93901667]\n",
            "Gradient Boosting report :\n",
            "              precision    recall  f1-score   support\n",
            "\n",
            "        F23-       0.99      1.00      0.99      5965\n",
            "      F24-26       0.93      0.90      0.92      5851\n",
            "      F27-28       0.87      0.81      0.84      5995\n",
            "      F29-32       0.87      0.92      0.89      6045\n",
            "      F33-42       0.95      0.98      0.97      5936\n",
            "        F43+       1.00      1.00      1.00      5979\n",
            "        M22-       0.99      1.00      0.99      6132\n",
            "      M23-26       0.97      0.93      0.95      6006\n",
            "      M27-28       0.89      0.87      0.88      6011\n",
            "      M29-31       0.87      0.89      0.88      6004\n",
            "      M32-38       0.94      0.97      0.96      6001\n",
            "        M39+       1.00      1.00      1.00      6075\n",
            "\n",
            "    accuracy                           0.94     72000\n",
            "   macro avg       0.94      0.94      0.94     72000\n",
            "weighted avg       0.94      0.94      0.94     72000\n",
            "\n"
          ],
          "name": "stdout"
        }
      ]
    },
    {
      "cell_type": "markdown",
      "metadata": {
        "id": "nsMtaTazUnfC",
        "colab_type": "text"
      },
      "source": [
        "### SVM"
      ]
    },
    {
      "cell_type": "code",
      "metadata": {
        "id": "CZ8WwhMQUrGG",
        "colab_type": "code",
        "colab": {}
      },
      "source": [
        "\n",
        "# SVM model using features \n",
        "from sklearn.svm import SVC\n",
        "svm = SVC(C=.1, gamma=.01)\n",
        "\n",
        "\n",
        "# AttributeError: predict_proba is not available when  probability=False -> ERROR FOR SVM AUC \n",
        "\n",
        "\n",
        "svm.fit(pca_X,y)\n",
        "\n",
        "# Use train_test_split to create the necessary training and test groups\n",
        "X_train, X_test, y_train, y_test = train_test_split(pca_X,y, test_size=0.2, random_state=20)\n",
        "print('With 20% Holdout: ' + str(svm.fit(X_train, y_train).score(X_test, y_test)))\n",
        "print('Testing on Sample: ' + str(svm.fit(pca_X, y).score(pca_X, y)))\n",
        "\n",
        "# Cross validating using 10 folds  \n",
        "from sklearn.model_selection import cross_val_score\n",
        "print(cross_val_score(svm, pca_X,y, cv=5))\n",
        "\n",
        "from sklearn.metrics import classification_report\n",
        "print('SVM report :')\n",
        "print(classification_report(y_test, svm.predict(X_test)))"
      ],
      "execution_count": 0,
      "outputs": []
    },
    {
      "cell_type": "code",
      "metadata": {
        "id": "7J8alGOi_Xzq",
        "colab_type": "code",
        "colab": {}
      },
      "source": [
        "# SVM model using features \n",
        "from sklearn.svm import SVC\n",
        "svm = SVC(C=.1, gamma=.01)\n",
        "\n",
        "\n",
        "# AttributeError: predict_proba is not available when  probability=False -> ERROR FOR SVM AUC \n",
        "\n",
        "\n",
        "svm.fit(pca_X,y)\n",
        "\n",
        "# Use train_test_split to create the necessary training and test groups\n",
        "X_train, X_test, y_train, y_test = train_test_split(pca_X,y, test_size=0.2, random_state=20)\n",
        "print('With 20% Holdout: ' + str(svm.fit(X_train, y_train).score(X_test, y_test)))\n",
        "print('Testing on Sample: ' + str(svm.fit(pca_X, y).score(pca_X, y)))\n",
        "\n",
        "# Cross validating using 10 folds  \n",
        "from sklearn.model_selection import cross_val_score\n",
        "print(cross_val_score(svm, pca_X,y, cv=5))\n",
        "\n",
        "from sklearn.metrics import classification_report\n",
        "print('SVM report :')\n",
        "print(classification_report(y_test, svm.predict(X_test)))"
      ],
      "execution_count": 0,
      "outputs": []
    },
    {
      "cell_type": "markdown",
      "metadata": {
        "id": "ZAGjhTx2NZPA",
        "colab_type": "text"
      },
      "source": [
        "# Supervised methods uUsing Selectk Best"
      ]
    },
    {
      "cell_type": "code",
      "metadata": {
        "id": "6Fueo89GNa1w",
        "colab_type": "code",
        "outputId": "ad354f54-6254-463b-fc18-32996460451c",
        "colab": {
          "base_uri": "https://localhost:8080/",
          "height": 121
        }
      },
      "source": [
        "\n",
        "# selectKbest \n",
        "import numpy as np\n",
        "from sklearn.feature_selection import SelectKBest, f_classif\n",
        "\n",
        "X = gender_full_sampled.drop(['group'], axis=1)\n",
        "y = gender_full_sampled['group'].values\n",
        "\n",
        "# Perform feature selection\n",
        "selector = SelectKBest(f_classif, k=10)\n",
        "selector.fit(X,y)\n",
        "\n",
        "X_new = selector.transform(X)\n",
        "X_new.shape\n",
        "print(selector.get_support(indices=True))\n",
        "\n",
        "# Most 10  useful cols \n",
        "X_new = selector.transform(X)\n",
        "print(X_new.shape)\n",
        "# Col names \n",
        "X.columns[selector.get_support(indices=True)]"
      ],
      "execution_count": 0,
      "outputs": [
        {
          "output_type": "stream",
          "text": [
            "[  1   2   4   5   6 174 276 445 446 477]\n",
            "(360000, 10)\n"
          ],
          "name": "stdout"
        },
        {
          "output_type": "execute_result",
          "data": {
            "text/plain": [
              "Index([       'gender',           'age',     'is_active', 'encoded_model',\n",
              "            'label_id',             209,             706,             959,\n",
              "                   960,            1007],\n",
              "      dtype='object')"
            ]
          },
          "metadata": {
            "tags": []
          },
          "execution_count": 25
        }
      ]
    },
    {
      "cell_type": "code",
      "metadata": {
        "id": "06z2cEUJWRGp",
        "colab_type": "code",
        "colab": {}
      },
      "source": [
        "# creating data frame with our choosen features \n",
        "features = gender_full_sampled[['gender', 'age','is_active', 'encoded_model','label_id', 706,730, 959, 960,1007]]\n"
      ],
      "execution_count": 0,
      "outputs": []
    },
    {
      "cell_type": "code",
      "metadata": {
        "id": "u7_ZiQm1AtSA",
        "colab_type": "code",
        "colab": {}
      },
      "source": [
        ""
      ],
      "execution_count": 0,
      "outputs": []
    },
    {
      "cell_type": "markdown",
      "metadata": {
        "id": "za9uQ2fDAeNu",
        "colab_type": "text"
      },
      "source": [
        "### Random Forest"
      ]
    },
    {
      "cell_type": "code",
      "metadata": {
        "id": "iGslqAFgAg70",
        "colab_type": "code",
        "outputId": "072a1cd3-8ea1-4432-bb89-03951c22febb",
        "colab": {
          "base_uri": "https://localhost:8080/",
          "height": 121
        }
      },
      "source": [
        "# Model 3: Random Forest gridsearchcv  took 300 min \n",
        "from sklearn import ensemble\n",
        "from sklearn.model_selection import GridSearchCV\n",
        "rfc = ensemble.RandomForestClassifier()\n",
        "\n",
        "\n",
        "\n",
        "param_grid = { \n",
        "    'n_estimators': [15, 200, 500],\n",
        "    'max_features': [7,8,9,10],\n",
        "    'max_depth': [6,7,8]\n",
        "}\n",
        "\n",
        "\n",
        "grid = GridSearchCV(rfc, param_grid, cv=2, verbose=3, n_jobs=-1)\n",
        "\n",
        "grid.fit(features,y)\n",
        "\n",
        "# Show the best parameter and best score \n",
        "print(grid.best_params_)\n",
        "print( grid.best_score_)"
      ],
      "execution_count": 0,
      "outputs": [
        {
          "output_type": "stream",
          "text": [
            "Fitting 2 folds for each of 36 candidates, totalling 72 fits\n"
          ],
          "name": "stdout"
        },
        {
          "output_type": "stream",
          "text": [
            "[Parallel(n_jobs=-1)]: Using backend LokyBackend with 4 concurrent workers.\n",
            "[Parallel(n_jobs=-1)]: Done  24 tasks      | elapsed:  3.3min\n",
            "[Parallel(n_jobs=-1)]: Done  72 out of  72 | elapsed: 11.8min finished\n"
          ],
          "name": "stderr"
        },
        {
          "output_type": "stream",
          "text": [
            "{'max_depth': 6, 'max_features': 7, 'n_estimators': 15}\n",
            "1.0\n"
          ],
          "name": "stdout"
        }
      ]
    },
    {
      "cell_type": "code",
      "metadata": {
        "id": "vSeZtJklGvzC",
        "colab_type": "code",
        "outputId": "021b9c6e-a503-43ad-ee05-b76165cd4551",
        "colab": {
          "base_uri": "https://localhost:8080/",
          "height": 415
        }
      },
      "source": [
        "# Random forest model using selectk best , \n",
        "from sklearn import ensemble\n",
        "rfc = ensemble.RandomForestClassifier(n_estimators=15, max_features= 7, max_depth=6)\n",
        "\n",
        "\n",
        "from sklearn.model_selection import train_test_split\n",
        "# Use train_test_split to create the necessary training and test groups\n",
        "X_train, X_test, y_train, y_test = train_test_split(features, y ,test_size=0.2, random_state=100)\n",
        "print('With 20% Holdout: ' + str(rfc.fit(X_train, y_train).score(X_test, y_test)))\n",
        "print('Testing on Sample: ' + str(rfc.fit(features, y).score(features, y)))\n",
        "\n",
        "\n",
        "# Cross validating using 10 folds  \n",
        "from sklearn.model_selection import cross_val_score\n",
        "print(cross_val_score(rfc, features, y, cv=5))\n",
        "\n",
        "\n",
        "from sklearn.metrics import classification_report\n",
        "print('Random Forest report :')\n",
        "print(classification_report(y_test, rfc.predict(X_test)))\n"
      ],
      "execution_count": 0,
      "outputs": [
        {
          "output_type": "stream",
          "text": [
            "With 20% Holdout: 1.0\n",
            "Testing on Sample: 1.0\n",
            "[1. 1. 1. 1. 1.]\n",
            "Random Forest report :\n",
            "              precision    recall  f1-score   support\n",
            "\n",
            "        F23-       1.00      1.00      1.00      5932\n",
            "      F24-26       1.00      1.00      1.00      6082\n",
            "      F27-28       1.00      1.00      1.00      5975\n",
            "      F29-32       1.00      1.00      1.00      6026\n",
            "      F33-42       1.00      1.00      1.00      5917\n",
            "        F43+       1.00      1.00      1.00      6023\n",
            "        M22-       1.00      1.00      1.00      5913\n",
            "      M23-26       1.00      1.00      1.00      6134\n",
            "      M27-28       1.00      1.00      1.00      5897\n",
            "      M29-31       1.00      1.00      1.00      6066\n",
            "      M32-38       1.00      1.00      1.00      6014\n",
            "        M39+       1.00      1.00      1.00      6021\n",
            "\n",
            "    accuracy                           1.00     72000\n",
            "   macro avg       1.00      1.00      1.00     72000\n",
            "weighted avg       1.00      1.00      1.00     72000\n",
            "\n"
          ],
          "name": "stdout"
        }
      ]
    },
    {
      "cell_type": "code",
      "metadata": {
        "id": "vZ-NKqWixOLM",
        "colab_type": "code",
        "outputId": "23398008-96d4-446d-9994-f1578a2cb94d",
        "colab": {
          "base_uri": "https://localhost:8080/",
          "height": 415
        }
      },
      "source": [
        "# Random forest model using selectk best , \n",
        "from sklearn import ensemble\n",
        "rfc = ensemble.RandomForestClassifier(n_estimators=10, max_features= 5, max_depth=4)\n",
        "\n",
        "\n",
        "from sklearn.model_selection import train_test_split\n",
        "# Use train_test_split to create the necessary training and test groups\n",
        "X_train, X_test, y_train, y_test = train_test_split(features, y ,test_size=0.2, random_state=100)\n",
        "print('With 20% Holdout: ' + str(rfc.fit(X_train, y_train).score(X_test, y_test)))\n",
        "print('Testing on Sample: ' + str(rfc.fit(features, y).score(features, y)))\n",
        "\n",
        "\n",
        "# Cross validating using 10 folds  \n",
        "from sklearn.model_selection import cross_val_score\n",
        "print(cross_val_score(rfc, features, y, cv=5))\n",
        "\n",
        "\n",
        "from sklearn.metrics import classification_report\n",
        "print('Random Forest report :')\n",
        "print(classification_report(y_test, rfc.predict(X_test)))"
      ],
      "execution_count": 0,
      "outputs": [
        {
          "output_type": "stream",
          "text": [
            "With 20% Holdout: 0.9318333333333333\n",
            "Testing on Sample: 1.0\n",
            "[0.999375   1.         0.93513889 1.         0.99591667]\n",
            "Random Forest report :\n",
            "              precision    recall  f1-score   support\n",
            "\n",
            "        F23-       1.00      1.00      1.00      5932\n",
            "      F24-26       1.00      1.00      1.00      6082\n",
            "      F27-28       1.00      1.00      1.00      5975\n",
            "      F29-32       1.00      1.00      1.00      6026\n",
            "      F33-42       1.00      1.00      1.00      5917\n",
            "        F43+       1.00      1.00      1.00      6023\n",
            "        M22-       1.00      1.00      1.00      5913\n",
            "      M23-26       1.00      1.00      1.00      6134\n",
            "      M27-28       1.00      1.00      1.00      5897\n",
            "      M29-31       1.00      1.00      1.00      6066\n",
            "      M32-38       1.00      1.00      1.00      6014\n",
            "        M39+       1.00      1.00      1.00      6021\n",
            "\n",
            "    accuracy                           1.00     72000\n",
            "   macro avg       1.00      1.00      1.00     72000\n",
            "weighted avg       1.00      1.00      1.00     72000\n",
            "\n"
          ],
          "name": "stdout"
        }
      ]
    },
    {
      "cell_type": "markdown",
      "metadata": {
        "id": "wT0_8loFxgtF",
        "colab_type": "text"
      },
      "source": [
        ""
      ]
    },
    {
      "cell_type": "code",
      "metadata": {
        "id": "hqOtaPRKxhV8",
        "colab_type": "code",
        "outputId": "b77a62e7-f66f-483e-e665-99e5093fe1b2",
        "colab": {
          "base_uri": "https://localhost:8080/",
          "height": 104
        }
      },
      "source": [
        "# Decision Tree Gridsearch \n",
        "from sklearn.tree import DecisionTreeClassifier\n",
        "from sklearn.model_selection import GridSearchCV\n",
        "\n",
        "\n",
        "# Initialize the model\n",
        "decision_tree = DecisionTreeClassifier()\n",
        "\n",
        "# Set parameters for dtc\n",
        "params = [{'max_features': [7, 8, 9, 10],\n",
        "             'max_depth': [ 6, 7,8]}]\n",
        "\n",
        "\n",
        "\n",
        "# Search for the best paramters. \n",
        "decision_tree_grid = GridSearchCV(decision_tree, params, cv=2, verbose=1, n_jobs=-1)\n",
        "\n",
        "# Fit the grid and obtain results\n",
        "decision_tree_grid.fit(features, y)\n",
        "\n",
        "# Return best parameters and best score\n",
        "print(decision_tree_grid.best_params_)\n",
        "print(decision_tree_grid.best_score_)"
      ],
      "execution_count": 0,
      "outputs": [
        {
          "output_type": "stream",
          "text": [
            "Fitting 2 folds for each of 12 candidates, totalling 24 fits\n"
          ],
          "name": "stdout"
        },
        {
          "output_type": "stream",
          "text": [
            "[Parallel(n_jobs=-1)]: Using backend LokyBackend with 4 concurrent workers.\n",
            "[Parallel(n_jobs=-1)]: Done  24 out of  24 | elapsed:    8.5s finished\n"
          ],
          "name": "stderr"
        },
        {
          "output_type": "stream",
          "text": [
            "{'max_depth': 6, 'max_features': 9}\n",
            "1.0\n"
          ],
          "name": "stdout"
        }
      ]
    },
    {
      "cell_type": "code",
      "metadata": {
        "id": "6INGqK5EygLW",
        "colab_type": "code",
        "outputId": "1037e26a-5acb-4875-fbea-f1ae45dfc3e2",
        "colab": {
          "base_uri": "https://localhost:8080/",
          "height": 415
        }
      },
      "source": [
        "decision_tree = DecisionTreeClassifier( \n",
        "    criterion='entropy',\n",
        "    max_features=6,\n",
        "    max_depth=8)\n",
        "\n",
        "\n",
        "from sklearn.model_selection import train_test_split\n",
        "# Use train_test_split to create the necessary training and test groups\n",
        "X_train, X_test, y_train, y_test = train_test_split(features,y, test_size=0.2, random_state=20)\n",
        "print('With 20% Holdout: ' + str(decision_tree.fit(X_train, y_train).score(X_test, y_test)))\n",
        "print('Testing on Sample: ' + str(decision_tree.fit(features, y).score(features, y)))\n",
        "\n",
        "\n",
        "# Cross validating using 10 folds  \n",
        "from sklearn.model_selection import cross_val_score\n",
        "print(cross_val_score(decision_tree, features, y, cv=5))\n",
        "\n",
        "\n",
        "from sklearn.metrics import classification_report\n",
        "print('Decision Tree report :')\n",
        "print(classification_report(y_test, decision_tree.predict(X_test)))"
      ],
      "execution_count": 0,
      "outputs": [
        {
          "output_type": "stream",
          "text": [
            "With 20% Holdout: 0.9786666666666667\n",
            "Testing on Sample: 0.9465527777777778\n",
            "[0.97311111 0.93401389 0.99597222 0.98234722 0.88301389]\n",
            "Decision Tree report :\n",
            "              precision    recall  f1-score   support\n",
            "\n",
            "        F23-       1.00      1.00      1.00      5965\n",
            "      F24-26       1.00      1.00      1.00      5851\n",
            "      F27-28       1.00      1.00      1.00      5995\n",
            "      F29-32       1.00      1.00      1.00      6045\n",
            "      F33-42       1.00      1.00      1.00      5936\n",
            "        F43+       1.00      1.00      1.00      5979\n",
            "        M22-       1.00      1.00      1.00      6132\n",
            "      M23-26       1.00      1.00      1.00      6006\n",
            "      M27-28       1.00      1.00      1.00      6011\n",
            "      M29-31       0.64      1.00      0.78      6004\n",
            "      M32-38       0.84      0.47      0.60      6001\n",
            "        M39+       1.00      0.88      0.94      6075\n",
            "\n",
            "    accuracy                           0.95     72000\n",
            "   macro avg       0.96      0.95      0.94     72000\n",
            "weighted avg       0.96      0.95      0.94     72000\n",
            "\n"
          ],
          "name": "stdout"
        }
      ]
    },
    {
      "cell_type": "code",
      "metadata": {
        "id": "tDqYLV43zjyd",
        "colab_type": "code",
        "colab": {}
      },
      "source": [
        ""
      ],
      "execution_count": 0,
      "outputs": []
    },
    {
      "cell_type": "markdown",
      "metadata": {
        "id": "7daaoaXVzkiy",
        "colab_type": "text"
      },
      "source": [
        "### Naive Bayes"
      ]
    },
    {
      "cell_type": "code",
      "metadata": {
        "id": "cihwnftfzIdJ",
        "colab_type": "code",
        "outputId": "b4bc5715-5734-40bd-9c19-8f03b2c54cf1",
        "colab": {
          "base_uri": "https://localhost:8080/",
          "height": 415
        }
      },
      "source": [
        "from sklearn.metrics import roc_curve\n",
        "from sklearn.metrics import roc_auc_score\n",
        "from sklearn.naive_bayes import BernoulliNB\n",
        "from sklearn.model_selection import train_test_split\n",
        "\n",
        "\n",
        "# Instantiate our model and Fit our model to the data.\n",
        "bnb = BernoulliNB()\n",
        "bnb.fit(features, y)\n",
        "\n",
        "# Use train_test_split to create the necessary training and test groups\n",
        "X_train, X_test, y_train, y_test = train_test_split(features,y, test_size=0.3, random_state=200)\n",
        "print('With 20% Holdout: ' + str(bnb.fit(X_train, y_train).score(X_test, y_test)))\n",
        "print('Testing on Sample: ' + str(bnb.fit(features, y).score(features, y)))\n",
        "\n",
        "# Cross validating using 10 folds  \n",
        "from sklearn.model_selection import cross_val_score\n",
        "print(cross_val_score(bnb,features , y, cv=5))\n",
        "\n",
        "#Classification report \n",
        "from sklearn.metrics import classification_report\n",
        "print('Native Bayes Classification report :')\n",
        "print(classification_report(y_test, bnb.predict(X_test)))"
      ],
      "execution_count": 0,
      "outputs": [
        {
          "output_type": "stream",
          "text": [
            "With 20% Holdout: 0.18021296296296296\n",
            "Testing on Sample: 0.18036666666666668\n",
            "[0.17997222 0.17854167 0.18       0.18129167 0.18119444]\n",
            "Native Bayes Classification report :\n",
            "              precision    recall  f1-score   support\n",
            "\n",
            "        F23-       0.17      0.67      0.28      9031\n",
            "      F24-26       0.18      0.32      0.23      9085\n",
            "      F27-28       0.00      0.00      0.00      8971\n",
            "      F29-32       0.00      0.00      0.00      9016\n",
            "      F33-42       0.21      0.04      0.06      9024\n",
            "        F43+       0.30      0.05      0.09      8974\n",
            "        M22-       0.17      0.72      0.28      8896\n",
            "      M23-26       0.00      0.00      0.00      9054\n",
            "      M27-28       0.00      0.00      0.00      9133\n",
            "      M29-31       0.19      0.03      0.05      8965\n",
            "      M32-38       0.00      0.00      0.00      9005\n",
            "        M39+       0.19      0.34      0.24      8846\n",
            "\n",
            "    accuracy                           0.18    108000\n",
            "   macro avg       0.12      0.18      0.10    108000\n",
            "weighted avg       0.12      0.18      0.10    108000\n",
            "\n"
          ],
          "name": "stdout"
        }
      ]
    },
    {
      "cell_type": "code",
      "metadata": {
        "id": "Ko1eSBdAz5wc",
        "colab_type": "code",
        "outputId": "65da46c2-697e-4a36-8efa-c231a49ca164",
        "colab": {
          "base_uri": "https://localhost:8080/",
          "height": 415
        }
      },
      "source": [
        "# Gradient boosting model \n",
        "# Best Parameters from gridsearchcv \n",
        "params = {'n_estimators': 5,\n",
        "          'max_depth': 8,\n",
        "          'loss': 'deviance'}\n",
        "\n",
        "# Initialize and fit the model.\n",
        "gb = ensemble.GradientBoostingClassifier(**params)\n",
        "\n",
        "gb.fit(features,y)\n",
        "\n",
        "# Use train_test_split to create the necessary training and test groups\n",
        "X_train, X_test, y_train, y_test = train_test_split(features,y, test_size=0.2, random_state=20)\n",
        "print('With 20% Holdout: ' + str(gb.fit(X_train, y_train).score(X_test, y_test)))\n",
        "print('Testing on Sample: ' + str(gb.fit(features, y).score(features, y)))\n",
        "\n",
        "# Cross validating using 10 folds  \n",
        "from sklearn.model_selection import cross_val_score\n",
        "print(cross_val_score(gb, features, y, cv=3))\n",
        "\n",
        "from sklearn.metrics import classification_report\n",
        "print('Gradient Boosting report :')\n",
        "print(classification_report(y_test, gb.predict(X_test)))"
      ],
      "execution_count": 0,
      "outputs": [
        {
          "output_type": "stream",
          "text": [
            "With 20% Holdout: 1.0\n",
            "Testing on Sample: 1.0\n",
            "[1. 1. 1.]\n",
            "Gradient Boosting report :\n",
            "              precision    recall  f1-score   support\n",
            "\n",
            "        F23-       1.00      1.00      1.00      5965\n",
            "      F24-26       1.00      1.00      1.00      5851\n",
            "      F27-28       1.00      1.00      1.00      5995\n",
            "      F29-32       1.00      1.00      1.00      6045\n",
            "      F33-42       1.00      1.00      1.00      5936\n",
            "        F43+       1.00      1.00      1.00      5979\n",
            "        M22-       1.00      1.00      1.00      6132\n",
            "      M23-26       1.00      1.00      1.00      6006\n",
            "      M27-28       1.00      1.00      1.00      6011\n",
            "      M29-31       1.00      1.00      1.00      6004\n",
            "      M32-38       1.00      1.00      1.00      6001\n",
            "        M39+       1.00      1.00      1.00      6075\n",
            "\n",
            "    accuracy                           1.00     72000\n",
            "   macro avg       1.00      1.00      1.00     72000\n",
            "weighted avg       1.00      1.00      1.00     72000\n",
            "\n"
          ],
          "name": "stdout"
        }
      ]
    },
    {
      "cell_type": "code",
      "metadata": {
        "id": "urMUOykK0SF2",
        "colab_type": "code",
        "outputId": "a78f746f-7840-4454-b7f5-93e8b6d9dffe",
        "colab": {
          "base_uri": "https://localhost:8080/",
          "height": 415
        }
      },
      "source": [
        "# Gradient boosting model \n",
        "# Best Parameters from gridsearchcv \n",
        "params = {'n_estimators': 5,\n",
        "          'max_depth': 4,\n",
        "          'loss': 'deviance'}\n",
        "\n",
        "# Initialize and fit the model.\n",
        "gb = ensemble.GradientBoostingClassifier(**params)\n",
        "\n",
        "gb.fit(features,y)\n",
        "\n",
        "# Use train_test_split to create the necessary training and test groups\n",
        "X_train, X_test, y_train, y_test = train_test_split(features,y, test_size=0.2, random_state=20)\n",
        "print('With 20% Holdout: ' + str(gb.fit(X_train, y_train).score(X_test, y_test)))\n",
        "print('Testing on Sample: ' + str(gb.fit(features, y).score(features, y)))\n",
        "\n",
        "# Cross validating using 10 folds  \n",
        "from sklearn.model_selection import cross_val_score\n",
        "print(cross_val_score(gb, features, y, cv=3))\n",
        "\n",
        "from sklearn.metrics import classification_report\n",
        "print('Gradient Boosting report :')\n",
        "print(classification_report(y_test, gb.predict(X_test)))"
      ],
      "execution_count": 0,
      "outputs": [
        {
          "output_type": "stream",
          "text": [
            "With 20% Holdout: 1.0\n",
            "Testing on Sample: 1.0\n",
            "[1. 1. 1.]\n",
            "Gradient Boosting report :\n",
            "              precision    recall  f1-score   support\n",
            "\n",
            "        F23-       1.00      1.00      1.00      5965\n",
            "      F24-26       1.00      1.00      1.00      5851\n",
            "      F27-28       1.00      1.00      1.00      5995\n",
            "      F29-32       1.00      1.00      1.00      6045\n",
            "      F33-42       1.00      1.00      1.00      5936\n",
            "        F43+       1.00      1.00      1.00      5979\n",
            "        M22-       1.00      1.00      1.00      6132\n",
            "      M23-26       1.00      1.00      1.00      6006\n",
            "      M27-28       1.00      1.00      1.00      6011\n",
            "      M29-31       1.00      1.00      1.00      6004\n",
            "      M32-38       1.00      1.00      1.00      6001\n",
            "        M39+       1.00      1.00      1.00      6075\n",
            "\n",
            "    accuracy                           1.00     72000\n",
            "   macro avg       1.00      1.00      1.00     72000\n",
            "weighted avg       1.00      1.00      1.00     72000\n",
            "\n"
          ],
          "name": "stdout"
        }
      ]
    },
    {
      "cell_type": "code",
      "metadata": {
        "id": "l5Ef7f4S54JV",
        "colab_type": "code",
        "colab": {}
      },
      "source": [
        ""
      ],
      "execution_count": 0,
      "outputs": []
    },
    {
      "cell_type": "markdown",
      "metadata": {
        "id": "t27lwDsp55ee",
        "colab_type": "text"
      },
      "source": [
        "# Unsupervised Learning Methods"
      ]
    },
    {
      "cell_type": "code",
      "metadata": {
        "id": "y26UqNwF9vJI",
        "colab_type": "code",
        "colab": {}
      },
      "source": [
        "# Create X and y \n",
        "X = gender_full_sampled.drop(['group'], axis=1)\n",
        "Y = gender_full_sampled['group'].values"
      ],
      "execution_count": 0,
      "outputs": []
    },
    {
      "cell_type": "code",
      "metadata": {
        "id": "8s_uBj3d58YC",
        "colab_type": "code",
        "outputId": "50015b88-0020-40b0-d53b-78b4edaefd52",
        "colab": {
          "base_uri": "https://localhost:8080/",
          "height": 276
        }
      },
      "source": [
        "from sklearn.cluster import KMeans\n",
        "from sklearn.preprocessing import normalize\n",
        "from sklearn.decomposition import PCA\n",
        "from sklearn.cluster import MiniBatchKMeans\n",
        "from sklearn.model_selection import train_test_split\n",
        "\n",
        "# Create X and y \n",
        "X = gender_full_sampled.drop(['group'], axis=1)\n",
        "Y = gender_full_sampled['group'].values\n",
        "\n",
        "X_train, X_test, y_train, y_test = train_test_split(X, \n",
        "                                                    Y,\n",
        "                                                    test_size=0.25,\n",
        "                                                    random_state=0)\n",
        "\n",
        "#fitting the model with 12 clusters for 12 groups \n",
        "kmeans_pred = KMeans(n_clusters=12, random_state=42).fit_predict(X_train)\n",
        "\n",
        "#Print cross tab of data vs prediction\n",
        "print('Comparing K-Means Clusters to Demographics:')\n",
        "print(pd.crosstab(y_train, kmeans_pred))"
      ],
      "execution_count": 0,
      "outputs": [
        {
          "output_type": "stream",
          "text": [
            "Comparing K-Means Clusters to Authors:\n",
            "col_0     0     1     2     3     4     5     6     7     8     9     10    11\n",
            "row_0                                                                         \n",
            "F23-    1847  1802  1646  1672  2368  1769  1733  1400  1731  2456  2403  1508\n",
            "F24-26  1594  1928  1573  1714  2818  1668  1503  1508  1892  2464  2419  1571\n",
            "F27-28  1651  1698  1676  1769  2330  1563  1760  1781  1662  2537  2320  1765\n",
            "F29-32  1708  1776  1606  1870  2417  1877  1557  1580  1670  2321  2467  1585\n",
            "F33-42  1612  1717  1788  1713  2300  1812  1723  1777  1671  2270  2372  1718\n",
            "F43+    1646  2108  1892  1637  2512  1599  1728  1670  1806  1977  2102  2006\n",
            "M22-    1888  1816  1682  1612  2491  1633  1647  1447  1972  2328  2389  1616\n",
            "M23-26  1887  1731  1702  1736  2349  1669  1679  1533  1821  2457  2357  1513\n",
            "M27-28  1844  1583  1739  1827  2257  1644  1599  1384  1875  2631  2539  1551\n",
            "M29-31  1712  1657  1795  1795  2288  1650  1794  1543  1783  2522  2349  1633\n",
            "M32-38  1727  1706  1799  1885  2263  1708  1792  1448  1778  2491  2259  1618\n",
            "M39+    1920  1769  1734  1705  2295  1923  1687  1368  1783  2186  2477  1641\n"
          ],
          "name": "stdout"
        }
      ]
    },
    {
      "cell_type": "code",
      "metadata": {
        "id": "pMGxU4tb8SXl",
        "colab_type": "code",
        "outputId": "52e87220-fa5f-4582-c3a9-6520aff2277b",
        "colab": {
          "base_uri": "https://localhost:8080/",
          "height": 356
        }
      },
      "source": [
        "#Show authors categorized by cluster\n",
        "p_y = pd.crosstab(kmeans_pred, y_train)\n",
        "p_y.plot(kind='bar', stacked=False, figsize=[20,5])\n",
        "plt.xlabel('Cluster')\n",
        "plt.ylabel('Count')\n",
        "plt.show()"
      ],
      "execution_count": 0,
      "outputs": [
        {
          "output_type": "display_data",
          "data": {
            "image/png": "[encoded data removed]",
            "text/plain": [
              "<Figure size 1440x360 with 1 Axes>"
            ]
          },
          "metadata": {
            "tags": []
          }
        }
      ]
    },
    {
      "cell_type": "code",
      "metadata": {
        "id": "okH7M6XPXY-L",
        "colab_type": "code",
        "outputId": "ca2febac-b97a-49f8-fd73-84170b050f49",
        "colab": {
          "base_uri": "https://localhost:8080/",
          "height": 35
        }
      },
      "source": [
        "from sklearn import metrics\n",
        "from sklearn.metrics import pairwise_distances\n",
        "\n",
        "model = KMeans(n_clusters=12, random_state=42).fit_predict(X_train)\n",
        "\n",
        "\n",
        "print(metrics.silhouette_score(X_train, model, metric='euclidean'))\n",
        "\n",
        "\n"
      ],
      "execution_count": 0,
      "outputs": [
        {
          "output_type": "stream",
          "text": [
            "0.37761587941482705\n"
          ],
          "name": "stdout"
        }
      ]
    },
    {
      "cell_type": "code",
      "metadata": {
        "colab_type": "code",
        "id": "ynZNAR1GMl35",
        "colab": {}
      },
      "source": [
        "#Declare and fit the model.\n",
        "\n",
        "# need to make smaller due to crashing and using all of ram \n",
        "from sklearn.cluster import SpectralClustering\n",
        "\n",
        "from sklearn.preprocessing import normalize\n",
        "from sklearn.decomposition import PCA\n",
        "from sklearn.cluster import MiniBatchKMeans\n",
        "from sklearn.model_selection import train_test_split\n",
        "\n",
        "# Create X and y \n",
        "X = gender_full_sampled.drop(['group'], axis=1)\n",
        "Y = gender_full_sampled['group'].values\n",
        "\n",
        "\n",
        "X_train, X_test, y_train, y_test = train_test_split(X, \n",
        "                                                    Y,\n",
        "                                                    test_size=0.25,\n",
        "                                                    random_state=0)\n",
        "spectral_pred = SpectralClustering(n_clusters=12).fit_predict(X_train)\n",
        "\n",
        "#Print cross tab of data vs prediction\n",
        "print('Comparing Spectral Clusters to Demographic Groups:')\n",
        "print(pd.crosstab(y_train, spectral_pred))"
      ],
      "execution_count": 0,
      "outputs": []
    },
    {
      "cell_type": "code",
      "metadata": {
        "id": "jCYE6JkNFMUl",
        "colab_type": "code",
        "outputId": "726f8ebb-4ac9-4311-ba7a-16e4b5b904e5",
        "colab": {
          "base_uri": "https://localhost:8080/",
          "height": 372
        }
      },
      "source": [
        "#Show authors categorized by cluster\n",
        "prediction = pd.crosstab(spectral_pred, y_train)\n",
        "prediction.plot(kind='bar', stacked=False, figsize=[20,5])\n",
        "plt.title('Demographic Groups Categorized by Spectral Clusters')\n",
        "plt.xlabel('Cluster')\n",
        "plt.ylabel('Count')\n",
        "plt.show()"
      ],
      "execution_count": 0,
      "outputs": [
        {
          "output_type": "display_data",
          "data": {
            "image/png": "[encoded data removed]",
            "text/plain": [
              "<Figure size 1440x360 with 1 Axes>"
            ]
          },
          "metadata": {
            "tags": []
          }
        }
      ]
    },
    {
      "cell_type": "code",
      "metadata": {
        "id": "5LA5jiaIFXBv",
        "colab_type": "code",
        "colab": {}
      },
      "source": [
        ""
      ],
      "execution_count": 0,
      "outputs": []
    },
    {
      "cell_type": "code",
      "metadata": {
        "id": "JwUZKGinG0NC",
        "colab_type": "code",
        "colab": {}
      },
      "source": [
        ""
      ],
      "execution_count": 0,
      "outputs": []
    },
    {
      "cell_type": "markdown",
      "metadata": {
        "id": "vCcZfvMFG07i",
        "colab_type": "text"
      },
      "source": [
        "# Deep Learning\n"
      ]
    },
    {
      "cell_type": "code",
      "metadata": {
        "id": "MoIzcuAqG4fq",
        "colab_type": "code",
        "colab": {}
      },
      "source": [
        "\n",
        "import tensorflow as tf\n",
        "import keras\n",
        "\n",
        "# Import various componenets for model building\n",
        "from keras.models import Sequential\n",
        "from keras.layers import Dense, Dropout, Flatten, Conv1D, MaxPooling1D, MaxoutDense\n",
        "from keras.models import Model\n",
        "from keras.preprocessing import sequence\n",
        "from keras.optimizers import RMSprop, Adam, SGD, Adagrad\n",
        "from keras.utils import np_utils\n",
        "from keras.utils import to_categorical\n",
        "from keras.layers.normalization import BatchNormalization\n",
        "\n",
        "# Import the backend\n",
        "from keras import backend as K"
      ],
      "execution_count": 0,
      "outputs": []
    },
    {
      "cell_type": "code",
      "metadata": {
        "id": "YAGpqU9iL59N",
        "colab_type": "code",
        "outputId": "2ab0b514-43d0-40e5-b1bb-c1cfa3db4eb1",
        "colab": {
          "base_uri": "https://localhost:8080/",
          "height": 334
        }
      },
      "source": [
        "\n",
        "# Prepare to encode group since ANN doesn't like string data in y group.\n",
        "dl_genderfull = gender_full_sampled\n",
        "\n",
        "# Build numerical labels for our models\n",
        "groupencoder = LabelEncoder().fit(dl_genderfull['group'])\n",
        "\n",
        "# Store in a new column\n",
        "dl_genderfull['encoded_group'] = groupencoder.transform(dl_genderfull['group'])\n",
        "\n",
        "dl_genderfull.head()"
      ],
      "execution_count": 0,
      "outputs": [
        {
          "output_type": "execute_result",
          "data": {
            "text/html": [
              "<div>\n",
              "<style scoped>\n",
              "    .dataframe tbody tr th:only-of-type {\n",
              "        vertical-align: middle;\n",
              "    }\n",
              "\n",
              "    .dataframe tbody tr th {\n",
              "        vertical-align: top;\n",
              "    }\n",
              "\n",
              "    .dataframe thead th {\n",
              "        text-align: right;\n",
              "    }\n",
              "</style>\n",
              "<table border=\"1\" class=\"dataframe\">\n",
              "  <thead>\n",
              "    <tr style=\"text-align: right;\">\n",
              "      <th></th>\n",
              "      <th>device_id</th>\n",
              "      <th>gender</th>\n",
              "      <th>age</th>\n",
              "      <th>group</th>\n",
              "      <th>app_id</th>\n",
              "      <th>is_active</th>\n",
              "      <th>encoded_model</th>\n",
              "      <th>label_id</th>\n",
              "      <th>2</th>\n",
              "      <th>4</th>\n",
              "      <th>6</th>\n",
              "      <th>7</th>\n",
              "      <th>8</th>\n",
              "      <th>9</th>\n",
              "      <th>10</th>\n",
              "      <th>11</th>\n",
              "      <th>12</th>\n",
              "      <th>13</th>\n",
              "      <th>14</th>\n",
              "      <th>16</th>\n",
              "      <th>17</th>\n",
              "      <th>18</th>\n",
              "      <th>19</th>\n",
              "      <th>20</th>\n",
              "      <th>21</th>\n",
              "      <th>22</th>\n",
              "      <th>23</th>\n",
              "      <th>24</th>\n",
              "      <th>25</th>\n",
              "      <th>26</th>\n",
              "      <th>27</th>\n",
              "      <th>29</th>\n",
              "      <th>30</th>\n",
              "      <th>31</th>\n",
              "      <th>32</th>\n",
              "      <th>33</th>\n",
              "      <th>35</th>\n",
              "      <th>36</th>\n",
              "      <th>37</th>\n",
              "      <th>38</th>\n",
              "      <th>...</th>\n",
              "      <th>974</th>\n",
              "      <th>975</th>\n",
              "      <th>976</th>\n",
              "      <th>977</th>\n",
              "      <th>978</th>\n",
              "      <th>980</th>\n",
              "      <th>982</th>\n",
              "      <th>983</th>\n",
              "      <th>984</th>\n",
              "      <th>986</th>\n",
              "      <th>987</th>\n",
              "      <th>988</th>\n",
              "      <th>990</th>\n",
              "      <th>991</th>\n",
              "      <th>993</th>\n",
              "      <th>995</th>\n",
              "      <th>996</th>\n",
              "      <th>997</th>\n",
              "      <th>998</th>\n",
              "      <th>999</th>\n",
              "      <th>1002</th>\n",
              "      <th>1003</th>\n",
              "      <th>1005</th>\n",
              "      <th>1006</th>\n",
              "      <th>1007</th>\n",
              "      <th>1008</th>\n",
              "      <th>1009</th>\n",
              "      <th>1010</th>\n",
              "      <th>1011</th>\n",
              "      <th>1012</th>\n",
              "      <th>1013</th>\n",
              "      <th>1014</th>\n",
              "      <th>1015</th>\n",
              "      <th>1016</th>\n",
              "      <th>1017</th>\n",
              "      <th>1018</th>\n",
              "      <th>1019</th>\n",
              "      <th>1020</th>\n",
              "      <th>1021</th>\n",
              "      <th>encoded_group</th>\n",
              "    </tr>\n",
              "  </thead>\n",
              "  <tbody>\n",
              "    <tr>\n",
              "      <th>7654809</th>\n",
              "      <td>6391094174250536901</td>\n",
              "      <td>1</td>\n",
              "      <td>26</td>\n",
              "      <td>M23-26</td>\n",
              "      <td>3722410295315095646</td>\n",
              "      <td>0</td>\n",
              "      <td>857</td>\n",
              "      <td>704</td>\n",
              "      <td>0</td>\n",
              "      <td>0</td>\n",
              "      <td>0</td>\n",
              "      <td>0</td>\n",
              "      <td>0</td>\n",
              "      <td>0</td>\n",
              "      <td>0</td>\n",
              "      <td>0</td>\n",
              "      <td>0</td>\n",
              "      <td>0</td>\n",
              "      <td>0</td>\n",
              "      <td>0</td>\n",
              "      <td>0</td>\n",
              "      <td>0</td>\n",
              "      <td>0</td>\n",
              "      <td>0</td>\n",
              "      <td>0</td>\n",
              "      <td>0</td>\n",
              "      <td>0</td>\n",
              "      <td>0</td>\n",
              "      <td>0</td>\n",
              "      <td>0</td>\n",
              "      <td>0</td>\n",
              "      <td>0</td>\n",
              "      <td>0</td>\n",
              "      <td>0</td>\n",
              "      <td>0</td>\n",
              "      <td>0</td>\n",
              "      <td>0</td>\n",
              "      <td>0</td>\n",
              "      <td>0</td>\n",
              "      <td>0</td>\n",
              "      <td>...</td>\n",
              "      <td>0</td>\n",
              "      <td>0</td>\n",
              "      <td>0</td>\n",
              "      <td>0</td>\n",
              "      <td>0</td>\n",
              "      <td>0</td>\n",
              "      <td>0</td>\n",
              "      <td>0</td>\n",
              "      <td>0</td>\n",
              "      <td>0</td>\n",
              "      <td>0</td>\n",
              "      <td>0</td>\n",
              "      <td>0</td>\n",
              "      <td>0</td>\n",
              "      <td>0</td>\n",
              "      <td>0</td>\n",
              "      <td>0</td>\n",
              "      <td>0</td>\n",
              "      <td>0</td>\n",
              "      <td>0</td>\n",
              "      <td>0</td>\n",
              "      <td>0</td>\n",
              "      <td>0</td>\n",
              "      <td>0</td>\n",
              "      <td>0</td>\n",
              "      <td>0</td>\n",
              "      <td>0</td>\n",
              "      <td>0</td>\n",
              "      <td>0</td>\n",
              "      <td>0</td>\n",
              "      <td>0</td>\n",
              "      <td>0</td>\n",
              "      <td>0</td>\n",
              "      <td>0</td>\n",
              "      <td>0</td>\n",
              "      <td>0</td>\n",
              "      <td>0</td>\n",
              "      <td>0</td>\n",
              "      <td>0</td>\n",
              "      <td>7</td>\n",
              "    </tr>\n",
              "    <tr>\n",
              "      <th>10659061</th>\n",
              "      <td>-7924701358100587813</td>\n",
              "      <td>1</td>\n",
              "      <td>26</td>\n",
              "      <td>M23-26</td>\n",
              "      <td>-1596342834117879984</td>\n",
              "      <td>0</td>\n",
              "      <td>863</td>\n",
              "      <td>548</td>\n",
              "      <td>0</td>\n",
              "      <td>0</td>\n",
              "      <td>0</td>\n",
              "      <td>0</td>\n",
              "      <td>0</td>\n",
              "      <td>0</td>\n",
              "      <td>0</td>\n",
              "      <td>0</td>\n",
              "      <td>0</td>\n",
              "      <td>0</td>\n",
              "      <td>0</td>\n",
              "      <td>0</td>\n",
              "      <td>0</td>\n",
              "      <td>0</td>\n",
              "      <td>0</td>\n",
              "      <td>0</td>\n",
              "      <td>0</td>\n",
              "      <td>0</td>\n",
              "      <td>0</td>\n",
              "      <td>0</td>\n",
              "      <td>0</td>\n",
              "      <td>0</td>\n",
              "      <td>0</td>\n",
              "      <td>0</td>\n",
              "      <td>0</td>\n",
              "      <td>0</td>\n",
              "      <td>0</td>\n",
              "      <td>0</td>\n",
              "      <td>0</td>\n",
              "      <td>0</td>\n",
              "      <td>0</td>\n",
              "      <td>0</td>\n",
              "      <td>...</td>\n",
              "      <td>0</td>\n",
              "      <td>0</td>\n",
              "      <td>0</td>\n",
              "      <td>0</td>\n",
              "      <td>0</td>\n",
              "      <td>0</td>\n",
              "      <td>0</td>\n",
              "      <td>0</td>\n",
              "      <td>0</td>\n",
              "      <td>0</td>\n",
              "      <td>0</td>\n",
              "      <td>0</td>\n",
              "      <td>0</td>\n",
              "      <td>0</td>\n",
              "      <td>0</td>\n",
              "      <td>0</td>\n",
              "      <td>0</td>\n",
              "      <td>0</td>\n",
              "      <td>0</td>\n",
              "      <td>0</td>\n",
              "      <td>0</td>\n",
              "      <td>0</td>\n",
              "      <td>0</td>\n",
              "      <td>0</td>\n",
              "      <td>0</td>\n",
              "      <td>0</td>\n",
              "      <td>0</td>\n",
              "      <td>0</td>\n",
              "      <td>0</td>\n",
              "      <td>0</td>\n",
              "      <td>0</td>\n",
              "      <td>0</td>\n",
              "      <td>0</td>\n",
              "      <td>0</td>\n",
              "      <td>0</td>\n",
              "      <td>0</td>\n",
              "      <td>0</td>\n",
              "      <td>0</td>\n",
              "      <td>0</td>\n",
              "      <td>7</td>\n",
              "    </tr>\n",
              "    <tr>\n",
              "      <th>8373821</th>\n",
              "      <td>-8930344956501495392</td>\n",
              "      <td>1</td>\n",
              "      <td>23</td>\n",
              "      <td>M23-26</td>\n",
              "      <td>-3943652190894535955</td>\n",
              "      <td>0</td>\n",
              "      <td>1334</td>\n",
              "      <td>407</td>\n",
              "      <td>0</td>\n",
              "      <td>0</td>\n",
              "      <td>0</td>\n",
              "      <td>0</td>\n",
              "      <td>0</td>\n",
              "      <td>0</td>\n",
              "      <td>0</td>\n",
              "      <td>0</td>\n",
              "      <td>0</td>\n",
              "      <td>0</td>\n",
              "      <td>0</td>\n",
              "      <td>0</td>\n",
              "      <td>0</td>\n",
              "      <td>0</td>\n",
              "      <td>0</td>\n",
              "      <td>0</td>\n",
              "      <td>0</td>\n",
              "      <td>0</td>\n",
              "      <td>0</td>\n",
              "      <td>0</td>\n",
              "      <td>0</td>\n",
              "      <td>0</td>\n",
              "      <td>0</td>\n",
              "      <td>0</td>\n",
              "      <td>0</td>\n",
              "      <td>0</td>\n",
              "      <td>0</td>\n",
              "      <td>0</td>\n",
              "      <td>0</td>\n",
              "      <td>0</td>\n",
              "      <td>0</td>\n",
              "      <td>0</td>\n",
              "      <td>...</td>\n",
              "      <td>0</td>\n",
              "      <td>0</td>\n",
              "      <td>0</td>\n",
              "      <td>0</td>\n",
              "      <td>0</td>\n",
              "      <td>0</td>\n",
              "      <td>0</td>\n",
              "      <td>0</td>\n",
              "      <td>0</td>\n",
              "      <td>0</td>\n",
              "      <td>0</td>\n",
              "      <td>0</td>\n",
              "      <td>0</td>\n",
              "      <td>0</td>\n",
              "      <td>0</td>\n",
              "      <td>0</td>\n",
              "      <td>0</td>\n",
              "      <td>0</td>\n",
              "      <td>0</td>\n",
              "      <td>0</td>\n",
              "      <td>0</td>\n",
              "      <td>0</td>\n",
              "      <td>0</td>\n",
              "      <td>0</td>\n",
              "      <td>0</td>\n",
              "      <td>0</td>\n",
              "      <td>0</td>\n",
              "      <td>0</td>\n",
              "      <td>0</td>\n",
              "      <td>0</td>\n",
              "      <td>0</td>\n",
              "      <td>0</td>\n",
              "      <td>0</td>\n",
              "      <td>0</td>\n",
              "      <td>0</td>\n",
              "      <td>0</td>\n",
              "      <td>0</td>\n",
              "      <td>0</td>\n",
              "      <td>0</td>\n",
              "      <td>7</td>\n",
              "    </tr>\n",
              "    <tr>\n",
              "      <th>12804025</th>\n",
              "      <td>-7616175892068103491</td>\n",
              "      <td>1</td>\n",
              "      <td>24</td>\n",
              "      <td>M23-26</td>\n",
              "      <td>-653184325010919369</td>\n",
              "      <td>0</td>\n",
              "      <td>1659</td>\n",
              "      <td>251</td>\n",
              "      <td>0</td>\n",
              "      <td>0</td>\n",
              "      <td>0</td>\n",
              "      <td>0</td>\n",
              "      <td>0</td>\n",
              "      <td>0</td>\n",
              "      <td>0</td>\n",
              "      <td>0</td>\n",
              "      <td>0</td>\n",
              "      <td>0</td>\n",
              "      <td>0</td>\n",
              "      <td>0</td>\n",
              "      <td>0</td>\n",
              "      <td>0</td>\n",
              "      <td>0</td>\n",
              "      <td>0</td>\n",
              "      <td>0</td>\n",
              "      <td>0</td>\n",
              "      <td>0</td>\n",
              "      <td>0</td>\n",
              "      <td>0</td>\n",
              "      <td>0</td>\n",
              "      <td>0</td>\n",
              "      <td>0</td>\n",
              "      <td>0</td>\n",
              "      <td>0</td>\n",
              "      <td>0</td>\n",
              "      <td>0</td>\n",
              "      <td>0</td>\n",
              "      <td>0</td>\n",
              "      <td>0</td>\n",
              "      <td>0</td>\n",
              "      <td>...</td>\n",
              "      <td>0</td>\n",
              "      <td>0</td>\n",
              "      <td>0</td>\n",
              "      <td>0</td>\n",
              "      <td>0</td>\n",
              "      <td>0</td>\n",
              "      <td>0</td>\n",
              "      <td>0</td>\n",
              "      <td>0</td>\n",
              "      <td>0</td>\n",
              "      <td>0</td>\n",
              "      <td>0</td>\n",
              "      <td>0</td>\n",
              "      <td>0</td>\n",
              "      <td>0</td>\n",
              "      <td>0</td>\n",
              "      <td>0</td>\n",
              "      <td>0</td>\n",
              "      <td>0</td>\n",
              "      <td>0</td>\n",
              "      <td>0</td>\n",
              "      <td>0</td>\n",
              "      <td>0</td>\n",
              "      <td>0</td>\n",
              "      <td>0</td>\n",
              "      <td>0</td>\n",
              "      <td>0</td>\n",
              "      <td>0</td>\n",
              "      <td>0</td>\n",
              "      <td>0</td>\n",
              "      <td>0</td>\n",
              "      <td>0</td>\n",
              "      <td>0</td>\n",
              "      <td>0</td>\n",
              "      <td>0</td>\n",
              "      <td>0</td>\n",
              "      <td>0</td>\n",
              "      <td>0</td>\n",
              "      <td>0</td>\n",
              "      <td>7</td>\n",
              "    </tr>\n",
              "    <tr>\n",
              "      <th>11569255</th>\n",
              "      <td>4585428206812872117</td>\n",
              "      <td>1</td>\n",
              "      <td>26</td>\n",
              "      <td>M23-26</td>\n",
              "      <td>-8271866350659046570</td>\n",
              "      <td>0</td>\n",
              "      <td>735</td>\n",
              "      <td>774</td>\n",
              "      <td>0</td>\n",
              "      <td>0</td>\n",
              "      <td>0</td>\n",
              "      <td>0</td>\n",
              "      <td>0</td>\n",
              "      <td>0</td>\n",
              "      <td>0</td>\n",
              "      <td>0</td>\n",
              "      <td>0</td>\n",
              "      <td>0</td>\n",
              "      <td>0</td>\n",
              "      <td>0</td>\n",
              "      <td>0</td>\n",
              "      <td>0</td>\n",
              "      <td>0</td>\n",
              "      <td>0</td>\n",
              "      <td>0</td>\n",
              "      <td>0</td>\n",
              "      <td>0</td>\n",
              "      <td>0</td>\n",
              "      <td>0</td>\n",
              "      <td>0</td>\n",
              "      <td>0</td>\n",
              "      <td>0</td>\n",
              "      <td>0</td>\n",
              "      <td>0</td>\n",
              "      <td>0</td>\n",
              "      <td>0</td>\n",
              "      <td>0</td>\n",
              "      <td>0</td>\n",
              "      <td>0</td>\n",
              "      <td>0</td>\n",
              "      <td>...</td>\n",
              "      <td>0</td>\n",
              "      <td>0</td>\n",
              "      <td>0</td>\n",
              "      <td>0</td>\n",
              "      <td>0</td>\n",
              "      <td>0</td>\n",
              "      <td>0</td>\n",
              "      <td>0</td>\n",
              "      <td>0</td>\n",
              "      <td>0</td>\n",
              "      <td>0</td>\n",
              "      <td>0</td>\n",
              "      <td>0</td>\n",
              "      <td>0</td>\n",
              "      <td>0</td>\n",
              "      <td>0</td>\n",
              "      <td>0</td>\n",
              "      <td>0</td>\n",
              "      <td>0</td>\n",
              "      <td>0</td>\n",
              "      <td>0</td>\n",
              "      <td>0</td>\n",
              "      <td>0</td>\n",
              "      <td>0</td>\n",
              "      <td>0</td>\n",
              "      <td>0</td>\n",
              "      <td>0</td>\n",
              "      <td>0</td>\n",
              "      <td>0</td>\n",
              "      <td>0</td>\n",
              "      <td>0</td>\n",
              "      <td>0</td>\n",
              "      <td>0</td>\n",
              "      <td>0</td>\n",
              "      <td>0</td>\n",
              "      <td>0</td>\n",
              "      <td>0</td>\n",
              "      <td>0</td>\n",
              "      <td>0</td>\n",
              "      <td>7</td>\n",
              "    </tr>\n",
              "  </tbody>\n",
              "</table>\n",
              "<p>5 rows × 494 columns</p>\n",
              "</div>"
            ],
            "text/plain": [
              "                    device_id  gender  age  ... 1020  1021  encoded_group\n",
              "7654809   6391094174250536901       1   26  ...    0     0              7\n",
              "10659061 -7924701358100587813       1   26  ...    0     0              7\n",
              "8373821  -8930344956501495392       1   23  ...    0     0              7\n",
              "12804025 -7616175892068103491       1   24  ...    0     0              7\n",
              "11569255  4585428206812872117       1   26  ...    0     0              7\n",
              "\n",
              "[5 rows x 494 columns]"
            ]
          },
          "metadata": {
            "tags": []
          },
          "execution_count": 41
        }
      ]
    },
    {
      "cell_type": "code",
      "metadata": {
        "id": "47PyBwTQL84J",
        "colab_type": "code",
        "colab": {}
      },
      "source": [
        "from sklearn.decomposition import PCA\n",
        "\n",
        "# Recreate the test and training set since encoded group is now the target.\n",
        "X3 = dl_genderfull.drop(['group'], axis=1)\n",
        "Y3 = dl_genderfull['encoded_group'].values\n",
        "\n",
        "# Instantiate StandardScaler \n",
        "ss = StandardScaler()\n",
        "\n",
        "# Set up the variables.\n",
        "prep_X2 = X3\n",
        "\n",
        "# Standarize and fit the data first \n",
        "stand_x2 = ss.fit_transform(prep_X2)\n",
        "\n",
        "\n",
        "# Create a new training and testing set\n",
        "X_train3, X_test3, y_train3, y_test3 = train_test_split(X, Y3, test_size=0.25)"
      ],
      "execution_count": 0,
      "outputs": []
    },
    {
      "cell_type": "code",
      "metadata": {
        "id": "KEb5ZLnsMCa6",
        "colab_type": "code",
        "outputId": "fb3e095a-3a71-4d17-c4e0-7e10b94a3166",
        "colab": {
          "base_uri": "https://localhost:8080/",
          "height": 881
        }
      },
      "source": [
        "# Start with a simple sequential model.\n",
        "model = Sequential()\n",
        "\n",
        "# Add dense layers to create a fully connected MLP\n",
        "# Note that we specify an input shape for the first layer, but only the first layer.\n",
        "# Relu is the activation function used\n",
        "model.add(Dense(128, activation='elu', input_shape=(492,)))\n",
        "# Dropout layers remove features and fight overfitting\n",
        "model.add(Dropout(0.1))\n",
        "model.add(Dense(64, activation='elu'))\n",
        "model.add(BatchNormalization())\n",
        "model.add(Dropout(0.3))\n",
        "model.add(Dense(64, activation='elu'))\n",
        "model.add(BatchNormalization())\n",
        "model.add(Dropout(0.3))\n",
        "model.add(Dense(64, activation='elu'))\n",
        "model.add(BatchNormalization())\n",
        "model.add(Dropout(0.5))\n",
        "model.add(Dense(64, activation='elu'))\n",
        "model.add(BatchNormalization())\n",
        "model.add(Dropout(0.5))\n",
        "model.add(Dense(64, activation='elu'))\n",
        "model.add(BatchNormalization())\n",
        "model.add(Dropout(0.5))\n",
        "model.add(Dense(64, activation='elu'))\n",
        "model.add(BatchNormalization())\n",
        "model.add(Dropout(0.3))\n",
        "\n",
        "# End with a number of units equal to the number of classes we have for our outcome\n",
        "model.add(Dense(12, activation='softmax'))\n",
        "\n",
        "\n",
        "model.summary()\n",
        "\n",
        "# Compile the model to put it all together.\n",
        "model.compile(loss='sparse_categorical_crossentropy',\n",
        "              optimizer=Adam(),\n",
        "              metrics=['accuracy'])"
      ],
      "execution_count": 0,
      "outputs": [
        {
          "output_type": "stream",
          "text": [
            "Model: \"sequential_2\"\n",
            "_________________________________________________________________\n",
            "Layer (type)                 Output Shape              Param #   \n",
            "=================================================================\n",
            "dense_9 (Dense)              (None, 128)               63104     \n",
            "_________________________________________________________________\n",
            "dropout_8 (Dropout)          (None, 128)               0         \n",
            "_________________________________________________________________\n",
            "dense_10 (Dense)             (None, 64)                8256      \n",
            "_________________________________________________________________\n",
            "batch_normalization_7 (Batch (None, 64)                256       \n",
            "_________________________________________________________________\n",
            "dropout_9 (Dropout)          (None, 64)                0         \n",
            "_________________________________________________________________\n",
            "dense_11 (Dense)             (None, 64)                4160      \n",
            "_________________________________________________________________\n",
            "batch_normalization_8 (Batch (None, 64)                256       \n",
            "_________________________________________________________________\n",
            "dropout_10 (Dropout)         (None, 64)                0         \n",
            "_________________________________________________________________\n",
            "dense_12 (Dense)             (None, 64)                4160      \n",
            "_________________________________________________________________\n",
            "batch_normalization_9 (Batch (None, 64)                256       \n",
            "_________________________________________________________________\n",
            "dropout_11 (Dropout)         (None, 64)                0         \n",
            "_________________________________________________________________\n",
            "dense_13 (Dense)             (None, 64)                4160      \n",
            "_________________________________________________________________\n",
            "batch_normalization_10 (Batc (None, 64)                256       \n",
            "_________________________________________________________________\n",
            "dropout_12 (Dropout)         (None, 64)                0         \n",
            "_________________________________________________________________\n",
            "dense_14 (Dense)             (None, 64)                4160      \n",
            "_________________________________________________________________\n",
            "batch_normalization_11 (Batc (None, 64)                256       \n",
            "_________________________________________________________________\n",
            "dropout_13 (Dropout)         (None, 64)                0         \n",
            "_________________________________________________________________\n",
            "dense_15 (Dense)             (None, 64)                4160      \n",
            "_________________________________________________________________\n",
            "batch_normalization_12 (Batc (None, 64)                256       \n",
            "_________________________________________________________________\n",
            "dropout_14 (Dropout)         (None, 64)                0         \n",
            "_________________________________________________________________\n",
            "dense_16 (Dense)             (None, 12)                780       \n",
            "=================================================================\n",
            "Total params: 94,476\n",
            "Trainable params: 93,708\n",
            "Non-trainable params: 768\n",
            "_________________________________________________________________\n"
          ],
          "name": "stdout"
        }
      ]
    },
    {
      "cell_type": "code",
      "metadata": {
        "id": "6mvesUKpY30n",
        "colab_type": "code",
        "colab": {}
      },
      "source": [
        "\n",
        "history = model.fit(X_train3, y_train3,\n",
        "                    batch_size=1250,\n",
        "                    epochs=20,\n",
        "                    verbose=1,\n",
        "                    validation_data=(X_test3, y_test3))\n",
        "\n",
        "score = model.evaluate(X_test3, y_test3, verbose=0)\n",
        "print('Test loss:', score[0])\n",
        "print('Test accuracy:', score[1])"
      ],
      "execution_count": 0,
      "outputs": []
    },
    {
      "cell_type": "markdown",
      "metadata": {
        "id": "otmZCt7hqnxN",
        "colab_type": "text"
      },
      "source": [
        ""
      ]
    },
    {
      "cell_type": "code",
      "metadata": {
        "id": "-CRgp95DSrh1",
        "colab_type": "code",
        "outputId": "c70da6a8-f61a-4005-d770-33d55196b5d4",
        "colab": {
          "base_uri": "https://localhost:8080/",
          "height": 1000
        }
      },
      "source": [
        "#Convolutional Neural Network\n",
        "\n",
        "# Create a smaller data set of the previous encoded group.\n",
        "X3_mini = X3[:100000]\n",
        "Y3_mini = Y3[:100000]\n",
        "\n",
        "# Create a new training and testing set again.\n",
        "X_train4, X_test4, y_train4, y_test4 = train_test_split(X3_mini, Y3_mini, test_size=0.25)\n",
        "\n",
        "# Increase the dimensional size of X_train/test_pca\n",
        "# in order for Conv1d to run smoothly.\n",
        "X_train_pca_mod = np.expand_dims(X_train4, axis=2)\n",
        "X_test_pca_mod = np.expand_dims(X_test4, axis=2)\n",
        "\n",
        "# Encode y into 12 different vectors for CNN.\n",
        "y_train_CNN = np_utils.to_categorical(y_train4, 12)\n",
        "y_test_CNN = np_utils.to_categorical(y_test4, 12)\n",
        "\n",
        "# Building the Convolutionals Model\n",
        "model = Sequential()\n",
        "\n",
        "# Set up some parameters\n",
        "input_dim = 1\n",
        "\n",
        "# Convert X_train and X_test to numpy array and make sure all sequences\n",
        "# have the same length.\n",
        "max_review_length = 500 \n",
        "X_train_CNN = sequence.pad_sequences(X_train_pca_mod, maxlen=max_review_length) \n",
        "X_test_CNN = sequence.pad_sequences(X_test_pca_mod, maxlen=max_review_length)\n",
        "\n",
        "\n",
        "# First convolutional layer, note the specification of shape\n",
        "model.add(Conv1D(64, kernel_size=10,\n",
        "                 padding='same',\n",
        "                 input_shape=(max_review_length, input_dim),\n",
        "                 activation='elu',\n",
        "                 strides=1))\n",
        "model.add(Conv1D(64, kernel_size=20, activation='elu'))\n",
        "model.add(BatchNormalization())\n",
        "model.add(Conv1D(32, kernel_size=15, activation='elu'))\n",
        "model.add(MaxPooling1D(pool_size=15,\n",
        "                       padding='same'))\n",
        "model.add(BatchNormalization())\n",
        "model.add(Dropout(0.25))\n",
        "model.add(Conv1D(32, kernel_size=20, activation='elu'))\n",
        "model.add(BatchNormalization())\n",
        "model.add(Conv1D(32, kernel_size=10, activation='elu'))\n",
        "model.add(MaxPooling1D(pool_size=25,\n",
        "                       padding='same'))\n",
        "model.add(BatchNormalization())\n",
        "model.add(Dropout(0.3))\n",
        "model.add(Flatten())\n",
        "model.add(MaxoutDense(32, nb_feature=12))\n",
        "model.add(BatchNormalization())\n",
        "model.add(Dropout(0.3))\n",
        "model.add(MaxoutDense(32, nb_feature=12))\n",
        "model.add(BatchNormalization())\n",
        "model.add(Dropout(0.5))\n",
        "model.add(MaxoutDense(32, nb_feature=12))\n",
        "model.add(BatchNormalization())\n",
        "model.add(Dropout(0.5))\n",
        "model.add(Dense(12, activation='softmax'))\n",
        "model.compile(loss=keras.losses.categorical_crossentropy,\n",
        "              optimizer=keras.optimizers.Adagrad(),\n",
        "              metrics=['accuracy'])\n",
        "\n",
        "model.summary()"
      ],
      "execution_count": 0,
      "outputs": [
        {
          "output_type": "stream",
          "text": [
            "WARNING:tensorflow:From /usr/local/lib/python3.6/dist-packages/keras/backend/tensorflow_backend.py:4267: The name tf.nn.max_pool is deprecated. Please use tf.nn.max_pool2d instead.\n",
            "\n",
            "Model: \"sequential_3\"\n",
            "_________________________________________________________________\n",
            "Layer (type)                 Output Shape              Param #   \n",
            "=================================================================\n",
            "conv1d_1 (Conv1D)            (None, 500, 64)           704       \n",
            "_________________________________________________________________\n",
            "conv1d_2 (Conv1D)            (None, 481, 64)           81984     \n",
            "_________________________________________________________________\n",
            "batch_normalization_13 (Batc (None, 481, 64)           256       \n",
            "_________________________________________________________________\n",
            "conv1d_3 (Conv1D)            (None, 467, 32)           30752     \n",
            "_________________________________________________________________\n",
            "max_pooling1d_1 (MaxPooling1 (None, 32, 32)            0         \n",
            "_________________________________________________________________\n",
            "batch_normalization_14 (Batc (None, 32, 32)            128       \n",
            "_________________________________________________________________\n",
            "dropout_15 (Dropout)         (None, 32, 32)            0         \n",
            "_________________________________________________________________\n",
            "conv1d_4 (Conv1D)            (None, 13, 32)            20512     \n",
            "_________________________________________________________________\n",
            "batch_normalization_15 (Batc (None, 13, 32)            128       \n",
            "_________________________________________________________________\n",
            "conv1d_5 (Conv1D)            (None, 4, 32)             10272     \n",
            "_________________________________________________________________\n",
            "max_pooling1d_2 (MaxPooling1 (None, 1, 32)             0         \n",
            "_________________________________________________________________\n",
            "batch_normalization_16 (Batc (None, 1, 32)             128       \n",
            "_________________________________________________________________\n",
            "dropout_16 (Dropout)         (None, 1, 32)             0         \n",
            "_________________________________________________________________\n",
            "flatten_1 (Flatten)          (None, 32)                0         \n",
            "_________________________________________________________________\n",
            "maxout_dense_1 (MaxoutDense) (None, 32)                12672     \n",
            "_________________________________________________________________\n",
            "batch_normalization_17 (Batc (None, 32)                128       \n",
            "_________________________________________________________________\n",
            "dropout_17 (Dropout)         (None, 32)                0         \n",
            "_________________________________________________________________\n",
            "maxout_dense_2 (MaxoutDense) (None, 32)                12672     \n",
            "_________________________________________________________________\n",
            "batch_normalization_18 (Batc (None, 32)                128       \n",
            "_________________________________________________________________\n",
            "dropout_18 (Dropout)         (None, 32)                0         \n",
            "_________________________________________________________________\n",
            "maxout_dense_3 (MaxoutDense) (None, 32)                12672     \n",
            "_________________________________________________________________\n",
            "batch_normalization_19 (Batc (None, 32)                128       \n",
            "_________________________________________________________________\n",
            "dropout_19 (Dropout)         (None, 32)                0         \n",
            "_________________________________________________________________\n",
            "dense_17 (Dense)             (None, 12)                396       \n",
            "=================================================================\n",
            "Total params: 183,660\n",
            "Trainable params: 183,148\n",
            "Non-trainable params: 512\n",
            "_________________________________________________________________\n"
          ],
          "name": "stdout"
        }
      ]
    },
    {
      "cell_type": "code",
      "metadata": {
        "id": "PtDicE2QStrz",
        "colab_type": "code",
        "outputId": "ba042a47-6042-4c90-cfa7-40db366b6f80",
        "colab": {
          "base_uri": "https://localhost:8080/",
          "height": 415
        }
      },
      "source": [
        "model.fit(X_train_CNN, y_train_CNN,\n",
        "          batch_size=1250,\n",
        "          epochs=10,\n",
        "          verbose=1,\n",
        "          validation_data=(X_test_CNN, y_test_CNN))\n",
        "\n",
        "score = model.evaluate(X_test_CNN, y_test_CNN, verbose=0)\n",
        "print('Test loss:', score[0])\n",
        "print('Test accuracy:', score[1])"
      ],
      "execution_count": 0,
      "outputs": [
        {
          "output_type": "stream",
          "text": [
            "Train on 75000 samples, validate on 25000 samples\n",
            "Epoch 1/10\n",
            "75000/75000 [==============================] - 27s 361us/step - loss: 2.2601 - acc: 0.2541 - val_loss: 1.7637 - val_acc: 0.3030\n",
            "Epoch 2/10\n",
            "75000/75000 [==============================] - 21s 275us/step - loss: 1.7246 - acc: 0.2966 - val_loss: 1.5129 - val_acc: 0.3030\n",
            "Epoch 3/10\n",
            "75000/75000 [==============================] - 21s 275us/step - loss: 1.5412 - acc: 0.2969 - val_loss: 1.4173 - val_acc: 0.2988\n",
            "Epoch 4/10\n",
            "75000/75000 [==============================] - 21s 275us/step - loss: 1.4644 - acc: 0.2982 - val_loss: 1.3790 - val_acc: 0.2994\n",
            "Epoch 5/10\n",
            "75000/75000 [==============================] - 21s 275us/step - loss: 1.4314 - acc: 0.3023 - val_loss: 1.3599 - val_acc: 0.3006\n",
            "Epoch 6/10\n",
            "75000/75000 [==============================] - 21s 275us/step - loss: 1.4206 - acc: 0.3023 - val_loss: 1.3498 - val_acc: 0.3006\n",
            "Epoch 7/10\n",
            "75000/75000 [==============================] - 21s 275us/step - loss: 1.4057 - acc: 0.3007 - val_loss: 1.3416 - val_acc: 0.3004\n",
            "Epoch 8/10\n",
            "75000/75000 [==============================] - 21s 275us/step - loss: 1.3904 - acc: 0.2974 - val_loss: 1.3368 - val_acc: 0.3026\n",
            "Epoch 9/10\n",
            "75000/75000 [==============================] - 21s 275us/step - loss: 1.3834 - acc: 0.2983 - val_loss: 1.3336 - val_acc: 0.3007\n",
            "Epoch 10/10\n",
            "75000/75000 [==============================] - 21s 276us/step - loss: 1.3781 - acc: 0.2982 - val_loss: 1.3307 - val_acc: 0.2997\n",
            "Test loss: 1.3306851333999634\n",
            "Test accuracy: 0.29956\n"
          ],
          "name": "stdout"
        }
      ]
    },
    {
      "cell_type": "markdown",
      "metadata": {
        "id": "-pIYv8mz3qEB",
        "colab_type": "text"
      },
      "source": [
        "# Using PCA"
      ]
    },
    {
      "cell_type": "code",
      "metadata": {
        "id": "_Kp-L7Nu390L",
        "colab_type": "code",
        "outputId": "014aedf4-87c3-4445-884f-23bf069f10b1",
        "colab": {
          "base_uri": "https://localhost:8080/",
          "height": 334
        }
      },
      "source": [
        "# Prepare to encode group since ANN doesn't like string data in y group.\n",
        "dl_genderfull = gender_full_sampled\n",
        "\n",
        "# Build numerical labels for our models\n",
        "groupencoder = LabelEncoder().fit(dl_genderfull['group'])\n",
        "\n",
        "# Store in a new column\n",
        "dl_genderfull['encoded_group'] = groupencoder.transform(dl_genderfull['group'])\n",
        "\n",
        "dl_genderfull.head()"
      ],
      "execution_count": 0,
      "outputs": [
        {
          "output_type": "execute_result",
          "data": {
            "text/html": [
              "<div>\n",
              "<style scoped>\n",
              "    .dataframe tbody tr th:only-of-type {\n",
              "        vertical-align: middle;\n",
              "    }\n",
              "\n",
              "    .dataframe tbody tr th {\n",
              "        vertical-align: top;\n",
              "    }\n",
              "\n",
              "    .dataframe thead th {\n",
              "        text-align: right;\n",
              "    }\n",
              "</style>\n",
              "<table border=\"1\" class=\"dataframe\">\n",
              "  <thead>\n",
              "    <tr style=\"text-align: right;\">\n",
              "      <th></th>\n",
              "      <th>device_id</th>\n",
              "      <th>gender</th>\n",
              "      <th>age</th>\n",
              "      <th>group</th>\n",
              "      <th>app_id</th>\n",
              "      <th>is_active</th>\n",
              "      <th>encoded_model</th>\n",
              "      <th>label_id</th>\n",
              "      <th>2</th>\n",
              "      <th>4</th>\n",
              "      <th>6</th>\n",
              "      <th>7</th>\n",
              "      <th>8</th>\n",
              "      <th>9</th>\n",
              "      <th>10</th>\n",
              "      <th>11</th>\n",
              "      <th>12</th>\n",
              "      <th>13</th>\n",
              "      <th>14</th>\n",
              "      <th>16</th>\n",
              "      <th>17</th>\n",
              "      <th>18</th>\n",
              "      <th>19</th>\n",
              "      <th>20</th>\n",
              "      <th>21</th>\n",
              "      <th>22</th>\n",
              "      <th>23</th>\n",
              "      <th>24</th>\n",
              "      <th>25</th>\n",
              "      <th>26</th>\n",
              "      <th>27</th>\n",
              "      <th>29</th>\n",
              "      <th>30</th>\n",
              "      <th>31</th>\n",
              "      <th>32</th>\n",
              "      <th>33</th>\n",
              "      <th>35</th>\n",
              "      <th>36</th>\n",
              "      <th>37</th>\n",
              "      <th>38</th>\n",
              "      <th>...</th>\n",
              "      <th>974</th>\n",
              "      <th>975</th>\n",
              "      <th>976</th>\n",
              "      <th>977</th>\n",
              "      <th>978</th>\n",
              "      <th>980</th>\n",
              "      <th>982</th>\n",
              "      <th>983</th>\n",
              "      <th>984</th>\n",
              "      <th>986</th>\n",
              "      <th>987</th>\n",
              "      <th>988</th>\n",
              "      <th>990</th>\n",
              "      <th>991</th>\n",
              "      <th>993</th>\n",
              "      <th>995</th>\n",
              "      <th>996</th>\n",
              "      <th>997</th>\n",
              "      <th>998</th>\n",
              "      <th>999</th>\n",
              "      <th>1002</th>\n",
              "      <th>1003</th>\n",
              "      <th>1005</th>\n",
              "      <th>1006</th>\n",
              "      <th>1007</th>\n",
              "      <th>1008</th>\n",
              "      <th>1009</th>\n",
              "      <th>1010</th>\n",
              "      <th>1011</th>\n",
              "      <th>1012</th>\n",
              "      <th>1013</th>\n",
              "      <th>1014</th>\n",
              "      <th>1015</th>\n",
              "      <th>1016</th>\n",
              "      <th>1017</th>\n",
              "      <th>1018</th>\n",
              "      <th>1019</th>\n",
              "      <th>1020</th>\n",
              "      <th>1021</th>\n",
              "      <th>encoded_group</th>\n",
              "    </tr>\n",
              "  </thead>\n",
              "  <tbody>\n",
              "    <tr>\n",
              "      <th>6530707</th>\n",
              "      <td>3815308419818425750</td>\n",
              "      <td>1</td>\n",
              "      <td>23</td>\n",
              "      <td>M23-26</td>\n",
              "      <td>-5305727755345208179</td>\n",
              "      <td>1</td>\n",
              "      <td>129</td>\n",
              "      <td>704</td>\n",
              "      <td>0</td>\n",
              "      <td>0</td>\n",
              "      <td>0</td>\n",
              "      <td>0</td>\n",
              "      <td>0</td>\n",
              "      <td>0</td>\n",
              "      <td>0</td>\n",
              "      <td>0</td>\n",
              "      <td>0</td>\n",
              "      <td>0</td>\n",
              "      <td>0</td>\n",
              "      <td>0</td>\n",
              "      <td>0</td>\n",
              "      <td>0</td>\n",
              "      <td>0</td>\n",
              "      <td>0</td>\n",
              "      <td>0</td>\n",
              "      <td>0</td>\n",
              "      <td>0</td>\n",
              "      <td>0</td>\n",
              "      <td>0</td>\n",
              "      <td>0</td>\n",
              "      <td>0</td>\n",
              "      <td>0</td>\n",
              "      <td>0</td>\n",
              "      <td>0</td>\n",
              "      <td>0</td>\n",
              "      <td>0</td>\n",
              "      <td>0</td>\n",
              "      <td>0</td>\n",
              "      <td>0</td>\n",
              "      <td>0</td>\n",
              "      <td>...</td>\n",
              "      <td>0</td>\n",
              "      <td>0</td>\n",
              "      <td>0</td>\n",
              "      <td>0</td>\n",
              "      <td>0</td>\n",
              "      <td>0</td>\n",
              "      <td>0</td>\n",
              "      <td>0</td>\n",
              "      <td>0</td>\n",
              "      <td>0</td>\n",
              "      <td>0</td>\n",
              "      <td>0</td>\n",
              "      <td>0</td>\n",
              "      <td>0</td>\n",
              "      <td>0</td>\n",
              "      <td>0</td>\n",
              "      <td>0</td>\n",
              "      <td>0</td>\n",
              "      <td>0</td>\n",
              "      <td>0</td>\n",
              "      <td>0</td>\n",
              "      <td>0</td>\n",
              "      <td>0</td>\n",
              "      <td>0</td>\n",
              "      <td>0</td>\n",
              "      <td>0</td>\n",
              "      <td>0</td>\n",
              "      <td>0</td>\n",
              "      <td>0</td>\n",
              "      <td>0</td>\n",
              "      <td>0</td>\n",
              "      <td>0</td>\n",
              "      <td>0</td>\n",
              "      <td>0</td>\n",
              "      <td>0</td>\n",
              "      <td>0</td>\n",
              "      <td>0</td>\n",
              "      <td>0</td>\n",
              "      <td>0</td>\n",
              "      <td>7</td>\n",
              "    </tr>\n",
              "    <tr>\n",
              "      <th>6735035</th>\n",
              "      <td>1570955105239258370</td>\n",
              "      <td>1</td>\n",
              "      <td>24</td>\n",
              "      <td>M23-26</td>\n",
              "      <td>-3507529970483852351</td>\n",
              "      <td>0</td>\n",
              "      <td>865</td>\n",
              "      <td>254</td>\n",
              "      <td>0</td>\n",
              "      <td>0</td>\n",
              "      <td>0</td>\n",
              "      <td>0</td>\n",
              "      <td>0</td>\n",
              "      <td>0</td>\n",
              "      <td>0</td>\n",
              "      <td>0</td>\n",
              "      <td>0</td>\n",
              "      <td>0</td>\n",
              "      <td>0</td>\n",
              "      <td>0</td>\n",
              "      <td>0</td>\n",
              "      <td>0</td>\n",
              "      <td>0</td>\n",
              "      <td>0</td>\n",
              "      <td>0</td>\n",
              "      <td>0</td>\n",
              "      <td>0</td>\n",
              "      <td>0</td>\n",
              "      <td>0</td>\n",
              "      <td>0</td>\n",
              "      <td>0</td>\n",
              "      <td>0</td>\n",
              "      <td>0</td>\n",
              "      <td>0</td>\n",
              "      <td>0</td>\n",
              "      <td>0</td>\n",
              "      <td>0</td>\n",
              "      <td>0</td>\n",
              "      <td>0</td>\n",
              "      <td>0</td>\n",
              "      <td>...</td>\n",
              "      <td>0</td>\n",
              "      <td>0</td>\n",
              "      <td>0</td>\n",
              "      <td>0</td>\n",
              "      <td>0</td>\n",
              "      <td>0</td>\n",
              "      <td>0</td>\n",
              "      <td>0</td>\n",
              "      <td>0</td>\n",
              "      <td>0</td>\n",
              "      <td>0</td>\n",
              "      <td>0</td>\n",
              "      <td>0</td>\n",
              "      <td>0</td>\n",
              "      <td>0</td>\n",
              "      <td>0</td>\n",
              "      <td>0</td>\n",
              "      <td>0</td>\n",
              "      <td>0</td>\n",
              "      <td>0</td>\n",
              "      <td>0</td>\n",
              "      <td>0</td>\n",
              "      <td>0</td>\n",
              "      <td>0</td>\n",
              "      <td>0</td>\n",
              "      <td>0</td>\n",
              "      <td>0</td>\n",
              "      <td>0</td>\n",
              "      <td>0</td>\n",
              "      <td>0</td>\n",
              "      <td>0</td>\n",
              "      <td>0</td>\n",
              "      <td>0</td>\n",
              "      <td>0</td>\n",
              "      <td>0</td>\n",
              "      <td>0</td>\n",
              "      <td>0</td>\n",
              "      <td>0</td>\n",
              "      <td>0</td>\n",
              "      <td>7</td>\n",
              "    </tr>\n",
              "    <tr>\n",
              "      <th>8718114</th>\n",
              "      <td>-1030061935764942114</td>\n",
              "      <td>1</td>\n",
              "      <td>25</td>\n",
              "      <td>M23-26</td>\n",
              "      <td>1757044000527607662</td>\n",
              "      <td>0</td>\n",
              "      <td>375</td>\n",
              "      <td>1012</td>\n",
              "      <td>0</td>\n",
              "      <td>0</td>\n",
              "      <td>0</td>\n",
              "      <td>0</td>\n",
              "      <td>0</td>\n",
              "      <td>0</td>\n",
              "      <td>0</td>\n",
              "      <td>0</td>\n",
              "      <td>0</td>\n",
              "      <td>0</td>\n",
              "      <td>0</td>\n",
              "      <td>0</td>\n",
              "      <td>0</td>\n",
              "      <td>0</td>\n",
              "      <td>0</td>\n",
              "      <td>0</td>\n",
              "      <td>0</td>\n",
              "      <td>0</td>\n",
              "      <td>0</td>\n",
              "      <td>0</td>\n",
              "      <td>0</td>\n",
              "      <td>0</td>\n",
              "      <td>0</td>\n",
              "      <td>0</td>\n",
              "      <td>0</td>\n",
              "      <td>0</td>\n",
              "      <td>0</td>\n",
              "      <td>0</td>\n",
              "      <td>0</td>\n",
              "      <td>0</td>\n",
              "      <td>0</td>\n",
              "      <td>0</td>\n",
              "      <td>...</td>\n",
              "      <td>0</td>\n",
              "      <td>0</td>\n",
              "      <td>0</td>\n",
              "      <td>0</td>\n",
              "      <td>0</td>\n",
              "      <td>0</td>\n",
              "      <td>0</td>\n",
              "      <td>0</td>\n",
              "      <td>0</td>\n",
              "      <td>0</td>\n",
              "      <td>0</td>\n",
              "      <td>0</td>\n",
              "      <td>0</td>\n",
              "      <td>0</td>\n",
              "      <td>0</td>\n",
              "      <td>0</td>\n",
              "      <td>0</td>\n",
              "      <td>0</td>\n",
              "      <td>0</td>\n",
              "      <td>0</td>\n",
              "      <td>0</td>\n",
              "      <td>0</td>\n",
              "      <td>0</td>\n",
              "      <td>0</td>\n",
              "      <td>0</td>\n",
              "      <td>0</td>\n",
              "      <td>0</td>\n",
              "      <td>0</td>\n",
              "      <td>0</td>\n",
              "      <td>1</td>\n",
              "      <td>0</td>\n",
              "      <td>0</td>\n",
              "      <td>0</td>\n",
              "      <td>0</td>\n",
              "      <td>0</td>\n",
              "      <td>0</td>\n",
              "      <td>0</td>\n",
              "      <td>0</td>\n",
              "      <td>0</td>\n",
              "      <td>7</td>\n",
              "    </tr>\n",
              "    <tr>\n",
              "      <th>10093908</th>\n",
              "      <td>-5641386176120876758</td>\n",
              "      <td>1</td>\n",
              "      <td>26</td>\n",
              "      <td>M23-26</td>\n",
              "      <td>-4986139885405704</td>\n",
              "      <td>0</td>\n",
              "      <td>736</td>\n",
              "      <td>405</td>\n",
              "      <td>0</td>\n",
              "      <td>0</td>\n",
              "      <td>0</td>\n",
              "      <td>0</td>\n",
              "      <td>0</td>\n",
              "      <td>0</td>\n",
              "      <td>0</td>\n",
              "      <td>0</td>\n",
              "      <td>0</td>\n",
              "      <td>0</td>\n",
              "      <td>0</td>\n",
              "      <td>0</td>\n",
              "      <td>0</td>\n",
              "      <td>0</td>\n",
              "      <td>0</td>\n",
              "      <td>0</td>\n",
              "      <td>0</td>\n",
              "      <td>0</td>\n",
              "      <td>0</td>\n",
              "      <td>0</td>\n",
              "      <td>0</td>\n",
              "      <td>0</td>\n",
              "      <td>0</td>\n",
              "      <td>0</td>\n",
              "      <td>0</td>\n",
              "      <td>0</td>\n",
              "      <td>0</td>\n",
              "      <td>0</td>\n",
              "      <td>0</td>\n",
              "      <td>0</td>\n",
              "      <td>0</td>\n",
              "      <td>0</td>\n",
              "      <td>...</td>\n",
              "      <td>0</td>\n",
              "      <td>0</td>\n",
              "      <td>0</td>\n",
              "      <td>0</td>\n",
              "      <td>0</td>\n",
              "      <td>0</td>\n",
              "      <td>0</td>\n",
              "      <td>0</td>\n",
              "      <td>0</td>\n",
              "      <td>0</td>\n",
              "      <td>0</td>\n",
              "      <td>0</td>\n",
              "      <td>0</td>\n",
              "      <td>0</td>\n",
              "      <td>0</td>\n",
              "      <td>0</td>\n",
              "      <td>0</td>\n",
              "      <td>0</td>\n",
              "      <td>0</td>\n",
              "      <td>0</td>\n",
              "      <td>0</td>\n",
              "      <td>0</td>\n",
              "      <td>0</td>\n",
              "      <td>0</td>\n",
              "      <td>0</td>\n",
              "      <td>0</td>\n",
              "      <td>0</td>\n",
              "      <td>0</td>\n",
              "      <td>0</td>\n",
              "      <td>0</td>\n",
              "      <td>0</td>\n",
              "      <td>0</td>\n",
              "      <td>0</td>\n",
              "      <td>0</td>\n",
              "      <td>0</td>\n",
              "      <td>0</td>\n",
              "      <td>0</td>\n",
              "      <td>0</td>\n",
              "      <td>0</td>\n",
              "      <td>7</td>\n",
              "    </tr>\n",
              "    <tr>\n",
              "      <th>275162</th>\n",
              "      <td>2957948755409153401</td>\n",
              "      <td>1</td>\n",
              "      <td>23</td>\n",
              "      <td>M23-26</td>\n",
              "      <td>-5720078949152207372</td>\n",
              "      <td>1</td>\n",
              "      <td>1247</td>\n",
              "      <td>721</td>\n",
              "      <td>0</td>\n",
              "      <td>0</td>\n",
              "      <td>0</td>\n",
              "      <td>0</td>\n",
              "      <td>0</td>\n",
              "      <td>0</td>\n",
              "      <td>0</td>\n",
              "      <td>0</td>\n",
              "      <td>0</td>\n",
              "      <td>0</td>\n",
              "      <td>0</td>\n",
              "      <td>0</td>\n",
              "      <td>0</td>\n",
              "      <td>0</td>\n",
              "      <td>0</td>\n",
              "      <td>0</td>\n",
              "      <td>0</td>\n",
              "      <td>0</td>\n",
              "      <td>0</td>\n",
              "      <td>0</td>\n",
              "      <td>0</td>\n",
              "      <td>0</td>\n",
              "      <td>0</td>\n",
              "      <td>0</td>\n",
              "      <td>0</td>\n",
              "      <td>0</td>\n",
              "      <td>0</td>\n",
              "      <td>0</td>\n",
              "      <td>0</td>\n",
              "      <td>0</td>\n",
              "      <td>0</td>\n",
              "      <td>0</td>\n",
              "      <td>...</td>\n",
              "      <td>0</td>\n",
              "      <td>0</td>\n",
              "      <td>0</td>\n",
              "      <td>0</td>\n",
              "      <td>0</td>\n",
              "      <td>0</td>\n",
              "      <td>0</td>\n",
              "      <td>0</td>\n",
              "      <td>0</td>\n",
              "      <td>0</td>\n",
              "      <td>0</td>\n",
              "      <td>0</td>\n",
              "      <td>0</td>\n",
              "      <td>0</td>\n",
              "      <td>0</td>\n",
              "      <td>0</td>\n",
              "      <td>0</td>\n",
              "      <td>0</td>\n",
              "      <td>0</td>\n",
              "      <td>0</td>\n",
              "      <td>0</td>\n",
              "      <td>0</td>\n",
              "      <td>0</td>\n",
              "      <td>0</td>\n",
              "      <td>0</td>\n",
              "      <td>0</td>\n",
              "      <td>0</td>\n",
              "      <td>0</td>\n",
              "      <td>0</td>\n",
              "      <td>0</td>\n",
              "      <td>0</td>\n",
              "      <td>0</td>\n",
              "      <td>0</td>\n",
              "      <td>0</td>\n",
              "      <td>0</td>\n",
              "      <td>0</td>\n",
              "      <td>0</td>\n",
              "      <td>0</td>\n",
              "      <td>0</td>\n",
              "      <td>7</td>\n",
              "    </tr>\n",
              "  </tbody>\n",
              "</table>\n",
              "<p>5 rows × 494 columns</p>\n",
              "</div>"
            ],
            "text/plain": [
              "                    device_id  gender  age  ... 1020  1021  encoded_group\n",
              "6530707   3815308419818425750       1   23  ...    0     0              7\n",
              "6735035   1570955105239258370       1   24  ...    0     0              7\n",
              "8718114  -1030061935764942114       1   25  ...    0     0              7\n",
              "10093908 -5641386176120876758       1   26  ...    0     0              7\n",
              "275162    2957948755409153401       1   23  ...    0     0              7\n",
              "\n",
              "[5 rows x 494 columns]"
            ]
          },
          "metadata": {
            "tags": []
          },
          "execution_count": 25
        }
      ]
    },
    {
      "cell_type": "code",
      "metadata": {
        "id": "KWnJHmZp56-K",
        "colab_type": "code",
        "colab": {}
      },
      "source": [
        "# Recreate the test and training set since encoded group is now the target.\n",
        "X3 = resampled2.drop(['group'], axis=1)\n",
        "Y3 = resampled2['encoded_group'].values\n",
        "\n",
        "# Instantiate StandardScaler for pca\n",
        "ss = StandardScaler()\n",
        "\n",
        "# Set up the variables.\n",
        "prep_X2 = X3\n",
        "\n",
        "# Standarize and fit the data first \n",
        "stand_x2 = ss.fit_transform(prep_X2)\n",
        "\n",
        "# Perform PCA on the standardized data. \n",
        "#X3_pca = pca.fit_transform(stand_x2)\n",
        "pca = PCA(n_components=10)\n",
        "principalComponents = pca.fit_transform(stand_x2)\n",
        "\n",
        "\n",
        "# Create a new training and testing set\n",
        "X_train3, X_test3, y_train3, y_test3 = train_test_split(principalComponents, Y3, test_size=0.25)"
      ],
      "execution_count": 0,
      "outputs": []
    },
    {
      "cell_type": "code",
      "metadata": {
        "id": "GvlskfjM7oMJ",
        "colab_type": "code",
        "outputId": "4829e095-b2a0-4f56-d949-3960439b0f70",
        "colab": {
          "base_uri": "https://localhost:8080/",
          "height": 881
        }
      },
      "source": [
        "# Start with a simple sequential model.\n",
        "model = Sequential()\n",
        "\n",
        "# Add dense layers to create a fully connected MLP\n",
        "# Note that we specify an input shape for the first layer, but only the first layer.\n",
        "# Relu is the activation function used\n",
        "model.add(Dense(128, activation='elu', input_shape=(10,)))\n",
        "# Dropout layers remove features and fight overfitting\n",
        "model.add(Dropout(0.1))\n",
        "model.add(Dense(64, activation='elu'))\n",
        "model.add(BatchNormalization())\n",
        "model.add(Dropout(0.3))\n",
        "model.add(Dense(64, activation='elu'))\n",
        "model.add(BatchNormalization())\n",
        "model.add(Dropout(0.3))\n",
        "model.add(Dense(64, activation='elu'))\n",
        "model.add(BatchNormalization())\n",
        "model.add(Dropout(0.5))\n",
        "model.add(Dense(64, activation='elu'))\n",
        "model.add(BatchNormalization())\n",
        "model.add(Dropout(0.5))\n",
        "model.add(Dense(64, activation='elu'))\n",
        "model.add(BatchNormalization())\n",
        "model.add(Dropout(0.5))\n",
        "model.add(Dense(64, activation='elu'))\n",
        "model.add(BatchNormalization())\n",
        "model.add(Dropout(0.3))\n",
        "\n",
        "# End with a number of units equal to the number of classes we have for our outcome\n",
        "model.add(Dense(12, activation='softmax'))\n",
        "\n",
        "\n",
        "model.summary()\n",
        "\n",
        "# Compile the model to put it all together.\n",
        "model.compile(loss='sparse_categorical_crossentropy',\n",
        "              optimizer=Adam(),\n",
        "              metrics=['accuracy'])"
      ],
      "execution_count": 0,
      "outputs": [
        {
          "output_type": "stream",
          "text": [
            "Model: \"sequential_3\"\n",
            "_________________________________________________________________\n",
            "Layer (type)                 Output Shape              Param #   \n",
            "=================================================================\n",
            "dense_11 (Dense)             (None, 128)               1408      \n",
            "_________________________________________________________________\n",
            "dropout_9 (Dropout)          (None, 128)               0         \n",
            "_________________________________________________________________\n",
            "dense_12 (Dense)             (None, 64)                8256      \n",
            "_________________________________________________________________\n",
            "batch_normalization_7 (Batch (None, 64)                256       \n",
            "_________________________________________________________________\n",
            "dropout_10 (Dropout)         (None, 64)                0         \n",
            "_________________________________________________________________\n",
            "dense_13 (Dense)             (None, 64)                4160      \n",
            "_________________________________________________________________\n",
            "batch_normalization_8 (Batch (None, 64)                256       \n",
            "_________________________________________________________________\n",
            "dropout_11 (Dropout)         (None, 64)                0         \n",
            "_________________________________________________________________\n",
            "dense_14 (Dense)             (None, 64)                4160      \n",
            "_________________________________________________________________\n",
            "batch_normalization_9 (Batch (None, 64)                256       \n",
            "_________________________________________________________________\n",
            "dropout_12 (Dropout)         (None, 64)                0         \n",
            "_________________________________________________________________\n",
            "dense_15 (Dense)             (None, 64)                4160      \n",
            "_________________________________________________________________\n",
            "batch_normalization_10 (Batc (None, 64)                256       \n",
            "_________________________________________________________________\n",
            "dropout_13 (Dropout)         (None, 64)                0         \n",
            "_________________________________________________________________\n",
            "dense_16 (Dense)             (None, 64)                4160      \n",
            "_________________________________________________________________\n",
            "batch_normalization_11 (Batc (None, 64)                256       \n",
            "_________________________________________________________________\n",
            "dropout_14 (Dropout)         (None, 64)                0         \n",
            "_________________________________________________________________\n",
            "dense_17 (Dense)             (None, 64)                4160      \n",
            "_________________________________________________________________\n",
            "batch_normalization_12 (Batc (None, 64)                256       \n",
            "_________________________________________________________________\n",
            "dropout_15 (Dropout)         (None, 64)                0         \n",
            "_________________________________________________________________\n",
            "dense_18 (Dense)             (None, 12)                780       \n",
            "=================================================================\n",
            "Total params: 32,780\n",
            "Trainable params: 32,012\n",
            "Non-trainable params: 768\n",
            "_________________________________________________________________\n"
          ],
          "name": "stdout"
        }
      ]
    },
    {
      "cell_type": "code",
      "metadata": {
        "id": "ISscgpYI791p",
        "colab_type": "code",
        "outputId": "26e03d69-18f7-48b5-8de6-f97376301ef2",
        "colab": {
          "base_uri": "https://localhost:8080/",
          "height": 1000
        }
      },
      "source": [
        "\n",
        "history = model.fit(X_train3, y_train3,\n",
        "                    batch_size=1250,\n",
        "                    epochs=20,\n",
        "                    verbose=1,\n",
        "                    validation_data=(X_test3, y_test3))\n",
        "\n",
        "score = model.evaluate(X_test3, y_test3, verbose=0)\n",
        "print('Test loss:', score[0])\n",
        "print('Test accuracy:', score[1])"
      ],
      "execution_count": 0,
      "outputs": [
        {
          "output_type": "stream",
          "text": [
            "WARNING:tensorflow:From /usr/local/lib/python3.6/dist-packages/tensorflow_core/python/ops/math_grad.py:1424: where (from tensorflow.python.ops.array_ops) is deprecated and will be removed in a future version.\n",
            "Instructions for updating:\n",
            "Use tf.where in 2.0, which has the same broadcast rule as np.where\n",
            "WARNING:tensorflow:From /usr/local/lib/python3.6/dist-packages/keras/backend/tensorflow_backend.py:1033: The name tf.assign_add is deprecated. Please use tf.compat.v1.assign_add instead.\n",
            "\n",
            "WARNING:tensorflow:From /usr/local/lib/python3.6/dist-packages/keras/backend/tensorflow_backend.py:1020: The name tf.assign is deprecated. Please use tf.compat.v1.assign instead.\n",
            "\n",
            "WARNING:tensorflow:From /usr/local/lib/python3.6/dist-packages/keras/backend/tensorflow_backend.py:3005: The name tf.Session is deprecated. Please use tf.compat.v1.Session instead.\n",
            "\n",
            "Train on 270000 samples, validate on 90000 samples\n",
            "Epoch 1/20\n",
            "WARNING:tensorflow:From /usr/local/lib/python3.6/dist-packages/keras/backend/tensorflow_backend.py:190: The name tf.get_default_session is deprecated. Please use tf.compat.v1.get_default_session instead.\n",
            "\n",
            "WARNING:tensorflow:From /usr/local/lib/python3.6/dist-packages/keras/backend/tensorflow_backend.py:197: The name tf.ConfigProto is deprecated. Please use tf.compat.v1.ConfigProto instead.\n",
            "\n",
            "WARNING:tensorflow:From /usr/local/lib/python3.6/dist-packages/keras/backend/tensorflow_backend.py:207: The name tf.global_variables is deprecated. Please use tf.compat.v1.global_variables instead.\n",
            "\n",
            "WARNING:tensorflow:From /usr/local/lib/python3.6/dist-packages/keras/backend/tensorflow_backend.py:216: The name tf.is_variable_initialized is deprecated. Please use tf.compat.v1.is_variable_initialized instead.\n",
            "\n",
            "WARNING:tensorflow:From /usr/local/lib/python3.6/dist-packages/keras/backend/tensorflow_backend.py:223: The name tf.variables_initializer is deprecated. Please use tf.compat.v1.variables_initializer instead.\n",
            "\n",
            "270000/270000 [==============================] - 11s 42us/step - loss: 1.8614 - acc: 0.2932 - val_loss: 1.3208 - val_acc: 0.4219\n",
            "Epoch 2/20\n",
            "270000/270000 [==============================] - 4s 16us/step - loss: 1.3024 - acc: 0.4315 - val_loss: 0.9493 - val_acc: 0.5853\n",
            "Epoch 3/20\n",
            "270000/270000 [==============================] - 4s 16us/step - loss: 1.1751 - acc: 0.4850 - val_loss: 0.9430 - val_acc: 0.5929\n",
            "Epoch 4/20\n",
            "270000/270000 [==============================] - 4s 16us/step - loss: 1.1125 - acc: 0.5153 - val_loss: 0.9113 - val_acc: 0.5996\n",
            "Epoch 5/20\n",
            "270000/270000 [==============================] - 4s 16us/step - loss: 1.0774 - acc: 0.5313 - val_loss: 0.8798 - val_acc: 0.6185\n",
            "Epoch 6/20\n",
            "270000/270000 [==============================] - 5s 17us/step - loss: 1.0513 - acc: 0.5439 - val_loss: 0.8716 - val_acc: 0.6134\n",
            "Epoch 7/20\n",
            "270000/270000 [==============================] - 4s 16us/step - loss: 1.0312 - acc: 0.5525 - val_loss: 0.8498 - val_acc: 0.6305\n",
            "Epoch 8/20\n",
            "270000/270000 [==============================] - 4s 17us/step - loss: 1.0159 - acc: 0.5601 - val_loss: 0.8611 - val_acc: 0.6198\n",
            "Epoch 9/20\n",
            "270000/270000 [==============================] - 4s 16us/step - loss: 1.0048 - acc: 0.5646 - val_loss: 0.8383 - val_acc: 0.6289\n",
            "Epoch 10/20\n",
            "270000/270000 [==============================] - 4s 16us/step - loss: 0.9890 - acc: 0.5721 - val_loss: 0.8230 - val_acc: 0.6413\n",
            "Epoch 11/20\n",
            "270000/270000 [==============================] - 4s 16us/step - loss: 0.9790 - acc: 0.5769 - val_loss: 0.8110 - val_acc: 0.6483\n",
            "Epoch 12/20\n",
            "270000/270000 [==============================] - 4s 16us/step - loss: 0.9683 - acc: 0.5833 - val_loss: 0.8003 - val_acc: 0.6580\n",
            "Epoch 13/20\n",
            "270000/270000 [==============================] - 4s 16us/step - loss: 0.9563 - acc: 0.5889 - val_loss: 0.8098 - val_acc: 0.6438\n",
            "Epoch 14/20\n",
            "270000/270000 [==============================] - 4s 16us/step - loss: 0.9427 - acc: 0.5959 - val_loss: 0.7646 - val_acc: 0.6799\n",
            "Epoch 15/20\n",
            "270000/270000 [==============================] - 5s 17us/step - loss: 0.9282 - acc: 0.6058 - val_loss: 0.7517 - val_acc: 0.6886\n",
            "Epoch 16/20\n",
            "270000/270000 [==============================] - 5s 17us/step - loss: 0.9147 - acc: 0.6124 - val_loss: 0.7256 - val_acc: 0.7108\n",
            "Epoch 17/20\n",
            "270000/270000 [==============================] - 5s 17us/step - loss: 0.9020 - acc: 0.6198 - val_loss: 0.7084 - val_acc: 0.7155\n",
            "Epoch 18/20\n",
            "270000/270000 [==============================] - 4s 17us/step - loss: 0.8880 - acc: 0.6281 - val_loss: 0.6886 - val_acc: 0.7306\n",
            "Epoch 19/20\n",
            "270000/270000 [==============================] - 4s 16us/step - loss: 0.8771 - acc: 0.6340 - val_loss: 0.6757 - val_acc: 0.7449\n",
            "Epoch 20/20\n",
            "270000/270000 [==============================] - 4s 16us/step - loss: 0.8671 - acc: 0.6383 - val_loss: 0.6730 - val_acc: 0.7455\n",
            "Test loss: 0.6729799430423312\n",
            "Test accuracy: 0.7454888888888889\n"
          ],
          "name": "stdout"
        }
      ]
    },
    {
      "cell_type": "code",
      "metadata": {
        "id": "VNWp6mqb9fFl",
        "colab_type": "code",
        "outputId": "9b3f417e-dbdc-4d2d-e58a-0a53271a6c50",
        "colab": {
          "base_uri": "https://localhost:8080/",
          "height": 985
        }
      },
      "source": [
        "#Convolutional Neural Network\n",
        "\n",
        "\n",
        "# Recreate the test and training set since encoded group is now the target.\n",
        "X3 = dl_genderfull.drop(['group'], axis=1)\n",
        "Y3 = dl_genderfull['encoded_group'].values\n",
        "\n",
        "# Instantiate StandardScaler for pca\n",
        "ss = StandardScaler()\n",
        "\n",
        "# Set up the variables.\n",
        "prep_X2 = X3\n",
        "\n",
        "# Standarize and fit the data first \n",
        "stand_x2 = ss.fit_transform(prep_X2)\n",
        "\n",
        "# Perform PCA on the standardized data. \n",
        "pca = PCA(n_components=10)\n",
        "principalComponents = pca.fit_transform(stand_x2)\n",
        "\n",
        "\n",
        "# Create a new training and testing set again.\n",
        "X_train4, X_test4, y_train4, y_test4 = train_test_split(principalComponents, Y3, test_size=0.25)\n",
        "\n",
        "# Increase the dimensional size of X_train/test_pca\n",
        "# in order for Conv1d to run smoothly.\n",
        "X_train_pca_mod = np.expand_dims(X_train4, axis=2)\n",
        "X_test_pca_mod = np.expand_dims(X_test4, axis=2)\n",
        "\n",
        "# Encode y into 12 different vectors for CNN.\n",
        "y_train_CNN = np_utils.to_categorical(y_train4, 12)\n",
        "y_test_CNN = np_utils.to_categorical(y_test4, 12)\n",
        "\n",
        "# Building the Convolutionals Model\n",
        "model = Sequential()\n",
        "\n",
        "# Set up some parameters\n",
        "input_dim = 1\n",
        "\n",
        "# Convert X_train and X_test to numpy array and make sure all sequences\n",
        "# have the same length.\n",
        "max_review_length = 500 \n",
        "X_train_CNN = sequence.pad_sequences(X_train_pca_mod, maxlen=max_review_length) \n",
        "X_test_CNN = sequence.pad_sequences(X_test_pca_mod, maxlen=max_review_length)\n",
        "\n",
        "\n",
        "# First convolutional layer, note the specification of shape\n",
        "model.add(Conv1D(64, kernel_size=10,\n",
        "                 padding='same',\n",
        "                 input_shape=(max_review_length, input_dim),\n",
        "                 activation='elu',\n",
        "                 strides=1))\n",
        "model.add(Conv1D(64, kernel_size=20, activation='elu'))\n",
        "model.add(BatchNormalization())\n",
        "model.add(Conv1D(32, kernel_size=15, activation='elu'))\n",
        "model.add(MaxPooling1D(pool_size=15,\n",
        "                       padding='same'))\n",
        "model.add(BatchNormalization())\n",
        "model.add(Dropout(0.25))\n",
        "model.add(Conv1D(32, kernel_size=20, activation='elu'))\n",
        "model.add(BatchNormalization())\n",
        "model.add(Conv1D(32, kernel_size=10, activation='elu'))\n",
        "model.add(MaxPooling1D(pool_size=25,\n",
        "                       padding='same'))\n",
        "model.add(BatchNormalization())\n",
        "model.add(Dropout(0.3))\n",
        "model.add(Flatten())\n",
        "model.add(MaxoutDense(32, nb_feature=12))\n",
        "model.add(BatchNormalization())\n",
        "model.add(Dropout(0.3))\n",
        "model.add(MaxoutDense(32, nb_feature=12))\n",
        "model.add(BatchNormalization())\n",
        "model.add(Dropout(0.5))\n",
        "model.add(MaxoutDense(32, nb_feature=12))\n",
        "model.add(BatchNormalization())\n",
        "model.add(Dropout(0.5))\n",
        "model.add(Dense(12, activation='softmax'))\n",
        "model.compile(loss=keras.losses.categorical_crossentropy,\n",
        "              optimizer=keras.optimizers.Adagrad(),\n",
        "              metrics=['accuracy'])\n",
        "\n",
        "model.summary()"
      ],
      "execution_count": 0,
      "outputs": [
        {
          "output_type": "stream",
          "text": [
            "Model: \"sequential_5\"\n",
            "_________________________________________________________________\n",
            "Layer (type)                 Output Shape              Param #   \n",
            "=================================================================\n",
            "conv1d_6 (Conv1D)            (None, 500, 64)           704       \n",
            "_________________________________________________________________\n",
            "conv1d_7 (Conv1D)            (None, 481, 64)           81984     \n",
            "_________________________________________________________________\n",
            "batch_normalization_20 (Batc (None, 481, 64)           256       \n",
            "_________________________________________________________________\n",
            "conv1d_8 (Conv1D)            (None, 467, 32)           30752     \n",
            "_________________________________________________________________\n",
            "max_pooling1d_3 (MaxPooling1 (None, 32, 32)            0         \n",
            "_________________________________________________________________\n",
            "batch_normalization_21 (Batc (None, 32, 32)            128       \n",
            "_________________________________________________________________\n",
            "dropout_21 (Dropout)         (None, 32, 32)            0         \n",
            "_________________________________________________________________\n",
            "conv1d_9 (Conv1D)            (None, 13, 32)            20512     \n",
            "_________________________________________________________________\n",
            "batch_normalization_22 (Batc (None, 13, 32)            128       \n",
            "_________________________________________________________________\n",
            "conv1d_10 (Conv1D)           (None, 4, 32)             10272     \n",
            "_________________________________________________________________\n",
            "max_pooling1d_4 (MaxPooling1 (None, 1, 32)             0         \n",
            "_________________________________________________________________\n",
            "batch_normalization_23 (Batc (None, 1, 32)             128       \n",
            "_________________________________________________________________\n",
            "dropout_22 (Dropout)         (None, 1, 32)             0         \n",
            "_________________________________________________________________\n",
            "flatten_2 (Flatten)          (None, 32)                0         \n",
            "_________________________________________________________________\n",
            "maxout_dense_4 (MaxoutDense) (None, 32)                12672     \n",
            "_________________________________________________________________\n",
            "batch_normalization_24 (Batc (None, 32)                128       \n",
            "_________________________________________________________________\n",
            "dropout_23 (Dropout)         (None, 32)                0         \n",
            "_________________________________________________________________\n",
            "maxout_dense_5 (MaxoutDense) (None, 32)                12672     \n",
            "_________________________________________________________________\n",
            "batch_normalization_25 (Batc (None, 32)                128       \n",
            "_________________________________________________________________\n",
            "dropout_24 (Dropout)         (None, 32)                0         \n",
            "_________________________________________________________________\n",
            "maxout_dense_6 (MaxoutDense) (None, 32)                12672     \n",
            "_________________________________________________________________\n",
            "batch_normalization_26 (Batc (None, 32)                128       \n",
            "_________________________________________________________________\n",
            "dropout_25 (Dropout)         (None, 32)                0         \n",
            "_________________________________________________________________\n",
            "dense_20 (Dense)             (None, 12)                396       \n",
            "=================================================================\n",
            "Total params: 183,660\n",
            "Trainable params: 183,148\n",
            "Non-trainable params: 512\n",
            "_________________________________________________________________\n"
          ],
          "name": "stdout"
        }
      ]
    },
    {
      "cell_type": "code",
      "metadata": {
        "id": "yvJZH_EBEXk3",
        "colab_type": "code",
        "outputId": "2eb4db0e-a6d7-4932-c5b4-9b8fa917ca34",
        "colab": {
          "base_uri": "https://localhost:8080/",
          "height": 415
        }
      },
      "source": [
        "model.fit(X_train_CNN, y_train_CNN,\n",
        "          batch_size=1250,\n",
        "          epochs=10,\n",
        "          verbose=1,\n",
        "          validation_data=(X_test_CNN, y_test_CNN))\n",
        "\n",
        "score = model.evaluate(X_test_CNN, y_test_CNN, verbose=0)\n",
        "print('Test loss:', score[0])\n",
        "print('Test accuracy:', score[1])"
      ],
      "execution_count": 0,
      "outputs": [
        {
          "output_type": "stream",
          "text": [
            "Train on 270000 samples, validate on 90000 samples\n",
            "Epoch 1/10\n",
            "270000/270000 [==============================] - 77s 284us/step - loss: 2.1951 - acc: 0.1965 - val_loss: 14.7762 - val_acc: 0.0833\n",
            "Epoch 2/10\n",
            "270000/270000 [==============================] - 73s 272us/step - loss: 1.7934 - acc: 0.2780 - val_loss: 14.7762 - val_acc: 0.0833\n",
            "Epoch 3/10\n",
            "270000/270000 [==============================] - 73s 272us/step - loss: 1.7109 - acc: 0.2938 - val_loss: 14.7762 - val_acc: 0.0833\n",
            "Epoch 4/10\n",
            "270000/270000 [==============================] - 74s 273us/step - loss: 1.6723 - acc: 0.3044 - val_loss: 14.7675 - val_acc: 0.0833\n",
            "Epoch 5/10\n",
            "270000/270000 [==============================] - 74s 273us/step - loss: 1.6476 - acc: 0.3128 - val_loss: 1.7392 - val_acc: 0.2974\n",
            "Epoch 6/10\n",
            "270000/270000 [==============================] - 74s 273us/step - loss: 1.6323 - acc: 0.3155 - val_loss: 14.7762 - val_acc: 0.0833\n",
            "Epoch 7/10\n",
            "270000/270000 [==============================] - 74s 272us/step - loss: 1.6205 - acc: 0.3199 - val_loss: 14.7762 - val_acc: 0.0833\n",
            "Epoch 8/10\n",
            "270000/270000 [==============================] - 74s 273us/step - loss: 1.6108 - acc: 0.3225 - val_loss: 2.6154 - val_acc: 0.2187\n",
            "Epoch 9/10\n",
            "270000/270000 [==============================] - 74s 274us/step - loss: 1.6019 - acc: 0.3248 - val_loss: 1.5590 - val_acc: 0.3334\n",
            "Epoch 10/10\n",
            "270000/270000 [==============================] - 74s 274us/step - loss: 1.5960 - acc: 0.3284 - val_loss: 13.1495 - val_acc: 0.0833\n",
            "Test loss: 13.149502387661403\n",
            "Test accuracy: 0.08325555555555555\n"
          ],
          "name": "stdout"
        }
      ]
    }
  ]
}