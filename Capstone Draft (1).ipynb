{
 "cells": [
  {
   "cell_type": "markdown",
   "metadata": {},
   "source": [
    "# An exploration of hate crimes across America in 2013\n",
    "\n",
    "\n",
    " ### Introduction \n",
    "\n",
    " The dataset that originally holds the data used for this analytic report comes from the statistical efforts   FBI's UCR program, an effort responsible for tracking reports of hate violence across the US. In this report, I use an abridged version with fewer columns accessible from Github  This data is highly important as it helps map crimes that go against one of the greatest values of the United States: Diversity. \n",
    "    \n",
    "The dataset contains data points for a number of crimes: Racial, Religious, Sexual Orientation, Ethnicity, Gender, and Disability. Additionally, it contains columns regarding place and time including: State, Agency Type, Name of the Jurisdiction, and the yearly Quarter in which the incident was reported. In total, the dataset has 1828 rows and 15 columns. I choose to examine racial, religious, and sexual orientation related hate crimes specifically.\n",
    "\n",
    "    \n",
    "Upon seeing my dataset, I raised three questions:\n",
    "                                         \n",
    "  > Is there a significant relation between crimes being comitted at the first and last quarters, and second and     third quarters of the year?\n",
    "               \n",
    "   > Which was the most common hate crime?\n",
    "   \n",
    "   >  Are hate crimes more prevalent in cities, counties, non metropolitan counties, or higher-ed campuses? \n",
    "     \n",
    "  And seek to answer all three using staticical analysis and visualization. \n",
    "    \n",
    "\n"
   ]
  },
  {
   "cell_type": "markdown",
   "metadata": {},
   "source": [
    " ## Analytic Questions "
   ]
  },
  {
   "cell_type": "code",
   "execution_count": 1,
   "metadata": {},
   "outputs": [],
   "source": [
    "import matplotlib.pyplot as plt\n",
    "import numpy as np\n",
    "import pandas as pd\n",
    "%matplotlib inline"
   ]
  },
  {
   "cell_type": "code",
   "execution_count": 2,
   "metadata": {},
   "outputs": [
    {
     "data": {
      "text/html": [
       "<div>\n",
       "<style scoped>\n",
       "    .dataframe tbody tr th:only-of-type {\n",
       "        vertical-align: middle;\n",
       "    }\n",
       "\n",
       "    .dataframe tbody tr th {\n",
       "        vertical-align: top;\n",
       "    }\n",
       "\n",
       "    .dataframe thead th {\n",
       "        text-align: right;\n",
       "    }\n",
       "</style>\n",
       "<table border=\"1\" class=\"dataframe\">\n",
       "  <thead>\n",
       "    <tr style=\"text-align: right;\">\n",
       "      <th></th>\n",
       "      <th>Race</th>\n",
       "      <th>Religion</th>\n",
       "      <th>Sexual orientation</th>\n",
       "      <th>Ethnicity</th>\n",
       "      <th>Disability</th>\n",
       "      <th>Gender Identity</th>\n",
       "      <th>1st quarter</th>\n",
       "      <th>2nd quarter</th>\n",
       "      <th>3rd quarter</th>\n",
       "      <th>4th quarter</th>\n",
       "    </tr>\n",
       "  </thead>\n",
       "  <tbody>\n",
       "    <tr>\n",
       "      <th>count</th>\n",
       "      <td>1826.000000</td>\n",
       "      <td>1826.000000</td>\n",
       "      <td>1826.000000</td>\n",
       "      <td>1826.000000</td>\n",
       "      <td>1826.000000</td>\n",
       "      <td>1824.000000</td>\n",
       "      <td>1797.000000</td>\n",
       "      <td>1790.000000</td>\n",
       "      <td>1798.000000</td>\n",
       "      <td>1782.000000</td>\n",
       "    </tr>\n",
       "    <tr>\n",
       "      <th>mean</th>\n",
       "      <td>1.572837</td>\n",
       "      <td>0.565170</td>\n",
       "      <td>0.677437</td>\n",
       "      <td>0.358708</td>\n",
       "      <td>0.045455</td>\n",
       "      <td>0.016996</td>\n",
       "      <td>0.703951</td>\n",
       "      <td>0.924581</td>\n",
       "      <td>0.932147</td>\n",
       "      <td>0.749719</td>\n",
       "    </tr>\n",
       "    <tr>\n",
       "      <th>std</th>\n",
       "      <td>4.081956</td>\n",
       "      <td>4.022999</td>\n",
       "      <td>3.195289</td>\n",
       "      <td>1.379308</td>\n",
       "      <td>0.365069</td>\n",
       "      <td>0.307587</td>\n",
       "      <td>2.250526</td>\n",
       "      <td>3.206061</td>\n",
       "      <td>3.262212</td>\n",
       "      <td>2.988503</td>\n",
       "    </tr>\n",
       "    <tr>\n",
       "      <th>min</th>\n",
       "      <td>0.000000</td>\n",
       "      <td>0.000000</td>\n",
       "      <td>0.000000</td>\n",
       "      <td>0.000000</td>\n",
       "      <td>0.000000</td>\n",
       "      <td>0.000000</td>\n",
       "      <td>0.000000</td>\n",
       "      <td>0.000000</td>\n",
       "      <td>0.000000</td>\n",
       "      <td>0.000000</td>\n",
       "    </tr>\n",
       "    <tr>\n",
       "      <th>25%</th>\n",
       "      <td>0.000000</td>\n",
       "      <td>0.000000</td>\n",
       "      <td>0.000000</td>\n",
       "      <td>0.000000</td>\n",
       "      <td>0.000000</td>\n",
       "      <td>0.000000</td>\n",
       "      <td>0.000000</td>\n",
       "      <td>0.000000</td>\n",
       "      <td>0.000000</td>\n",
       "      <td>0.000000</td>\n",
       "    </tr>\n",
       "    <tr>\n",
       "      <th>50%</th>\n",
       "      <td>1.000000</td>\n",
       "      <td>0.000000</td>\n",
       "      <td>0.000000</td>\n",
       "      <td>0.000000</td>\n",
       "      <td>0.000000</td>\n",
       "      <td>0.000000</td>\n",
       "      <td>0.000000</td>\n",
       "      <td>0.000000</td>\n",
       "      <td>0.000000</td>\n",
       "      <td>0.000000</td>\n",
       "    </tr>\n",
       "    <tr>\n",
       "      <th>75%</th>\n",
       "      <td>1.000000</td>\n",
       "      <td>1.000000</td>\n",
       "      <td>1.000000</td>\n",
       "      <td>0.000000</td>\n",
       "      <td>0.000000</td>\n",
       "      <td>0.000000</td>\n",
       "      <td>1.000000</td>\n",
       "      <td>1.000000</td>\n",
       "      <td>1.000000</td>\n",
       "      <td>1.000000</td>\n",
       "    </tr>\n",
       "    <tr>\n",
       "      <th>max</th>\n",
       "      <td>88.000000</td>\n",
       "      <td>152.000000</td>\n",
       "      <td>99.000000</td>\n",
       "      <td>36.000000</td>\n",
       "      <td>12.000000</td>\n",
       "      <td>12.000000</td>\n",
       "      <td>56.000000</td>\n",
       "      <td>84.000000</td>\n",
       "      <td>81.000000</td>\n",
       "      <td>93.000000</td>\n",
       "    </tr>\n",
       "  </tbody>\n",
       "</table>\n",
       "</div>"
      ],
      "text/plain": [
       "              Race     Religion  Sexual orientation    Ethnicity   Disability  \\\n",
       "count  1826.000000  1826.000000         1826.000000  1826.000000  1826.000000   \n",
       "mean      1.572837     0.565170            0.677437     0.358708     0.045455   \n",
       "std       4.081956     4.022999            3.195289     1.379308     0.365069   \n",
       "min       0.000000     0.000000            0.000000     0.000000     0.000000   \n",
       "25%       0.000000     0.000000            0.000000     0.000000     0.000000   \n",
       "50%       1.000000     0.000000            0.000000     0.000000     0.000000   \n",
       "75%       1.000000     1.000000            1.000000     0.000000     0.000000   \n",
       "max      88.000000   152.000000           99.000000    36.000000    12.000000   \n",
       "\n",
       "       Gender Identity  1st quarter  2nd quarter  3rd quarter  4th quarter  \n",
       "count      1824.000000  1797.000000  1790.000000  1798.000000  1782.000000  \n",
       "mean          0.016996     0.703951     0.924581     0.932147     0.749719  \n",
       "std           0.307587     2.250526     3.206061     3.262212     2.988503  \n",
       "min           0.000000     0.000000     0.000000     0.000000     0.000000  \n",
       "25%           0.000000     0.000000     0.000000     0.000000     0.000000  \n",
       "50%           0.000000     0.000000     0.000000     0.000000     0.000000  \n",
       "75%           0.000000     1.000000     1.000000     1.000000     1.000000  \n",
       "max          12.000000    56.000000    84.000000    81.000000    93.000000  "
      ]
     },
     "execution_count": 2,
     "metadata": {},
     "output_type": "execute_result"
    }
   ],
   "source": [
    "hatecrimes = pd.read_csv('hatecrime.csv')\n",
    "hatecrimes.describe()"
   ]
  },
  {
   "cell_type": "markdown",
   "metadata": {},
   "source": [
    "### 1) Is there a significant relation between crimes being comitted at the first and last quarters, and second and third quarters of the year?"
   ]
  },
  {
   "cell_type": "code",
   "execution_count": 3,
   "metadata": {},
   "outputs": [
    {
     "data": {
      "text/plain": [
       "<matplotlib.collections.PathCollection at 0x118203b70>"
      ]
     },
     "execution_count": 3,
     "metadata": {},
     "output_type": "execute_result"
    },
    {
     "data": {
      "image/png": "[encoded data removed]",
      "text/plain": [
       "<Figure size 432x288 with 1 Axes>"
      ]
     },
     "metadata": {
      "needs_background": "light"
     },
     "output_type": "display_data"
    }
   ],
   "source": [
    "#scatter plot and histogram plot \n",
    "\n",
    "#Is there a relation between crimes being comitted at the first and last quarters, and second and third quarters? \n",
    "quarter1 = hatecrimes.loc[:, '1st quarter']\n",
    "quarter2 = hatecrimes.loc[:, '2nd quarter']\n",
    "quarter3 = hatecrimes.loc[:, '3rd quarter']\n",
    "quarter4 = hatecrimes.loc[:, '4th quarter']\n",
    "\n",
    "\n",
    "\n",
    "plt.scatter(x=quarter4, y=quarter1, color = 'green')\n",
    "plt.scatter(x=quarter3, y=quarter2, color = 'red')\n",
    "\n",
    "# Show means and variance between the two groups"
   ]
  },
  {
   "cell_type": "markdown",
   "metadata": {},
   "source": [
    "This scatterplot examines whether there is correlation between the middle quarters of the year and incidient reports as well as correlation between the first and last quarters of the year for reporting. The fanning of the datapoints suggest that no correlation exist among both sets of variables. "
   ]
  },
  {
   "cell_type": "code",
   "execution_count": 4,
   "metadata": {},
   "outputs": [
    {
     "data": {
      "text/plain": [
       "[<matplotlib.lines.Line2D at 0x11825e358>]"
      ]
     },
     "execution_count": 4,
     "metadata": {},
     "output_type": "execute_result"
    },
    {
     "data": {
      "image/png": "[encoded data removed]",
      "text/plain": [
       "<Figure size 432x288 with 1 Axes>"
      ]
     },
     "metadata": {
      "needs_background": "light"
     },
     "output_type": "display_data"
    }
   ],
   "source": [
    "plt.plot(quarter1, color = 'blue')\n",
    "plt.plot(quarter2, color = 'red')\n",
    "plt.plot(quarter3,  color = 'purple')\n",
    "plt.plot(quarter4, color = 'green')"
   ]
  },
  {
   "cell_type": "markdown",
   "metadata": {},
   "source": [
    "This linechart further examines the rate of occurance for each quarter and also show a lack of linearity for each of  the different quarters. It also conveys that zero incidents were reported for places. "
   ]
  },
  {
   "cell_type": "markdown",
   "metadata": {},
   "source": [
    "### 2) What is the most common hate crime committed? "
   ]
  },
  {
   "cell_type": "code",
   "execution_count": 5,
   "metadata": {},
   "outputs": [
    {
     "data": {
      "image/png": "[encoded data removed]",
      "text/plain": [
       "<Figure size 432x288 with 1 Axes>"
      ]
     },
     "metadata": {
      "needs_background": "light"
     },
     "output_type": "display_data"
    }
   ],
   "source": [
    "# Create a bar graph and histogram \n",
    "\n",
    "religion = hatecrimes.loc[:, 'Religion']\n",
    "so = hatecrimes.loc[:, 'Sexual orientation']\n",
    "race = hatecrimes.loc[:,'Race']\n",
    "\n",
    "plt.hist(religion, density=True, bins= 200, color='blue')\n",
    "plt.hist(race, density=True, bins=200, color = 'red')\n",
    "plt.hist(so, density=True, bins=200, color = 'green')\n",
    "\n",
    "plt.title('Distribution of religous, racial, and sexual orientation hate crimes Across America in 2013 ')\n",
    "plt.show()"
   ]
  },
  {
   "cell_type": "markdown",
   "metadata": {},
   "source": [
    "The data is heavily rightskewed, however the emergence of red demonstrates suggest a slightly higher rate of racial incidences. Further statistical analysis of the mean and variance for each kind of crime confirms this. "
   ]
  },
  {
   "cell_type": "code",
   "execution_count": 12,
   "metadata": {},
   "outputs": [
    {
     "name": "stdout",
     "output_type": "stream",
     "text": [
      "16.66236312622845\n",
      "16.18451769718975\n",
      "10.209868715209529\n"
     ]
    }
   ],
   "source": [
    "print(hatecrimes['Race'].var()) \n",
    "print(hatecrimes['Religion'].var())\n",
    "print(hatecrimes['Sexual orientation'].var())\n",
    "\n"
   ]
  },
  {
   "cell_type": "code",
   "execution_count": 7,
   "metadata": {},
   "outputs": [
    {
     "name": "stdout",
     "output_type": "stream",
     "text": [
      "1.5728368017524643\n",
      "0.5651697699890471\n",
      "0.6774370208105148\n"
     ]
    }
   ],
   "source": [
    "print(np.mean(hatecrimes['Race']))\n",
    "print(np.mean(hatecrimes['Religion']))\n",
    "print(np.mean(hatecrimes['Sexual orientation']))\n"
   ]
  },
  {
   "cell_type": "code",
   "execution_count": 8,
   "metadata": {},
   "outputs": [
    {
     "data": {
      "text/plain": [
       "Text(0.5, 1.0, 'Distribution of religous, racial, and sexual orientation hate crimes Across America in 2013 ')"
      ]
     },
     "execution_count": 8,
     "metadata": {},
     "output_type": "execute_result"
    },
    {
     "data": {
      "image/png": "[encoded data removed]",
      "text/plain": [
       "<Figure size 432x288 with 1 Axes>"
      ]
     },
     "metadata": {
      "needs_background": "light"
     },
     "output_type": "display_data"
    }
   ],
   "source": [
    "plt.bar(hatecrimes['Race'],hatecrimes['Race'])#blue \n",
    "plt.bar(hatecrimes['Religion'],hatecrimes['Religion'])#orange\n",
    "plt.bar(hatecrimes['Sexual orientation'],hatecrimes['Sexual orientation'])#green\n",
    "plt.title('Rate of religous, racial, and sexual orientation hate crimes Across America in 2013 ')\n"
   ]
  },
  {
   "cell_type": "markdown",
   "metadata": {},
   "source": [
    "While there is a simliar amount of variance between religious hate crimes and racial hate crimes, the mean is significantlly higher for racial hate crimes further suggusting a higher rate of occurance. The bar graph reveals a large outlier in religious hate crimes which may explain a similar amount of variance as the rate of racial hate crimes but a lower mean. Sexual orientation hate crimes have fewer places with significant incidence rates, but deomstrates a visual similar to the other hate crimes, explanning its low variance but similar mean. \n",
    "\n"
   ]
  },
  {
   "cell_type": "code",
   "execution_count": null,
   "metadata": {},
   "outputs": [],
   "source": []
  },
  {
   "cell_type": "markdown",
   "metadata": {},
   "source": [
    "### 3) Which jurisdcition type had the greatest occurance of hate crimes? "
   ]
  },
  {
   "cell_type": "code",
   "execution_count": 9,
   "metadata": {},
   "outputs": [
    {
     "data": {
      "text/html": [
       "<div>\n",
       "<style scoped>\n",
       "    .dataframe tbody tr th:only-of-type {\n",
       "        vertical-align: middle;\n",
       "    }\n",
       "\n",
       "    .dataframe tbody tr th {\n",
       "        vertical-align: top;\n",
       "    }\n",
       "\n",
       "    .dataframe thead th {\n",
       "        text-align: right;\n",
       "    }\n",
       "</style>\n",
       "<table border=\"1\" class=\"dataframe\">\n",
       "  <thead>\n",
       "    <tr style=\"text-align: right;\">\n",
       "      <th></th>\n",
       "      <th>Race</th>\n",
       "      <th>Religion</th>\n",
       "      <th>Sexual orientation</th>\n",
       "      <th>Ethnicity</th>\n",
       "      <th>Disability</th>\n",
       "      <th>Gender Identity</th>\n",
       "      <th>1st quarter</th>\n",
       "      <th>2nd quarter</th>\n",
       "      <th>3rd quarter</th>\n",
       "      <th>4th quarter</th>\n",
       "    </tr>\n",
       "    <tr>\n",
       "      <th>Agency type</th>\n",
       "      <th></th>\n",
       "      <th></th>\n",
       "      <th></th>\n",
       "      <th></th>\n",
       "      <th></th>\n",
       "      <th></th>\n",
       "      <th></th>\n",
       "      <th></th>\n",
       "      <th></th>\n",
       "      <th></th>\n",
       "    </tr>\n",
       "  </thead>\n",
       "  <tbody>\n",
       "    <tr>\n",
       "      <th>Cities</th>\n",
       "      <td>2280</td>\n",
       "      <td>783</td>\n",
       "      <td>1022</td>\n",
       "      <td>501</td>\n",
       "      <td>65</td>\n",
       "      <td>28.0</td>\n",
       "      <td>1006.0</td>\n",
       "      <td>1330.0</td>\n",
       "      <td>1329.0</td>\n",
       "      <td>1031.0</td>\n",
       "    </tr>\n",
       "    <tr>\n",
       "      <th>Metropolitan Counties</th>\n",
       "      <td>363</td>\n",
       "      <td>158</td>\n",
       "      <td>122</td>\n",
       "      <td>118</td>\n",
       "      <td>10</td>\n",
       "      <td>2.0</td>\n",
       "      <td>151.0</td>\n",
       "      <td>218.0</td>\n",
       "      <td>221.0</td>\n",
       "      <td>183.0</td>\n",
       "    </tr>\n",
       "    <tr>\n",
       "      <th>Nonmetropolitan Counties</th>\n",
       "      <td>83</td>\n",
       "      <td>16</td>\n",
       "      <td>18</td>\n",
       "      <td>14</td>\n",
       "      <td>7</td>\n",
       "      <td>0.0</td>\n",
       "      <td>23.0</td>\n",
       "      <td>33.0</td>\n",
       "      <td>46.0</td>\n",
       "      <td>36.0</td>\n",
       "    </tr>\n",
       "    <tr>\n",
       "      <th>Other Agencies</th>\n",
       "      <td>23</td>\n",
       "      <td>20</td>\n",
       "      <td>6</td>\n",
       "      <td>3</td>\n",
       "      <td>0</td>\n",
       "      <td>0.0</td>\n",
       "      <td>12.0</td>\n",
       "      <td>13.0</td>\n",
       "      <td>17.0</td>\n",
       "      <td>10.0</td>\n",
       "    </tr>\n",
       "    <tr>\n",
       "      <th>State Police Agencies</th>\n",
       "      <td>30</td>\n",
       "      <td>17</td>\n",
       "      <td>16</td>\n",
       "      <td>8</td>\n",
       "      <td>0</td>\n",
       "      <td>0.0</td>\n",
       "      <td>21.0</td>\n",
       "      <td>21.0</td>\n",
       "      <td>19.0</td>\n",
       "      <td>11.0</td>\n",
       "    </tr>\n",
       "    <tr>\n",
       "      <th>Universities and Colleges</th>\n",
       "      <td>93</td>\n",
       "      <td>38</td>\n",
       "      <td>53</td>\n",
       "      <td>11</td>\n",
       "      <td>1</td>\n",
       "      <td>1.0</td>\n",
       "      <td>52.0</td>\n",
       "      <td>40.0</td>\n",
       "      <td>44.0</td>\n",
       "      <td>65.0</td>\n",
       "    </tr>\n",
       "  </tbody>\n",
       "</table>\n",
       "</div>"
      ],
      "text/plain": [
       "                           Race  Religion  Sexual orientation  Ethnicity  \\\n",
       "Agency type                                                                \n",
       "Cities                     2280       783                1022        501   \n",
       "Metropolitan Counties       363       158                 122        118   \n",
       "Nonmetropolitan Counties     83        16                  18         14   \n",
       "Other Agencies               23        20                   6          3   \n",
       "State Police Agencies        30        17                  16          8   \n",
       "Universities and Colleges    93        38                  53         11   \n",
       "\n",
       "                           Disability  Gender Identity  1st quarter  \\\n",
       "Agency type                                                           \n",
       "Cities                             65             28.0       1006.0   \n",
       "Metropolitan Counties              10              2.0        151.0   \n",
       "Nonmetropolitan Counties            7              0.0         23.0   \n",
       "Other Agencies                      0              0.0         12.0   \n",
       "State Police Agencies               0              0.0         21.0   \n",
       "Universities and Colleges           1              1.0         52.0   \n",
       "\n",
       "                           2nd quarter  3rd quarter  4th quarter  \n",
       "Agency type                                                       \n",
       "Cities                          1330.0       1329.0       1031.0  \n",
       "Metropolitan Counties            218.0        221.0        183.0  \n",
       "Nonmetropolitan Counties          33.0         46.0         36.0  \n",
       "Other Agencies                    13.0         17.0         10.0  \n",
       "State Police Agencies             21.0         19.0         11.0  \n",
       "Universities and Colleges         40.0         44.0         65.0  "
      ]
     },
     "execution_count": 9,
     "metadata": {},
     "output_type": "execute_result"
    }
   ],
   "source": [
    "hatecrimes.groupby('Agency type').sum()\n"
   ]
  },
  {
   "cell_type": "code",
   "execution_count": 10,
   "metadata": {
    "scrolled": true
   },
   "outputs": [
    {
     "data": {
      "text/plain": [
       "Text(0.5, 1.0, 'Distribution of hate crimes by location type Across America in 2013 ')"
      ]
     },
     "execution_count": 10,
     "metadata": {},
     "output_type": "execute_result"
    },
    {
     "data": {
      "image/png": "[encoded data removed]",
      "text/plain": [
       "<Figure size 432x288 with 1 Axes>"
      ]
     },
     "metadata": {
      "needs_background": "light"
     },
     "output_type": "display_data"
    }
   ],
   "source": [
    "place_data = pd.DataFrame()\n",
    "\n",
    "place_data['racial crimes'] = [2280, 363, 83, 93]\n",
    "place_data['religious crimes'] = [783, 158, 16, 38]\n",
    "place_data['sexual orientation'] = [1022, 122,18,53]\n",
    "place_data['total incidents'] = place_data['racial crimes'] + place_data['religious crimes'] + place_data['sexual orientation'] \n",
    "plt.boxplot(place_data)\n",
    "plt.title('Distribution of hate crimes by location type Across America in 2013 ')\n",
    "\n"
   ]
  },
  {
   "cell_type": "markdown",
   "metadata": {},
   "source": [
    "These boxplots are visualizations of the distribution of total crimes split by location type. The first represents cities, the second metro counties, the third nonmetro counties, and the last higher ed spaces. While further conveying the abundance of city incidents, this  box plot also conveys the amount of variance in city incidents being the greatest. "
   ]
  },
  {
   "cell_type": "code",
   "execution_count": 11,
   "metadata": {
    "scrolled": true
   },
   "outputs": [
    {
     "data": {
      "text/plain": [
       "Text(0.5, 1.0, 'Amount of crimes by location type')"
      ]
     },
     "execution_count": 11,
     "metadata": {},
     "output_type": "execute_result"
    },
    {
     "data": {
      "image/png": "[encoded data removed]",
      "text/plain": [
       "<Figure size 432x288 with 1 Axes>"
      ]
     },
     "metadata": {
      "needs_background": "light"
     },
     "output_type": "display_data"
    }
   ],
   "source": [
    "place_data['names'] = ['City', 'Metro\\nCounties', 'Nonmetro\\n counties', 'Universities\\n/College']\n",
    "place_data.index = place_data['names']\n",
    "\n",
    "plt.bar(place_data['names'],place_data['total incidents'])\n",
    "plt.ylabel('total incidents')\n",
    "plt.title('Amount of crimes by location type')\n"
   ]
  },
  {
   "cell_type": "markdown",
   "metadata": {},
   "source": [
    "Over the types of jurisdictions or location types I examined, cities were overwhelming represented in the data. Incidents that occur in cities are more common than each of the other location types combnied. This finding, however, makes sense as cities tend to be more diverse than the other location types, and more populous in general."
   ]
  },
  {
   "cell_type": "markdown",
   "metadata": {},
   "source": [
    "## Further Quetions and Next Steps \n",
    "\n",
    "\n",
    "\n",
    "In conclusion, there seems to be no correlation among which quarters of the year crimes are comitted. Racial hate crimes were the most common type of crime, and these crimes were overwhelmingly perpetrated in cities. However, there are more questions to be raised. \n",
    "\n",
    "\n",
    "\n",
    "   Upon grouping the data by jurisdiction type, the data demonstrates that incidences overwhelmingly occur in cities. Is this a matter of cities or are cities overly represented due to higher population numbers? Further investigation into population numbers may reveal that relationship. \n",
    "    \n",
    "-  Population numbers are included in the dataset but as a string. In order to answer this question, I would convert population numbers to integers, and compute a ratio of total incidents to the total population. Then I would plot the findings and conduct a statistical test to find a correlation.\n",
    "\n",
    "<br>\n",
    "  Additionally, what revelations would be revealed by grouping states regionally?\n",
    "    \n",
    "-  To accomplish this task, I would categorize each state into one of five regions according to their geographic position on the continent: the Northeast, Southwest, West, Southeast, and Midwest. I would conduct a similar analysis to see how the difference in jurisdictions and kind of crimes committed differ by region. \n",
    "\n",
    "\n",
    "  In 2017, the [dramtic increase](https://www.theguardian.com/us-news/2018/nov/13/fbi-data-hate-crimes-rise-us-reportin) in hate crimes made a number of national headlines.  Are these increases an anomaly or on par with prior data? Can the dramatic increase in hate crimes in 2017 be predicted from trends in prior hate crime data? Would this model capture predict the rise in hate crimes in 2017? \n",
    "-  To accomplish this task, I would train a predictive model on the prior hate crime data collected by the same organization. I would evaluate where the model had ample predictions and where the model's predictions were further off from what was reported for 2017. \n",
    "\n",
    "\n",
    "\n"
   ]
  },
  {
   "cell_type": "code",
   "execution_count": null,
   "metadata": {},
   "outputs": [],
   "source": []
  },
  {
   "cell_type": "code",
   "execution_count": null,
   "metadata": {},
   "outputs": [],
   "source": []
  }
 ],
 "metadata": {
  "kernelspec": {
   "display_name": "Python 3",
   "language": "python",
   "name": "python3"
  },
  "language_info": {
   "codemirror_mode": {
    "name": "ipython",
    "version": 3
   },
   "file_extension": ".py",
   "mimetype": "text/x-python",
   "name": "python",
   "nbconvert_exporter": "python",
   "pygments_lexer": "ipython3",
   "version": "3.7.1"
  }
 },
 "nbformat": 4,
 "nbformat_minor": 2
}
