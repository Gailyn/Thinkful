{
  "nbformat": 4,
  "nbformat_minor": 0,
  "metadata": {
    "colab": {
      "name": "Unit5final.ipynb",
      "provenance": []
    },
    "kernelspec": {
      "name": "python3",
      "display_name": "Python 3"
    }
  },
  "cells": [
    {
      "cell_type": "code",
      "metadata": {
        "id": "cQD0_wKDC5nj",
        "colab_type": "code",
        "colab": {}
      },
      "source": [
        "import pandas as pd\n",
        "import numpy as np\n",
        "import matplotlib.pyplot as plt\n",
        "import seaborn as sns\n",
        "import scipy.stats as stats\n",
        "\n",
        "# Set the default plot aesthetics to be prettier.\n",
        "sns.set_style(\"white\")"
      ],
      "execution_count": 0,
      "outputs": []
    },
    {
      "cell_type": "code",
      "metadata": {
        "id": "JwLwvT48C8K8",
        "colab_type": "code",
        "outputId": "ed230598-6494-437c-aa95-005154ba6adc",
        "colab": {
          "base_uri": "https://localhost:8080/",
          "height": 173
        }
      },
      "source": [
        "\n",
        "df = pd.read_csv(\"https://raw.githubusercontent.com/Thinkful-Ed/data-201-resources/master/ESS_practice_data/ESSdata_Thinkful.csv\")\n",
        "\n",
        "print(df.head())\n",
        "\n",
        "print(df.cntry.unique())"
      ],
      "execution_count": 2,
      "outputs": [
        {
          "output_type": "stream",
          "text": [
            "  cntry  idno  year  tvtot  ppltrst  ...  sclmeet  sclact  gndr  agea  partner\n",
            "0    CH   5.0     6    3.0      3.0  ...      5.0     4.0   2.0  60.0      1.0\n",
            "1    CH  25.0     6    6.0      5.0  ...      3.0     2.0   2.0  59.0      1.0\n",
            "2    CH  26.0     6    1.0      8.0  ...      6.0     3.0   1.0  24.0      2.0\n",
            "3    CH  28.0     6    4.0      6.0  ...      6.0     2.0   2.0  64.0      1.0\n",
            "4    CH  29.0     6    5.0      6.0  ...      7.0     2.0   2.0  55.0      1.0\n",
            "\n",
            "[5 rows x 13 columns]\n",
            "['CH' 'CZ' 'DE' 'ES' 'NO' 'SE']\n"
          ],
          "name": "stdout"
        }
      ]
    },
    {
      "cell_type": "code",
      "metadata": {
        "id": "yt6oR5PtdFBC",
        "colab_type": "code",
        "colab": {}
      },
      "source": [
        "\n",
        "ch = df[df.cntry=='CH']\n",
        "cz = df[df.cntry=='CZ']\n",
        "de = df[df.cntry=='DE']\n",
        "es = df[df.cntry=='ES']\n",
        "no = df[df.cntry=='NO']\n",
        "se = df[df.cntry=='SE']"
      ],
      "execution_count": 0,
      "outputs": []
    },
    {
      "cell_type": "code",
      "metadata": {
        "id": "AiYDDGV0dMTt",
        "colab_type": "code",
        "colab": {}
      },
      "source": [
        "\n",
        "ch_happy = ch[ch.year==6]['happy'].reset_index(drop=True) - ch[ch.year==7]['happy'].reset_index(drop=True)\n",
        "cz_happy = cz[cz.year==6]['happy'].reset_index(drop=True) - cz[cz.year==7]['happy'].reset_index(drop=True)\n",
        "de_happy = de[de.year==6]['happy'].reset_index(drop=True) - de[de.year==7]['happy'].reset_index(drop=True)\n",
        "es_happy = es[es.year==6]['happy'].reset_index(drop=True) - es[es.year==7]['happy'].reset_index(drop=True)\n",
        "no_happy = no[no.year==6]['happy'].reset_index(drop=True) - no[no.year==7]['happy'].reset_index(drop=True)\n",
        "se_happy = se[se.year==6]['happy'].reset_index(drop=True) - se[se.year==7]['happy'].reset_index(drop=True)"
      ],
      "execution_count": 0,
      "outputs": []
    },
    {
      "cell_type": "code",
      "metadata": {
        "id": "Zd2B7O5UdQTF",
        "colab_type": "code",
        "colab": {}
      },
      "source": [
        "ch_ppltrst = ch[ch.year==6]['ppltrst'].reset_index(drop=True) - ch[ch.year==7]['ppltrst'].reset_index(drop=True)\n",
        "cz_ppltrst = cz[cz.year==6]['ppltrst'].reset_index(drop=True) - cz[cz.year==7]['ppltrst'].reset_index(drop=True)\n",
        "de_ppltrst = de[de.year==6]['ppltrst'].reset_index(drop=True) - de[de.year==7]['ppltrst'].reset_index(drop=True)\n",
        "es_ppltrst = es[es.year==6]['ppltrst'].reset_index(drop=True) - es[es.year==7]['ppltrst'].reset_index(drop=True)\n",
        "no_ppltrst = no[no.year==6]['ppltrst'].reset_index(drop=True) - no[no.year==7]['ppltrst'].reset_index(drop=True)\n",
        "se_ppltrst = se[se.year==6]['ppltrst'].reset_index(drop=True) - se[se.year==7]['ppltrst'].reset_index(drop=True)"
      ],
      "execution_count": 0,
      "outputs": []
    },
    {
      "cell_type": "markdown",
      "metadata": {
        "id": "Chjet3uCaGfy",
        "colab_type": "text"
      },
      "source": [
        "#Question 1 "
      ]
    },
    {
      "cell_type": "code",
      "metadata": {
        "id": "QJ9dkqkmdWAf",
        "colab_type": "code",
        "colab": {
          "base_uri": "https://localhost:8080/",
          "height": 281
        },
        "outputId": "75f7626c-fe74-4fa5-9870-af37360321ee"
      },
      "source": [
        "happiness = pd.DataFrame()\n",
        "trust = pd.DataFrame()\n",
        "\n",
        "happiness['ch'] = ch_happy\n",
        "happiness['cz'] = cz_happy\n",
        "happiness['de'] = de_happy\n",
        "happiness['es'] = es_happy\n",
        "happiness['no'] = no_happy\n",
        "happiness['se'] = se_happy\n",
        "\n",
        "trust['ch'] = ch_ppltrst\n",
        "trust['cz'] = cz_ppltrst\n",
        "trust['de'] = de_ppltrst\n",
        "trust['es'] = es_ppltrst\n",
        "trust['no'] = no_ppltrst\n",
        "trust['se'] = se_ppltrst\n",
        "\n",
        "# visualize the data\n",
        "trust.hist(sharey=True,sharex=True)\n",
        "plt.show()"
      ],
      "execution_count": 6,
      "outputs": [
        {
          "output_type": "display_data",
          "data": {
            "image/png": "[encoded data removed]",
            "text/plain": [
              "<Figure size 432x288 with 6 Axes>"
            ]
          },
          "metadata": {
            "tags": []
          }
        }
      ]
    },
    {
      "cell_type": "code",
      "metadata": {
        "id": "IxlXLlvOdnUZ",
        "colab_type": "code",
        "colab": {
          "base_uri": "https://localhost:8080/",
          "height": 281
        },
        "outputId": "879a7f75-6862-4455-99e0-c7a0f07170d3"
      },
      "source": [
        "# visualize happiness\n",
        "happiness.hist(sharey=True,sharex=True)\n",
        "plt.show()"
      ],
      "execution_count": 31,
      "outputs": [
        {
          "output_type": "display_data",
          "data": {
            "image/png": "[encoded data removed]",
            "text/plain": [
              "<Figure size 432x288 with 6 Axes>"
            ]
          },
          "metadata": {
            "tags": []
          }
        }
      ]
    },
    {
      "cell_type": "code",
      "metadata": {
        "id": "1SuDDjpSdtHJ",
        "colab_type": "code",
        "colab": {
          "base_uri": "https://localhost:8080/",
          "height": 402
        },
        "outputId": "b2716102-0bc1-4a54-8e16-42602d23e961"
      },
      "source": [
        "\n",
        "# Printing the means for each country for trust.\n",
        "print(trust.mean())\n",
        "\n",
        "trust.boxplot()\n",
        "plt.title('Trust Changes 2012 to 2014 by Country')\n",
        "plt.show()"
      ],
      "execution_count": 8,
      "outputs": [
        {
          "output_type": "stream",
          "text": [
            "ch   -0.073739\n",
            "cz   -0.067692\n",
            "de   -0.142857\n",
            "es    0.075130\n",
            "no    0.048011\n",
            "se   -0.295337\n",
            "dtype: float64\n"
          ],
          "name": "stdout"
        },
        {
          "output_type": "display_data",
          "data": {
            "image/png": "[encoded data removed]",
            "text/plain": [
              "<Figure size 432x288 with 1 Axes>"
            ]
          },
          "metadata": {
            "tags": []
          }
        }
      ]
    },
    {
      "cell_type": "code",
      "metadata": {
        "id": "XtGR65Mnd0u5",
        "colab_type": "code",
        "colab": {
          "base_uri": "https://localhost:8080/",
          "height": 35
        },
        "outputId": "80adcd4e-a8d4-4a47-e75f-ca293da53949"
      },
      "source": [
        "stats.ttest_rel(ch[ch.year==6]['ppltrst'],ch[ch.year==7]['ppltrst'])\n",
        "\n",
        "stats.ttest_rel(cz[cz.year==6]['ppltrst'],cz[cz.year==7]['ppltrst'],nan_policy='omit' )\n",
        "\n",
        "\n",
        "stats.ttest_rel(de[de.year==6]['ppltrst'],de[de.year==7]['ppltrst'])\n",
        "\n",
        "stats.ttest_rel(es[es.year==6]['ppltrst'],es[es.year==7]['ppltrst'],nan_policy='omit' )\n",
        "\n",
        "stats.ttest_rel(no[no.year==6]['ppltrst'],no[no.year==7]['ppltrst'],nan_policy='omit' )\n",
        "\n",
        "stats.ttest_rel(se[se.year==6]['ppltrst'],se[se.year==7]['ppltrst'],nan_policy='omit' )"
      ],
      "execution_count": 9,
      "outputs": [
        {
          "output_type": "execute_result",
          "data": {
            "text/plain": [
              "Ttest_relResult(statistic=-2.0671082026033982, pvalue=0.03900781670958545)"
            ]
          },
          "metadata": {
            "tags": []
          },
          "execution_count": 9
        }
      ]
    },
    {
      "cell_type": "markdown",
      "metadata": {
        "id": "4dlaoApIeXwS",
        "colab_type": "text"
      },
      "source": [
        "\n",
        "Question 1. \n",
        "While most countries had no significant changes in trust. \n",
        "People became less trusting in SE and more trusting in ES.\n"
      ]
    },
    {
      "cell_type": "markdown",
      "metadata": {
        "id": "bm7hBgI9awqA",
        "colab_type": "text"
      },
      "source": [
        "# Question 2"
      ]
    },
    {
      "cell_type": "code",
      "metadata": {
        "id": "iiZCl_rIedK3",
        "colab_type": "code",
        "colab": {
          "base_uri": "https://localhost:8080/",
          "height": 402
        },
        "outputId": "997fe23e-c83f-4279-b90f-4d4626addccb"
      },
      "source": [
        "# Printing the means for each country for happiness.\n",
        "print(happiness.mean())\n",
        "\n",
        "trust.boxplot()\n",
        "plt.title('Happiness Changes 2012 to 2014 by Country')\n",
        "plt.show()"
      ],
      "execution_count": 10,
      "outputs": [
        {
          "output_type": "stream",
          "text": [
            "ch   -0.023377\n",
            "cz   -0.162500\n",
            "de   -0.428571\n",
            "es    0.136187\n",
            "no    0.339752\n",
            "se    0.000000\n",
            "dtype: float64\n"
          ],
          "name": "stdout"
        },
        {
          "output_type": "display_data",
          "data": {
            "image/png": "[encoded data removed]",
            "text/plain": [
              "<Figure size 432x288 with 1 Axes>"
            ]
          },
          "metadata": {
            "tags": []
          }
        }
      ]
    },
    {
      "cell_type": "code",
      "metadata": {
        "id": "IeDnltBQeeWm",
        "colab_type": "code",
        "colab": {
          "base_uri": "https://localhost:8080/",
          "height": 35
        },
        "outputId": "e542d1bb-b4fc-4f78-ad6f-18b143186480"
      },
      "source": [
        "\n",
        "stats.ttest_rel(ch[ch.year==6]['happy'],ch[ch.year==7]['happy'],nan_policy='omit')\n",
        "stats.ttest_rel(cz[cz.year==6]['happy'],cz[cz.year==7]['happy'],nan_policy='omit')\n",
        "\n",
        "stats.ttest_rel(de[de.year==6]['happy'],de[de.year==7]['happy'],nan_policy='omit')\n",
        "stats.ttest_rel(es[es.year==6]['happy'],es[es.year==7]['happy'],nan_policy='omit')\n",
        "stats.ttest_rel(no[no.year==6]['happy'],no[no.year==7]['happy'],nan_policy='omit')\n",
        "stats.ttest_rel(se[se.year==6]['happy'],se[se.year==7]['happy'],nan_policy='omit')"
      ],
      "execution_count": 11,
      "outputs": [
        {
          "output_type": "execute_result",
          "data": {
            "text/plain": [
              "Ttest_relResult(statistic=-0.5581637086030012, pvalue=0.5768709591233714)"
            ]
          },
          "metadata": {
            "tags": []
          },
          "execution_count": 11
        }
      ]
    },
    {
      "cell_type": "markdown",
      "metadata": {
        "id": "q5QakSLCdEbz",
        "colab_type": "text"
      },
      "source": [
        "Question 2. Most counties showed no chanes in happiness except for NO. \n"
      ]
    },
    {
      "cell_type": "code",
      "metadata": {
        "id": "4vO6xEEXe-v1",
        "colab_type": "code",
        "colab": {}
      },
      "source": [
        "df_2012 = df[df.year==6]\n",
        "df_2012male = df_2012[df_2012.gndr==1]\n",
        "df_2012female = df_2012[df_2012.gndr==2]\n",
        "tvmale = df_2012male['tvtot']\n",
        "tvfemale = df_2012female['tvtot']"
      ],
      "execution_count": 0,
      "outputs": []
    },
    {
      "cell_type": "code",
      "metadata": {
        "id": "lhevXsRKg0RE",
        "colab_type": "code",
        "colab": {
          "base_uri": "https://localhost:8080/",
          "height": 315
        },
        "outputId": "c9220508-83c3-475d-8b7c-457e06e16d0b"
      },
      "source": [
        "print(\"Average tv viewing by TVTOT: 2012 males \",df_2012male['tvtot'].mean())\n",
        "\n",
        "print(\"Average tv viewing by TVTOT: 2012 Females \",df_2012female['tvtot'].mean())\n",
        "\n",
        "# visualize the data\n",
        "df_2012male['tvtot'].hist()\n",
        "df_2012female['tvtot'].hist()\n",
        "plt.title(\"2012 tvtot by Males (left) and Females\")\n",
        "plt.show()"
      ],
      "execution_count": 13,
      "outputs": [
        {
          "output_type": "stream",
          "text": [
            "Average tv viewing by TVTOT: 2012 males  3.901906090190609\n",
            "Average tv viewing by TVTOT: 2012 Females  3.944392523364486\n"
          ],
          "name": "stdout"
        },
        {
          "output_type": "display_data",
          "data": {
            "image/png": "[encoded data removed]",
            "text/plain": [
              "<Figure size 432x288 with 1 Axes>"
            ]
          },
          "metadata": {
            "tags": []
          }
        }
      ]
    },
    {
      "cell_type": "code",
      "metadata": {
        "id": "O3Iul4-eg3Kv",
        "colab_type": "code",
        "colab": {
          "base_uri": "https://localhost:8080/",
          "height": 35
        },
        "outputId": "6e6a45cc-a518-4dc0-cb02-30395d7ca647"
      },
      "source": [
        "stats.mannwhitneyu(tvmale, tvfemale, use_continuity=True, alternative='two-sided')\n"
      ],
      "execution_count": 14,
      "outputs": [
        {
          "output_type": "execute_result",
          "data": {
            "text/plain": [
              "MannwhitneyuResult(statistic=2277506.5, pvalue=0.44838540462382914)"
            ]
          },
          "metadata": {
            "tags": []
          },
          "execution_count": 14
        }
      ]
    },
    {
      "cell_type": "code",
      "metadata": {
        "id": "NDInWCBlg8BQ",
        "colab_type": "code",
        "colab": {}
      },
      "source": [
        ""
      ],
      "execution_count": 0,
      "outputs": []
    },
    {
      "cell_type": "markdown",
      "metadata": {
        "id": "UkCxyQ5qg8U0",
        "colab_type": "text"
      },
      "source": [
        " No significant differences among sex"
      ]
    },
    {
      "cell_type": "code",
      "metadata": {
        "id": "c9sgTrdAbTDm",
        "colab_type": "code",
        "colab": {}
      },
      "source": [
        ""
      ],
      "execution_count": 0,
      "outputs": []
    },
    {
      "cell_type": "markdown",
      "metadata": {
        "id": "1tGujDdPbTX9",
        "colab_type": "text"
      },
      "source": [
        "# Question 4"
      ]
    },
    {
      "cell_type": "code",
      "metadata": {
        "id": "IqucWdHTg8-2",
        "colab_type": "code",
        "colab": {}
      },
      "source": [
        "df2012partner = df_2012[df_2012.partner==1]\n",
        "df2012alone = df_2012[df_2012.partner==2]"
      ],
      "execution_count": 0,
      "outputs": []
    },
    {
      "cell_type": "code",
      "metadata": {
        "id": "dvxTgGNjhBxD",
        "colab_type": "code",
        "colab": {
          "base_uri": "https://localhost:8080/",
          "height": 52
        },
        "outputId": "18592579-3592-4ecd-dfdb-1a8324037406"
      },
      "source": [
        "\n",
        "print(\"Average PPLFAIR: 2012 with Partner \",df2012partner['pplfair'].mean())\n",
        "\n",
        "print(\"Average PPLFAIR: 2012 living alone \",df2012alone['pplfair'].mean())"
      ],
      "execution_count": 16,
      "outputs": [
        {
          "output_type": "stream",
          "text": [
            "Average PPLFAIR: 2012 with Partner  6.080736012016523\n",
            "Average PPLFAIR: 2012 living alone  5.856965174129353\n"
          ],
          "name": "stdout"
        }
      ]
    },
    {
      "cell_type": "code",
      "metadata": {
        "id": "6zsJKffLhHrB",
        "colab_type": "code",
        "colab": {
          "base_uri": "https://localhost:8080/",
          "height": 281
        },
        "outputId": "d2e2293a-dfcc-44d9-c03e-8a314d809db9"
      },
      "source": [
        "# visualize the data\n",
        "df2012partner['pplfair'].hist()\n",
        "df2012alone['pplfair'].hist()\n",
        "plt.title(\"2012 PPLFAIR by People with Partners and People Alone\")\n",
        "plt.show()"
      ],
      "execution_count": 17,
      "outputs": [
        {
          "output_type": "display_data",
          "data": {
            "image/png": "[encoded data removed]",
            "text/plain": [
              "<Figure size 432x288 with 1 Axes>"
            ]
          },
          "metadata": {
            "tags": []
          }
        }
      ]
    },
    {
      "cell_type": "code",
      "metadata": {
        "id": "nbypJWxDhLcZ",
        "colab_type": "code",
        "colab": {
          "base_uri": "https://localhost:8080/",
          "height": 35
        },
        "outputId": "b55eafde-4990-48ac-fb11-b864ffcd5a7b"
      },
      "source": [
        "stats.mannwhitneyu(df2012partner['pplfair'], df2012alone['pplfair'], use_continuity=True)\n"
      ],
      "execution_count": 18,
      "outputs": [
        {
          "output_type": "execute_result",
          "data": {
            "text/plain": [
              "MannwhitneyuResult(statistic=2019588.5, pvalue=0.00013938009002030226)"
            ]
          },
          "metadata": {
            "tags": []
          },
          "execution_count": 18
        }
      ]
    },
    {
      "cell_type": "markdown",
      "metadata": {
        "id": "emovhJClZt4F",
        "colab_type": "text"
      },
      "source": [
        "People with a partner in 2012 have significantly greater belief than those living alone.\n"
      ]
    },
    {
      "cell_type": "markdown",
      "metadata": {
        "id": "49M_NWsYbdc4",
        "colab_type": "text"
      },
      "source": [
        "#Question 5"
      ]
    },
    {
      "cell_type": "code",
      "metadata": {
        "id": "x0pbb_DvhQrf",
        "colab_type": "code",
        "colab": {}
      },
      "source": [
        "\n",
        "df2014 = df[df.year==7]\n",
        "q5cz = df2014[df2014.cntry=='CZ']\n",
        "q5no = df2014[df2014.cntry=='NO']\n",
        "q5es = df2014[df2014.cntry=='ES']"
      ],
      "execution_count": 0,
      "outputs": []
    },
    {
      "cell_type": "code",
      "metadata": {
        "id": "se2Q6OHOhTnZ",
        "colab_type": "code",
        "colab": {
          "base_uri": "https://localhost:8080/",
          "height": 69
        },
        "outputId": "903367cc-b556-4899-890f-24d3469dc694"
      },
      "source": [
        "\n",
        "print(\"Mean of SCLMEET in CZ\",q5cz['sclmeet'].mean())\n",
        "print(\"Mean of SCLMEET in NO\",q5no['sclmeet'].mean())\n",
        "print(\"Mean of SCLMEET in ES\",q5es['sclmeet'].mean())"
      ],
      "execution_count": 21,
      "outputs": [
        {
          "output_type": "stream",
          "text": [
            "Mean of SCLMEET in CZ 4.445801526717557\n",
            "Mean of SCLMEET in NO 5.3023255813953485\n",
            "Mean of SCLMEET in ES 5.2601156069364166\n"
          ],
          "name": "stdout"
        }
      ]
    },
    {
      "cell_type": "code",
      "metadata": {
        "id": "xLCcdWg2hWht",
        "colab_type": "code",
        "colab": {
          "base_uri": "https://localhost:8080/",
          "height": 52
        },
        "outputId": "c6796bf1-307a-4610-9945-d9081a3fb077"
      },
      "source": [
        "\n",
        "F, p = stats.f_oneway(q5cz['sclmeet'].dropna(), q5no['sclmeet'].dropna(), q5es['sclmeet'].dropna())\n",
        "\n",
        "# The F statistic.\n",
        "print(F)\n",
        "\n",
        "# The probability. A p < .05 would lead us to believe the group means were\n",
        "# not all similar in the population.\n",
        "print(p)"
      ],
      "execution_count": 22,
      "outputs": [
        {
          "output_type": "stream",
          "text": [
            "81.74680103458824\n",
            "3.7301766062786706e-35\n"
          ],
          "name": "stdout"
        }
      ]
    },
    {
      "cell_type": "code",
      "metadata": {
        "id": "jNfKhiQ6hZo_",
        "colab_type": "code",
        "colab": {
          "base_uri": "https://localhost:8080/",
          "height": 69
        },
        "outputId": "7d5f95d2-29a5-4b11-b087-722b1e75979b"
      },
      "source": [
        "\n",
        "# well something appears different!!\n",
        "# Which one?\n",
        "\n",
        "print(stats.ttest_ind(q5cz['sclmeet'].dropna(), q5no['sclmeet'].dropna()))\n",
        "print(stats.ttest_ind(q5cz['sclmeet'].dropna(), q5es['sclmeet'].dropna()))\n",
        "print(stats.ttest_ind(q5no['sclmeet'].dropna(), q5es['sclmeet'].dropna()))"
      ],
      "execution_count": 23,
      "outputs": [
        {
          "output_type": "stream",
          "text": [
            "Ttest_indResult(statistic=-11.269186128577815, pvalue=3.0334022155191707e-28)\n",
            "Ttest_indResult(statistic=-11.400026538179093, pvalue=3.7676844407353374e-29)\n",
            "Ttest_indResult(statistic=0.632916395870007, pvalue=0.5268628350318294)\n"
          ],
          "name": "stdout"
        }
      ]
    },
    {
      "cell_type": "markdown",
      "metadata": {
        "id": "mlko2epIhiRE",
        "colab_type": "text"
      },
      "source": [
        "\n",
        "\n",
        "The countries 'CZ' and 'NO' and 'ES' are significantly different in Social Meeting. "
      ]
    },
    {
      "cell_type": "markdown",
      "metadata": {
        "id": "sX0CqZZ-bx_9",
        "colab_type": "text"
      },
      "source": [
        "# Question 6"
      ]
    },
    {
      "cell_type": "code",
      "metadata": {
        "id": "EzVtnptlhjd5",
        "colab_type": "code",
        "colab": {
          "base_uri": "https://localhost:8080/",
          "height": 69
        },
        "outputId": "050910dc-5ff6-4bc4-9ce0-5c4bd80cf595"
      },
      "source": [
        "\n",
        "print(\"Mean of SCLACT in CZ\",q5cz['sclact'].mean())\n",
        "print(\"Mean of SCLACT in NO\",q5no['sclact'].mean())\n",
        "print(\"Mean of SCLACT in ES\",q5es['sclact'].mean())"
      ],
      "execution_count": 24,
      "outputs": [
        {
          "output_type": "stream",
          "text": [
            "Mean of SCLACT in CZ 2.703076923076923\n",
            "Mean of SCLACT in NO 2.859097127222982\n",
            "Mean of SCLACT in ES 2.6168776371308016\n"
          ],
          "name": "stdout"
        }
      ]
    },
    {
      "cell_type": "code",
      "metadata": {
        "id": "DryXLR5OhnHG",
        "colab_type": "code",
        "colab": {
          "base_uri": "https://localhost:8080/",
          "height": 52
        },
        "outputId": "150ac37f-455a-4e0f-8ff1-851f99ef9890"
      },
      "source": [
        "F, p = stats.f_oneway(q5cz['sclact'].dropna(), q5no['sclact'].dropna(), q5es['sclact'].dropna())\n",
        "\n",
        "# The F statistic.\n",
        "print(F)\n",
        "\n",
        "# The probability. A p < .05 would lead us to believe the group means were\n",
        "# not all similar in the population.\n",
        "print(p)"
      ],
      "execution_count": 25,
      "outputs": [
        {
          "output_type": "stream",
          "text": [
            "16.607418390848494\n",
            "6.82063334451585e-08\n"
          ],
          "name": "stdout"
        }
      ]
    },
    {
      "cell_type": "code",
      "metadata": {
        "id": "00q9pvHDhpmL",
        "colab_type": "code",
        "colab": {
          "base_uri": "https://localhost:8080/",
          "height": 69
        },
        "outputId": "a1a11e69-4c16-4881-b231-dcba685032e7"
      },
      "source": [
        "#  Group means of countries appear different than average over population for sclact\n",
        "#  Let's look at individual t-tests\n",
        "\n",
        "print(stats.ttest_ind(q5cz['sclact'].dropna(), q5no['sclact'].dropna()))\n",
        "print(stats.ttest_ind(q5cz['sclact'].dropna(), q5es['sclact'].dropna()))\n",
        "print(stats.ttest_ind(q5no['sclact'].dropna(), q5es['sclact'].dropna()))"
      ],
      "execution_count": 26,
      "outputs": [
        {
          "output_type": "stream",
          "text": [
            "Ttest_indResult(statistic=-3.44673561169421, pvalue=0.0005844634540645623)\n",
            "Ttest_indResult(statistic=1.9231457887987455, pvalue=0.05461649785517343)\n",
            "Ttest_indResult(statistic=5.671149129663532, pvalue=1.6345881270312057e-08)\n"
          ],
          "name": "stdout"
        }
      ]
    },
    {
      "cell_type": "code",
      "metadata": {
        "id": "9q0DuprKhuHa",
        "colab_type": "code",
        "colab": {}
      },
      "source": [
        ""
      ],
      "execution_count": 0,
      "outputs": []
    },
    {
      "cell_type": "markdown",
      "metadata": {
        "id": "RNlv6OGfhxGH",
        "colab_type": "text"
      },
      "source": [
        "'CZ' and 'NO' have a significant difference in social activities among similar age ranges.\n"
      ]
    },
    {
      "cell_type": "code",
      "metadata": {
        "id": "8JEfiaDPcPEW",
        "colab_type": "code",
        "colab": {}
      },
      "source": [
        ""
      ],
      "execution_count": 0,
      "outputs": []
    }
  ]
}