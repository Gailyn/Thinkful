{
 "cells": [
  {
   "cell_type": "code",
   "execution_count": 1,
   "metadata": {},
   "outputs": [],
   "source": [
    "import numpy as np\n",
    "import pandas as pd\n",
    "import scipy\n",
    "import matplotlib.pyplot as plt\n",
    "%matplotlib inline"
   ]
  },
  {
   "cell_type": "code",
   "execution_count": 17,
   "metadata": {},
   "outputs": [
    {
     "data": {
      "image/png": "[encoded data removed]",
      "text/plain": [
       "<Figure size 432x288 with 1 Axes>"
      ]
     },
     "metadata": {
      "needs_background": "light"
     },
     "output_type": "display_data"
    },
    {
     "name": "stdout",
     "output_type": "stream",
     "text": [
      "1.88\n",
      "5.13\n",
      "1.2188519188154072\n",
      "1.677229859023503\n"
     ]
    }
   ],
   "source": [
    "pop1 = np.random.binomial(10, 0.2, 100)\n",
    "pop2 = np.random.binomial(10,0.5, 100) \n",
    "\n",
    "plt.hist(pop1, alpha=0.5, label='Population 1') \n",
    "plt.hist(pop2, alpha=0.5, label='Population 2') \n",
    "plt.legend(loc='upper right') \n",
    "plt.show()\n",
    "\n",
    "print(pop1.mean())\n",
    "print(pop2.mean())\n",
    "print(pop1.std())\n",
    "print(pop2.std())\n"
   ]
  },
  {
   "cell_type": "code",
   "execution_count": 18,
   "metadata": {
    "scrolled": true
   },
   "outputs": [
    {
     "data": {
      "image/png": "[encoded data removed]",
      "text/plain": [
       "<Figure size 432x288 with 1 Axes>"
      ]
     },
     "metadata": {
      "needs_background": "light"
     },
     "output_type": "display_data"
    },
    {
     "name": "stdout",
     "output_type": "stream",
     "text": [
      "1.65\n",
      "4.25\n",
      "1.2359207094308275\n",
      "1.3369741957120937\n"
     ]
    }
   ],
   "source": [
    "pop1 = np.random.binomial(10, 0.2, 20)\n",
    "pop2 = np.random.binomial(10,0.5, 20) \n",
    "\n",
    "plt.hist(pop1, alpha=0.5, label='Population 1') \n",
    "plt.hist(pop2, alpha=0.5, label='Population 2') \n",
    "plt.legend(loc='upper right') \n",
    "plt.show()\n",
    "\n",
    "print(pop1.mean())\n",
    "print(pop2.mean())\n",
    "print(pop1.std())\n",
    "print(pop2.std())\n"
   ]
  },
  {
   "cell_type": "code",
   "execution_count": null,
   "metadata": {},
   "outputs": [],
   "source": []
  },
  {
   "cell_type": "code",
   "execution_count": 24,
   "metadata": {},
   "outputs": [
    {
     "data": {
      "image/png": "[encoded data removed]",
      "text/plain": [
       "<Figure size 432x288 with 1 Axes>"
      ]
     },
     "metadata": {
      "needs_background": "light"
     },
     "output_type": "display_data"
    },
    {
     "name": "stdout",
     "output_type": "stream",
     "text": [
      "6.336104015814191\n"
     ]
    }
   ],
   "source": [
    "\n",
    "pop1 = np.random.binomial(10, 0.4, 20)\n",
    "pop2 = np.random.binomial(10,0.5, 20) \n",
    "\n",
    "# Let’s make histograms for the two groups. \n",
    "\n",
    "plt.hist(pop1, alpha=0.5, label='Population 1') \n",
    "plt.hist(pop2, alpha=0.5, label='Population 2') \n",
    "plt.legend(loc='upper right') \n",
    "plt.show()\n",
    "\n",
    "\n",
    "\n",
    "size = np.array([len(pop1), len(pop2)])\n",
    "sd = np.array([pop1.std(), pop2.std()])\n",
    "\n",
    "# The squared standard deviations are divided by the sample size and summed, then we take\n",
    "# the square root of the sum. \n",
    "diff_se = (sum(sd ** 2 / size)) ** 0.5  \n",
    " \n",
    "print(diff/diff_se)\n",
    "\n",
    "\n",
    "# The T statistic becomes smaller because when the p value changes, the samples become more similar as they begin to overlap, \n",
    "#showing less of a difference between the two means. \n"
   ]
  },
  {
   "cell_type": "code",
   "execution_count": 26,
   "metadata": {},
   "outputs": [
    {
     "data": {
      "image/png": "[encoded data removed]",
      "text/plain": [
       "<Figure size 432x288 with 1 Axes>"
      ]
     },
     "metadata": {
      "needs_background": "light"
     },
     "output_type": "display_data"
    },
    {
     "name": "stdout",
     "output_type": "stream",
     "text": [
      "0.15\n",
      "0.45\n",
      "0.47696960070847283\n",
      "0.5894913061275798\n"
     ]
    }
   ],
   "source": [
    "pop1 = np.random.poisson( 0.2, 20)\n",
    "pop2 = np.random.poisson(0.5, 20) \n",
    "\n",
    "plt.hist(pop1, alpha=0.5, label='Population 1') \n",
    "plt.hist(pop2, alpha=0.5, label='Population 2') \n",
    "plt.legend(loc='upper right') \n",
    "plt.show()\n",
    "\n",
    "print(pop1.mean())\n",
    "print(pop2.mean())\n",
    "print(pop1.std())\n",
    "print(pop2.std())\n"
   ]
  },
  {
   "cell_type": "markdown",
   "metadata": {},
   "source": [
    "            Drill Questions\n",
    "\n",
    "\n",
    "1) The mean and the standard deviations change but not by much. \n",
    "\n",
    "2) The T statistic becomes smaller because when the p value changes, the samples become more similar as they begin to overlap, showing less of a difference between the two means. \n",
    "\n",
    "3) When using a poisson distribution, the mean doss not becom the best measure for the data. "
   ]
  },
  {
   "cell_type": "code",
   "execution_count": null,
   "metadata": {},
   "outputs": [],
   "source": []
  }
 ],
 "metadata": {
  "kernelspec": {
   "display_name": "Python 3",
   "language": "python",
   "name": "python3"
  },
  "language_info": {
   "codemirror_mode": {
    "name": "ipython",
    "version": 3
   },
   "file_extension": ".py",
   "mimetype": "text/x-python",
   "name": "python",
   "nbconvert_exporter": "python",
   "pygments_lexer": "ipython3",
   "version": "3.7.1"
  }
 },
 "nbformat": 4,
 "nbformat_minor": 2
}
