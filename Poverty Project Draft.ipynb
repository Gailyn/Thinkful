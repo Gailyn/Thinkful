{
 "cells": [
  {
   "cell_type": "markdown",
   "metadata": {},
   "source": [
    "## Introduction\n"
   ]
  },
  {
   "cell_type": "markdown",
   "metadata": {},
   "source": [
    "\n",
    "Poverty thresholds are the dollar amounts used to determine poverty status and often the statistical basis in federal work and analysis.The Census Bureau assigns each person or family one out of 48 possible poverty thresholds.\n",
    "\n",
    "Thresholds vary by the size of the family and age of the members.\n",
    "The same thresholds are used throughout the United States (they do not vary geographically).\n",
    "Thresholds are updated annually for inflation using the Consumer Price Index for All Urban Consumers (CPI-U).\n",
    "\n",
    "- 12,752 for one person with no children in the household under 65\n",
    "- 11,756 for one person with no children in the household over 65\n",
    "\n",
    "\n",
    "A single person with a threhold of  501, the highest threshold, makes at least $63,887\n",
    "\n",
    "Poverty status cannot be determined for people in:\n",
    "\n",
    "- Institutional group quarters (such as prisons or nursing homes)\n",
    "- College dormitories\n",
    "- Military barracks\n",
    "- Living situations without conventional housing (and who are not in shelters)\n",
    "\n",
    " In this project, I develop an algorithm to classify the poverty threshold of an individual. To accomplish this task, I use a data from the 2017 American Community Survey with the  dataset obtained from IPUMS USA (IPUMS USA, University of Minnesota, www.ipums.org) a service that collects, preserves, and harmonizes U.S. census microdata. The dataset that I had selected contains  contains 148,594 rows and 31 variables.  The variables surround educational attainment, race, health care coverage type, food stamp recipiency, metropolitan type, income, rent paid, and ownership type. The 'lowerpov' variable that I create is my desired target variable and it takes value 2 in case of a poverty threshold greater than 200, and a value of 1 otherwise.  In this project, I aim to look for the traits that are most indicative of whether or not an individual will be have a poverty threshold above equal to or below 200 in addition to testing several different supervised learning models for the most accurate detection including: \n",
    "- Native Bayes Classifier\n",
    "- Knn classifier\n",
    "- Random Forest\n",
    "- Decision tree \n",
    "- Logistic regression \n",
    "- Svm classifier \n",
    "- Gradient boosted classifier \n",
    "\n",
    "I use gridsearch cv to find the ideal parameters for each of the classifiers I use. I also use a  number of different metrics to evaluate the performance of each of the models. The AUC and ROC plots reveal the positive to false positive rate and helps visually compare the effectiveness of the classifier. I use holdout grouping, cross-validation, and run classification reports on each of the models. \n"
   ]
  },
  {
   "cell_type": "markdown",
   "metadata": {},
   "source": [
    "### Exploration"
   ]
  },
  {
   "cell_type": "code",
   "execution_count": 2,
   "metadata": {},
   "outputs": [],
   "source": [
    "import numpy as np\n",
    "import pandas as pd\n",
    "import scipy\n",
    "import matplotlib\n",
    "import matplotlib.pyplot as plt\n",
    "import seaborn as sns\n",
    "%matplotlib inline\n",
    "from sklearn.metrics import roc_curve\n",
    "from sklearn.metrics import roc_auc_score\n"
   ]
  },
  {
   "cell_type": "code",
   "execution_count": 3,
   "metadata": {},
   "outputs": [
    {
     "name": "stdout",
     "output_type": "stream",
     "text": [
      "Index(['YEAR', 'DATANUM', 'SERIAL', 'CBSERIAL', 'HHWT', 'METRO', 'GQ',\n",
      "       'OWNERSHP', 'OWNERSHPD', 'RENTGRS', 'FOODSTMP', 'PERNUM', 'PERWT',\n",
      "       'SEX', 'AGE', 'HISPAN', 'HISPAND', 'RACAMIND', 'RACASIAN', 'RACBLK',\n",
      "       'RACPACIS', 'RACWHT', 'RACOTHER', 'HCOVANY', 'HCOVPRIV', 'HCOVPUB',\n",
      "       'EDUC', 'EDUCD', 'INCTOT', 'INCWAGE', 'POVERTY'],\n",
      "      dtype='object')\n",
      "YEAR         int64\n",
      "DATANUM      int64\n",
      "SERIAL       int64\n",
      "CBSERIAL     int64\n",
      "HHWT         int64\n",
      "METRO        int64\n",
      "GQ           int64\n",
      "OWNERSHP     int64\n",
      "OWNERSHPD    int64\n",
      "RENTGRS      int64\n",
      "FOODSTMP     int64\n",
      "PERNUM       int64\n",
      "PERWT        int64\n",
      "SEX          int64\n",
      "AGE          int64\n",
      "HISPAN       int64\n",
      "HISPAND      int64\n",
      "RACAMIND     int64\n",
      "RACASIAN     int64\n",
      "RACBLK       int64\n",
      "RACPACIS     int64\n",
      "RACWHT       int64\n",
      "RACOTHER     int64\n",
      "HCOVANY      int64\n",
      "HCOVPRIV     int64\n",
      "HCOVPUB      int64\n",
      "EDUC         int64\n",
      "EDUCD        int64\n",
      "INCTOT       int64\n",
      "INCWAGE      int64\n",
      "POVERTY      int64\n",
      "dtype: object\n"
     ]
    }
   ],
   "source": [
    "census = pd.read_csv('usa_00008.csv')\n",
    "print(census.columns)\n",
    "print(census.dtypes)"
   ]
  },
  {
   "cell_type": "code",
   "execution_count": null,
   "metadata": {},
   "outputs": [],
   "source": [
    "census.describe()"
   ]
  },
  {
   "cell_type": "code",
   "execution_count": null,
   "metadata": {},
   "outputs": [],
   "source": [
    "census[census['POVERTY']>200].describe()\n"
   ]
  },
  {
   "cell_type": "code",
   "execution_count": null,
   "metadata": {},
   "outputs": [],
   "source": [
    "census[census['POVERTY']<=200].describe()\n"
   ]
  },
  {
   "cell_type": "markdown",
   "metadata": {},
   "source": [
    "## Visualization"
   ]
  },
  {
   "cell_type": "markdown",
   "metadata": {},
   "source": [
    "### Who is represented in the data? "
   ]
  },
  {
   "cell_type": "code",
   "execution_count": 4,
   "metadata": {},
   "outputs": [
    {
     "data": {
      "text/plain": [
       "(array([26919.,     0.,     0.,     0.,     0., 53015.,     0.,     0.,\n",
       "            0., 68660.]),\n",
       " array([1. , 1.2, 1.4, 1.6, 1.8, 2. , 2.2, 2.4, 2.6, 2.8, 3. ]),\n",
       " <a list of 10 Patch objects>)"
      ]
     },
     "execution_count": 4,
     "metadata": {},
     "output_type": "execute_result"
    },
    {
     "data": {
      "image/png": "[encoded data removed]",
      "text/plain": [
       "<Figure size 432x288 with 1 Axes>"
      ]
     },
     "metadata": {
      "needs_background": "light"
     },
     "output_type": "display_data"
    }
   ],
   "source": [
    "plt.hist(census['METRO'])"
   ]
  },
  {
   "cell_type": "markdown",
   "metadata": {},
   "source": [
    "METRO indicates whether the household resided within a metropolitan area and, for households in metropolitan areas, whether the household resided within or outside of a central/principal city. A value of 1 is not in a metro area, a value of 2 is in a metro or principal city, and a value of 3 is a metro area outside of the principal city. This dataset has a greater amount of the population in metro areas and less representation of non metro or rural areas. "
   ]
  },
  {
   "cell_type": "code",
   "execution_count": 5,
   "metadata": {},
   "outputs": [
    {
     "data": {
      "text/plain": [
       "(array([68386.,     0.,     0.,     0.,     0.,     0.,     0.,     0.,\n",
       "            0., 80208.]),\n",
       " array([1. , 1.1, 1.2, 1.3, 1.4, 1.5, 1.6, 1.7, 1.8, 1.9, 2. ]),\n",
       " <a list of 10 Patch objects>)"
      ]
     },
     "execution_count": 5,
     "metadata": {},
     "output_type": "execute_result"
    },
    {
     "data": {
      "image/png": "[encoded data removed]",
      "text/plain": [
       "<Figure size 432x288 with 1 Axes>"
      ]
     },
     "metadata": {
      "needs_background": "light"
     },
     "output_type": "display_data"
    }
   ],
   "source": [
    "plt.hist(census['SEX'])"
   ]
  },
  {
   "cell_type": "markdown",
   "metadata": {},
   "source": [
    "SEX refers to the sex of the individual, where a value of 2 is female and a value of 1 is male. This split slightly overamples females, while ideally they would be equally split."
   ]
  },
  {
   "cell_type": "code",
   "execution_count": 6,
   "metadata": {},
   "outputs": [
    {
     "data": {
      "text/plain": [
       "(array([     0.,      0.,      0.,      0.,      0., 148594.,      0.,\n",
       "             0.,      0.,      0.]),\n",
       " array([1.5, 1.6, 1.7, 1.8, 1.9, 2. , 2.1, 2.2, 2.3, 2.4, 2.5]),\n",
       " <a list of 10 Patch objects>)"
      ]
     },
     "execution_count": 6,
     "metadata": {},
     "output_type": "execute_result"
    },
    {
     "data": {
      "image/png": "[encoded data removed]",
      "text/plain": [
       "<Figure size 432x288 with 1 Axes>"
      ]
     },
     "metadata": {
      "needs_background": "light"
     },
     "output_type": "display_data"
    }
   ],
   "source": [
    "plt.hist(census['OWNERSHP'])"
   ]
  },
  {
   "cell_type": "markdown",
   "metadata": {},
   "source": [
    "I specifically choose this value to make sure that everyone in this dataset was renting. I wanted to speicifically look at renters because that is the most common case and a trend that will continue. "
   ]
  },
  {
   "cell_type": "code",
   "execution_count": 7,
   "metadata": {},
   "outputs": [
    {
     "data": {
      "text/plain": [
       "(array([34931., 25114., 19823., 18523., 17707., 13266.,  8658.,  5183.,\n",
       "         3452.,  1937.]),\n",
       " array([26., 33., 40., 47., 54., 61., 68., 75., 82., 89., 96.]),\n",
       " <a list of 10 Patch objects>)"
      ]
     },
     "execution_count": 7,
     "metadata": {},
     "output_type": "execute_result"
    },
    {
     "data": {
      "image/png": "[encoded data removed]",
      "text/plain": [
       "<Figure size 432x288 with 1 Axes>"
      ]
     },
     "metadata": {
      "needs_background": "light"
     },
     "output_type": "display_data"
    }
   ],
   "source": [
    "plt.hist(census['AGE'])"
   ]
  },
  {
   "cell_type": "markdown",
   "metadata": {},
   "source": [
    "The age starts at 26, an age I choose because this is when you are no longer on a parents health care plan and more responsible for your self as an individual."
   ]
  },
  {
   "cell_type": "markdown",
   "metadata": {},
   "source": [
    "### Examining Poverty "
   ]
  },
  {
   "cell_type": "code",
   "execution_count": null,
   "metadata": {},
   "outputs": [],
   "source": []
  },
  {
   "cell_type": "code",
   "execution_count": 8,
   "metadata": {},
   "outputs": [
    {
     "data": {
      "image/png": "[encoded data removed]",
      "text/plain": [
       "<Figure size 576x576 with 3 Axes>"
      ]
     },
     "metadata": {
      "needs_background": "light"
     },
     "output_type": "display_data"
    }
   ],
   "source": [
    "g = sns.jointplot(\"POVERTY\", \"INCWAGE\", data=census, kind=\"kde\",\n",
    "                  color=\"m\", height=8)\n"
   ]
  },
  {
   "cell_type": "code",
   "execution_count": 9,
   "metadata": {},
   "outputs": [
    {
     "data": {
      "image/png": "[encoded data removed]",
      "text/plain": [
       "<Figure size 576x576 with 3 Axes>"
      ]
     },
     "metadata": {
      "needs_background": "light"
     },
     "output_type": "display_data"
    }
   ],
   "source": [
    "g = sns.jointplot(\"POVERTY\", \"HCOVPUB\", data=census, kind=\"kde\",\n",
    "                  color=\"g\", height=8)"
   ]
  },
  {
   "cell_type": "code",
   "execution_count": 10,
   "metadata": {
    "scrolled": false
   },
   "outputs": [
    {
     "data": {
      "image/png": "[encoded data removed]",
      "text/plain": [
       "<Figure size 576x576 with 3 Axes>"
      ]
     },
     "metadata": {
      "needs_background": "light"
     },
     "output_type": "display_data"
    }
   ],
   "source": [
    "g = sns.jointplot(\"POVERTY\", \"HCOVANY\", data=census, kind=\"kde\",\n",
    "                  color=\"orange\", height=8)"
   ]
  },
  {
   "cell_type": "code",
   "execution_count": 11,
   "metadata": {},
   "outputs": [
    {
     "data": {
      "image/png": "[encoded data removed]",
      "text/plain": [
       "<Figure size 576x576 with 3 Axes>"
      ]
     },
     "metadata": {
      "needs_background": "light"
     },
     "output_type": "display_data"
    }
   ],
   "source": [
    "g = sns.jointplot(\"POVERTY\", \"RENTGRS\", data=census, kind=\"kde\",\n",
    "                  color=\"b\", height=8)"
   ]
  },
  {
   "cell_type": "code",
   "execution_count": 12,
   "metadata": {
    "scrolled": true
   },
   "outputs": [
    {
     "data": {
      "image/png": "[encoded data removed]",
      "text/plain": [
       "<Figure size 576x576 with 3 Axes>"
      ]
     },
     "metadata": {
      "needs_background": "light"
     },
     "output_type": "display_data"
    }
   ],
   "source": [
    "g = sns.jointplot(\"POVERTY\", \"EDUCD\", data=census, kind=\"kde\",\n",
    "                  color=\"r\", height=8)"
   ]
  },
  {
   "cell_type": "code",
   "execution_count": 13,
   "metadata": {},
   "outputs": [
    {
     "data": {
      "image/png": "[encoded data removed]",
      "text/plain": [
       "<Figure size 576x576 with 3 Axes>"
      ]
     },
     "metadata": {
      "needs_background": "light"
     },
     "output_type": "display_data"
    }
   ],
   "source": [
    "g = sns.jointplot(\"POVERTY\", \"FOODSTMP\", data=census, kind=\"kde\",\n",
    "                  color=\"skyblue\", height=8)"
   ]
  },
  {
   "cell_type": "code",
   "execution_count": 14,
   "metadata": {},
   "outputs": [
    {
     "data": {
      "text/plain": [
       "Text(0.5, 1.0, 'Class Distributions')"
      ]
     },
     "execution_count": 14,
     "metadata": {},
     "output_type": "execute_result"
    },
    {
     "data": {
      "image/png": "[encoded data removed]",
      "text/plain": [
       "<Figure size 432x288 with 1 Axes>"
      ]
     },
     "metadata": {
      "needs_background": "light"
     },
     "output_type": "display_data"
    }
   ],
   "source": [
    "census['lowerpov'] = census['POVERTY'].apply(lambda x: 1 if x <= 200 else 0)\n",
    "\n",
    "sns.countplot('lowerpov',palette=\"rocket\", data=census)\n",
    "\n",
    "plt.title('Class Distributions', fontsize=14)"
   ]
  },
  {
   "cell_type": "markdown",
   "metadata": {},
   "source": [
    "# Feature Engineering "
   ]
  },
  {
   "cell_type": "markdown",
   "metadata": {},
   "source": [
    "Rather than use values like income and how much the individual pays in rent, I wanted to create a feature that examines the relationship between the two variables in addition to other characteristics. "
   ]
  },
  {
   "cell_type": "code",
   "execution_count": 15,
   "metadata": {},
   "outputs": [
    {
     "data": {
      "text/plain": [
       "(array([1.41173e+05, 6.33100e+03, 5.67000e+02, 2.02000e+02, 1.93000e+02,\n",
       "        4.20000e+01, 7.40000e+01, 9.00000e+00, 0.00000e+00, 3.00000e+00]),\n",
       " array([ -10.268 ,   95.5788,  201.4256,  307.2724,  413.1192,  518.966 ,\n",
       "         624.8128,  730.6596,  836.5064,  942.3532, 1048.2   ]),\n",
       " <a list of 10 Patch objects>)"
      ]
     },
     "execution_count": 15,
     "metadata": {},
     "output_type": "execute_result"
    },
    {
     "data": {
      "image/png": "[encoded data removed]",
      "text/plain": [
       "<Figure size 432x288 with 1 Axes>"
      ]
     },
     "metadata": {
      "needs_background": "light"
     },
     "output_type": "display_data"
    }
   ],
   "source": [
    "#Adding one to prevent impossible values \n",
    "#census['rent_ratio'] = ((census['RENTGRS']+.1)/(census['INCTOT'] +.1))/1000\n",
    "census['income_vs_rent'] = ((census['INCTOT'] +.1)-(census['RENTGRS']+.1))/1000\n",
    "\n",
    "plt.hist(census['income_vs_rent'])"
   ]
  },
  {
   "cell_type": "code",
   "execution_count": 16,
   "metadata": {},
   "outputs": [
    {
     "data": {
      "image/png": "[encoded data removed]",
      "text/plain": [
       "<Figure size 576x576 with 3 Axes>"
      ]
     },
     "metadata": {
      "needs_background": "light"
     },
     "output_type": "display_data"
    }
   ],
   "source": [
    "g = sns.jointplot(\"POVERTY\", \"income_vs_rent\", data=census, kind=\"kde\",\n",
    "                  color=\"forestgreen\", height=8)"
   ]
  },
  {
   "cell_type": "code",
   "execution_count": 17,
   "metadata": {},
   "outputs": [
    {
     "data": {
      "image/png": "[encoded data removed]",
      "text/plain": [
       "<Figure size 432x288 with 1 Axes>"
      ]
     },
     "metadata": {
      "needs_background": "light"
     },
     "output_type": "display_data"
    }
   ],
   "source": [
    "cmap = sns.cubehelix_palette(rot=-.2, as_cmap=True)\n",
    "ax = sns.scatterplot(x=\"POVERTY\", y=\"income_vs_rent\",size=\"HHWT\",\n",
    "                     palette=cmap, sizes=(10, 200),\n",
    "                     data=census)"
   ]
  },
  {
   "cell_type": "code",
   "execution_count": 18,
   "metadata": {},
   "outputs": [],
   "source": [
    "# Getting rid of unecessary variables \n",
    "census = census.drop(['DATANUM'],1)\n",
    "census = census.drop(['YEAR'],1)\n",
    "census = census.drop(['CBSERIAL'],1)\n",
    "census = census.drop(['OWNERSHP'],1)\n",
    "census = census.drop(['PERNUM'],1)\n",
    "census = census.drop(['SERIAL'],1)"
   ]
  },
  {
   "cell_type": "code",
   "execution_count": 19,
   "metadata": {},
   "outputs": [],
   "source": [
    "census['lowerpov'] = census['POVERTY'].apply(lambda x: 1 if x <= 200 else 0)\n"
   ]
  },
  {
   "cell_type": "code",
   "execution_count": 21,
   "metadata": {},
   "outputs": [],
   "source": [
    "census = census.drop(['POVERTY'],1)\n",
    "census = census.drop(['INCTOT'],1)\n",
    "census = census.drop(['INCWAGE'],1)"
   ]
  },
  {
   "cell_type": "code",
   "execution_count": 22,
   "metadata": {},
   "outputs": [],
   "source": [
    "census = census.drop(['RENTGRS'],1)"
   ]
  },
  {
   "cell_type": "code",
   "execution_count": 23,
   "metadata": {},
   "outputs": [
    {
     "name": "stdout",
     "output_type": "stream",
     "text": [
      "                    HHWT     METRO        GQ  OWNERSHPD  FOODSTMP     PERWT  \\\n",
      "HHWT            1.000000  0.105367 -0.007548   0.078268 -0.003862  0.921658   \n",
      "METRO           0.105367  1.000000 -0.022294   0.109977 -0.087602  0.103950   \n",
      "GQ             -0.007548 -0.022294  1.000000  -0.007381 -0.003000 -0.000530   \n",
      "OWNERSHPD       0.078268  0.109977 -0.007381   1.000000  0.028570  0.076926   \n",
      "FOODSTMP       -0.003862 -0.087602 -0.003000   0.028570  1.000000  0.008365   \n",
      "PERWT           0.921658  0.103950 -0.000530   0.076926  0.008365  1.000000   \n",
      "SEX            -0.011365  0.004153 -0.000904   0.006290  0.071054 -0.029467   \n",
      "AGE            -0.078023  0.001464  0.033364  -0.111640  0.019386 -0.098204   \n",
      "HISPAN          0.073928  0.098109 -0.005342   0.052474  0.040169  0.089274   \n",
      "HISPAND         0.073193  0.094392 -0.005340   0.051063  0.040083  0.088286   \n",
      "RACAMIND       -0.037649 -0.079297 -0.004600  -0.032360  0.042678 -0.035457   \n",
      "RACASIAN       -0.009579  0.039643 -0.000649   0.019861 -0.059648 -0.003883   \n",
      "RACBLK          0.117080  0.016410 -0.005674   0.052287  0.132297  0.125922   \n",
      "RACPACIS        0.004186  0.004853  0.000066  -0.003186  0.015236  0.005688   \n",
      "RACWHT         -0.114071 -0.033640  0.003947  -0.060501 -0.096277 -0.129297   \n",
      "RACOTHER        0.056580  0.044337  0.001632   0.040573  0.020216  0.066179   \n",
      "HCOVANY        -0.047679  0.013362  0.004375  -0.002335 -0.008104 -0.064089   \n",
      "HCOVPRIV       -0.027932  0.075392 -0.007648   0.011002 -0.359499 -0.041575   \n",
      "HCOVPUB        -0.045117 -0.070468  0.022052  -0.057266  0.339095 -0.047996   \n",
      "EDUC           -0.014951  0.059942 -0.013508   0.044526 -0.214834 -0.022877   \n",
      "EDUCD          -0.016567  0.059282 -0.013517   0.045001 -0.215260 -0.024659   \n",
      "lowerpov        0.001354 -0.118219  0.021466  -0.039001  0.371749 -0.001548   \n",
      "income_vs_rent  0.011747  0.060953 -0.011253   0.036894 -0.206485 -0.001446   \n",
      "\n",
      "                     SEX       AGE    HISPAN   HISPAND       ...        \\\n",
      "HHWT           -0.011365 -0.078023  0.073928  0.073193       ...         \n",
      "METRO           0.004153  0.001464  0.098109  0.094392       ...         \n",
      "GQ             -0.000904  0.033364 -0.005342 -0.005340       ...         \n",
      "OWNERSHPD       0.006290 -0.111640  0.052474  0.051063       ...         \n",
      "FOODSTMP        0.071054  0.019386  0.040169  0.040083       ...         \n",
      "PERWT          -0.029467 -0.098204  0.089274  0.088286       ...         \n",
      "SEX             1.000000  0.080102  0.006023  0.006670       ...         \n",
      "AGE             0.080102  1.000000 -0.074821 -0.072704       ...         \n",
      "HISPAN          0.006023 -0.074821  1.000000  0.997504       ...         \n",
      "HISPAND         0.006670 -0.072704  0.997504  1.000000       ...         \n",
      "RACAMIND        0.002511 -0.014079  0.002743  0.003752       ...         \n",
      "RACASIAN       -0.001530 -0.044901 -0.096470 -0.093687       ...         \n",
      "RACBLK          0.047012  0.016202 -0.122976 -0.118900       ...         \n",
      "RACPACIS       -0.000659 -0.014218 -0.001110 -0.000020       ...         \n",
      "RACWHT         -0.030746  0.041484 -0.066439 -0.068298       ...         \n",
      "RACOTHER       -0.012417 -0.076484  0.451895  0.446111       ...         \n",
      "HCOVANY         0.057028  0.139480 -0.102941 -0.098978       ...         \n",
      "HCOVPRIV       -0.036141 -0.103516 -0.074949 -0.073705       ...         \n",
      "HCOVPUB         0.096754  0.458856 -0.038107 -0.035560       ...         \n",
      "EDUC            0.004997 -0.206283 -0.068165 -0.065797       ...         \n",
      "EDUCD           0.004642 -0.207790 -0.070720 -0.068283       ...         \n",
      "lowerpov        0.094411  0.088128  0.030791  0.030250       ...         \n",
      "income_vs_rent -0.163210 -0.075774 -0.051397 -0.050135       ...         \n",
      "\n",
      "                RACPACIS    RACWHT  RACOTHER   HCOVANY  HCOVPRIV   HCOVPUB  \\\n",
      "HHWT            0.004186 -0.114071  0.056580 -0.047679 -0.027932 -0.045117   \n",
      "METRO           0.004853 -0.033640  0.044337  0.013362  0.075392 -0.070468   \n",
      "GQ              0.000066  0.003947  0.001632  0.004375 -0.007648  0.022052   \n",
      "OWNERSHPD      -0.003186 -0.060501  0.040573 -0.002335  0.011002 -0.057266   \n",
      "FOODSTMP        0.015236 -0.096277  0.020216 -0.008104 -0.359499  0.339095   \n",
      "PERWT           0.005688 -0.129297  0.066179 -0.064089 -0.041575 -0.047996   \n",
      "SEX            -0.000659 -0.030746 -0.012417  0.057028 -0.036141  0.096754   \n",
      "AGE            -0.014218  0.041484 -0.076484  0.139480 -0.103516  0.458856   \n",
      "HISPAN         -0.001110 -0.066439  0.451895 -0.102941 -0.074949 -0.038107   \n",
      "HISPAND        -0.000020 -0.068298  0.446111 -0.098978 -0.073705 -0.035560   \n",
      "RACAMIND        0.011794 -0.105962 -0.018065 -0.034160 -0.047074  0.019470   \n",
      "RACASIAN        0.070656 -0.361703 -0.060442  0.019603  0.028901 -0.047677   \n",
      "RACBLK         -0.019785 -0.657295 -0.116653  0.015022 -0.063146  0.064945   \n",
      "RACPACIS        1.000000 -0.056074 -0.006110  0.006741  0.008488 -0.006940   \n",
      "RACWHT         -0.056074  1.000000 -0.358313  0.030811  0.083360 -0.021958   \n",
      "RACOTHER       -0.006110 -0.358313  1.000000 -0.080369 -0.064770 -0.022245   \n",
      "HCOVANY         0.006741  0.030811 -0.080369  1.000000  0.447461  0.301800   \n",
      "HCOVPRIV        0.008488  0.083360 -0.064770  0.447461  1.000000 -0.520026   \n",
      "HCOVPUB        -0.006940 -0.021958 -0.022245  0.301800 -0.520026  1.000000   \n",
      "EDUC           -0.009474  0.059754 -0.079461  0.101100  0.264649 -0.241499   \n",
      "EDUCD          -0.009692  0.061951 -0.081360  0.102225  0.266544 -0.242333   \n",
      "lowerpov       -0.001068 -0.076643  0.030247 -0.106239 -0.429340  0.370129   \n",
      "income_vs_rent  0.002429  0.073020 -0.043965  0.097162  0.295364 -0.250730   \n",
      "\n",
      "                    EDUC     EDUCD  lowerpov  income_vs_rent  \n",
      "HHWT           -0.014951 -0.016567  0.001354        0.011747  \n",
      "METRO           0.059942  0.059282 -0.118219        0.060953  \n",
      "GQ             -0.013508 -0.013517  0.021466       -0.011253  \n",
      "OWNERSHPD       0.044526  0.045001 -0.039001        0.036894  \n",
      "FOODSTMP       -0.214834 -0.215260  0.371749       -0.206485  \n",
      "PERWT          -0.022877 -0.024659 -0.001548       -0.001446  \n",
      "SEX             0.004997  0.004642  0.094411       -0.163210  \n",
      "AGE            -0.206283 -0.207790  0.088128       -0.075774  \n",
      "HISPAN         -0.068165 -0.070720  0.030791       -0.051397  \n",
      "HISPAND        -0.065797 -0.068283  0.030250       -0.050135  \n",
      "RACAMIND       -0.030809 -0.030600  0.045214       -0.030792  \n",
      "RACASIAN        0.147381  0.146703 -0.044368        0.022898  \n",
      "RACBLK         -0.096657 -0.097578  0.086742       -0.064864  \n",
      "RACPACIS       -0.009474 -0.009692 -0.001068        0.002429  \n",
      "RACWHT          0.059754  0.061951 -0.076643        0.073020  \n",
      "RACOTHER       -0.079461 -0.081360  0.030247       -0.043965  \n",
      "HCOVANY         0.101100  0.102225 -0.106239        0.097162  \n",
      "HCOVPRIV        0.264649  0.266544 -0.429340        0.295364  \n",
      "HCOVPUB        -0.241499 -0.242333  0.370129       -0.250730  \n",
      "EDUC            1.000000  0.998712 -0.261549        0.275622  \n",
      "EDUCD           0.998712  1.000000 -0.263232        0.277605  \n",
      "lowerpov       -0.261549 -0.263232  1.000000       -0.427177  \n",
      "income_vs_rent  0.275622  0.277605 -0.427177        1.000000  \n",
      "\n",
      "[23 rows x 23 columns]\n"
     ]
    },
    {
     "data": {
      "image/png": "[encoded data removed]",
      "text/plain": [
       "<Figure size 864x648 with 2 Axes>"
      ]
     },
     "metadata": {
      "needs_background": "light"
     },
     "output_type": "display_data"
    }
   ],
   "source": [
    "# Make the correlation matrix.\n",
    "corrmat = census.corr()\n",
    "print(corrmat)\n",
    "\n",
    "# Set up the matplotlib figure.\n",
    "f, ax = plt.subplots(figsize=(12, 9))\n",
    "\n",
    "# Draw the heatmap using seaborn.\n",
    "sns.heatmap(corrmat, vmax=.8, square=True)\n",
    "plt.show()"
   ]
  },
  {
   "cell_type": "markdown",
   "metadata": {},
   "source": [
    "### Preparing to model: Selecting Features and PCA"
   ]
  },
  {
   "cell_type": "code",
   "execution_count": null,
   "metadata": {},
   "outputs": [],
   "source": []
  },
  {
   "cell_type": "code",
   "execution_count": 24,
   "metadata": {},
   "outputs": [
    {
     "name": "stdout",
     "output_type": "stream",
     "text": [
      "[ 1  4  6  7 12 14 16 17 18 19 20 21]\n",
      "(148594, 12)\n"
     ]
    },
    {
     "data": {
      "text/plain": [
       "Index(['METRO', 'FOODSTMP', 'SEX', 'AGE', 'RACBLK', 'RACWHT', 'HCOVANY',\n",
       "       'HCOVPRIV', 'HCOVPUB', 'EDUC', 'EDUCD', 'income_vs_rent'],\n",
       "      dtype='object')"
      ]
     },
     "execution_count": 24,
     "metadata": {},
     "output_type": "execute_result"
    }
   ],
   "source": [
    "# selectKbest \n",
    "import numpy as np\n",
    "from sklearn.feature_selection import SelectKBest, f_classif\n",
    "\n",
    "y = census['lowerpov']\n",
    "X = census.drop(['lowerpov'],1)\n",
    "\n",
    "\n",
    "# Perform feature selection\n",
    "selector = SelectKBest(f_classif, k=12)\n",
    "selector.fit(X,y)\n",
    "\n",
    "X_new = selector.transform(X)\n",
    "X_new.shape\n",
    "print(selector.get_support(indices=True))\n",
    "\n",
    "# Most 10  useful cols \n",
    "X_new = selector.transform(X)\n",
    "print(X_new.shape)\n",
    "# Col names \n",
    "X.columns[selector.get_support(indices=True)]"
   ]
  },
  {
   "cell_type": "code",
   "execution_count": 25,
   "metadata": {},
   "outputs": [],
   "source": [
    "features = census[['METRO', 'FOODSTMP', 'SEX', 'AGE', 'RACBLK', 'RACWHT', 'HCOVANY',\n",
    "       'HCOVPRIV', 'HCOVPUB', 'EDUC', 'EDUCD', 'income_vs_rent']]"
   ]
  },
  {
   "cell_type": "markdown",
   "metadata": {},
   "source": [
    " "
   ]
  },
  {
   "cell_type": "code",
   "execution_count": 26,
   "metadata": {},
   "outputs": [],
   "source": [
    "# PCA \n",
    "\n",
    "# PCA for 4 components \n",
    "from sklearn.decomposition import PCA\n",
    "\n",
    "y = census['lowerpov']\n",
    "X = census.drop(['lowerpov'],1)\n",
    "# Use PCA to create new columns \n",
    "pca = PCA(n_components=10)\n",
    "principalComponents = pca.fit_transform(X)\n",
    "pca_X = pd.DataFrame(data = principalComponents, \n",
    "                     columns = ['principal component 1', 'principal component 2', 'principal component 3', \n",
    "                                'principal component 4','principal component 5','principal component 6', \n",
    "                               'principal component 7', 'principal component 8','principal component 9','principal component 10'])\n",
    "\n"
   ]
  },
  {
   "cell_type": "markdown",
   "metadata": {},
   "source": [
    "## Random Forest"
   ]
  },
  {
   "cell_type": "code",
   "execution_count": null,
   "metadata": {},
   "outputs": [],
   "source": [
    "# Model 3: Random Forest gridsearchcv  took 300 min \n",
    "from sklearn import ensemble\n",
    "from sklearn.model_selection import GridSearchCV\n",
    "rfc = ensemble.RandomForestClassifier()\n",
    "\n",
    "\n",
    "\n",
    "param_grid = { \n",
    "    'n_estimators': [15, 200, 500, 750],\n",
    "    'max_features': [2,4,6,7,8],\n",
    "    'max_depth': [4,5,6,7,8]\n",
    "}\n",
    "\n",
    "\n",
    "grid = GridSearchCV(rfc, param_grid, cv=5, verbose=3, n_jobs=-1)\n",
    "\n",
    "grid.fit(features,y)\n",
    "\n",
    "# Show the best parameter and best score \n",
    "print(grid.best_params_)\n",
    "print( grid.best_score_)"
   ]
  },
  {
   "cell_type": "code",
   "execution_count": 28,
   "metadata": {},
   "outputs": [
    {
     "name": "stdout",
     "output_type": "stream",
     "text": [
      "With 20% Holdout: 0.8462599683704027\n",
      "Testing on Sample: 0.8449331736140087\n",
      "[0.83162853 0.83728129 0.81978466 0.84777927 0.85840232 0.84413487\n",
      " 0.84029881 0.8413756  0.85187428 0.8505283 ]\n",
      "Random Forest report :\n",
      "              precision    recall  f1-score   support\n",
      "\n",
      "           0       0.90      0.83      0.86     17154\n",
      "           1       0.79      0.87      0.83     12565\n",
      "\n",
      "   micro avg       0.85      0.85      0.85     29719\n",
      "   macro avg       0.84      0.85      0.85     29719\n",
      "weighted avg       0.85      0.85      0.85     29719\n",
      "\n",
      "AUC: 0.925\n"
     ]
    },
    {
     "data": {
      "image/png": "[encoded data removed]",
      "text/plain": [
       "<Figure size 432x288 with 1 Axes>"
      ]
     },
     "metadata": {
      "needs_background": "light"
     },
     "output_type": "display_data"
    }
   ],
   "source": [
    "# Random forest model using select k best , \n",
    "from sklearn import ensemble\n",
    "rfc = ensemble.RandomForestClassifier(n_estimators=200, max_features= 7, max_depth=8)\n",
    "\n",
    "y = census['lowerpov']\n",
    "\n",
    "\n",
    "from sklearn.model_selection import train_test_split\n",
    "# Use train_test_split to create the necessary training and test groups\n",
    "X_train, X_test, y_train, y_test = train_test_split(features, y ,test_size=0.2, random_state=100)\n",
    "print('With 20% Holdout: ' + str(rfc.fit(X_train, y_train).score(X_test, y_test)))\n",
    "print('Testing on Sample: ' + str(rfc.fit(features, y).score(features, y)))\n",
    "\n",
    "\n",
    "# Cross validating using 10 folds  \n",
    "from sklearn.model_selection import cross_val_score\n",
    "print(cross_val_score(rfc, features, y, cv=10))\n",
    "\n",
    "\n",
    "from sklearn.metrics import classification_report\n",
    "print('Random Forest report :')\n",
    "print(classification_report(y_test, rfc.predict(X_test)))\n",
    "\n",
    "\n",
    "#AUC \n",
    "probs = rfc.predict_proba(X_test)\n",
    "probs = probs[:, 1]\n",
    "\n",
    "# calculate AUC\n",
    "auc = roc_auc_score(y_test, probs)\n",
    "print('AUC: %.3f' % auc)\n",
    "\n",
    "\n",
    "\n",
    "import matplotlib.pyplot as plt\n",
    "# calculate roc curve\n",
    "fpr, tpr, thresholds = roc_curve(y_test, probs, pos_label= 1 )\n",
    "plt.plot([0, 1], [0, 1], linestyle='--')\n",
    "\n",
    "# plot the roc curve for the model\n",
    "plt.plot(fpr, tpr, marker='.')\n",
    "\n",
    "# show the plot\n",
    "plt.show()\n",
    "\n"
   ]
  },
  {
   "cell_type": "code",
   "execution_count": null,
   "metadata": {},
   "outputs": [],
   "source": [
    "# Model 3: Random Forest gridsearchcv, took 300 min \n",
    "from sklearn import ensemble\n",
    "from sklearn.model_selection import GridSearchCV\n",
    "rfc = ensemble.RandomForestClassifier()\n",
    "\n",
    "param_grid = { \n",
    "    'n_estimators': [15, 200, 500, 750],\n",
    "    'max_features': [1,2,4,6,7],\n",
    "    'max_depth': [4,5,6,7,8]\n",
    "}\n",
    "\n",
    "\n",
    "grid = GridSearchCV(rfc, param_grid, cv=5, verbose=3, n_jobs=-1)\n",
    "\n",
    "grid.fit(pca_X,y)\n",
    "\n",
    "# Show the best parameter and best score \n",
    "print(grid.best_params_)\n",
    "print( grid.best_score_)"
   ]
  },
  {
   "cell_type": "code",
   "execution_count": null,
   "metadata": {},
   "outputs": [],
   "source": [
    "# Random forest model using select k best \n",
    "from sklearn import ensemble\n",
    "rfc = ensemble.RandomForestClassifier(n_estimators=200, max_features= 4, max_depth=4)\n",
    "\n",
    "from sklearn.model_selection import train_test_split\n",
    "# Use train_test_split to create the necessary training and test groups\n",
    "X_train, X_test, y_train, y_test = train_test_split(pca_X, y ,test_size=0.2, random_state=100)\n",
    "print('With 20% Holdout: ' + str(rfc.fit(X_train, y_train).score(X_test, y_test)))\n",
    "print('Testing on Sample: ' + str(rfc.fit(pca_X, y).score(pca_X, y)))\n",
    "\n",
    "\n",
    "# Cross validating using 10 folds  \n",
    "from sklearn.model_selection import cross_val_score\n",
    "print(cross_val_score(rfc, pca_X, y, cv=10))\n",
    "\n",
    "\n",
    "from sklearn.metrics import classification_report\n",
    "print('Random Forest report :')\n",
    "print(classification_report(y_test, rfc.predict(X_test)))\n",
    "\n",
    "\n",
    "#AUC \n",
    "probs = rfc.predict_proba(X_test)\n",
    "probs = probs[:, 1]\n",
    "\n",
    "# calculate AUC\n",
    "auc = roc_auc_score(y_test, probs)\n",
    "print('AUC: %.3f' % auc)\n",
    "\n",
    "\n",
    "import matplotlib.pyplot as plt\n",
    "import matplotlib.pyplot as plt\n",
    "# calculate roc curve\n",
    "fpr, tpr, thresholds = roc_curve(y_test, probs, pos_label= 4 )\n",
    "plt.plot([0, 1], [0, 1], linestyle='--')\n",
    "\n",
    "# plot the roc curve for the model\n",
    "plt.plot(fpr, tpr, marker='.')\n",
    "\n",
    "# show the plot\n",
    "plt.show()"
   ]
  },
  {
   "cell_type": "markdown",
   "metadata": {},
   "source": [
    "## K - nearest neighbor"
   ]
  },
  {
   "cell_type": "code",
   "execution_count": null,
   "metadata": {},
   "outputs": [],
   "source": [
    "# Model 2: KNN gridsearch\n",
    "from sklearn.neighbors import KNeighborsClassifier\n",
    "from sklearn.model_selection import GridSearchCV \n",
    "\n",
    "# Initialize the model\n",
    "knn = KNeighborsClassifier()\n",
    "\n",
    "# Set parameters for KNN\n",
    "# List of values to try \n",
    "knn_params = [{'n_neighbors': [2,3,5,7,10,15,25]}]\n",
    "\n",
    "#GridSearchCV(estimator, param_grid, scoring=None, fit_params=None, \n",
    "    #n_jobs=None, iid=’warn’, refit=True, cv=’warn’, verbose=0, pre_dispatch=‘2*n_jobs’,\n",
    "    #error_score=’raise-deprecating’, return_train_score=’warn’)\n",
    "\n",
    "# Search for the best paramters. \n",
    "knn_grid = GridSearchCV(knn, knn_params, cv=7, verbose=1, n_jobs=-1)\n",
    "\n",
    "# Fit the grid and obtain results\n",
    "knn_grid.fit(features, y)\n",
    "\n",
    "# Return best parameters and best score\n",
    "print(knn_grid.best_params_)\n",
    "print(knn_grid.best_score_)"
   ]
  },
  {
   "cell_type": "code",
   "execution_count": null,
   "metadata": {},
   "outputs": [],
   "source": [
    "# Model 2: KNN gridsearch\n",
    "from sklearn.neighbors import KNeighborsClassifier\n",
    "from sklearn.model_selection import GridSearchCV \n",
    "\n",
    "# Initialize the model\n",
    "knn = KNeighborsClassifier()\n",
    "\n",
    "# Set parameters for KNN\n",
    "# List of values to try \n",
    "knn_params = [{'n_neighbors': [2,3,5,7,10,15,25]}]\n",
    "\n",
    "#GridSearchCV(estimator, param_grid, scoring=None, fit_params=None, \n",
    "    #n_jobs=None, iid=’warn’, refit=True, cv=’warn’, verbose=0, pre_dispatch=‘2*n_jobs’,\n",
    "    #error_score=’raise-deprecating’, return_train_score=’warn’)\n",
    "\n",
    "# Search for the best paramters. \n",
    "knn_grid = GridSearchCV(knn, knn_params, cv=7, verbose=1, n_jobs=-1)\n",
    "\n",
    "# Fit the grid and obtain results\n",
    "knn_grid.fit(pca_X, y)\n",
    "\n",
    "# Return best parameters and best score\n",
    "print(knn_grid.best_params_)\n",
    "print(knn_grid.best_score_)"
   ]
  },
  {
   "cell_type": "code",
   "execution_count": null,
   "metadata": {},
   "outputs": [],
   "source": [
    "# Nearest neighbors model \n",
    "knn = KNeighborsClassifier(n_neighbors=20)\n",
    "\n",
    "knn.fit(pca_X,y)\n",
    "\n",
    "# Use train_test_split to create the necessary training and test groups\n",
    "X_train, X_test, y_train, y_test = train_test_split(pca_X,y, test_size=0.2, random_state=20)\n",
    "print('With 20% Holdout: ' + str(knn.fit(X_train, y_train).score(X_test, y_test)))\n",
    "print('Testing on Sample: ' + str(knn.fit(pca_X, y).score(pca_X, y)))\n",
    "\n",
    "# Cross validating using 10 folds  \n",
    "from sklearn.model_selection import cross_val_score\n",
    "print(cross_val_score(knn, pca_X, y, cv=10))\n",
    "\n",
    "from sklearn.metrics import classification_report\n",
    "print('KNN report :')\n",
    "print(classification_report(y_test, knn.predict(X_test)))\n",
    "\n",
    "#AUC \n",
    "probs = knn.predict_proba(X_test)\n",
    "probs = probs[:, 1]\n",
    "# calculate AUC\n",
    "auc = roc_auc_score(y_test, probs)\n",
    "print('AUC: %.3f' % auc)\n",
    "# calculate roc curve\n",
    "fpr, tpr, thresholds = roc_curve(y_test, probs, pos_label= 4 )\n",
    "plt.plot([0, 1], [0, 1], linestyle='--')\n",
    "# plot the roc curve for the model\n",
    "plt.plot(fpr, tpr, marker='.')\n",
    "# show the plot\n",
    "plt.show()\n"
   ]
  },
  {
   "cell_type": "code",
   "execution_count": null,
   "metadata": {},
   "outputs": [],
   "source": [
    "# Nearest neighbors model \n",
    "knn = KNeighborsClassifier(n_neighbors=15)\n",
    "\n",
    "knn.fit(features,y)\n",
    "\n",
    "# Use train_test_split to create the necessary training and test groups\n",
    "X_train, X_test, y_train, y_test = train_test_split(features,y, test_size=0.2, random_state=20)\n",
    "print('With 20% Holdout: ' + str(knn.fit(X_train, y_train).score(X_test, y_test)))\n",
    "print('Testing on Sample: ' + str(knn.fit(features, y).score(features, y)))\n",
    "\n",
    "# Cross validating using 10 folds  \n",
    "from sklearn.model_selection import cross_val_score\n",
    "print(cross_val_score(knn, features, y, cv=10))\n",
    "\n",
    "from sklearn.metrics import classification_report\n",
    "print('KNN report :')\n",
    "print(classification_report(y_test, knn.predict(X_test)))\n",
    "\n",
    "#AUC \n",
    "probs = knn.predict_proba(X_test)\n",
    "probs = probs[:, 1]\n",
    "# calculate AUC\n",
    "auc = roc_auc_score(y_test, probs)\n",
    "print('AUC: %.3f' % auc)\n",
    "# calculate roc curve\n",
    "fpr, tpr, thresholds = roc_curve(y_test, probs, pos_label= 4 )\n",
    "plt.plot([0, 1], [0, 1], linestyle='--')\n",
    "# plot the roc curve for the model\n",
    "plt.plot(fpr, tpr, marker='.')\n",
    "# show the plot\n",
    "plt.show()\n"
   ]
  },
  {
   "cell_type": "markdown",
   "metadata": {},
   "source": [
    "## Logistic Regression"
   ]
  },
  {
   "cell_type": "code",
   "execution_count": null,
   "metadata": {},
   "outputs": [],
   "source": [
    "# Logistic Regression Gridsearch cv \n",
    "from sklearn.linear_model import LogisticRegression\n",
    "logr = LogisticRegression()\n",
    "\n",
    "# Create regularization penalty space\n",
    "penalty = ['l1', 'l2']\n",
    "\n",
    "# Create regularization hyperparameter space\n",
    "C = (.00001,0.0001,0.001, 0.01, 0.1, 1, 10, 100)\n",
    "\n",
    "# Create hyperparameter options\n",
    "parameters = dict(C=C, penalty=penalty)\n",
    "\n",
    "# Use GS-CV to see which alpha level is best.\n",
    "\n",
    "logr_grid = GridSearchCV(logr, parameters, cv=5, verbose=1)\n",
    "\n",
    "#Fit the logistic regression \n",
    "logr_grid.fit(features, y)\n",
    "\n",
    "#return best parameters and best score\n",
    "\n",
    "print(logr_grid.best_params_)\n",
    "print(logr_grid.best_score_)"
   ]
  },
  {
   "cell_type": "code",
   "execution_count": null,
   "metadata": {},
   "outputs": [],
   "source": [
    "# Logistic Regression Gridsearch cv \n",
    "from sklearn.linear_model import LogisticRegression\n",
    "logr = LogisticRegression()\n",
    "\n",
    "# Create regularization penalty space\n",
    "penalty = ['l1', 'l2']\n",
    "\n",
    "# Create regularization hyperparameter space\n",
    "C = (.00001,0.0001,0.001, 0.01, 0.1, 1, 10, 100)\n",
    "\n",
    "# Create hyperparameter options\n",
    "parameters = dict(C=C, penalty=penalty)\n",
    "\n",
    "# Use GS-CV to see which alpha level is best.\n",
    "\n",
    "logr_grid = GridSearchCV(logr, parameters, cv=5, verbose=1)\n",
    "\n",
    "#Fit the logistic regression \n",
    "logr_grid.fit(pca_X, y)\n",
    "\n",
    "#return best parameters and best score\n",
    "\n",
    "print(logr_grid.best_params_)\n",
    "print(logr_grid.best_score_)"
   ]
  },
  {
   "cell_type": "code",
   "execution_count": null,
   "metadata": {},
   "outputs": [],
   "source": [
    "# Logistic regression model \n",
    "logr = LogisticRegression(C= 1e-05, penalty='l2')\n",
    "\n",
    "\n",
    "logr.fit(pca_X,y)\n",
    "\n",
    "# Use train_test_split to create the necessary training and test groups\n",
    "X_train, X_test, y_train, y_test = train_test_split(pca_X, y, test_size=0.2, random_state=20)\n",
    "print('With 20% Holdout: ' + str(logr.fit(X_train, y_train).score(X_test, y_test)))\n",
    "print('Testing on Sample: ' + str(logr.fit(pca_X, y).score(pca_X, y)))\n",
    "\n",
    "# Cross validating using 10 folds  \n",
    "from sklearn.model_selection import cross_val_score\n",
    "print(cross_val_score(logr, pca_X, y, cv=10))\n",
    "\n",
    "from sklearn.metrics import classification_report\n",
    "print('Logistic regression report :')\n",
    "print(classification_report(y_test, logr.predict(X_test)))\n",
    "\n",
    "#AUC \n",
    "probs = logr.predict_proba(X_test)\n",
    "probs = probs[:, 1]\n",
    "# calculate AUC\n",
    "auc = roc_auc_score(y_test, probs)\n",
    "print('AUC: %.3f' % auc)\n",
    "# calculate roc curve\n",
    "fpr, tpr, thresholds = roc_curve(y_test, probs, pos_label= 4 )\n",
    "plt.plot([0, 1], [0, 1], linestyle='--')\n",
    "# plot the roc curve for the model\n",
    "plt.plot(fpr, tpr, marker='.')\n",
    "# show the plot\n",
    "plt.show()\n",
    "\n"
   ]
  },
  {
   "cell_type": "code",
   "execution_count": null,
   "metadata": {},
   "outputs": [],
   "source": [
    "# Logistic regression model \n",
    "logr = LogisticRegression(C= 1, penalty='l2')\n",
    "\n",
    "\n",
    "logr.fit(features,y)\n",
    "\n",
    "# Use train_test_split to create the necessary training and test groups\n",
    "X_train, X_test, y_train, y_test = train_test_split(features, y, test_size=0.2, random_state=20)\n",
    "print('With 20% Holdout: ' + str(logr.fit(X_train, y_train).score(X_test, y_test)))\n",
    "print('Testing on Sample: ' + str(logr.fit(features, y).score(features, y)))\n",
    "\n",
    "# Cross validating using 10 folds  \n",
    "from sklearn.model_selection import cross_val_score\n",
    "print(cross_val_score(logr, features, y, cv=10))\n",
    "\n",
    "from sklearn.metrics import classification_report\n",
    "print('Logistic regression report :')\n",
    "print(classification_report(y_test, logr.predict(X_test)))\n",
    "\n",
    "#AUC \n",
    "probs = logr.predict_proba(X_test)\n",
    "probs = probs[:, 1]\n",
    "# calculate AUC\n",
    "auc = roc_auc_score(y_test, probs)\n",
    "print('AUC: %.3f' % auc)\n",
    "# calculate roc curve\n",
    "fpr, tpr, thresholds = roc_curve(y_test, probs, pos_label= 4 )\n",
    "plt.plot([0, 1], [0, 1], linestyle='--')\n",
    "# plot the roc curve for the model\n",
    "plt.plot(fpr, tpr, marker='.')\n",
    "# show the plot\n",
    "plt.show()"
   ]
  },
  {
   "cell_type": "markdown",
   "metadata": {},
   "source": [
    "## SVM Classifyer "
   ]
  },
  {
   "cell_type": "code",
   "execution_count": null,
   "metadata": {},
   "outputs": [],
   "source": [
    "# SVM gridsearch for best parameters \n",
    "from sklearn.svm import SVC\n",
    "\n",
    "svm = SVC()\n",
    "\n",
    "# new parameters for this model\n",
    "svc_params = [{'C': [.000001,.00001,.001,.01,.1,1,10], 'gamma': [.0001,.001,.01,.1]}]\n",
    "\n",
    "# setting up the grid\n",
    "svc_grid = GridSearchCV(svm, svc_params, cv=7, verbose=1, n_jobs=-1)\n",
    "\n",
    "#Fit the grid\n",
    "svc_grid.fit(features,y)\n",
    "\n",
    "#return best parameters and best score\n",
    "\n",
    "print(svc_grid.best_params_)\n",
    "print(svc_grid.best_score_)"
   ]
  },
  {
   "cell_type": "code",
   "execution_count": null,
   "metadata": {},
   "outputs": [],
   "source": [
    "# SVM gridsearch for best parameters \n",
    "from sklearn.svm import SVC\n",
    "\n",
    "svm = SVC()\n",
    "\n",
    "# new parameters for this model\n",
    "svc_params = [{'C': [.000001,.00001,.001,.01,.1,1,10], 'gamma': [.0001,.001,.01,.1]}]\n",
    "\n",
    "# setting up the grid\n",
    "svc_grid = GridSearchCV(svm, svc_params, cv=7, verbose=1, n_jobs=-1)\n",
    "\n",
    "#Fit the grid\n",
    "svc_grid.fit(pca_X,y)\n",
    "\n",
    "#return best parameters and best score\n",
    "\n",
    "print(svc_grid.best_params_)\n",
    "print(svc_grid.best_score_)"
   ]
  },
  {
   "cell_type": "code",
   "execution_count": null,
   "metadata": {
    "scrolled": true
   },
   "outputs": [],
   "source": [
    "# SVM model using pca \n",
    "from sklearn.svm import SVC\n",
    "svm = SVC(C=0.1, gamma=.01)\n",
    "\n",
    "svm.fit(pca_X,y)\n",
    "\n",
    "# Use train_test_split to create the necessary training and test groups\n",
    "X_train, X_test, y_train, y_test = train_test_split(pca_X, y, test_size=0.2, random_state=20)\n",
    "print('With 20% Holdout: ' + str(svm.fit(X_train, y_train).score(X_test, y_test)))\n",
    "print('Testing on Sample: ' + str(svm.fit(pca_X, y).score(pca_X, y)))\n",
    "\n",
    "# Cross validating using 10 folds  \n",
    "from sklearn.model_selection import cross_val_score\n",
    "print(cross_val_score(svm, pca_X, y, cv=10))\n",
    "\n",
    "from sklearn.metrics import classification_report\n",
    "print('SVM report :')\n",
    "print(classification_report(y_test, svm.predict(X_test)))\n",
    "\n",
    "#AUC \n",
    "#trick sklearn:\n",
    "probs = svm.predict_proba(X_test)\n",
    "probs = probs[:, 1]\n",
    "# calculate AUC\n",
    "auc = roc_auc_score(y_test, probs)\n",
    "print('AUC: %.3f' % auc)\n",
    "# calculate roc curve\n",
    "fpr, tpr, thresholds = roc_curve(y_test, probs, pos_label= 4 )\n",
    "plt.plot([0, 1], [0, 1], linestyle='--')\n",
    "# plot the roc curve for the model\n",
    "plt.plot(fpr, tpr, marker='.')\n",
    "# show the plot\n",
    "plt.show()\n"
   ]
  },
  {
   "cell_type": "code",
   "execution_count": null,
   "metadata": {
    "scrolled": true
   },
   "outputs": [],
   "source": [
    "# SVM model using features \n",
    "from sklearn.svm import SVC\n",
    "svm = SVC(C=1, gamma=.01)\n",
    "\n",
    "svm.fit(features,y)\n",
    "\n",
    "# Use train_test_split to create the necessary training and test groups\n",
    "X_train, X_test, y_train, y_test = train_test_split(features,y, test_size=0.2, random_state=20)\n",
    "print('With 20% Holdout: ' + str(svm.fit(X_train, y_train).score(X_test, y_test)))\n",
    "print('Testing on Sample: ' + str(svm.fit(features, y).score(features, y)))\n",
    "\n",
    "# Cross validating using 10 folds  \n",
    "from sklearn.model_selection import cross_val_score\n",
    "print(cross_val_score(svm, features,y, cv=10))\n",
    "\n",
    "from sklearn.metrics import classification_report\n",
    "print('SVM report :')\n",
    "print(classification_report(y_test, svm.predict(X_test)))\n",
    "\n",
    "\n",
    "#AUC \n",
    "#trick sklearn:\n",
    "probs = svm.predict_proba(X_test)\n",
    "probs = probs[:, 1]\n",
    "# calculate AUC\n",
    "auc = roc_auc_score(y_test, probs)\n",
    "print('AUC: %.3f' % auc)\n",
    "# calculate roc curve\n",
    "fpr, tpr, thresholds = roc_curve(y_test, probs, pos_label= 4 )\n",
    "plt.plot([0, 1], [0, 1], linestyle='--')\n",
    "# plot the roc curve for the model\n",
    "plt.plot(fpr, tpr, marker='.')\n",
    "# show the plot\n",
    "plt.show()\n"
   ]
  },
  {
   "cell_type": "markdown",
   "metadata": {},
   "source": [
    "## Gradient Boosting"
   ]
  },
  {
   "cell_type": "code",
   "execution_count": null,
   "metadata": {},
   "outputs": [],
   "source": [
    "# Parameters to test in gridsearch cv \n",
    "\n",
    "\n",
    "\n",
    "params = {'n_estimators': [50, 100, 150, 200, 300, 500, 700, 1000, 1500],\n",
    "          'max_depth': [2,3,4,5,6,7,8],\n",
    "         }\n",
    "\n",
    "# Initialize and fit the model.\n",
    "gb = ensemble.GradientBoostingClassifier()\n",
    "\n",
    "# Use the grid\n",
    "gb_grid = GridSearchCV(gb, params, cv=5, verbose=1, n_jobs=-1)\n",
    "\n",
    "# Fit the grid\n",
    "gb_grid.fit(features, y)\n",
    "\n",
    "# Return best parameters and best score\n",
    "print(gb_grid.best_params_)\n",
    "print(gb_grid.best_score_)"
   ]
  },
  {
   "cell_type": "code",
   "execution_count": null,
   "metadata": {},
   "outputs": [],
   "source": [
    "# Parameters to test in gridsearch cv \n",
    "\n",
    "params = {'n_estimators': [50, 100, 150, 200, 300, 500, 700, 1000, 1500],\n",
    "          'max_depth': [2,3,4,5,6,7,8],\n",
    "         }\n",
    "\n",
    "# Initialize and fit the model.\n",
    "gb = ensemble.GradientBoostingClassifier()\n",
    "\n",
    "# Use the grid\n",
    "gb_grid = GridSearchCV(gb, params, cv=5, verbose=1, n_jobs=-1)\n",
    "\n",
    "# Fit the grid\n",
    "gb_grid.fit(pca_X, y)\n",
    "\n",
    "# Return best parameters and best score\n",
    "print(gb_grid.best_params_)\n",
    "print(gb_grid.best_score_)"
   ]
  },
  {
   "cell_type": "code",
   "execution_count": null,
   "metadata": {},
   "outputs": [],
   "source": [
    "# Gradient boosting model \n",
    "# Best Parameters from gridsearchcv \n",
    "params = {'n_estimators': 50,\n",
    "          'max_depth': 2,\n",
    "          'loss': 'deviance'}\n",
    "\n",
    "# Initialize and fit the model.\n",
    "gb = ensemble.GradientBoostingClassifier(**params)\n",
    "\n",
    "gb.fit(pca_X,y)\n",
    "\n",
    "\n",
    "# Use train_test_split to create the necessary training and test groups\n",
    "X_train, X_test, y_train, y_test = train_test_split(pca_X,y, test_size=0.2, random_state=20)\n",
    "print('With 20% Holdout: ' + str(gb.fit(X_train, y_train).score(X_test, y_test)))\n",
    "print('Testing on Sample: ' + str(gb.fit(pca_X, y).score(pca_X, y)))\n",
    "\n",
    "# Cross validating using 10 folds  \n",
    "from sklearn.model_selection import cross_val_score\n",
    "print(cross_val_score(gb, pca_X, y, cv=10))\n",
    "\n",
    "from sklearn.metrics import classification_report\n",
    "print('Gradient Boosting report :')\n",
    "print(classification_report(y_test, gb.predict(X_test)))\n",
    "\n",
    "#AUC \n",
    "probs = gb.predict_proba(X_test)\n",
    "probs = probs[:, 1]\n",
    "# calculate AUC\n",
    "auc = roc_auc_score(y_test, probs)\n",
    "print('AUC: %.3f' % auc)\n",
    "# calculate roc curve\n",
    "fpr, tpr, thresholds = roc_curve(y_test, probs, pos_label= 4 )\n",
    "plt.plot([0, 1], [0, 1], linestyle='--')\n",
    "# plot the roc curve for the model\n",
    "plt.plot(fpr, tpr, marker='.')\n",
    "# show the plot\n",
    "plt.show()\n"
   ]
  },
  {
   "cell_type": "code",
   "execution_count": null,
   "metadata": {},
   "outputs": [],
   "source": [
    "# Gradient boosting model \n",
    "# Best Parameters from gridsearchcv \n",
    "params = {'n_estimators': 500,\n",
    "          'max_depth': 2,\n",
    "          'loss': 'deviance'}\n",
    "\n",
    "# Initialize and fit the model.\n",
    "gb = ensemble.GradientBoostingClassifier(**params)\n",
    "\n",
    "gb.fit(features,y)\n",
    "\n",
    "# Use train_test_split to create the necessary training and test groups\n",
    "X_train, X_test, y_train, y_test = train_test_split(features,y, test_size=0.2, random_state=20)\n",
    "print('With 20% Holdout: ' + str(gb.fit(X_train, y_train).score(X_test, y_test)))\n",
    "print('Testing on Sample: ' + str(gb.fit(features, y).score(features, y)))\n",
    "\n",
    "# Cross validating using 10 folds  \n",
    "from sklearn.model_selection import cross_val_score\n",
    "print(cross_val_score(gb, pca_X, y, cv=10))\n",
    "\n",
    "from sklearn.metrics import classification_report\n",
    "print('Gradient Boosting report :')\n",
    "print(classification_report(y_test, gb.predict(X_test)))\n",
    "\n",
    "#AUC \n",
    "probs = gb.predict_proba(X_test)\n",
    "probs = probs[:, 1]\n",
    "# calculate AUC\n",
    "auc = roc_auc_score(y_test, probs)\n",
    "print('AUC: %.3f' % auc)\n",
    "# calculate roc curve\n",
    "fpr, tpr, thresholds = roc_curve(y_test, probs, pos_label= 4 )\n",
    "plt.plot([0, 1], [0, 1], linestyle='--')\n",
    "# plot the roc curve for the model\n",
    "plt.plot(fpr, tpr, marker='.')\n",
    "# show the plot\n",
    "plt.show()\n"
   ]
  },
  {
   "cell_type": "markdown",
   "metadata": {},
   "source": [
    "## Decision Tree"
   ]
  },
  {
   "cell_type": "code",
   "execution_count": null,
   "metadata": {},
   "outputs": [],
   "source": [
    "# Decision Tree Gridsearch \n",
    "from sklearn.tree import DecisionTreeClassifier\n",
    "\n",
    "\n",
    "# Initialize the model\n",
    "decision_tree = DecisionTreeClassifier()\n",
    "\n",
    "# Set parameters for dtc\n",
    "params = [{'max_features': [2, 4, 6, 8],\n",
    "             'max_depth': [2, 4, 6, 8]}]\n",
    "\n",
    "# Search for the best paramters. \n",
    "decision_tree_grid = GridSearchCV(decision_tree, params, cv=5, verbose=1, n_jobs=-1)\n",
    "\n",
    "# Fit the grid and obtain results\n",
    "decision_tree_grid.fit(features, y)\n",
    "\n",
    "# Return best parameters and best score\n",
    "print(decision_tree_grid.best_params_)\n",
    "print(decision_tree_grid.best_score_)"
   ]
  },
  {
   "cell_type": "code",
   "execution_count": null,
   "metadata": {},
   "outputs": [],
   "source": [
    "# Decision Tree Gridsearch \n",
    "from sklearn.tree import DecisionTreeClassifier\n",
    "\n",
    "\n",
    "# Initialize the model\n",
    "decision_tree = DecisionTreeClassifier()\n",
    "\n",
    "# Set parameters for dtc\n",
    "params = [{'max_features': [2, 4, 6, 7],\n",
    "             'max_depth': [2, 4, 6, 8]}]\n",
    "\n",
    "# Search for the best paramters. \n",
    "decision_tree_grid = GridSearchCV(decision_tree, params, cv=5, verbose=1, n_jobs=-1)\n",
    "\n",
    "# Fit the grid and obtain results\n",
    "decision_tree_grid.fit(pca_X, y)\n",
    "\n",
    "# Return best parameters and best score\n",
    "print(decision_tree_grid.best_params_)\n",
    "print(decision_tree_grid.best_score_)"
   ]
  },
  {
   "cell_type": "code",
   "execution_count": null,
   "metadata": {},
   "outputs": [],
   "source": [
    "from sklearn.metrics import roc_curve\n",
    "from sklearn.metrics import roc_auc_score\n",
    "from matplotlib import pyplot\n",
    "\n",
    "decision_tree = DecisionTreeClassifier( \n",
    "    criterion='entropy',\n",
    "    max_features=7,\n",
    "    max_depth=2)\n",
    "\n",
    "\n",
    "from sklearn.model_selection import train_test_split\n",
    "# Use train_test_split to create the necessary training and test groups\n",
    "X_train, X_test, y_train, y_test = train_test_split(pca_X,y, test_size=0.2, random_state=20)\n",
    "print('With 20% Holdout: ' + str(decision_tree.fit(X_train, y_train).score(X_test, y_test)))\n",
    "print('Testing on Sample: ' + str(decision_tree.fit(pca_X, y).score(pca_X, y)))\n",
    "\n",
    "\n",
    "# Cross validating using 10 folds  \n",
    "from sklearn.model_selection import cross_val_score\n",
    "print(cross_val_score(decision_tree, pca_X, y, cv=10))\n",
    "\n",
    "\n",
    "from sklearn.metrics import classification_report\n",
    "print('Decision Tree report :')\n",
    "print(classification_report(y_test, decision_tree.predict(X_test)))\n",
    "\n",
    "#AUC \n",
    "probs = decision_tree.predict_proba(X_test)\n",
    "probs = probs[:, 1]\n",
    "# calculate AUC\n",
    "auc = roc_auc_score(y_test, probs)\n",
    "print('AUC: %.3f' % auc)\n",
    "# calculate roc curve\n",
    "fpr, tpr, thresholds = roc_curve(y_test, probs, pos_label= 4)\n",
    "plt.plot([0, 1], [0, 1], linestyle='--')\n",
    "# plot the roc curve for the model\n",
    "plt.plot(fpr, tpr, marker='.')\n",
    "# show the plot\n",
    "plt.show()"
   ]
  },
  {
   "cell_type": "code",
   "execution_count": null,
   "metadata": {},
   "outputs": [],
   "source": [
    "from sklearn.metrics import roc_curve\n",
    "from sklearn.metrics import roc_auc_score\n",
    "from matplotlib import pyplot\n",
    "\n",
    "decision_tree = DecisionTreeClassifier( \n",
    "    criterion='entropy',\n",
    "    max_features=8,\n",
    "    max_depth=4)\n",
    "\n",
    "\n",
    "from sklearn.model_selection import train_test_split\n",
    "# Use train_test_split to create the necessary training and test groups\n",
    "X_train, X_test, y_train, y_test = train_test_split(features,y, test_size=0.2, random_state=20)\n",
    "print('With 20% Holdout: ' + str(decision_tree.fit(X_train, y_train).score(X_test, y_test)))\n",
    "print('Testing on Sample: ' + str(decision_tree.fit(features, y).score(features, y)))\n",
    "\n",
    "\n",
    "# Cross validating using 10 folds  \n",
    "from sklearn.model_selection import cross_val_score\n",
    "print(cross_val_score(decision_tree, features, y, cv=10))\n",
    "\n",
    "\n",
    "from sklearn.metrics import classification_report\n",
    "print('Decision Tree report :')\n",
    "print(classification_report(y_test, decision_tree.predict(X_test)))\n",
    "\n",
    "#AUC \n",
    "probs = decision_tree.predict_proba(X_test)\n",
    "probs = probs[:, 1]\n",
    "# calculate AUC\n",
    "auc = roc_auc_score(y_test, probs)\n",
    "print('AUC: %.3f' % auc)\n",
    "# calculate roc curve\n",
    "fpr, tpr, thresholds = roc_curve(y_test, probs, pos_label= 4)\n",
    "plt.plot([0, 1], [0, 1], linestyle='--')\n",
    "# plot the roc curve for the model\n",
    "plt.plot(fpr, tpr, marker='.')\n",
    "# show the plot\n",
    "plt.show()"
   ]
  },
  {
   "cell_type": "code",
   "execution_count": null,
   "metadata": {},
   "outputs": [],
   "source": [
    "# Native Bayes \n",
    "\n",
    "from sklearn.naive_bayes import BernoulliNB\n",
    "from sklearn.model_selection import train_test_split\n",
    "\n",
    "\n",
    "# Instantiate our model and Fit our model to the data.\n",
    "bnb = BernoulliNB()\n",
    "bnb.fit(features, y)\n",
    "\n",
    "# Use train_test_split to create the necessary training and test groups\n",
    "X_train, X_test, y_train, y_test = train_test_split(features,y, test_size=0.2, random_state=20)\n",
    "print('With 20% Holdout: ' + str(bnb.fit(X_train, y_train).score(X_test, y_test)))\n",
    "print('Testing on Sample: ' + str(bnb.fit(features, y).score(features, y)))\n",
    "\n",
    "# Cross validating using 10 folds  \n",
    "from sklearn.model_selection import cross_val_score\n",
    "print(cross_val_score(bnb,features, y, cv=10))\n",
    "\n",
    "#Classification report \n",
    "from sklearn.metrics import classification_report\n",
    "print('Native Bayes Classification report :')\n",
    "print(classification_report(y_test, bnb.predict(X_test)))\n",
    "\n",
    "#AUC \n",
    "probs = bnb.predict_proba(X_test)\n",
    "probs = probs[:, 1]\n",
    "# calculate AUC\n",
    "auc = roc_auc_score(y_test, probs)\n",
    "print('AUC: %.3f' % auc)\n",
    "# calculate roc curve\n",
    "fpr, tpr, thresholds = roc_curve(y_test, probs, pos_label= 4)\n",
    "plt.plot([0, 1], [0, 1], linestyle='--')\n",
    "# plot the roc curve for the model\n",
    "plt.plot(fpr, tpr, marker='.')\n",
    "# show the plot\n",
    "plt.show()\n"
   ]
  },
  {
   "cell_type": "code",
   "execution_count": null,
   "metadata": {},
   "outputs": [],
   "source": [
    "# Native Bayes \n",
    "\n",
    "from sklearn.naive_bayes import BernoulliNB\n",
    "from sklearn.model_selection import train_test_split\n",
    "\n",
    "\n",
    "# Instantiate our model and Fit our model to the data.\n",
    "bnb = BernoulliNB()\n",
    "bnb.fit(pca_X, y)\n",
    "\n",
    "# Use train_test_split to create the necessary training and test groups\n",
    "X_train, X_test, y_train, y_test = train_test_split(pca_X,y, test_size=0.2, random_state=20)\n",
    "print('With 20% Holdout: ' + str(bnb.fit(X_train, y_train).score(X_test, y_test)))\n",
    "print('Testing on Sample: ' + str(bnb.fit(pca_X, y).score(pca_X, y)))\n",
    "\n",
    "# Cross validating using 10 folds  \n",
    "from sklearn.model_selection import cross_val_score\n",
    "print(cross_val_score(bnb,pca_X , y, cv=10))\n",
    "\n",
    "#Classification report \n",
    "from sklearn.metrics import classification_report\n",
    "print('Native Bayes Classification report :')\n",
    "print(classification_report(y_test, bnb.predict(X_test)))\n",
    "\n",
    "#AUC \n",
    "probs = bnb.predict_proba(X_test)\n",
    "probs = probs[:, 1]\n",
    "# calculate AUC\n",
    "auc = roc_auc_score(y_test, probs)\n",
    "print('AUC: %.3f' % auc)\n",
    "# calculate roc curve\n",
    "fpr, tpr, thresholds = roc_curve(y_test, probs, pos_label= 4)\n",
    "plt.plot([0, 1], [0, 1], linestyle='--')\n",
    "# plot the roc curve for the model\n",
    "plt.plot(fpr, tpr, marker='.')\n",
    "# show the plot\n",
    "plt.show()\n"
   ]
  },
  {
   "cell_type": "markdown",
   "metadata": {},
   "source": [
    "## Conclusion "
   ]
  },
  {
   "cell_type": "code",
   "execution_count": null,
   "metadata": {},
   "outputs": [],
   "source": []
  }
 ],
 "metadata": {
  "kernelspec": {
   "display_name": "Python 3",
   "language": "python",
   "name": "python3"
  },
  "language_info": {
   "codemirror_mode": {
    "name": "ipython",
    "version": 3
   },
   "file_extension": ".py",
   "mimetype": "text/x-python",
   "name": "python",
   "nbconvert_exporter": "python",
   "pygments_lexer": "ipython3",
   "version": "3.7.1"
  }
 },
 "nbformat": 4,
 "nbformat_minor": 2
}
