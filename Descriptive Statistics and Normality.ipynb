{
 "cells": [
  {
   "cell_type": "code",
   "execution_count": 1,
   "metadata": {},
   "outputs": [],
   "source": [
    "import matplotlib.pyplot as plt\n",
    "import numpy as np\n",
    "import pandas as pd\n",
    "%matplotlib inline"
   ]
  },
  {
   "cell_type": "code",
   "execution_count": 47,
   "metadata": {},
   "outputs": [
    {
     "data": {
      "image/png": "[encoded data removed]",
      "text/plain": [
       "<Figure size 432x288 with 1 Axes>"
      ]
     },
     "metadata": {
      "needs_background": "light"
     },
     "output_type": "display_data"
    }
   ],
   "source": [
    "#Possion Distribution \n",
    "\n",
    "poissonvar = np.random.poisson(5, 100)\n",
    "\n",
    "plt.hist(poissonvar)\n",
    "\n",
    "# Add a vertical line at the mean.\n",
    "plt.axvline(poissonvar.mean(), color='r', linestyle='solid', linewidth=2)\n",
    "\n",
    "# Add a vertical line at one standard deviation above the mean.\n",
    "plt.axvline(poissonvar.mean() + poissonvar.std(), color='g', linestyle='dashed', linewidth=2)\n",
    "\n",
    "# Add a vertical line at one standard deviation below the mean.\n",
    "plt.axvline(poissonvar.mean()-poissonvar.std(), color='g', linestyle='dashed', linewidth=2) \n",
    "\n",
    "plt.show()"
   ]
  },
  {
   "cell_type": "code",
   "execution_count": 43,
   "metadata": {},
   "outputs": [
    {
     "name": "stdout",
     "output_type": "stream",
     "text": [
      "0.9582707489445915\n",
      "1.03\n"
     ]
    }
   ],
   "source": [
    "print(np.std(poissonvar, ddof=1))\n",
    "print(np.mean(poissonvar)) "
   ]
  },
  {
   "cell_type": "code",
   "execution_count": 44,
   "metadata": {},
   "outputs": [
    {
     "data": {
      "image/png": "[encoded data removed]",
      "text/plain": [
       "<Figure size 432x288 with 1 Axes>"
      ]
     },
     "metadata": {
      "needs_background": "light"
     },
     "output_type": "display_data"
    }
   ],
   "source": [
    "#Geometic Distribution \n",
    "\n",
    "geo = np.random.geometric(.5, 100)\n",
    "\n",
    "plt.hist(geo)\n",
    "\n",
    "# Add a vertical line at the mean.\n",
    "plt.axvline(geo.mean(), color='r', linestyle='solid', linewidth=2)\n",
    "\n",
    "# Add a vertical line at one standard deviation above the mean.\n",
    "plt.axvline(geo.mean() + geo.std(), color='g', linestyle='dashed', linewidth=2)\n",
    "\n",
    "# Add a vertical line at one standard deviation below the mean.\n",
    "plt.axvline(geo.mean()-geo.std(), color='g', linestyle='dashed', linewidth=2) \n",
    "\n",
    "plt.show()\n",
    "\n"
   ]
  },
  {
   "cell_type": "code",
   "execution_count": 40,
   "metadata": {},
   "outputs": [
    {
     "name": "stdout",
     "output_type": "stream",
     "text": [
      "1.2457604873807775\n",
      "1.94\n"
     ]
    }
   ],
   "source": [
    "print(np.std(geo, ddof=1))\n",
    "print(np.mean(geo)) "
   ]
  },
  {
   "cell_type": "code",
   "execution_count": 58,
   "metadata": {},
   "outputs": [
    {
     "data": {
      "image/png": "[encoded data removed]",
      "text/plain": [
       "<Figure size 432x288 with 1 Axes>"
      ]
     },
     "metadata": {
      "needs_background": "light"
     },
     "output_type": "display_data"
    }
   ],
   "source": [
    "#Binomial Distribution \n",
    "binomial = np.random.binomial(10, 0.5, 100)\n",
    "\n",
    "plt.hist(binomial)\n",
    "\n",
    "# Add a vertical line at the mean.\n",
    "plt.axvline(binomial.mean(), color='r', linestyle='solid', linewidth=2)\n",
    "\n",
    "# Add a vertical line at one standard deviation above the mean.\n",
    "plt.axvline(binomial.mean() + binomial.std(), color='g', linestyle='dashed', linewidth=2)\n",
    "\n",
    "# Add a vertical line at one standard deviation below the mean.\n",
    "plt.axvline(binomial.mean()-binomial.std(), color='g', linestyle='dashed', linewidth=2) \n",
    "\n",
    "plt.show()\n"
   ]
  },
  {
   "cell_type": "code",
   "execution_count": 59,
   "metadata": {},
   "outputs": [
    {
     "name": "stdout",
     "output_type": "stream",
     "text": [
      "1.6959547830831538\n",
      "5.05\n"
     ]
    }
   ],
   "source": [
    "print(np.std(binomial, ddof=1))\n",
    "print(np.mean(binomial)) "
   ]
  },
  {
   "cell_type": "code",
   "execution_count": 61,
   "metadata": {},
   "outputs": [
    {
     "data": {
      "image/png": "[encoded data removed]",
      "text/plain": [
       "<Figure size 432x288 with 1 Axes>"
      ]
     },
     "metadata": {
      "needs_background": "light"
     },
     "output_type": "display_data"
    }
   ],
   "source": [
    "#rayleigh distribution \n",
    "\n",
    "ray = np.random.rayleigh(1, 100)\n",
    "\n",
    "plt.hist(ray)\n",
    "\n",
    "# Add a vertical line at the mean.\n",
    "plt.axvline(ray.mean(), color='r', linestyle='solid', linewidth=2)\n",
    "\n",
    "# Add a vertical line at one standard deviation above the mean.\n",
    "plt.axvline(ray.mean() + ray.std(), color='g', linestyle='dashed', linewidth=2)\n",
    "\n",
    "# Add a vertical line at one standard deviation below the mean.\n",
    "plt.axvline(ray.mean()-ray.std(), color='g', linestyle='dashed', linewidth=2) \n",
    "pl\n",
    "plt.show()"
   ]
  },
  {
   "cell_type": "code",
   "execution_count": 62,
   "metadata": {},
   "outputs": [
    {
     "name": "stdout",
     "output_type": "stream",
     "text": [
      "0.7078838719277561\n",
      "1.2615194630600244\n"
     ]
    }
   ],
   "source": [
    "print(np.std(ray, ddof=1))\n",
    "print(np.mean(ray)) "
   ]
  },
  {
   "cell_type": "code",
   "execution_count": 63,
   "metadata": {},
   "outputs": [
    {
     "data": {
      "image/png": "[encoded data removed]",
      "text/plain": [
       "<Figure size 432x288 with 1 Axes>"
      ]
     },
     "metadata": {
      "needs_background": "light"
     },
     "output_type": "display_data"
    }
   ],
   "source": [
    "#rayleigh distribution \n",
    "gamma = np.random.gamma(1, 1, 100)\n",
    "\n",
    "plt.hist(gamma)\n",
    "\n",
    "# Add a vertical line at the mean.\n",
    "plt.axvline(gamma.mean(), color='r', linestyle='solid', linewidth=2)\n",
    "\n",
    "# Add a vertical line at one standard deviation above the mean.\n",
    "plt.axvline(gamma.mean() + gamma.std(), color='g', linestyle='dashed', linewidth=2)\n",
    "\n",
    "# Add a vertical line at one standard deviation below the mean.\n",
    "plt.axvline(gamma.mean()-gamma.std(), color='g', linestyle='dashed', linewidth=2) \n",
    "\n",
    "plt.show()"
   ]
  },
  {
   "cell_type": "code",
   "execution_count": 64,
   "metadata": {},
   "outputs": [
    {
     "name": "stdout",
     "output_type": "stream",
     "text": [
      "1.0832085789161463\n",
      "1.1260848607248355\n"
     ]
    }
   ],
   "source": [
    "print(np.std(gamma, ddof=1))\n",
    "print(np.mean(gamma)) "
   ]
  },
  {
   "cell_type": "code",
   "execution_count": 65,
   "metadata": {},
   "outputs": [
    {
     "data": {
      "image/png": "[encoded data removed]",
      "text/plain": [
       "<Figure size 432x288 with 1 Axes>"
      ]
     },
     "metadata": {
      "needs_background": "light"
     },
     "output_type": "display_data"
    }
   ],
   "source": [
    "# Power Distribution \n",
    "power = np.random.power(2, size =100)\n",
    "\n",
    "plt.hist(power)\n",
    "\n",
    "# Add a vertical line at the mean.\n",
    "plt.axvline(power.mean(), color='r', linestyle='solid', linewidth=2)\n",
    "\n",
    "# Add a vertical line at one standard deviation above the mean.\n",
    "plt.axvline(power.mean() + power.std(), color='g', linestyle='dashed', linewidth=2)\n",
    "\n",
    "# Add a vertical line at one standard deviation below the mean.\n",
    "plt.axvline(power.mean()-power.std(), color='g', linestyle='dashed', linewidth=2) \n",
    "\n",
    "plt.show()\n",
    "\n"
   ]
  },
  {
   "cell_type": "code",
   "execution_count": 66,
   "metadata": {},
   "outputs": [
    {
     "name": "stdout",
     "output_type": "stream",
     "text": [
      "0.21120821766950362\n",
      "0.7126934735512391\n"
     ]
    }
   ],
   "source": [
    "print(np.std(power, ddof=1))\n",
    "print(np.mean(power)) "
   ]
  },
  {
   "cell_type": "markdown",
   "metadata": {},
   "source": [
    "A common theme for the stats to be more descriptive is the need for normal data. \n"
   ]
  },
  {
   "cell_type": "code",
   "execution_count": 67,
   "metadata": {},
   "outputs": [
    {
     "data": {
      "image/png": "[encoded data removed]",
      "text/plain": [
       "<Figure size 432x288 with 1 Axes>"
      ]
     },
     "metadata": {
      "needs_background": "light"
     },
     "output_type": "display_data"
    }
   ],
   "source": [
    "# Second Half of the Drill \n",
    "\n",
    "\n",
    "var1 = np.random.normal(5, .05, 100)\n",
    "var2 = np.random.normal(10, 1, 100)\n",
    "\n",
    "combine_var = var1 + var2 \n",
    "plt.hist(combine_var)\n",
    "\n",
    "\n",
    "\n",
    "\n",
    "# Add a vertical line at the mean.\n",
    "plt.axvline(combine_var.mean(), color='r', linestyle='solid', linewidth=2)\n",
    "\n",
    "# Add a vertical line at one standard deviation above the mean.\n",
    "plt.axvline(combine_var.mean() + combine_var.std(), color='g', linestyle='dashed', linewidth=2)\n",
    "\n",
    "# Add a vertical line at one standard deviation below the mean.\n",
    "plt.axvline(combine_var.mean()-combine_var.std(), color='g', linestyle='dashed', linewidth=2) \n",
    "\n",
    "plt.show()\n",
    "\n"
   ]
  },
  {
   "cell_type": "markdown",
   "metadata": {},
   "source": [
    "The descriptive stats in the resulting histogram tend to skew to the left while the data seems to skew left. \n"
   ]
  },
  {
   "cell_type": "code",
   "execution_count": null,
   "metadata": {},
   "outputs": [],
   "source": []
  }
 ],
 "metadata": {
  "kernelspec": {
   "display_name": "Python 3",
   "language": "python",
   "name": "python3"
  },
  "language_info": {
   "codemirror_mode": {
    "name": "ipython",
    "version": 3
   },
   "file_extension": ".py",
   "mimetype": "text/x-python",
   "name": "python",
   "nbconvert_exporter": "python",
   "pygments_lexer": "ipython3",
   "version": "3.7.1"
  }
 },
 "nbformat": 4,
 "nbformat_minor": 2
}
