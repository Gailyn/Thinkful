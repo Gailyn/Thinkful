{
 "cells": [
  {
   "cell_type": "markdown",
   "metadata": {},
   "source": [
    "## Introduction\n"
   ]
  },
  {
   "cell_type": "markdown",
   "metadata": {},
   "source": [
    "\n",
    "Poverty thresholds are the dollar amounts used to determine poverty status and often the statistical basis in federal work and analysis.The Census Bureau assigns each person or family one out of 48 possible poverty thresholds.\n",
    "\n",
    "Thresholds vary by the size of the family and age of the members.\n",
    "The same thresholds are used throughout the United States (they do not vary geographically).\n",
    "Thresholds are updated annually for inflation using the Consumer Price Index for All Urban Consumers (CPI-U).\n",
    "\n",
    "- 12,752 for one person with no children in the household under 65\n",
    "- 11,756 for one person with no children in the household over 65\n",
    "\n",
    "\n",
    "A single person with a threhold of  501, the highest threshold, makes at least $63,887\n",
    "\n",
    "Poverty status cannot be determined for people in:\n",
    "\n",
    "- Institutional group quarters (such as prisons or nursing homes)\n",
    "- College dormitories\n",
    "- Military barracks\n",
    "- Living situations without conventional housing (and who are not in shelters)\n",
    "\n",
    " In this project, I develop an algorithm to classify the poverty threshold of an individual. To accomplish this task, I use a data from the 2017 American Community Survey with the  dataset obtained from IPUMS USA (IPUMS USA, University of Minnesota, www.ipums.org) a service that collects, preserves, and harmonizes U.S. census microdata. The dataset that I had selected contains  contains 148,594 rows and 31 variables.  The variables surround educational attainment, race, health care coverage type, food stamp recipiency, metropolitan type, income, rent paid, and ownership type. The 'lowerpov' variable that I create is my desired target variable and it takes value 2 in case of a poverty threshold greater than 200, and a value of 1 otherwise.  In this project, I aim to look for the traits that are most indicative of whether or not an individual will be have a poverty threshold above equal to or below 200 in addition to testing several different supervised learning models for the most accurate detection including: \n",
    "- Native Bayes Classifier\n",
    "- Knn classifier\n",
    "- Random Forest\n",
    "- Decision tree \n",
    "- Logistic regression \n",
    "- Svm classifier \n",
    "- Gradient boosted classifier \n",
    "\n",
    "I use gridsearch cv to find the ideal parameters for each of the classifiers I use. I also use a  number of different metrics to evaluate the performance of each of the models. The AUC and ROC plots reveal the positive to false positive rate and helps visually compare the effectiveness of the classifier. I use holdout grouping, cross-validation, and run classification reports on each of the models. \n"
   ]
  },
  {
   "cell_type": "markdown",
   "metadata": {},
   "source": [
    "### Exploration"
   ]
  },
  {
   "cell_type": "code",
   "execution_count": 1,
   "metadata": {},
   "outputs": [],
   "source": [
    "import numpy as np\n",
    "import pandas as pd\n",
    "import scipy\n",
    "import matplotlib\n",
    "import matplotlib.pyplot as plt\n",
    "import seaborn as sns\n",
    "%matplotlib inline\n",
    "from sklearn.metrics import roc_curve\n",
    "from sklearn.metrics import roc_auc_score\n"
   ]
  },
  {
   "cell_type": "code",
   "execution_count": 25,
   "metadata": {},
   "outputs": [
    {
     "name": "stdout",
     "output_type": "stream",
     "text": [
      "Index(['YEAR', 'DATANUM', 'SERIAL', 'CBSERIAL', 'HHWT', 'METRO', 'GQ',\n",
      "       'OWNERSHP', 'OWNERSHPD', 'RENTGRS', 'FOODSTMP', 'PERNUM', 'PERWT',\n",
      "       'SEX', 'AGE', 'HISPAN', 'HISPAND', 'RACAMIND', 'RACASIAN', 'RACBLK',\n",
      "       'RACPACIS', 'RACWHT', 'RACOTHER', 'HCOVANY', 'HCOVPRIV', 'HCOVPUB',\n",
      "       'EDUC', 'EDUCD', 'INCTOT', 'INCWAGE', 'POVERTY'],\n",
      "      dtype='object')\n",
      "YEAR         int64\n",
      "DATANUM      int64\n",
      "SERIAL       int64\n",
      "CBSERIAL     int64\n",
      "HHWT         int64\n",
      "METRO        int64\n",
      "GQ           int64\n",
      "OWNERSHP     int64\n",
      "OWNERSHPD    int64\n",
      "RENTGRS      int64\n",
      "FOODSTMP     int64\n",
      "PERNUM       int64\n",
      "PERWT        int64\n",
      "SEX          int64\n",
      "AGE          int64\n",
      "HISPAN       int64\n",
      "HISPAND      int64\n",
      "RACAMIND     int64\n",
      "RACASIAN     int64\n",
      "RACBLK       int64\n",
      "RACPACIS     int64\n",
      "RACWHT       int64\n",
      "RACOTHER     int64\n",
      "HCOVANY      int64\n",
      "HCOVPRIV     int64\n",
      "HCOVPUB      int64\n",
      "EDUC         int64\n",
      "EDUCD        int64\n",
      "INCTOT       int64\n",
      "INCWAGE      int64\n",
      "POVERTY      int64\n",
      "dtype: object\n"
     ]
    }
   ],
   "source": [
    "census = pd.read_csv('usa_00008.csv')\n",
    "print(census.columns)\n",
    "print(census.dtypes)"
   ]
  },
  {
   "cell_type": "code",
   "execution_count": 3,
   "metadata": {},
   "outputs": [
    {
     "data": {
      "text/html": [
       "<div>\n",
       "<style scoped>\n",
       "    .dataframe tbody tr th:only-of-type {\n",
       "        vertical-align: middle;\n",
       "    }\n",
       "\n",
       "    .dataframe tbody tr th {\n",
       "        vertical-align: top;\n",
       "    }\n",
       "\n",
       "    .dataframe thead th {\n",
       "        text-align: right;\n",
       "    }\n",
       "</style>\n",
       "<table border=\"1\" class=\"dataframe\">\n",
       "  <thead>\n",
       "    <tr style=\"text-align: right;\">\n",
       "      <th></th>\n",
       "      <th>YEAR</th>\n",
       "      <th>DATANUM</th>\n",
       "      <th>SERIAL</th>\n",
       "      <th>CBSERIAL</th>\n",
       "      <th>HHWT</th>\n",
       "      <th>METRO</th>\n",
       "      <th>GQ</th>\n",
       "      <th>OWNERSHP</th>\n",
       "      <th>OWNERSHPD</th>\n",
       "      <th>RENTGRS</th>\n",
       "      <th>...</th>\n",
       "      <th>RACWHT</th>\n",
       "      <th>RACOTHER</th>\n",
       "      <th>HCOVANY</th>\n",
       "      <th>HCOVPRIV</th>\n",
       "      <th>HCOVPUB</th>\n",
       "      <th>EDUC</th>\n",
       "      <th>EDUCD</th>\n",
       "      <th>INCTOT</th>\n",
       "      <th>INCWAGE</th>\n",
       "      <th>POVERTY</th>\n",
       "    </tr>\n",
       "  </thead>\n",
       "  <tbody>\n",
       "    <tr>\n",
       "      <th>count</th>\n",
       "      <td>148594.0</td>\n",
       "      <td>148594.0</td>\n",
       "      <td>1.485940e+05</td>\n",
       "      <td>1.485940e+05</td>\n",
       "      <td>148594.000000</td>\n",
       "      <td>148594.000000</td>\n",
       "      <td>148594.000000</td>\n",
       "      <td>148594.0</td>\n",
       "      <td>148594.000000</td>\n",
       "      <td>148594.000000</td>\n",
       "      <td>...</td>\n",
       "      <td>148594.000000</td>\n",
       "      <td>148594.000000</td>\n",
       "      <td>148594.000000</td>\n",
       "      <td>148594.000000</td>\n",
       "      <td>148594.000000</td>\n",
       "      <td>148594.000000</td>\n",
       "      <td>148594.000000</td>\n",
       "      <td>1.485940e+05</td>\n",
       "      <td>148594.000000</td>\n",
       "      <td>148594.000000</td>\n",
       "    </tr>\n",
       "    <tr>\n",
       "      <th>mean</th>\n",
       "      <td>2017.0</td>\n",
       "      <td>1.0</td>\n",
       "      <td>6.664452e+05</td>\n",
       "      <td>2.017001e+12</td>\n",
       "      <td>113.491063</td>\n",
       "      <td>2.280906</td>\n",
       "      <td>1.005296</td>\n",
       "      <td>2.0</td>\n",
       "      <td>21.936646</td>\n",
       "      <td>1181.205244</td>\n",
       "      <td>...</td>\n",
       "      <td>1.677309</td>\n",
       "      <td>1.066046</td>\n",
       "      <td>1.878306</td>\n",
       "      <td>1.591013</td>\n",
       "      <td>1.396638</td>\n",
       "      <td>7.388979</td>\n",
       "      <td>76.264728</td>\n",
       "      <td>3.432101e+04</td>\n",
       "      <td>27357.299756</td>\n",
       "      <td>262.870049</td>\n",
       "    </tr>\n",
       "    <tr>\n",
       "      <th>std</th>\n",
       "      <td>0.0</td>\n",
       "      <td>0.0</td>\n",
       "      <td>3.759372e+05</td>\n",
       "      <td>4.007110e+05</td>\n",
       "      <td>86.630697</td>\n",
       "      <td>0.751211</td>\n",
       "      <td>0.116560</td>\n",
       "      <td>0.0</td>\n",
       "      <td>0.243599</td>\n",
       "      <td>731.308399</td>\n",
       "      <td>...</td>\n",
       "      <td>0.467507</td>\n",
       "      <td>0.248363</td>\n",
       "      <td>0.326933</td>\n",
       "      <td>0.491648</td>\n",
       "      <td>0.489201</td>\n",
       "      <td>1.774405</td>\n",
       "      <td>16.689256</td>\n",
       "      <td>4.264976e+04</td>\n",
       "      <td>40619.894012</td>\n",
       "      <td>161.580377</td>\n",
       "    </tr>\n",
       "    <tr>\n",
       "      <th>min</th>\n",
       "      <td>2017.0</td>\n",
       "      <td>1.0</td>\n",
       "      <td>3.800000e+01</td>\n",
       "      <td>2.017000e+12</td>\n",
       "      <td>2.000000</td>\n",
       "      <td>1.000000</td>\n",
       "      <td>1.000000</td>\n",
       "      <td>2.0</td>\n",
       "      <td>21.000000</td>\n",
       "      <td>0.000000</td>\n",
       "      <td>...</td>\n",
       "      <td>1.000000</td>\n",
       "      <td>1.000000</td>\n",
       "      <td>1.000000</td>\n",
       "      <td>1.000000</td>\n",
       "      <td>1.000000</td>\n",
       "      <td>6.000000</td>\n",
       "      <td>61.000000</td>\n",
       "      <td>-8.800000e+03</td>\n",
       "      <td>0.000000</td>\n",
       "      <td>1.000000</td>\n",
       "    </tr>\n",
       "    <tr>\n",
       "      <th>25%</th>\n",
       "      <td>2017.0</td>\n",
       "      <td>1.0</td>\n",
       "      <td>3.341818e+05</td>\n",
       "      <td>2.017000e+12</td>\n",
       "      <td>59.000000</td>\n",
       "      <td>2.000000</td>\n",
       "      <td>1.000000</td>\n",
       "      <td>2.0</td>\n",
       "      <td>22.000000</td>\n",
       "      <td>710.000000</td>\n",
       "      <td>...</td>\n",
       "      <td>1.000000</td>\n",
       "      <td>1.000000</td>\n",
       "      <td>2.000000</td>\n",
       "      <td>1.000000</td>\n",
       "      <td>1.000000</td>\n",
       "      <td>6.000000</td>\n",
       "      <td>63.000000</td>\n",
       "      <td>1.040000e+04</td>\n",
       "      <td>0.000000</td>\n",
       "      <td>124.000000</td>\n",
       "    </tr>\n",
       "    <tr>\n",
       "      <th>50%</th>\n",
       "      <td>2017.0</td>\n",
       "      <td>1.0</td>\n",
       "      <td>7.096650e+05</td>\n",
       "      <td>2.017001e+12</td>\n",
       "      <td>88.000000</td>\n",
       "      <td>2.000000</td>\n",
       "      <td>1.000000</td>\n",
       "      <td>2.0</td>\n",
       "      <td>22.000000</td>\n",
       "      <td>1077.000000</td>\n",
       "      <td>...</td>\n",
       "      <td>2.000000</td>\n",
       "      <td>1.000000</td>\n",
       "      <td>2.000000</td>\n",
       "      <td>2.000000</td>\n",
       "      <td>1.000000</td>\n",
       "      <td>6.000000</td>\n",
       "      <td>65.000000</td>\n",
       "      <td>2.470000e+04</td>\n",
       "      <td>17500.000000</td>\n",
       "      <td>238.000000</td>\n",
       "    </tr>\n",
       "    <tr>\n",
       "      <th>75%</th>\n",
       "      <td>2017.0</td>\n",
       "      <td>1.0</td>\n",
       "      <td>9.256762e+05</td>\n",
       "      <td>2.017001e+12</td>\n",
       "      <td>141.000000</td>\n",
       "      <td>3.000000</td>\n",
       "      <td>1.000000</td>\n",
       "      <td>2.0</td>\n",
       "      <td>22.000000</td>\n",
       "      <td>1560.000000</td>\n",
       "      <td>...</td>\n",
       "      <td>2.000000</td>\n",
       "      <td>1.000000</td>\n",
       "      <td>2.000000</td>\n",
       "      <td>2.000000</td>\n",
       "      <td>2.000000</td>\n",
       "      <td>10.000000</td>\n",
       "      <td>101.000000</td>\n",
       "      <td>4.500000e+04</td>\n",
       "      <td>40000.000000</td>\n",
       "      <td>412.000000</td>\n",
       "    </tr>\n",
       "    <tr>\n",
       "      <th>max</th>\n",
       "      <td>2017.0</td>\n",
       "      <td>1.0</td>\n",
       "      <td>1.394210e+06</td>\n",
       "      <td>2.017001e+12</td>\n",
       "      <td>1260.000000</td>\n",
       "      <td>3.000000</td>\n",
       "      <td>5.000000</td>\n",
       "      <td>2.0</td>\n",
       "      <td>22.000000</td>\n",
       "      <td>4647.000000</td>\n",
       "      <td>...</td>\n",
       "      <td>2.000000</td>\n",
       "      <td>2.000000</td>\n",
       "      <td>2.000000</td>\n",
       "      <td>2.000000</td>\n",
       "      <td>2.000000</td>\n",
       "      <td>10.000000</td>\n",
       "      <td>101.000000</td>\n",
       "      <td>1.049000e+06</td>\n",
       "      <td>736000.000000</td>\n",
       "      <td>501.000000</td>\n",
       "    </tr>\n",
       "  </tbody>\n",
       "</table>\n",
       "<p>8 rows × 31 columns</p>\n",
       "</div>"
      ],
      "text/plain": [
       "           YEAR   DATANUM        SERIAL      CBSERIAL           HHWT  \\\n",
       "count  148594.0  148594.0  1.485940e+05  1.485940e+05  148594.000000   \n",
       "mean     2017.0       1.0  6.664452e+05  2.017001e+12     113.491063   \n",
       "std         0.0       0.0  3.759372e+05  4.007110e+05      86.630697   \n",
       "min      2017.0       1.0  3.800000e+01  2.017000e+12       2.000000   \n",
       "25%      2017.0       1.0  3.341818e+05  2.017000e+12      59.000000   \n",
       "50%      2017.0       1.0  7.096650e+05  2.017001e+12      88.000000   \n",
       "75%      2017.0       1.0  9.256762e+05  2.017001e+12     141.000000   \n",
       "max      2017.0       1.0  1.394210e+06  2.017001e+12    1260.000000   \n",
       "\n",
       "               METRO             GQ  OWNERSHP      OWNERSHPD        RENTGRS  \\\n",
       "count  148594.000000  148594.000000  148594.0  148594.000000  148594.000000   \n",
       "mean        2.280906       1.005296       2.0      21.936646    1181.205244   \n",
       "std         0.751211       0.116560       0.0       0.243599     731.308399   \n",
       "min         1.000000       1.000000       2.0      21.000000       0.000000   \n",
       "25%         2.000000       1.000000       2.0      22.000000     710.000000   \n",
       "50%         2.000000       1.000000       2.0      22.000000    1077.000000   \n",
       "75%         3.000000       1.000000       2.0      22.000000    1560.000000   \n",
       "max         3.000000       5.000000       2.0      22.000000    4647.000000   \n",
       "\n",
       "           ...               RACWHT       RACOTHER        HCOVANY  \\\n",
       "count      ...        148594.000000  148594.000000  148594.000000   \n",
       "mean       ...             1.677309       1.066046       1.878306   \n",
       "std        ...             0.467507       0.248363       0.326933   \n",
       "min        ...             1.000000       1.000000       1.000000   \n",
       "25%        ...             1.000000       1.000000       2.000000   \n",
       "50%        ...             2.000000       1.000000       2.000000   \n",
       "75%        ...             2.000000       1.000000       2.000000   \n",
       "max        ...             2.000000       2.000000       2.000000   \n",
       "\n",
       "            HCOVPRIV        HCOVPUB           EDUC          EDUCD  \\\n",
       "count  148594.000000  148594.000000  148594.000000  148594.000000   \n",
       "mean        1.591013       1.396638       7.388979      76.264728   \n",
       "std         0.491648       0.489201       1.774405      16.689256   \n",
       "min         1.000000       1.000000       6.000000      61.000000   \n",
       "25%         1.000000       1.000000       6.000000      63.000000   \n",
       "50%         2.000000       1.000000       6.000000      65.000000   \n",
       "75%         2.000000       2.000000      10.000000     101.000000   \n",
       "max         2.000000       2.000000      10.000000     101.000000   \n",
       "\n",
       "             INCTOT        INCWAGE        POVERTY  \n",
       "count  1.485940e+05  148594.000000  148594.000000  \n",
       "mean   3.432101e+04   27357.299756     262.870049  \n",
       "std    4.264976e+04   40619.894012     161.580377  \n",
       "min   -8.800000e+03       0.000000       1.000000  \n",
       "25%    1.040000e+04       0.000000     124.000000  \n",
       "50%    2.470000e+04   17500.000000     238.000000  \n",
       "75%    4.500000e+04   40000.000000     412.000000  \n",
       "max    1.049000e+06  736000.000000     501.000000  \n",
       "\n",
       "[8 rows x 31 columns]"
      ]
     },
     "execution_count": 3,
     "metadata": {},
     "output_type": "execute_result"
    }
   ],
   "source": [
    "census.describe()"
   ]
  },
  {
   "cell_type": "code",
   "execution_count": 4,
   "metadata": {},
   "outputs": [
    {
     "data": {
      "text/html": [
       "<div>\n",
       "<style scoped>\n",
       "    .dataframe tbody tr th:only-of-type {\n",
       "        vertical-align: middle;\n",
       "    }\n",
       "\n",
       "    .dataframe tbody tr th {\n",
       "        vertical-align: top;\n",
       "    }\n",
       "\n",
       "    .dataframe thead th {\n",
       "        text-align: right;\n",
       "    }\n",
       "</style>\n",
       "<table border=\"1\" class=\"dataframe\">\n",
       "  <thead>\n",
       "    <tr style=\"text-align: right;\">\n",
       "      <th></th>\n",
       "      <th>YEAR</th>\n",
       "      <th>DATANUM</th>\n",
       "      <th>SERIAL</th>\n",
       "      <th>CBSERIAL</th>\n",
       "      <th>HHWT</th>\n",
       "      <th>METRO</th>\n",
       "      <th>GQ</th>\n",
       "      <th>OWNERSHP</th>\n",
       "      <th>OWNERSHPD</th>\n",
       "      <th>RENTGRS</th>\n",
       "      <th>...</th>\n",
       "      <th>RACWHT</th>\n",
       "      <th>RACOTHER</th>\n",
       "      <th>HCOVANY</th>\n",
       "      <th>HCOVPRIV</th>\n",
       "      <th>HCOVPUB</th>\n",
       "      <th>EDUC</th>\n",
       "      <th>EDUCD</th>\n",
       "      <th>INCTOT</th>\n",
       "      <th>INCWAGE</th>\n",
       "      <th>POVERTY</th>\n",
       "    </tr>\n",
       "  </thead>\n",
       "  <tbody>\n",
       "    <tr>\n",
       "      <th>count</th>\n",
       "      <td>85840.0</td>\n",
       "      <td>85840.0</td>\n",
       "      <td>8.584000e+04</td>\n",
       "      <td>8.584000e+04</td>\n",
       "      <td>85840.000000</td>\n",
       "      <td>85840.000000</td>\n",
       "      <td>85840.000000</td>\n",
       "      <td>85840.0</td>\n",
       "      <td>85840.000000</td>\n",
       "      <td>85840.000000</td>\n",
       "      <td>...</td>\n",
       "      <td>85840.000000</td>\n",
       "      <td>85840.000000</td>\n",
       "      <td>85840.000000</td>\n",
       "      <td>85840.000000</td>\n",
       "      <td>85840.000000</td>\n",
       "      <td>85840.000000</td>\n",
       "      <td>85840.000000</td>\n",
       "      <td>8.584000e+04</td>\n",
       "      <td>85840.000000</td>\n",
       "      <td>85840.000000</td>\n",
       "    </tr>\n",
       "    <tr>\n",
       "      <th>mean</th>\n",
       "      <td>2017.0</td>\n",
       "      <td>1.0</td>\n",
       "      <td>6.614249e+05</td>\n",
       "      <td>2.017001e+12</td>\n",
       "      <td>113.390797</td>\n",
       "      <td>2.356838</td>\n",
       "      <td>1.003157</td>\n",
       "      <td>2.0</td>\n",
       "      <td>21.944769</td>\n",
       "      <td>1362.252912</td>\n",
       "      <td>...</td>\n",
       "      <td>1.707945</td>\n",
       "      <td>1.059623</td>\n",
       "      <td>1.908003</td>\n",
       "      <td>1.771493</td>\n",
       "      <td>1.241822</td>\n",
       "      <td>7.785788</td>\n",
       "      <td>80.020946</td>\n",
       "      <td>5.000671e+04</td>\n",
       "      <td>41605.561859</td>\n",
       "      <td>377.834471</td>\n",
       "    </tr>\n",
       "    <tr>\n",
       "      <th>std</th>\n",
       "      <td>0.0</td>\n",
       "      <td>0.0</td>\n",
       "      <td>3.796580e+05</td>\n",
       "      <td>4.002565e+05</td>\n",
       "      <td>85.940865</td>\n",
       "      <td>0.715551</td>\n",
       "      <td>0.084032</td>\n",
       "      <td>0.0</td>\n",
       "      <td>0.228431</td>\n",
       "      <td>763.256646</td>\n",
       "      <td>...</td>\n",
       "      <td>0.454710</td>\n",
       "      <td>0.236788</td>\n",
       "      <td>0.289023</td>\n",
       "      <td>0.419873</td>\n",
       "      <td>0.428190</td>\n",
       "      <td>1.856102</td>\n",
       "      <td>17.459936</td>\n",
       "      <td>4.990277e+04</td>\n",
       "      <td>47806.529135</td>\n",
       "      <td>106.982353</td>\n",
       "    </tr>\n",
       "    <tr>\n",
       "      <th>min</th>\n",
       "      <td>2017.0</td>\n",
       "      <td>1.0</td>\n",
       "      <td>1.300000e+02</td>\n",
       "      <td>2.017000e+12</td>\n",
       "      <td>3.000000</td>\n",
       "      <td>1.000000</td>\n",
       "      <td>1.000000</td>\n",
       "      <td>2.0</td>\n",
       "      <td>21.000000</td>\n",
       "      <td>0.000000</td>\n",
       "      <td>...</td>\n",
       "      <td>1.000000</td>\n",
       "      <td>1.000000</td>\n",
       "      <td>1.000000</td>\n",
       "      <td>1.000000</td>\n",
       "      <td>1.000000</td>\n",
       "      <td>6.000000</td>\n",
       "      <td>61.000000</td>\n",
       "      <td>-8.800000e+03</td>\n",
       "      <td>0.000000</td>\n",
       "      <td>201.000000</td>\n",
       "    </tr>\n",
       "    <tr>\n",
       "      <th>25%</th>\n",
       "      <td>2017.0</td>\n",
       "      <td>1.0</td>\n",
       "      <td>3.160610e+05</td>\n",
       "      <td>2.017000e+12</td>\n",
       "      <td>60.000000</td>\n",
       "      <td>2.000000</td>\n",
       "      <td>1.000000</td>\n",
       "      <td>2.0</td>\n",
       "      <td>22.000000</td>\n",
       "      <td>875.000000</td>\n",
       "      <td>...</td>\n",
       "      <td>1.000000</td>\n",
       "      <td>1.000000</td>\n",
       "      <td>2.000000</td>\n",
       "      <td>2.000000</td>\n",
       "      <td>1.000000</td>\n",
       "      <td>6.000000</td>\n",
       "      <td>63.000000</td>\n",
       "      <td>2.610000e+04</td>\n",
       "      <td>9000.000000</td>\n",
       "      <td>277.000000</td>\n",
       "    </tr>\n",
       "    <tr>\n",
       "      <th>50%</th>\n",
       "      <td>2017.0</td>\n",
       "      <td>1.0</td>\n",
       "      <td>7.104640e+05</td>\n",
       "      <td>2.017001e+12</td>\n",
       "      <td>88.000000</td>\n",
       "      <td>2.000000</td>\n",
       "      <td>1.000000</td>\n",
       "      <td>2.0</td>\n",
       "      <td>22.000000</td>\n",
       "      <td>1250.000000</td>\n",
       "      <td>...</td>\n",
       "      <td>2.000000</td>\n",
       "      <td>1.000000</td>\n",
       "      <td>2.000000</td>\n",
       "      <td>2.000000</td>\n",
       "      <td>1.000000</td>\n",
       "      <td>8.000000</td>\n",
       "      <td>81.000000</td>\n",
       "      <td>4.000000e+04</td>\n",
       "      <td>35000.000000</td>\n",
       "      <td>379.000000</td>\n",
       "    </tr>\n",
       "    <tr>\n",
       "      <th>75%</th>\n",
       "      <td>2017.0</td>\n",
       "      <td>1.0</td>\n",
       "      <td>8.922768e+05</td>\n",
       "      <td>2.017001e+12</td>\n",
       "      <td>139.000000</td>\n",
       "      <td>3.000000</td>\n",
       "      <td>1.000000</td>\n",
       "      <td>2.0</td>\n",
       "      <td>22.000000</td>\n",
       "      <td>1750.000000</td>\n",
       "      <td>...</td>\n",
       "      <td>2.000000</td>\n",
       "      <td>1.000000</td>\n",
       "      <td>2.000000</td>\n",
       "      <td>2.000000</td>\n",
       "      <td>1.000000</td>\n",
       "      <td>10.000000</td>\n",
       "      <td>101.000000</td>\n",
       "      <td>6.000000e+04</td>\n",
       "      <td>56000.000000</td>\n",
       "      <td>501.000000</td>\n",
       "    </tr>\n",
       "    <tr>\n",
       "      <th>max</th>\n",
       "      <td>2017.0</td>\n",
       "      <td>1.0</td>\n",
       "      <td>1.394168e+06</td>\n",
       "      <td>2.017001e+12</td>\n",
       "      <td>1260.000000</td>\n",
       "      <td>3.000000</td>\n",
       "      <td>5.000000</td>\n",
       "      <td>2.0</td>\n",
       "      <td>22.000000</td>\n",
       "      <td>4647.000000</td>\n",
       "      <td>...</td>\n",
       "      <td>2.000000</td>\n",
       "      <td>2.000000</td>\n",
       "      <td>2.000000</td>\n",
       "      <td>2.000000</td>\n",
       "      <td>2.000000</td>\n",
       "      <td>10.000000</td>\n",
       "      <td>101.000000</td>\n",
       "      <td>1.049000e+06</td>\n",
       "      <td>736000.000000</td>\n",
       "      <td>501.000000</td>\n",
       "    </tr>\n",
       "  </tbody>\n",
       "</table>\n",
       "<p>8 rows × 31 columns</p>\n",
       "</div>"
      ],
      "text/plain": [
       "          YEAR  DATANUM        SERIAL      CBSERIAL          HHWT  \\\n",
       "count  85840.0  85840.0  8.584000e+04  8.584000e+04  85840.000000   \n",
       "mean    2017.0      1.0  6.614249e+05  2.017001e+12    113.390797   \n",
       "std        0.0      0.0  3.796580e+05  4.002565e+05     85.940865   \n",
       "min     2017.0      1.0  1.300000e+02  2.017000e+12      3.000000   \n",
       "25%     2017.0      1.0  3.160610e+05  2.017000e+12     60.000000   \n",
       "50%     2017.0      1.0  7.104640e+05  2.017001e+12     88.000000   \n",
       "75%     2017.0      1.0  8.922768e+05  2.017001e+12    139.000000   \n",
       "max     2017.0      1.0  1.394168e+06  2.017001e+12   1260.000000   \n",
       "\n",
       "              METRO            GQ  OWNERSHP     OWNERSHPD       RENTGRS  \\\n",
       "count  85840.000000  85840.000000   85840.0  85840.000000  85840.000000   \n",
       "mean       2.356838      1.003157       2.0     21.944769   1362.252912   \n",
       "std        0.715551      0.084032       0.0      0.228431    763.256646   \n",
       "min        1.000000      1.000000       2.0     21.000000      0.000000   \n",
       "25%        2.000000      1.000000       2.0     22.000000    875.000000   \n",
       "50%        2.000000      1.000000       2.0     22.000000   1250.000000   \n",
       "75%        3.000000      1.000000       2.0     22.000000   1750.000000   \n",
       "max        3.000000      5.000000       2.0     22.000000   4647.000000   \n",
       "\n",
       "           ...             RACWHT      RACOTHER       HCOVANY      HCOVPRIV  \\\n",
       "count      ...       85840.000000  85840.000000  85840.000000  85840.000000   \n",
       "mean       ...           1.707945      1.059623      1.908003      1.771493   \n",
       "std        ...           0.454710      0.236788      0.289023      0.419873   \n",
       "min        ...           1.000000      1.000000      1.000000      1.000000   \n",
       "25%        ...           1.000000      1.000000      2.000000      2.000000   \n",
       "50%        ...           2.000000      1.000000      2.000000      2.000000   \n",
       "75%        ...           2.000000      1.000000      2.000000      2.000000   \n",
       "max        ...           2.000000      2.000000      2.000000      2.000000   \n",
       "\n",
       "            HCOVPUB          EDUC         EDUCD        INCTOT        INCWAGE  \\\n",
       "count  85840.000000  85840.000000  85840.000000  8.584000e+04   85840.000000   \n",
       "mean       1.241822      7.785788     80.020946  5.000671e+04   41605.561859   \n",
       "std        0.428190      1.856102     17.459936  4.990277e+04   47806.529135   \n",
       "min        1.000000      6.000000     61.000000 -8.800000e+03       0.000000   \n",
       "25%        1.000000      6.000000     63.000000  2.610000e+04    9000.000000   \n",
       "50%        1.000000      8.000000     81.000000  4.000000e+04   35000.000000   \n",
       "75%        1.000000     10.000000    101.000000  6.000000e+04   56000.000000   \n",
       "max        2.000000     10.000000    101.000000  1.049000e+06  736000.000000   \n",
       "\n",
       "            POVERTY  \n",
       "count  85840.000000  \n",
       "mean     377.834471  \n",
       "std      106.982353  \n",
       "min      201.000000  \n",
       "25%      277.000000  \n",
       "50%      379.000000  \n",
       "75%      501.000000  \n",
       "max      501.000000  \n",
       "\n",
       "[8 rows x 31 columns]"
      ]
     },
     "execution_count": 4,
     "metadata": {},
     "output_type": "execute_result"
    }
   ],
   "source": [
    "census[census['POVERTY']>200].describe()\n"
   ]
  },
  {
   "cell_type": "code",
   "execution_count": 5,
   "metadata": {},
   "outputs": [
    {
     "data": {
      "text/html": [
       "<div>\n",
       "<style scoped>\n",
       "    .dataframe tbody tr th:only-of-type {\n",
       "        vertical-align: middle;\n",
       "    }\n",
       "\n",
       "    .dataframe tbody tr th {\n",
       "        vertical-align: top;\n",
       "    }\n",
       "\n",
       "    .dataframe thead th {\n",
       "        text-align: right;\n",
       "    }\n",
       "</style>\n",
       "<table border=\"1\" class=\"dataframe\">\n",
       "  <thead>\n",
       "    <tr style=\"text-align: right;\">\n",
       "      <th></th>\n",
       "      <th>YEAR</th>\n",
       "      <th>DATANUM</th>\n",
       "      <th>SERIAL</th>\n",
       "      <th>CBSERIAL</th>\n",
       "      <th>HHWT</th>\n",
       "      <th>METRO</th>\n",
       "      <th>GQ</th>\n",
       "      <th>OWNERSHP</th>\n",
       "      <th>OWNERSHPD</th>\n",
       "      <th>RENTGRS</th>\n",
       "      <th>...</th>\n",
       "      <th>RACWHT</th>\n",
       "      <th>RACOTHER</th>\n",
       "      <th>HCOVANY</th>\n",
       "      <th>HCOVPRIV</th>\n",
       "      <th>HCOVPUB</th>\n",
       "      <th>EDUC</th>\n",
       "      <th>EDUCD</th>\n",
       "      <th>INCTOT</th>\n",
       "      <th>INCWAGE</th>\n",
       "      <th>POVERTY</th>\n",
       "    </tr>\n",
       "  </thead>\n",
       "  <tbody>\n",
       "    <tr>\n",
       "      <th>count</th>\n",
       "      <td>62754.0</td>\n",
       "      <td>62754.0</td>\n",
       "      <td>6.275400e+04</td>\n",
       "      <td>6.275400e+04</td>\n",
       "      <td>62754.000000</td>\n",
       "      <td>62754.000000</td>\n",
       "      <td>62754.000000</td>\n",
       "      <td>62754.0</td>\n",
       "      <td>62754.000000</td>\n",
       "      <td>62754.000000</td>\n",
       "      <td>...</td>\n",
       "      <td>62754.000000</td>\n",
       "      <td>62754.000000</td>\n",
       "      <td>62754.000000</td>\n",
       "      <td>62754.000000</td>\n",
       "      <td>62754.000000</td>\n",
       "      <td>62754.000000</td>\n",
       "      <td>62754.000000</td>\n",
       "      <td>62754.000000</td>\n",
       "      <td>62754.000000</td>\n",
       "      <td>62754.000000</td>\n",
       "    </tr>\n",
       "    <tr>\n",
       "      <th>mean</th>\n",
       "      <td>2017.0</td>\n",
       "      <td>1.0</td>\n",
       "      <td>6.733124e+05</td>\n",
       "      <td>2.017001e+12</td>\n",
       "      <td>113.628215</td>\n",
       "      <td>2.177041</td>\n",
       "      <td>1.008223</td>\n",
       "      <td>2.0</td>\n",
       "      <td>21.925535</td>\n",
       "      <td>933.553590</td>\n",
       "      <td>...</td>\n",
       "      <td>1.635402</td>\n",
       "      <td>1.074832</td>\n",
       "      <td>1.837684</td>\n",
       "      <td>1.344137</td>\n",
       "      <td>1.608407</td>\n",
       "      <td>6.846193</td>\n",
       "      <td>71.126669</td>\n",
       "      <td>12864.837014</td>\n",
       "      <td>7867.373713</td>\n",
       "      <td>105.612407</td>\n",
       "    </tr>\n",
       "    <tr>\n",
       "      <th>std</th>\n",
       "      <td>0.0</td>\n",
       "      <td>0.0</td>\n",
       "      <td>3.706800e+05</td>\n",
       "      <td>4.013185e+05</td>\n",
       "      <td>87.566005</td>\n",
       "      <td>0.785620</td>\n",
       "      <td>0.149990</td>\n",
       "      <td>0.0</td>\n",
       "      <td>0.262529</td>\n",
       "      <td>602.773464</td>\n",
       "      <td>...</td>\n",
       "      <td>0.481321</td>\n",
       "      <td>0.263122</td>\n",
       "      <td>0.368744</td>\n",
       "      <td>0.475090</td>\n",
       "      <td>0.488110</td>\n",
       "      <td>1.494269</td>\n",
       "      <td>14.029806</td>\n",
       "      <td>10190.967871</td>\n",
       "      <td>11097.773182</td>\n",
       "      <td>57.933312</td>\n",
       "    </tr>\n",
       "    <tr>\n",
       "      <th>min</th>\n",
       "      <td>2017.0</td>\n",
       "      <td>1.0</td>\n",
       "      <td>3.800000e+01</td>\n",
       "      <td>2.017000e+12</td>\n",
       "      <td>2.000000</td>\n",
       "      <td>1.000000</td>\n",
       "      <td>1.000000</td>\n",
       "      <td>2.0</td>\n",
       "      <td>21.000000</td>\n",
       "      <td>0.000000</td>\n",
       "      <td>...</td>\n",
       "      <td>1.000000</td>\n",
       "      <td>1.000000</td>\n",
       "      <td>1.000000</td>\n",
       "      <td>1.000000</td>\n",
       "      <td>1.000000</td>\n",
       "      <td>6.000000</td>\n",
       "      <td>61.000000</td>\n",
       "      <td>-8100.000000</td>\n",
       "      <td>0.000000</td>\n",
       "      <td>1.000000</td>\n",
       "    </tr>\n",
       "    <tr>\n",
       "      <th>25%</th>\n",
       "      <td>2017.0</td>\n",
       "      <td>1.0</td>\n",
       "      <td>3.644255e+05</td>\n",
       "      <td>2.017000e+12</td>\n",
       "      <td>57.000000</td>\n",
       "      <td>2.000000</td>\n",
       "      <td>1.000000</td>\n",
       "      <td>2.0</td>\n",
       "      <td>22.000000</td>\n",
       "      <td>540.000000</td>\n",
       "      <td>...</td>\n",
       "      <td>1.000000</td>\n",
       "      <td>1.000000</td>\n",
       "      <td>2.000000</td>\n",
       "      <td>1.000000</td>\n",
       "      <td>1.000000</td>\n",
       "      <td>6.000000</td>\n",
       "      <td>63.000000</td>\n",
       "      <td>4800.000000</td>\n",
       "      <td>0.000000</td>\n",
       "      <td>66.000000</td>\n",
       "    </tr>\n",
       "    <tr>\n",
       "      <th>50%</th>\n",
       "      <td>2017.0</td>\n",
       "      <td>1.0</td>\n",
       "      <td>7.090810e+05</td>\n",
       "      <td>2.017001e+12</td>\n",
       "      <td>88.000000</td>\n",
       "      <td>2.000000</td>\n",
       "      <td>1.000000</td>\n",
       "      <td>2.0</td>\n",
       "      <td>22.000000</td>\n",
       "      <td>870.000000</td>\n",
       "      <td>...</td>\n",
       "      <td>2.000000</td>\n",
       "      <td>1.000000</td>\n",
       "      <td>2.000000</td>\n",
       "      <td>1.000000</td>\n",
       "      <td>2.000000</td>\n",
       "      <td>6.000000</td>\n",
       "      <td>63.000000</td>\n",
       "      <td>12000.000000</td>\n",
       "      <td>0.000000</td>\n",
       "      <td>109.000000</td>\n",
       "    </tr>\n",
       "    <tr>\n",
       "      <th>75%</th>\n",
       "      <td>2017.0</td>\n",
       "      <td>1.0</td>\n",
       "      <td>9.547802e+05</td>\n",
       "      <td>2.017001e+12</td>\n",
       "      <td>144.000000</td>\n",
       "      <td>3.000000</td>\n",
       "      <td>1.000000</td>\n",
       "      <td>2.0</td>\n",
       "      <td>22.000000</td>\n",
       "      <td>1260.000000</td>\n",
       "      <td>...</td>\n",
       "      <td>2.000000</td>\n",
       "      <td>1.000000</td>\n",
       "      <td>2.000000</td>\n",
       "      <td>2.000000</td>\n",
       "      <td>2.000000</td>\n",
       "      <td>8.000000</td>\n",
       "      <td>81.000000</td>\n",
       "      <td>19700.000000</td>\n",
       "      <td>15000.000000</td>\n",
       "      <td>154.000000</td>\n",
       "    </tr>\n",
       "    <tr>\n",
       "      <th>max</th>\n",
       "      <td>2017.0</td>\n",
       "      <td>1.0</td>\n",
       "      <td>1.394210e+06</td>\n",
       "      <td>2.017001e+12</td>\n",
       "      <td>1162.000000</td>\n",
       "      <td>3.000000</td>\n",
       "      <td>5.000000</td>\n",
       "      <td>2.0</td>\n",
       "      <td>22.000000</td>\n",
       "      <td>4311.000000</td>\n",
       "      <td>...</td>\n",
       "      <td>2.000000</td>\n",
       "      <td>2.000000</td>\n",
       "      <td>2.000000</td>\n",
       "      <td>2.000000</td>\n",
       "      <td>2.000000</td>\n",
       "      <td>10.000000</td>\n",
       "      <td>101.000000</td>\n",
       "      <td>88000.000000</td>\n",
       "      <td>88000.000000</td>\n",
       "      <td>200.000000</td>\n",
       "    </tr>\n",
       "  </tbody>\n",
       "</table>\n",
       "<p>8 rows × 31 columns</p>\n",
       "</div>"
      ],
      "text/plain": [
       "          YEAR  DATANUM        SERIAL      CBSERIAL          HHWT  \\\n",
       "count  62754.0  62754.0  6.275400e+04  6.275400e+04  62754.000000   \n",
       "mean    2017.0      1.0  6.733124e+05  2.017001e+12    113.628215   \n",
       "std        0.0      0.0  3.706800e+05  4.013185e+05     87.566005   \n",
       "min     2017.0      1.0  3.800000e+01  2.017000e+12      2.000000   \n",
       "25%     2017.0      1.0  3.644255e+05  2.017000e+12     57.000000   \n",
       "50%     2017.0      1.0  7.090810e+05  2.017001e+12     88.000000   \n",
       "75%     2017.0      1.0  9.547802e+05  2.017001e+12    144.000000   \n",
       "max     2017.0      1.0  1.394210e+06  2.017001e+12   1162.000000   \n",
       "\n",
       "              METRO            GQ  OWNERSHP     OWNERSHPD       RENTGRS  \\\n",
       "count  62754.000000  62754.000000   62754.0  62754.000000  62754.000000   \n",
       "mean       2.177041      1.008223       2.0     21.925535    933.553590   \n",
       "std        0.785620      0.149990       0.0      0.262529    602.773464   \n",
       "min        1.000000      1.000000       2.0     21.000000      0.000000   \n",
       "25%        2.000000      1.000000       2.0     22.000000    540.000000   \n",
       "50%        2.000000      1.000000       2.0     22.000000    870.000000   \n",
       "75%        3.000000      1.000000       2.0     22.000000   1260.000000   \n",
       "max        3.000000      5.000000       2.0     22.000000   4311.000000   \n",
       "\n",
       "           ...             RACWHT      RACOTHER       HCOVANY      HCOVPRIV  \\\n",
       "count      ...       62754.000000  62754.000000  62754.000000  62754.000000   \n",
       "mean       ...           1.635402      1.074832      1.837684      1.344137   \n",
       "std        ...           0.481321      0.263122      0.368744      0.475090   \n",
       "min        ...           1.000000      1.000000      1.000000      1.000000   \n",
       "25%        ...           1.000000      1.000000      2.000000      1.000000   \n",
       "50%        ...           2.000000      1.000000      2.000000      1.000000   \n",
       "75%        ...           2.000000      1.000000      2.000000      2.000000   \n",
       "max        ...           2.000000      2.000000      2.000000      2.000000   \n",
       "\n",
       "            HCOVPUB          EDUC         EDUCD        INCTOT       INCWAGE  \\\n",
       "count  62754.000000  62754.000000  62754.000000  62754.000000  62754.000000   \n",
       "mean       1.608407      6.846193     71.126669  12864.837014   7867.373713   \n",
       "std        0.488110      1.494269     14.029806  10190.967871  11097.773182   \n",
       "min        1.000000      6.000000     61.000000  -8100.000000      0.000000   \n",
       "25%        1.000000      6.000000     63.000000   4800.000000      0.000000   \n",
       "50%        2.000000      6.000000     63.000000  12000.000000      0.000000   \n",
       "75%        2.000000      8.000000     81.000000  19700.000000  15000.000000   \n",
       "max        2.000000     10.000000    101.000000  88000.000000  88000.000000   \n",
       "\n",
       "            POVERTY  \n",
       "count  62754.000000  \n",
       "mean     105.612407  \n",
       "std       57.933312  \n",
       "min        1.000000  \n",
       "25%       66.000000  \n",
       "50%      109.000000  \n",
       "75%      154.000000  \n",
       "max      200.000000  \n",
       "\n",
       "[8 rows x 31 columns]"
      ]
     },
     "execution_count": 5,
     "metadata": {},
     "output_type": "execute_result"
    }
   ],
   "source": [
    "census[census['POVERTY']<=200].describe()\n"
   ]
  },
  {
   "cell_type": "markdown",
   "metadata": {},
   "source": [
    "## Visualization"
   ]
  },
  {
   "cell_type": "markdown",
   "metadata": {},
   "source": [
    "### Who is represented in the data? "
   ]
  },
  {
   "cell_type": "code",
   "execution_count": 4,
   "metadata": {},
   "outputs": [
    {
     "data": {
      "text/plain": [
       "(array([26919.,     0.,     0.,     0.,     0., 53015.,     0.,     0.,\n",
       "            0., 68660.]),\n",
       " array([1. , 1.2, 1.4, 1.6, 1.8, 2. , 2.2, 2.4, 2.6, 2.8, 3. ]),\n",
       " <a list of 10 Patch objects>)"
      ]
     },
     "execution_count": 4,
     "metadata": {},
     "output_type": "execute_result"
    },
    {
     "data": {
      "image/png": "[encoded data removed]",
      "text/plain": [
       "<Figure size 432x288 with 1 Axes>"
      ]
     },
     "metadata": {
      "needs_background": "light"
     },
     "output_type": "display_data"
    }
   ],
   "source": [
    "plt.hist(census['METRO'])"
   ]
  },
  {
   "cell_type": "markdown",
   "metadata": {},
   "source": [
    "METRO indicates whether the household resided within a metropolitan area and, for households in metropolitan areas, whether the household resided within or outside of a central/principal city. A value of 1 is not in a metro area, a value of 2 is in a metro or principal city, and a value of 3 is a metro area outside of the principal city. This dataset has a greater amount of the population in metro areas and less representation of non metro or rural areas. "
   ]
  },
  {
   "cell_type": "code",
   "execution_count": 5,
   "metadata": {},
   "outputs": [
    {
     "data": {
      "text/plain": [
       "(array([68386.,     0.,     0.,     0.,     0.,     0.,     0.,     0.,\n",
       "            0., 80208.]),\n",
       " array([1. , 1.1, 1.2, 1.3, 1.4, 1.5, 1.6, 1.7, 1.8, 1.9, 2. ]),\n",
       " <a list of 10 Patch objects>)"
      ]
     },
     "execution_count": 5,
     "metadata": {},
     "output_type": "execute_result"
    },
    {
     "data": {
      "image/png": "[encoded data removed]",
      "text/plain": [
       "<Figure size 432x288 with 1 Axes>"
      ]
     },
     "metadata": {
      "needs_background": "light"
     },
     "output_type": "display_data"
    }
   ],
   "source": [
    "plt.hist(census['SEX'])"
   ]
  },
  {
   "cell_type": "markdown",
   "metadata": {},
   "source": [
    "SEX refers to the sex of the individual, where a value of 2 is female and a value of 1 is male. This split slightly overamples females, while ideally they would be equally split."
   ]
  },
  {
   "cell_type": "code",
   "execution_count": 6,
   "metadata": {},
   "outputs": [
    {
     "data": {
      "text/plain": [
       "(array([     0.,      0.,      0.,      0.,      0., 148594.,      0.,\n",
       "             0.,      0.,      0.]),\n",
       " array([1.5, 1.6, 1.7, 1.8, 1.9, 2. , 2.1, 2.2, 2.3, 2.4, 2.5]),\n",
       " <a list of 10 Patch objects>)"
      ]
     },
     "execution_count": 6,
     "metadata": {},
     "output_type": "execute_result"
    },
    {
     "data": {
      "image/png": "[encoded data removed]",
      "text/plain": [
       "<Figure size 432x288 with 1 Axes>"
      ]
     },
     "metadata": {
      "needs_background": "light"
     },
     "output_type": "display_data"
    }
   ],
   "source": [
    "plt.hist(census['OWNERSHP'])"
   ]
  },
  {
   "cell_type": "markdown",
   "metadata": {},
   "source": [
    "I specifically choose this value to make sure that everyone in this dataset was renting. I wanted to speicifically look at renters because that is the most common case and a trend that will continue. "
   ]
  },
  {
   "cell_type": "code",
   "execution_count": 7,
   "metadata": {},
   "outputs": [
    {
     "data": {
      "text/plain": [
       "(array([34931., 25114., 19823., 18523., 17707., 13266.,  8658.,  5183.,\n",
       "         3452.,  1937.]),\n",
       " array([26., 33., 40., 47., 54., 61., 68., 75., 82., 89., 96.]),\n",
       " <a list of 10 Patch objects>)"
      ]
     },
     "execution_count": 7,
     "metadata": {},
     "output_type": "execute_result"
    },
    {
     "data": {
      "image/png": "[encoded data removed]",
      "text/plain": [
       "<Figure size 432x288 with 1 Axes>"
      ]
     },
     "metadata": {
      "needs_background": "light"
     },
     "output_type": "display_data"
    }
   ],
   "source": [
    "plt.hist(census['AGE'])"
   ]
  },
  {
   "cell_type": "markdown",
   "metadata": {},
   "source": [
    "The age starts at 26, an age I choose because this is when you are no longer on a parents health care plan and more responsible for your self as an individual."
   ]
  },
  {
   "cell_type": "markdown",
   "metadata": {},
   "source": [
    "### Examining Poverty "
   ]
  },
  {
   "cell_type": "code",
   "execution_count": null,
   "metadata": {},
   "outputs": [],
   "source": []
  },
  {
   "cell_type": "code",
   "execution_count": 8,
   "metadata": {},
   "outputs": [
    {
     "data": {
      "image/png": "[encoded data removed]",
      "text/plain": [
       "<Figure size 576x576 with 3 Axes>"
      ]
     },
     "metadata": {
      "needs_background": "light"
     },
     "output_type": "display_data"
    }
   ],
   "source": [
    "g = sns.jointplot(\"POVERTY\", \"INCWAGE\", data=census, kind=\"kde\",\n",
    "                  color=\"m\", height=8)\n"
   ]
  },
  {
   "cell_type": "code",
   "execution_count": 9,
   "metadata": {},
   "outputs": [
    {
     "data": {
      "image/png": "[encoded data removed]",
      "text/plain": [
       "<Figure size 576x576 with 3 Axes>"
      ]
     },
     "metadata": {
      "needs_background": "light"
     },
     "output_type": "display_data"
    }
   ],
   "source": [
    "g = sns.jointplot(\"POVERTY\", \"HCOVPUB\", data=census, kind=\"kde\",\n",
    "                  color=\"g\", height=8)"
   ]
  },
  {
   "cell_type": "code",
   "execution_count": 26,
   "metadata": {
    "scrolled": false
   },
   "outputs": [
    {
     "data": {
      "image/png": "[encoded data removed]",
      "text/plain": [
       "<Figure size 576x576 with 3 Axes>"
      ]
     },
     "metadata": {
      "needs_background": "light"
     },
     "output_type": "display_data"
    }
   ],
   "source": [
    "g = sns.jointplot(\"POVERTY\", \"HCOVANY\", data=census, kind=\"kde\",\n",
    "                  color=\"orange\", height=8)"
   ]
  },
  {
   "cell_type": "code",
   "execution_count": 11,
   "metadata": {},
   "outputs": [
    {
     "data": {
      "image/png": "[encoded data removed]",
      "text/plain": [
       "<Figure size 576x576 with 3 Axes>"
      ]
     },
     "metadata": {
      "needs_background": "light"
     },
     "output_type": "display_data"
    }
   ],
   "source": [
    "g = sns.jointplot(\"POVERTY\", \"RENTGRS\", data=census, kind=\"kde\",\n",
    "                  color=\"b\", height=8)"
   ]
  },
  {
   "cell_type": "code",
   "execution_count": 12,
   "metadata": {
    "scrolled": true
   },
   "outputs": [
    {
     "data": {
      "image/png": "[encoded data removed]",
      "text/plain": [
       "<Figure size 576x576 with 3 Axes>"
      ]
     },
     "metadata": {
      "needs_background": "light"
     },
     "output_type": "display_data"
    }
   ],
   "source": [
    "g = sns.jointplot(\"POVERTY\", \"EDUCD\", data=census, kind=\"kde\",\n",
    "                  color=\"r\", height=8)"
   ]
  },
  {
   "cell_type": "code",
   "execution_count": 27,
   "metadata": {},
   "outputs": [
    {
     "data": {
      "image/png": "[encoded data removed]",
      "text/plain": [
       "<Figure size 576x576 with 3 Axes>"
      ]
     },
     "metadata": {
      "needs_background": "light"
     },
     "output_type": "display_data"
    }
   ],
   "source": [
    "g = sns.jointplot(\"POVERTY\", \"METRO\", data=census, kind=\"kde\",\n",
    "                  color=\"coral\", height=8)"
   ]
  },
  {
   "cell_type": "code",
   "execution_count": 13,
   "metadata": {},
   "outputs": [
    {
     "data": {
      "image/png": "[encoded data removed]",
      "text/plain": [
       "<Figure size 576x576 with 3 Axes>"
      ]
     },
     "metadata": {
      "needs_background": "light"
     },
     "output_type": "display_data"
    }
   ],
   "source": [
    "g = sns.jointplot(\"POVERTY\", \"FOODSTMP\", data=census, kind=\"kde\",\n",
    "                  color=\"skyblue\", height=8)"
   ]
  },
  {
   "cell_type": "code",
   "execution_count": 3,
   "metadata": {},
   "outputs": [
    {
     "data": {
      "text/plain": [
       "Text(0.5, 1.0, 'Class Distributions')"
      ]
     },
     "execution_count": 3,
     "metadata": {},
     "output_type": "execute_result"
    },
    {
     "data": {
      "image/png": "[encoded data removed]",
      "text/plain": [
       "<Figure size 432x288 with 1 Axes>"
      ]
     },
     "metadata": {
      "needs_background": "light"
     },
     "output_type": "display_data"
    }
   ],
   "source": [
    "census['lowerpov'] = census['POVERTY'].apply(lambda x: 1 if x <= 200 else 0)\n",
    "\n",
    "sns.countplot('lowerpov',palette=\"rocket\", data=census)\n",
    "\n",
    "plt.title('Class Distributions', fontsize=14)"
   ]
  },
  {
   "cell_type": "markdown",
   "metadata": {},
   "source": [
    "# Feature Engineering "
   ]
  },
  {
   "cell_type": "markdown",
   "metadata": {},
   "source": [
    "Rather than use values like income and how much the individual pays in rent, I wanted to create a feature that examines the relationship between the two variables in addition to other characteristics. "
   ]
  },
  {
   "cell_type": "code",
   "execution_count": 5,
   "metadata": {},
   "outputs": [
    {
     "data": {
      "text/plain": [
       "(array([1.41173e+05, 6.33100e+03, 5.67000e+02, 2.02000e+02, 1.93000e+02,\n",
       "        4.20000e+01, 7.40000e+01, 9.00000e+00, 0.00000e+00, 3.00000e+00]),\n",
       " array([ -1.0268 ,   9.55788,  20.14256,  30.72724,  41.31192,  51.8966 ,\n",
       "         62.48128,  73.06596,  83.65064,  94.23532, 104.82   ]),\n",
       " <a list of 10 Patch objects>)"
      ]
     },
     "execution_count": 5,
     "metadata": {},
     "output_type": "execute_result"
    },
    {
     "data": {
      "image/png": "[encoded data removed]",
      "text/plain": [
       "<Figure size 432x288 with 1 Axes>"
      ]
     },
     "metadata": {
      "needs_background": "light"
     },
     "output_type": "display_data"
    }
   ],
   "source": [
    "#Adding one to prevent impossible values \n",
    "#census['rent_ratio'] = ((census['RENTGRS']+.1)/(census['INCTOT'] +.1))/1000\n",
    "census['income_vs_rent'] = ((census['INCTOT'] +.1)-(census['RENTGRS']+.1))/10000\n",
    "\n",
    "plt.hist(census['income_vs_rent'])"
   ]
  },
  {
   "cell_type": "code",
   "execution_count": 6,
   "metadata": {},
   "outputs": [
    {
     "data": {
      "image/png": "[encoded data removed]",
      "text/plain": [
       "<Figure size 576x576 with 3 Axes>"
      ]
     },
     "metadata": {
      "needs_background": "light"
     },
     "output_type": "display_data"
    }
   ],
   "source": [
    "g = sns.jointplot(\"POVERTY\", \"income_vs_rent\", data=census, kind=\"kde\",\n",
    "                  color=\"forestgreen\", height=8)"
   ]
  },
  {
   "cell_type": "code",
   "execution_count": 17,
   "metadata": {},
   "outputs": [
    {
     "data": {
      "image/png": "[encoded data removed]",
      "text/plain": [
       "<Figure size 432x288 with 1 Axes>"
      ]
     },
     "metadata": {
      "needs_background": "light"
     },
     "output_type": "display_data"
    }
   ],
   "source": [
    "cmap = sns.cubehelix_palette(rot=-.2, as_cmap=True)\n",
    "ax = sns.scatterplot(x=\"POVERTY\", y=\"income_vs_rent\",size=\"HHWT\",\n",
    "                     palette=cmap, sizes=(10, 200),\n",
    "                     data=census)"
   ]
  },
  {
   "cell_type": "code",
   "execution_count": 7,
   "metadata": {},
   "outputs": [],
   "source": [
    "# Getting rid of unecessary variables \n",
    "census = census.drop(['DATANUM'],1)\n",
    "census = census.drop(['YEAR'],1)\n",
    "census = census.drop(['CBSERIAL'],1)\n",
    "census = census.drop(['OWNERSHP'],1)\n",
    "census = census.drop(['PERNUM'],1)\n",
    "census = census.drop(['SERIAL'],1)"
   ]
  },
  {
   "cell_type": "code",
   "execution_count": 19,
   "metadata": {},
   "outputs": [],
   "source": [
    "census['lowerpov'] = census['POVERTY'].apply(lambda x: 1 if x <= 200 else 0)\n"
   ]
  },
  {
   "cell_type": "code",
   "execution_count": 8,
   "metadata": {},
   "outputs": [],
   "source": [
    "census = census.drop(['POVERTY'],1)\n",
    "census = census.drop(['INCTOT'],1)\n",
    "census = census.drop(['INCWAGE'],1)"
   ]
  },
  {
   "cell_type": "code",
   "execution_count": 9,
   "metadata": {},
   "outputs": [],
   "source": [
    "census = census.drop(['RENTGRS'],1)"
   ]
  },
  {
   "cell_type": "code",
   "execution_count": 23,
   "metadata": {},
   "outputs": [
    {
     "name": "stdout",
     "output_type": "stream",
     "text": [
      "                    HHWT     METRO        GQ  OWNERSHPD  FOODSTMP     PERWT  \\\n",
      "HHWT            1.000000  0.105367 -0.007548   0.078268 -0.003862  0.921658   \n",
      "METRO           0.105367  1.000000 -0.022294   0.109977 -0.087602  0.103950   \n",
      "GQ             -0.007548 -0.022294  1.000000  -0.007381 -0.003000 -0.000530   \n",
      "OWNERSHPD       0.078268  0.109977 -0.007381   1.000000  0.028570  0.076926   \n",
      "FOODSTMP       -0.003862 -0.087602 -0.003000   0.028570  1.000000  0.008365   \n",
      "PERWT           0.921658  0.103950 -0.000530   0.076926  0.008365  1.000000   \n",
      "SEX            -0.011365  0.004153 -0.000904   0.006290  0.071054 -0.029467   \n",
      "AGE            -0.078023  0.001464  0.033364  -0.111640  0.019386 -0.098204   \n",
      "HISPAN          0.073928  0.098109 -0.005342   0.052474  0.040169  0.089274   \n",
      "HISPAND         0.073193  0.094392 -0.005340   0.051063  0.040083  0.088286   \n",
      "RACAMIND       -0.037649 -0.079297 -0.004600  -0.032360  0.042678 -0.035457   \n",
      "RACASIAN       -0.009579  0.039643 -0.000649   0.019861 -0.059648 -0.003883   \n",
      "RACBLK          0.117080  0.016410 -0.005674   0.052287  0.132297  0.125922   \n",
      "RACPACIS        0.004186  0.004853  0.000066  -0.003186  0.015236  0.005688   \n",
      "RACWHT         -0.114071 -0.033640  0.003947  -0.060501 -0.096277 -0.129297   \n",
      "RACOTHER        0.056580  0.044337  0.001632   0.040573  0.020216  0.066179   \n",
      "HCOVANY        -0.047679  0.013362  0.004375  -0.002335 -0.008104 -0.064089   \n",
      "HCOVPRIV       -0.027932  0.075392 -0.007648   0.011002 -0.359499 -0.041575   \n",
      "HCOVPUB        -0.045117 -0.070468  0.022052  -0.057266  0.339095 -0.047996   \n",
      "EDUC           -0.014951  0.059942 -0.013508   0.044526 -0.214834 -0.022877   \n",
      "EDUCD          -0.016567  0.059282 -0.013517   0.045001 -0.215260 -0.024659   \n",
      "lowerpov        0.001354 -0.118219  0.021466  -0.039001  0.371749 -0.001548   \n",
      "income_vs_rent  0.011747  0.060953 -0.011253   0.036894 -0.206485 -0.001446   \n",
      "\n",
      "                     SEX       AGE    HISPAN   HISPAND       ...        \\\n",
      "HHWT           -0.011365 -0.078023  0.073928  0.073193       ...         \n",
      "METRO           0.004153  0.001464  0.098109  0.094392       ...         \n",
      "GQ             -0.000904  0.033364 -0.005342 -0.005340       ...         \n",
      "OWNERSHPD       0.006290 -0.111640  0.052474  0.051063       ...         \n",
      "FOODSTMP        0.071054  0.019386  0.040169  0.040083       ...         \n",
      "PERWT          -0.029467 -0.098204  0.089274  0.088286       ...         \n",
      "SEX             1.000000  0.080102  0.006023  0.006670       ...         \n",
      "AGE             0.080102  1.000000 -0.074821 -0.072704       ...         \n",
      "HISPAN          0.006023 -0.074821  1.000000  0.997504       ...         \n",
      "HISPAND         0.006670 -0.072704  0.997504  1.000000       ...         \n",
      "RACAMIND        0.002511 -0.014079  0.002743  0.003752       ...         \n",
      "RACASIAN       -0.001530 -0.044901 -0.096470 -0.093687       ...         \n",
      "RACBLK          0.047012  0.016202 -0.122976 -0.118900       ...         \n",
      "RACPACIS       -0.000659 -0.014218 -0.001110 -0.000020       ...         \n",
      "RACWHT         -0.030746  0.041484 -0.066439 -0.068298       ...         \n",
      "RACOTHER       -0.012417 -0.076484  0.451895  0.446111       ...         \n",
      "HCOVANY         0.057028  0.139480 -0.102941 -0.098978       ...         \n",
      "HCOVPRIV       -0.036141 -0.103516 -0.074949 -0.073705       ...         \n",
      "HCOVPUB         0.096754  0.458856 -0.038107 -0.035560       ...         \n",
      "EDUC            0.004997 -0.206283 -0.068165 -0.065797       ...         \n",
      "EDUCD           0.004642 -0.207790 -0.070720 -0.068283       ...         \n",
      "lowerpov        0.094411  0.088128  0.030791  0.030250       ...         \n",
      "income_vs_rent -0.163210 -0.075774 -0.051397 -0.050135       ...         \n",
      "\n",
      "                RACPACIS    RACWHT  RACOTHER   HCOVANY  HCOVPRIV   HCOVPUB  \\\n",
      "HHWT            0.004186 -0.114071  0.056580 -0.047679 -0.027932 -0.045117   \n",
      "METRO           0.004853 -0.033640  0.044337  0.013362  0.075392 -0.070468   \n",
      "GQ              0.000066  0.003947  0.001632  0.004375 -0.007648  0.022052   \n",
      "OWNERSHPD      -0.003186 -0.060501  0.040573 -0.002335  0.011002 -0.057266   \n",
      "FOODSTMP        0.015236 -0.096277  0.020216 -0.008104 -0.359499  0.339095   \n",
      "PERWT           0.005688 -0.129297  0.066179 -0.064089 -0.041575 -0.047996   \n",
      "SEX            -0.000659 -0.030746 -0.012417  0.057028 -0.036141  0.096754   \n",
      "AGE            -0.014218  0.041484 -0.076484  0.139480 -0.103516  0.458856   \n",
      "HISPAN         -0.001110 -0.066439  0.451895 -0.102941 -0.074949 -0.038107   \n",
      "HISPAND        -0.000020 -0.068298  0.446111 -0.098978 -0.073705 -0.035560   \n",
      "RACAMIND        0.011794 -0.105962 -0.018065 -0.034160 -0.047074  0.019470   \n",
      "RACASIAN        0.070656 -0.361703 -0.060442  0.019603  0.028901 -0.047677   \n",
      "RACBLK         -0.019785 -0.657295 -0.116653  0.015022 -0.063146  0.064945   \n",
      "RACPACIS        1.000000 -0.056074 -0.006110  0.006741  0.008488 -0.006940   \n",
      "RACWHT         -0.056074  1.000000 -0.358313  0.030811  0.083360 -0.021958   \n",
      "RACOTHER       -0.006110 -0.358313  1.000000 -0.080369 -0.064770 -0.022245   \n",
      "HCOVANY         0.006741  0.030811 -0.080369  1.000000  0.447461  0.301800   \n",
      "HCOVPRIV        0.008488  0.083360 -0.064770  0.447461  1.000000 -0.520026   \n",
      "HCOVPUB        -0.006940 -0.021958 -0.022245  0.301800 -0.520026  1.000000   \n",
      "EDUC           -0.009474  0.059754 -0.079461  0.101100  0.264649 -0.241499   \n",
      "EDUCD          -0.009692  0.061951 -0.081360  0.102225  0.266544 -0.242333   \n",
      "lowerpov       -0.001068 -0.076643  0.030247 -0.106239 -0.429340  0.370129   \n",
      "income_vs_rent  0.002429  0.073020 -0.043965  0.097162  0.295364 -0.250730   \n",
      "\n",
      "                    EDUC     EDUCD  lowerpov  income_vs_rent  \n",
      "HHWT           -0.014951 -0.016567  0.001354        0.011747  \n",
      "METRO           0.059942  0.059282 -0.118219        0.060953  \n",
      "GQ             -0.013508 -0.013517  0.021466       -0.011253  \n",
      "OWNERSHPD       0.044526  0.045001 -0.039001        0.036894  \n",
      "FOODSTMP       -0.214834 -0.215260  0.371749       -0.206485  \n",
      "PERWT          -0.022877 -0.024659 -0.001548       -0.001446  \n",
      "SEX             0.004997  0.004642  0.094411       -0.163210  \n",
      "AGE            -0.206283 -0.207790  0.088128       -0.075774  \n",
      "HISPAN         -0.068165 -0.070720  0.030791       -0.051397  \n",
      "HISPAND        -0.065797 -0.068283  0.030250       -0.050135  \n",
      "RACAMIND       -0.030809 -0.030600  0.045214       -0.030792  \n",
      "RACASIAN        0.147381  0.146703 -0.044368        0.022898  \n",
      "RACBLK         -0.096657 -0.097578  0.086742       -0.064864  \n",
      "RACPACIS       -0.009474 -0.009692 -0.001068        0.002429  \n",
      "RACWHT          0.059754  0.061951 -0.076643        0.073020  \n",
      "RACOTHER       -0.079461 -0.081360  0.030247       -0.043965  \n",
      "HCOVANY         0.101100  0.102225 -0.106239        0.097162  \n",
      "HCOVPRIV        0.264649  0.266544 -0.429340        0.295364  \n",
      "HCOVPUB        -0.241499 -0.242333  0.370129       -0.250730  \n",
      "EDUC            1.000000  0.998712 -0.261549        0.275622  \n",
      "EDUCD           0.998712  1.000000 -0.263232        0.277605  \n",
      "lowerpov       -0.261549 -0.263232  1.000000       -0.427177  \n",
      "income_vs_rent  0.275622  0.277605 -0.427177        1.000000  \n",
      "\n",
      "[23 rows x 23 columns]\n"
     ]
    },
    {
     "data": {
      "image/png": "[encoded data removed]",
      "text/plain": [
       "<Figure size 864x648 with 2 Axes>"
      ]
     },
     "metadata": {
      "needs_background": "light"
     },
     "output_type": "display_data"
    }
   ],
   "source": [
    "# Make the correlation matrix.\n",
    "corrmat = census.corr()\n",
    "print(corrmat)\n",
    "\n",
    "# Set up the matplotlib figure.\n",
    "f, ax = plt.subplots(figsize=(12, 9))\n",
    "\n",
    "# Draw the heatmap using seaborn.\n",
    "sns.heatmap(corrmat, vmax=.8, square=True)\n",
    "plt.show()"
   ]
  },
  {
   "cell_type": "markdown",
   "metadata": {},
   "source": [
    "### Preparing to model: Selecting Features and PCA"
   ]
  },
  {
   "cell_type": "code",
   "execution_count": 10,
   "metadata": {},
   "outputs": [
    {
     "name": "stdout",
     "output_type": "stream",
     "text": [
      "[ 1  4  6  7 12 14 16 17 18 19 20 21]\n",
      "(148594, 12)\n"
     ]
    },
    {
     "data": {
      "text/plain": [
       "Index(['METRO', 'FOODSTMP', 'SEX', 'AGE', 'RACBLK', 'RACWHT', 'HCOVANY',\n",
       "       'HCOVPRIV', 'HCOVPUB', 'EDUC', 'EDUCD', 'income_vs_rent'],\n",
       "      dtype='object')"
      ]
     },
     "execution_count": 10,
     "metadata": {},
     "output_type": "execute_result"
    }
   ],
   "source": [
    "# selectKbest \n",
    "import numpy as np\n",
    "from sklearn.feature_selection import SelectKBest, f_classif\n",
    "\n",
    "y = census['lowerpov']\n",
    "X = census.drop(['lowerpov'],1)\n",
    "\n",
    "\n",
    "# Perform feature selection\n",
    "selector = SelectKBest(f_classif, k=12)\n",
    "selector.fit(X,y)\n",
    "\n",
    "X_new = selector.transform(X)\n",
    "X_new.shape\n",
    "print(selector.get_support(indices=True))\n",
    "\n",
    "# Most 10  useful cols \n",
    "X_new = selector.transform(X)\n",
    "print(X_new.shape)\n",
    "# Col names \n",
    "X.columns[selector.get_support(indices=True)]"
   ]
  },
  {
   "cell_type": "code",
   "execution_count": 11,
   "metadata": {},
   "outputs": [],
   "source": [
    "features = census[['METRO', 'FOODSTMP', 'SEX', 'AGE', 'RACBLK', 'RACWHT', 'HCOVANY',\n",
    "       'HCOVPRIV', 'HCOVPUB', 'EDUC', 'EDUCD', 'income_vs_rent']]"
   ]
  },
  {
   "cell_type": "markdown",
   "metadata": {},
   "source": [
    " "
   ]
  },
  {
   "cell_type": "markdown",
   "metadata": {},
   "source": [
    "## 1. Random Forest"
   ]
  },
  {
   "cell_type": "code",
   "execution_count": null,
   "metadata": {},
   "outputs": [],
   "source": [
    "# Model 3: Random Forest gridsearchcv  took 300 min \n",
    "from sklearn import ensemble\n",
    "from sklearn.model_selection import GridSearchCV\n",
    "rfc = ensemble.RandomForestClassifier()\n",
    "\n",
    "\n",
    "\n",
    "param_grid = { \n",
    "    'n_estimators': [15, 200, 500, 750],\n",
    "    'max_features': [2,4,6,7,8],\n",
    "    'max_depth': [4,5,6,7,8]\n",
    "}\n",
    "\n",
    "\n",
    "grid = GridSearchCV(rfc, param_grid, cv=5, verbose=3, n_jobs=-1)\n",
    "\n",
    "grid.fit(features,y)\n",
    "\n",
    "# Show the best parameter and best score \n",
    "print(grid.best_params_)\n",
    "print( grid.best_score_)"
   ]
  },
  {
   "cell_type": "code",
   "execution_count": 28,
   "metadata": {},
   "outputs": [
    {
     "name": "stdout",
     "output_type": "stream",
     "text": [
      "With 20% Holdout: 0.8462599683704027\n",
      "Testing on Sample: 0.8449331736140087\n",
      "[0.83162853 0.83728129 0.81978466 0.84777927 0.85840232 0.84413487\n",
      " 0.84029881 0.8413756  0.85187428 0.8505283 ]\n",
      "Random Forest report :\n",
      "              precision    recall  f1-score   support\n",
      "\n",
      "           0       0.90      0.83      0.86     17154\n",
      "           1       0.79      0.87      0.83     12565\n",
      "\n",
      "   micro avg       0.85      0.85      0.85     29719\n",
      "   macro avg       0.84      0.85      0.85     29719\n",
      "weighted avg       0.85      0.85      0.85     29719\n",
      "\n",
      "AUC: 0.925\n"
     ]
    },
    {
     "data": {
      "image/png": "[encoded data removed]",
      "text/plain": [
       "<Figure size 432x288 with 1 Axes>"
      ]
     },
     "metadata": {
      "needs_background": "light"
     },
     "output_type": "display_data"
    }
   ],
   "source": [
    "# Random forest model using select k best , \n",
    "from sklearn import ensemble\n",
    "rfc = ensemble.RandomForestClassifier(n_estimators=200, max_features= 7, max_depth=8)\n",
    "\n",
    "y = census['lowerpov']\n",
    "\n",
    "\n",
    "from sklearn.model_selection import train_test_split\n",
    "# Use train_test_split to create the necessary training and test groups\n",
    "X_train, X_test, y_train, y_test = train_test_split(features, y ,test_size=0.2, random_state=100)\n",
    "print('With 20% Holdout: ' + str(rfc.fit(X_train, y_train).score(X_test, y_test)))\n",
    "print('Testing on Sample: ' + str(rfc.fit(features, y).score(features, y)))\n",
    "\n",
    "\n",
    "# Cross validating using 10 folds  \n",
    "from sklearn.model_selection import cross_val_score\n",
    "print(cross_val_score(rfc, features, y, cv=10))\n",
    "\n",
    "\n",
    "from sklearn.metrics import classification_report\n",
    "print('Random Forest report :')\n",
    "print(classification_report(y_test, rfc.predict(X_test)))\n",
    "\n",
    "\n",
    "#AUC \n",
    "probs = rfc.predict_proba(X_test)\n",
    "probs = probs[:, 1]\n",
    "\n",
    "# calculate AUC\n",
    "auc = roc_auc_score(y_test, probs)\n",
    "print('AUC: %.3f' % auc)\n",
    "\n",
    "\n",
    "\n",
    "import matplotlib.pyplot as plt\n",
    "# calculate roc curve\n",
    "fpr, tpr, thresholds = roc_curve(y_test, probs, pos_label= 1 )\n",
    "plt.plot([0, 1], [0, 1], linestyle='--')\n",
    "\n",
    "# plot the roc curve for the model\n",
    "plt.plot(fpr, tpr, marker='.')\n",
    "\n",
    "# show the plot\n",
    "plt.show()\n",
    "\n"
   ]
  },
  {
   "cell_type": "markdown",
   "metadata": {},
   "source": [
    "## 2. K - nearest neighbor"
   ]
  },
  {
   "cell_type": "code",
   "execution_count": 33,
   "metadata": {},
   "outputs": [
    {
     "name": "stdout",
     "output_type": "stream",
     "text": [
      "Fitting 5 folds for each of 7 candidates, totalling 35 fits\n"
     ]
    },
    {
     "name": "stderr",
     "output_type": "stream",
     "text": [
      "[Parallel(n_jobs=-1)]: Using backend LokyBackend with 4 concurrent workers.\n",
      "[Parallel(n_jobs=-1)]: Done  35 out of  35 | elapsed:  5.3min finished\n"
     ]
    },
    {
     "name": "stdout",
     "output_type": "stream",
     "text": [
      "{'n_neighbors': 25}\n",
      "0.8339973350202565\n"
     ]
    }
   ],
   "source": [
    "# Model 2: KNN gridsearch\n",
    "from sklearn.neighbors import KNeighborsClassifier\n",
    "from sklearn.model_selection import GridSearchCV \n",
    "\n",
    "# Initialize the model\n",
    "knn = KNeighborsClassifier()\n",
    "\n",
    "# Set parameters for KNN\n",
    "# List of values to try \n",
    "knn_params = [{'n_neighbors': [2,3,5,7,10,15,25]}]\n",
    "\n",
    "#GridSearchCV(estimator, param_grid, scoring=None, fit_params=None, \n",
    "    #n_jobs=None, iid=’warn’, refit=True, cv=’warn’, verbose=0, pre_dispatch=‘2*n_jobs’,\n",
    "    #error_score=’raise-deprecating’, return_train_score=’warn’)\n",
    "\n",
    "# Search for the best paramters. \n",
    "knn_grid = GridSearchCV(knn, knn_params, cv=5, verbose=1, n_jobs=-1)\n",
    "\n",
    "# Fit the grid and obtain results\n",
    "knn_grid.fit(features, y)\n",
    "\n",
    "# Return best parameters and best score\n",
    "print(knn_grid.best_params_)\n",
    "print(knn_grid.best_score_)"
   ]
  },
  {
   "cell_type": "code",
   "execution_count": 34,
   "metadata": {},
   "outputs": [
    {
     "name": "stdout",
     "output_type": "stream",
     "text": [
      "With 20% Holdout: 0.8341465056024765\n",
      "Testing on Sample: 0.8441727122225662\n",
      "[0.82234186 0.82981157 0.81581427 0.83829071 0.85200888 0.83552056\n",
      " 0.83383808 0.83107881 0.84541355 0.83868363]\n",
      "KNN report :\n",
      "              precision    recall  f1-score   support\n",
      "\n",
      "           0       0.90      0.82      0.86     17201\n",
      "           1       0.78      0.87      0.82     12518\n",
      "\n",
      "   micro avg       0.84      0.84      0.84     29719\n",
      "   macro avg       0.84      0.85      0.84     29719\n",
      "weighted avg       0.85      0.84      0.84     29719\n",
      "\n",
      "AUC: 0.923\n"
     ]
    },
    {
     "data": {
      "image/png": "[encoded data removed]",
      "text/plain": [
       "<Figure size 432x288 with 1 Axes>"
      ]
     },
     "metadata": {
      "needs_background": "light"
     },
     "output_type": "display_data"
    }
   ],
   "source": [
    "# Nearest neighbors model \n",
    "knn = KNeighborsClassifier(n_neighbors=25)\n",
    "\n",
    "knn.fit(features,y)\n",
    "\n",
    "# Use train_test_split to create the necessary training and test groups\n",
    "X_train, X_test, y_train, y_test = train_test_split(features,y, test_size=0.2, random_state=20)\n",
    "print('With 20% Holdout: ' + str(knn.fit(X_train, y_train).score(X_test, y_test)))\n",
    "print('Testing on Sample: ' + str(knn.fit(features, y).score(features, y)))\n",
    "\n",
    "# Cross validating using 10 folds  \n",
    "from sklearn.model_selection import cross_val_score\n",
    "print(cross_val_score(knn, features, y, cv=10))\n",
    "\n",
    "from sklearn.metrics import classification_report\n",
    "print('KNN report :')\n",
    "print(classification_report(y_test, knn.predict(X_test)))\n",
    "\n",
    "#AUC \n",
    "probs = knn.predict_proba(X_test)\n",
    "probs = probs[:, 1]\n",
    "# calculate AUC\n",
    "auc = roc_auc_score(y_test, probs)\n",
    "print('AUC: %.3f' % auc)\n",
    "# calculate roc curve\n",
    "fpr, tpr, thresholds = roc_curve(y_test, probs, pos_label= 1 )\n",
    "plt.plot([0, 1], [0, 1], linestyle='--')\n",
    "# plot the roc curve for the model\n",
    "plt.plot(fpr, tpr, marker='.')\n",
    "# show the plot\n",
    "plt.show()\n"
   ]
  },
  {
   "cell_type": "markdown",
   "metadata": {},
   "source": [
    "## 3. Logistic Regression"
   ]
  },
  {
   "cell_type": "code",
   "execution_count": 35,
   "metadata": {},
   "outputs": [
    {
     "name": "stdout",
     "output_type": "stream",
     "text": [
      "Fitting 5 folds for each of 16 candidates, totalling 80 fits\n"
     ]
    },
    {
     "name": "stderr",
     "output_type": "stream",
     "text": [
      "[Parallel(n_jobs=1)]: Using backend SequentialBackend with 1 concurrent workers.\n",
      "/Library/Frameworks/Python.framework/Versions/3.7/lib/python3.7/site-packages/sklearn/linear_model/logistic.py:433: FutureWarning: Default solver will be changed to 'lbfgs' in 0.22. Specify a solver to silence this warning.\n",
      "  FutureWarning)\n",
      "/Library/Frameworks/Python.framework/Versions/3.7/lib/python3.7/site-packages/sklearn/linear_model/logistic.py:433: FutureWarning: Default solver will be changed to 'lbfgs' in 0.22. Specify a solver to silence this warning.\n",
      "  FutureWarning)\n",
      "/Library/Frameworks/Python.framework/Versions/3.7/lib/python3.7/site-packages/sklearn/linear_model/logistic.py:433: FutureWarning: Default solver will be changed to 'lbfgs' in 0.22. Specify a solver to silence this warning.\n",
      "  FutureWarning)\n",
      "/Library/Frameworks/Python.framework/Versions/3.7/lib/python3.7/site-packages/sklearn/linear_model/logistic.py:433: FutureWarning: Default solver will be changed to 'lbfgs' in 0.22. Specify a solver to silence this warning.\n",
      "  FutureWarning)\n",
      "/Library/Frameworks/Python.framework/Versions/3.7/lib/python3.7/site-packages/sklearn/linear_model/logistic.py:433: FutureWarning: Default solver will be changed to 'lbfgs' in 0.22. Specify a solver to silence this warning.\n",
      "  FutureWarning)\n",
      "/Library/Frameworks/Python.framework/Versions/3.7/lib/python3.7/site-packages/sklearn/linear_model/logistic.py:433: FutureWarning: Default solver will be changed to 'lbfgs' in 0.22. Specify a solver to silence this warning.\n",
      "  FutureWarning)\n",
      "/Library/Frameworks/Python.framework/Versions/3.7/lib/python3.7/site-packages/sklearn/linear_model/logistic.py:433: FutureWarning: Default solver will be changed to 'lbfgs' in 0.22. Specify a solver to silence this warning.\n",
      "  FutureWarning)\n",
      "/Library/Frameworks/Python.framework/Versions/3.7/lib/python3.7/site-packages/sklearn/linear_model/logistic.py:433: FutureWarning: Default solver will be changed to 'lbfgs' in 0.22. Specify a solver to silence this warning.\n",
      "  FutureWarning)\n",
      "/Library/Frameworks/Python.framework/Versions/3.7/lib/python3.7/site-packages/sklearn/linear_model/logistic.py:433: FutureWarning: Default solver will be changed to 'lbfgs' in 0.22. Specify a solver to silence this warning.\n",
      "  FutureWarning)\n",
      "/Library/Frameworks/Python.framework/Versions/3.7/lib/python3.7/site-packages/sklearn/linear_model/logistic.py:433: FutureWarning: Default solver will be changed to 'lbfgs' in 0.22. Specify a solver to silence this warning.\n",
      "  FutureWarning)\n",
      "/Library/Frameworks/Python.framework/Versions/3.7/lib/python3.7/site-packages/sklearn/linear_model/logistic.py:433: FutureWarning: Default solver will be changed to 'lbfgs' in 0.22. Specify a solver to silence this warning.\n",
      "  FutureWarning)\n",
      "/Library/Frameworks/Python.framework/Versions/3.7/lib/python3.7/site-packages/sklearn/linear_model/logistic.py:433: FutureWarning: Default solver will be changed to 'lbfgs' in 0.22. Specify a solver to silence this warning.\n",
      "  FutureWarning)\n",
      "/Library/Frameworks/Python.framework/Versions/3.7/lib/python3.7/site-packages/sklearn/linear_model/logistic.py:433: FutureWarning: Default solver will be changed to 'lbfgs' in 0.22. Specify a solver to silence this warning.\n",
      "  FutureWarning)\n",
      "/Library/Frameworks/Python.framework/Versions/3.7/lib/python3.7/site-packages/sklearn/linear_model/logistic.py:433: FutureWarning: Default solver will be changed to 'lbfgs' in 0.22. Specify a solver to silence this warning.\n",
      "  FutureWarning)\n",
      "/Library/Frameworks/Python.framework/Versions/3.7/lib/python3.7/site-packages/sklearn/linear_model/logistic.py:433: FutureWarning: Default solver will be changed to 'lbfgs' in 0.22. Specify a solver to silence this warning.\n",
      "  FutureWarning)\n",
      "/Library/Frameworks/Python.framework/Versions/3.7/lib/python3.7/site-packages/sklearn/linear_model/logistic.py:433: FutureWarning: Default solver will be changed to 'lbfgs' in 0.22. Specify a solver to silence this warning.\n",
      "  FutureWarning)\n",
      "/Library/Frameworks/Python.framework/Versions/3.7/lib/python3.7/site-packages/sklearn/linear_model/logistic.py:433: FutureWarning: Default solver will be changed to 'lbfgs' in 0.22. Specify a solver to silence this warning.\n",
      "  FutureWarning)\n",
      "/Library/Frameworks/Python.framework/Versions/3.7/lib/python3.7/site-packages/sklearn/linear_model/logistic.py:433: FutureWarning: Default solver will be changed to 'lbfgs' in 0.22. Specify a solver to silence this warning.\n",
      "  FutureWarning)\n",
      "/Library/Frameworks/Python.framework/Versions/3.7/lib/python3.7/site-packages/sklearn/linear_model/logistic.py:433: FutureWarning: Default solver will be changed to 'lbfgs' in 0.22. Specify a solver to silence this warning.\n",
      "  FutureWarning)\n",
      "/Library/Frameworks/Python.framework/Versions/3.7/lib/python3.7/site-packages/sklearn/linear_model/logistic.py:433: FutureWarning: Default solver will be changed to 'lbfgs' in 0.22. Specify a solver to silence this warning.\n",
      "  FutureWarning)\n",
      "/Library/Frameworks/Python.framework/Versions/3.7/lib/python3.7/site-packages/sklearn/linear_model/logistic.py:433: FutureWarning: Default solver will be changed to 'lbfgs' in 0.22. Specify a solver to silence this warning.\n",
      "  FutureWarning)\n",
      "/Library/Frameworks/Python.framework/Versions/3.7/lib/python3.7/site-packages/sklearn/linear_model/logistic.py:433: FutureWarning: Default solver will be changed to 'lbfgs' in 0.22. Specify a solver to silence this warning.\n",
      "  FutureWarning)\n",
      "/Library/Frameworks/Python.framework/Versions/3.7/lib/python3.7/site-packages/sklearn/linear_model/logistic.py:433: FutureWarning: Default solver will be changed to 'lbfgs' in 0.22. Specify a solver to silence this warning.\n",
      "  FutureWarning)\n",
      "/Library/Frameworks/Python.framework/Versions/3.7/lib/python3.7/site-packages/sklearn/linear_model/logistic.py:433: FutureWarning: Default solver will be changed to 'lbfgs' in 0.22. Specify a solver to silence this warning.\n",
      "  FutureWarning)\n",
      "/Library/Frameworks/Python.framework/Versions/3.7/lib/python3.7/site-packages/sklearn/linear_model/logistic.py:433: FutureWarning: Default solver will be changed to 'lbfgs' in 0.22. Specify a solver to silence this warning.\n",
      "  FutureWarning)\n",
      "/Library/Frameworks/Python.framework/Versions/3.7/lib/python3.7/site-packages/sklearn/linear_model/logistic.py:433: FutureWarning: Default solver will be changed to 'lbfgs' in 0.22. Specify a solver to silence this warning.\n",
      "  FutureWarning)\n",
      "/Library/Frameworks/Python.framework/Versions/3.7/lib/python3.7/site-packages/sklearn/linear_model/logistic.py:433: FutureWarning: Default solver will be changed to 'lbfgs' in 0.22. Specify a solver to silence this warning.\n",
      "  FutureWarning)\n",
      "/Library/Frameworks/Python.framework/Versions/3.7/lib/python3.7/site-packages/sklearn/linear_model/logistic.py:433: FutureWarning: Default solver will be changed to 'lbfgs' in 0.22. Specify a solver to silence this warning.\n",
      "  FutureWarning)\n",
      "/Library/Frameworks/Python.framework/Versions/3.7/lib/python3.7/site-packages/sklearn/linear_model/logistic.py:433: FutureWarning: Default solver will be changed to 'lbfgs' in 0.22. Specify a solver to silence this warning.\n",
      "  FutureWarning)\n",
      "/Library/Frameworks/Python.framework/Versions/3.7/lib/python3.7/site-packages/sklearn/linear_model/logistic.py:433: FutureWarning: Default solver will be changed to 'lbfgs' in 0.22. Specify a solver to silence this warning.\n",
      "  FutureWarning)\n",
      "/Library/Frameworks/Python.framework/Versions/3.7/lib/python3.7/site-packages/sklearn/linear_model/logistic.py:433: FutureWarning: Default solver will be changed to 'lbfgs' in 0.22. Specify a solver to silence this warning.\n",
      "  FutureWarning)\n",
      "/Library/Frameworks/Python.framework/Versions/3.7/lib/python3.7/site-packages/sklearn/linear_model/logistic.py:433: FutureWarning: Default solver will be changed to 'lbfgs' in 0.22. Specify a solver to silence this warning.\n",
      "  FutureWarning)\n",
      "/Library/Frameworks/Python.framework/Versions/3.7/lib/python3.7/site-packages/sklearn/linear_model/logistic.py:433: FutureWarning: Default solver will be changed to 'lbfgs' in 0.22. Specify a solver to silence this warning.\n",
      "  FutureWarning)\n",
      "/Library/Frameworks/Python.framework/Versions/3.7/lib/python3.7/site-packages/sklearn/linear_model/logistic.py:433: FutureWarning: Default solver will be changed to 'lbfgs' in 0.22. Specify a solver to silence this warning.\n",
      "  FutureWarning)\n"
     ]
    },
    {
     "name": "stderr",
     "output_type": "stream",
     "text": [
      "/Library/Frameworks/Python.framework/Versions/3.7/lib/python3.7/site-packages/sklearn/linear_model/logistic.py:433: FutureWarning: Default solver will be changed to 'lbfgs' in 0.22. Specify a solver to silence this warning.\n",
      "  FutureWarning)\n",
      "/Library/Frameworks/Python.framework/Versions/3.7/lib/python3.7/site-packages/sklearn/linear_model/logistic.py:433: FutureWarning: Default solver will be changed to 'lbfgs' in 0.22. Specify a solver to silence this warning.\n",
      "  FutureWarning)\n",
      "/Library/Frameworks/Python.framework/Versions/3.7/lib/python3.7/site-packages/sklearn/linear_model/logistic.py:433: FutureWarning: Default solver will be changed to 'lbfgs' in 0.22. Specify a solver to silence this warning.\n",
      "  FutureWarning)\n",
      "/Library/Frameworks/Python.framework/Versions/3.7/lib/python3.7/site-packages/sklearn/linear_model/logistic.py:433: FutureWarning: Default solver will be changed to 'lbfgs' in 0.22. Specify a solver to silence this warning.\n",
      "  FutureWarning)\n",
      "/Library/Frameworks/Python.framework/Versions/3.7/lib/python3.7/site-packages/sklearn/linear_model/logistic.py:433: FutureWarning: Default solver will be changed to 'lbfgs' in 0.22. Specify a solver to silence this warning.\n",
      "  FutureWarning)\n",
      "/Library/Frameworks/Python.framework/Versions/3.7/lib/python3.7/site-packages/sklearn/linear_model/logistic.py:433: FutureWarning: Default solver will be changed to 'lbfgs' in 0.22. Specify a solver to silence this warning.\n",
      "  FutureWarning)\n",
      "/Library/Frameworks/Python.framework/Versions/3.7/lib/python3.7/site-packages/sklearn/linear_model/logistic.py:433: FutureWarning: Default solver will be changed to 'lbfgs' in 0.22. Specify a solver to silence this warning.\n",
      "  FutureWarning)\n",
      "/Library/Frameworks/Python.framework/Versions/3.7/lib/python3.7/site-packages/sklearn/linear_model/logistic.py:433: FutureWarning: Default solver will be changed to 'lbfgs' in 0.22. Specify a solver to silence this warning.\n",
      "  FutureWarning)\n",
      "/Library/Frameworks/Python.framework/Versions/3.7/lib/python3.7/site-packages/sklearn/linear_model/logistic.py:433: FutureWarning: Default solver will be changed to 'lbfgs' in 0.22. Specify a solver to silence this warning.\n",
      "  FutureWarning)\n",
      "/Library/Frameworks/Python.framework/Versions/3.7/lib/python3.7/site-packages/sklearn/linear_model/logistic.py:433: FutureWarning: Default solver will be changed to 'lbfgs' in 0.22. Specify a solver to silence this warning.\n",
      "  FutureWarning)\n",
      "/Library/Frameworks/Python.framework/Versions/3.7/lib/python3.7/site-packages/sklearn/linear_model/logistic.py:433: FutureWarning: Default solver will be changed to 'lbfgs' in 0.22. Specify a solver to silence this warning.\n",
      "  FutureWarning)\n",
      "/Library/Frameworks/Python.framework/Versions/3.7/lib/python3.7/site-packages/sklearn/linear_model/logistic.py:433: FutureWarning: Default solver will be changed to 'lbfgs' in 0.22. Specify a solver to silence this warning.\n",
      "  FutureWarning)\n",
      "/Library/Frameworks/Python.framework/Versions/3.7/lib/python3.7/site-packages/sklearn/linear_model/logistic.py:433: FutureWarning: Default solver will be changed to 'lbfgs' in 0.22. Specify a solver to silence this warning.\n",
      "  FutureWarning)\n",
      "/Library/Frameworks/Python.framework/Versions/3.7/lib/python3.7/site-packages/sklearn/linear_model/logistic.py:433: FutureWarning: Default solver will be changed to 'lbfgs' in 0.22. Specify a solver to silence this warning.\n",
      "  FutureWarning)\n",
      "/Library/Frameworks/Python.framework/Versions/3.7/lib/python3.7/site-packages/sklearn/linear_model/logistic.py:433: FutureWarning: Default solver will be changed to 'lbfgs' in 0.22. Specify a solver to silence this warning.\n",
      "  FutureWarning)\n",
      "/Library/Frameworks/Python.framework/Versions/3.7/lib/python3.7/site-packages/sklearn/linear_model/logistic.py:433: FutureWarning: Default solver will be changed to 'lbfgs' in 0.22. Specify a solver to silence this warning.\n",
      "  FutureWarning)\n",
      "/Library/Frameworks/Python.framework/Versions/3.7/lib/python3.7/site-packages/sklearn/linear_model/logistic.py:433: FutureWarning: Default solver will be changed to 'lbfgs' in 0.22. Specify a solver to silence this warning.\n",
      "  FutureWarning)\n",
      "/Library/Frameworks/Python.framework/Versions/3.7/lib/python3.7/site-packages/sklearn/linear_model/logistic.py:433: FutureWarning: Default solver will be changed to 'lbfgs' in 0.22. Specify a solver to silence this warning.\n",
      "  FutureWarning)\n",
      "/Library/Frameworks/Python.framework/Versions/3.7/lib/python3.7/site-packages/sklearn/linear_model/logistic.py:433: FutureWarning: Default solver will be changed to 'lbfgs' in 0.22. Specify a solver to silence this warning.\n",
      "  FutureWarning)\n",
      "/Library/Frameworks/Python.framework/Versions/3.7/lib/python3.7/site-packages/sklearn/linear_model/logistic.py:433: FutureWarning: Default solver will be changed to 'lbfgs' in 0.22. Specify a solver to silence this warning.\n",
      "  FutureWarning)\n",
      "/Library/Frameworks/Python.framework/Versions/3.7/lib/python3.7/site-packages/sklearn/linear_model/logistic.py:433: FutureWarning: Default solver will be changed to 'lbfgs' in 0.22. Specify a solver to silence this warning.\n",
      "  FutureWarning)\n",
      "/Library/Frameworks/Python.framework/Versions/3.7/lib/python3.7/site-packages/sklearn/linear_model/logistic.py:433: FutureWarning: Default solver will be changed to 'lbfgs' in 0.22. Specify a solver to silence this warning.\n",
      "  FutureWarning)\n",
      "/Library/Frameworks/Python.framework/Versions/3.7/lib/python3.7/site-packages/sklearn/linear_model/logistic.py:433: FutureWarning: Default solver will be changed to 'lbfgs' in 0.22. Specify a solver to silence this warning.\n",
      "  FutureWarning)\n",
      "/Library/Frameworks/Python.framework/Versions/3.7/lib/python3.7/site-packages/sklearn/linear_model/logistic.py:433: FutureWarning: Default solver will be changed to 'lbfgs' in 0.22. Specify a solver to silence this warning.\n",
      "  FutureWarning)\n",
      "/Library/Frameworks/Python.framework/Versions/3.7/lib/python3.7/site-packages/sklearn/linear_model/logistic.py:433: FutureWarning: Default solver will be changed to 'lbfgs' in 0.22. Specify a solver to silence this warning.\n",
      "  FutureWarning)\n",
      "/Library/Frameworks/Python.framework/Versions/3.7/lib/python3.7/site-packages/sklearn/linear_model/logistic.py:433: FutureWarning: Default solver will be changed to 'lbfgs' in 0.22. Specify a solver to silence this warning.\n",
      "  FutureWarning)\n",
      "/Library/Frameworks/Python.framework/Versions/3.7/lib/python3.7/site-packages/sklearn/linear_model/logistic.py:433: FutureWarning: Default solver will be changed to 'lbfgs' in 0.22. Specify a solver to silence this warning.\n",
      "  FutureWarning)\n",
      "/Library/Frameworks/Python.framework/Versions/3.7/lib/python3.7/site-packages/sklearn/linear_model/logistic.py:433: FutureWarning: Default solver will be changed to 'lbfgs' in 0.22. Specify a solver to silence this warning.\n",
      "  FutureWarning)\n",
      "/Library/Frameworks/Python.framework/Versions/3.7/lib/python3.7/site-packages/sklearn/linear_model/logistic.py:433: FutureWarning: Default solver will be changed to 'lbfgs' in 0.22. Specify a solver to silence this warning.\n",
      "  FutureWarning)\n",
      "/Library/Frameworks/Python.framework/Versions/3.7/lib/python3.7/site-packages/sklearn/linear_model/logistic.py:433: FutureWarning: Default solver will be changed to 'lbfgs' in 0.22. Specify a solver to silence this warning.\n",
      "  FutureWarning)\n",
      "/Library/Frameworks/Python.framework/Versions/3.7/lib/python3.7/site-packages/sklearn/linear_model/logistic.py:433: FutureWarning: Default solver will be changed to 'lbfgs' in 0.22. Specify a solver to silence this warning.\n",
      "  FutureWarning)\n",
      "/Library/Frameworks/Python.framework/Versions/3.7/lib/python3.7/site-packages/sklearn/linear_model/logistic.py:433: FutureWarning: Default solver will be changed to 'lbfgs' in 0.22. Specify a solver to silence this warning.\n",
      "  FutureWarning)\n",
      "/Library/Frameworks/Python.framework/Versions/3.7/lib/python3.7/site-packages/sklearn/linear_model/logistic.py:433: FutureWarning: Default solver will be changed to 'lbfgs' in 0.22. Specify a solver to silence this warning.\n",
      "  FutureWarning)\n",
      "/Library/Frameworks/Python.framework/Versions/3.7/lib/python3.7/site-packages/sklearn/linear_model/logistic.py:433: FutureWarning: Default solver will be changed to 'lbfgs' in 0.22. Specify a solver to silence this warning.\n",
      "  FutureWarning)\n"
     ]
    },
    {
     "name": "stderr",
     "output_type": "stream",
     "text": [
      "/Library/Frameworks/Python.framework/Versions/3.7/lib/python3.7/site-packages/sklearn/linear_model/logistic.py:433: FutureWarning: Default solver will be changed to 'lbfgs' in 0.22. Specify a solver to silence this warning.\n",
      "  FutureWarning)\n",
      "/Library/Frameworks/Python.framework/Versions/3.7/lib/python3.7/site-packages/sklearn/linear_model/logistic.py:433: FutureWarning: Default solver will be changed to 'lbfgs' in 0.22. Specify a solver to silence this warning.\n",
      "  FutureWarning)\n",
      "/Library/Frameworks/Python.framework/Versions/3.7/lib/python3.7/site-packages/sklearn/linear_model/logistic.py:433: FutureWarning: Default solver will be changed to 'lbfgs' in 0.22. Specify a solver to silence this warning.\n",
      "  FutureWarning)\n",
      "/Library/Frameworks/Python.framework/Versions/3.7/lib/python3.7/site-packages/sklearn/linear_model/logistic.py:433: FutureWarning: Default solver will be changed to 'lbfgs' in 0.22. Specify a solver to silence this warning.\n",
      "  FutureWarning)\n",
      "/Library/Frameworks/Python.framework/Versions/3.7/lib/python3.7/site-packages/sklearn/linear_model/logistic.py:433: FutureWarning: Default solver will be changed to 'lbfgs' in 0.22. Specify a solver to silence this warning.\n",
      "  FutureWarning)\n",
      "/Library/Frameworks/Python.framework/Versions/3.7/lib/python3.7/site-packages/sklearn/linear_model/logistic.py:433: FutureWarning: Default solver will be changed to 'lbfgs' in 0.22. Specify a solver to silence this warning.\n",
      "  FutureWarning)\n",
      "/Library/Frameworks/Python.framework/Versions/3.7/lib/python3.7/site-packages/sklearn/linear_model/logistic.py:433: FutureWarning: Default solver will be changed to 'lbfgs' in 0.22. Specify a solver to silence this warning.\n",
      "  FutureWarning)\n",
      "/Library/Frameworks/Python.framework/Versions/3.7/lib/python3.7/site-packages/sklearn/linear_model/logistic.py:433: FutureWarning: Default solver will be changed to 'lbfgs' in 0.22. Specify a solver to silence this warning.\n",
      "  FutureWarning)\n",
      "/Library/Frameworks/Python.framework/Versions/3.7/lib/python3.7/site-packages/sklearn/linear_model/logistic.py:433: FutureWarning: Default solver will be changed to 'lbfgs' in 0.22. Specify a solver to silence this warning.\n",
      "  FutureWarning)\n",
      "/Library/Frameworks/Python.framework/Versions/3.7/lib/python3.7/site-packages/sklearn/linear_model/logistic.py:433: FutureWarning: Default solver will be changed to 'lbfgs' in 0.22. Specify a solver to silence this warning.\n",
      "  FutureWarning)\n",
      "/Library/Frameworks/Python.framework/Versions/3.7/lib/python3.7/site-packages/sklearn/linear_model/logistic.py:433: FutureWarning: Default solver will be changed to 'lbfgs' in 0.22. Specify a solver to silence this warning.\n",
      "  FutureWarning)\n",
      "/Library/Frameworks/Python.framework/Versions/3.7/lib/python3.7/site-packages/sklearn/linear_model/logistic.py:433: FutureWarning: Default solver will be changed to 'lbfgs' in 0.22. Specify a solver to silence this warning.\n",
      "  FutureWarning)\n",
      "[Parallel(n_jobs=1)]: Done  80 out of  80 | elapsed:  7.8min finished\n",
      "/Library/Frameworks/Python.framework/Versions/3.7/lib/python3.7/site-packages/sklearn/linear_model/logistic.py:433: FutureWarning: Default solver will be changed to 'lbfgs' in 0.22. Specify a solver to silence this warning.\n",
      "  FutureWarning)\n"
     ]
    },
    {
     "name": "stdout",
     "output_type": "stream",
     "text": [
      "{'C': 0.1, 'penalty': 'l1'}\n",
      "0.8095481647980403\n"
     ]
    }
   ],
   "source": [
    "# Logistic Regression Gridsearch cv \n",
    "from sklearn.linear_model import LogisticRegression\n",
    "logr = LogisticRegression()\n",
    "\n",
    "# Create regularization penalty space\n",
    "penalty = ['l1', 'l2']\n",
    "\n",
    "# Create regularization hyperparameter space\n",
    "C = (.00001,0.0001,0.001, 0.01, 0.1, 1, 10, 100)\n",
    "\n",
    "# Create hyperparameter options\n",
    "parameters = dict(C=C, penalty=penalty)\n",
    "\n",
    "# Use GS-CV to see which alpha level is best.\n",
    "\n",
    "logr_grid = GridSearchCV(logr, parameters, cv=5, verbose=1)\n",
    "\n",
    "#Fit the logistic regression \n",
    "logr_grid.fit(features, y)\n",
    "\n",
    "#return best parameters and best score\n",
    "\n",
    "print(logr_grid.best_params_)\n",
    "print(logr_grid.best_score_)"
   ]
  },
  {
   "cell_type": "code",
   "execution_count": 21,
   "metadata": {},
   "outputs": [
    {
     "name": "stderr",
     "output_type": "stream",
     "text": [
      "/Library/Frameworks/Python.framework/Versions/3.7/lib/python3.7/site-packages/sklearn/linear_model/logistic.py:433: FutureWarning: Default solver will be changed to 'lbfgs' in 0.22. Specify a solver to silence this warning.\n",
      "  FutureWarning)\n",
      "/Library/Frameworks/Python.framework/Versions/3.7/lib/python3.7/site-packages/sklearn/linear_model/logistic.py:433: FutureWarning: Default solver will be changed to 'lbfgs' in 0.22. Specify a solver to silence this warning.\n",
      "  FutureWarning)\n"
     ]
    },
    {
     "name": "stdout",
     "output_type": "stream",
     "text": [
      "With 20% Holdout: 0.8078333725899256\n"
     ]
    },
    {
     "name": "stderr",
     "output_type": "stream",
     "text": [
      "/Library/Frameworks/Python.framework/Versions/3.7/lib/python3.7/site-packages/sklearn/linear_model/logistic.py:433: FutureWarning: Default solver will be changed to 'lbfgs' in 0.22. Specify a solver to silence this warning.\n",
      "  FutureWarning)\n"
     ]
    },
    {
     "name": "stdout",
     "output_type": "stream",
     "text": [
      "Testing on Sample: 0.8097971654306365\n"
     ]
    },
    {
     "name": "stderr",
     "output_type": "stream",
     "text": [
      "/Library/Frameworks/Python.framework/Versions/3.7/lib/python3.7/site-packages/sklearn/linear_model/logistic.py:433: FutureWarning: Default solver will be changed to 'lbfgs' in 0.22. Specify a solver to silence this warning.\n",
      "  FutureWarning)\n",
      "/Library/Frameworks/Python.framework/Versions/3.7/lib/python3.7/site-packages/sklearn/linear_model/logistic.py:433: FutureWarning: Default solver will be changed to 'lbfgs' in 0.22. Specify a solver to silence this warning.\n",
      "  FutureWarning)\n",
      "/Library/Frameworks/Python.framework/Versions/3.7/lib/python3.7/site-packages/sklearn/linear_model/logistic.py:433: FutureWarning: Default solver will be changed to 'lbfgs' in 0.22. Specify a solver to silence this warning.\n",
      "  FutureWarning)\n",
      "/Library/Frameworks/Python.framework/Versions/3.7/lib/python3.7/site-packages/sklearn/linear_model/logistic.py:433: FutureWarning: Default solver will be changed to 'lbfgs' in 0.22. Specify a solver to silence this warning.\n",
      "  FutureWarning)\n",
      "/Library/Frameworks/Python.framework/Versions/3.7/lib/python3.7/site-packages/sklearn/linear_model/logistic.py:433: FutureWarning: Default solver will be changed to 'lbfgs' in 0.22. Specify a solver to silence this warning.\n",
      "  FutureWarning)\n",
      "/Library/Frameworks/Python.framework/Versions/3.7/lib/python3.7/site-packages/sklearn/linear_model/logistic.py:433: FutureWarning: Default solver will be changed to 'lbfgs' in 0.22. Specify a solver to silence this warning.\n",
      "  FutureWarning)\n",
      "/Library/Frameworks/Python.framework/Versions/3.7/lib/python3.7/site-packages/sklearn/linear_model/logistic.py:433: FutureWarning: Default solver will be changed to 'lbfgs' in 0.22. Specify a solver to silence this warning.\n",
      "  FutureWarning)\n",
      "/Library/Frameworks/Python.framework/Versions/3.7/lib/python3.7/site-packages/sklearn/linear_model/logistic.py:433: FutureWarning: Default solver will be changed to 'lbfgs' in 0.22. Specify a solver to silence this warning.\n",
      "  FutureWarning)\n",
      "/Library/Frameworks/Python.framework/Versions/3.7/lib/python3.7/site-packages/sklearn/linear_model/logistic.py:433: FutureWarning: Default solver will be changed to 'lbfgs' in 0.22. Specify a solver to silence this warning.\n",
      "  FutureWarning)\n",
      "/Library/Frameworks/Python.framework/Versions/3.7/lib/python3.7/site-packages/sklearn/linear_model/logistic.py:433: FutureWarning: Default solver will be changed to 'lbfgs' in 0.22. Specify a solver to silence this warning.\n",
      "  FutureWarning)\n"
     ]
    },
    {
     "name": "stdout",
     "output_type": "stream",
     "text": [
      "[0.79979812 0.80504711 0.78768506 0.81776581 0.82468538 0.81035063\n",
      " 0.81512888 0.81109092 0.81775355 0.80557238]\n",
      "Logistic regression report :\n",
      "              precision    recall  f1-score   support\n",
      "\n",
      "           0       0.84      0.82      0.83     17201\n",
      "           1       0.76      0.79      0.77     12518\n",
      "\n",
      "   micro avg       0.81      0.81      0.81     29719\n",
      "   macro avg       0.80      0.80      0.80     29719\n",
      "weighted avg       0.81      0.81      0.81     29719\n",
      "\n",
      "AUC: 0.896\n"
     ]
    },
    {
     "data": {
      "image/png": "[encoded data removed]",
      "text/plain": [
       "<Figure size 432x288 with 1 Axes>"
      ]
     },
     "metadata": {
      "needs_background": "light"
     },
     "output_type": "display_data"
    }
   ],
   "source": [
    "# Logistic regression model \n",
    "logr = LogisticRegression(C= .1, penalty='l1')\n",
    "\n",
    "\n",
    "logr.fit(features,y)\n",
    "\n",
    "# Use train_test_split to create the necessary training and test groups\n",
    "X_train, X_test, y_train, y_test = train_test_split(features, y, test_size=0.2, random_state=20)\n",
    "print('With 20% Holdout: ' + str(logr.fit(X_train, y_train).score(X_test, y_test)))\n",
    "print('Testing on Sample: ' + str(logr.fit(features, y).score(features, y)))\n",
    "\n",
    "# Cross validating using 10 folds  \n",
    "from sklearn.model_selection import cross_val_score\n",
    "print(cross_val_score(logr, features, y, cv=10))\n",
    "\n",
    "from sklearn.metrics import classification_report\n",
    "print('Logistic regression report :')\n",
    "print(classification_report(y_test, logr.predict(X_test)))\n",
    "\n",
    "#AUC \n",
    "probs = logr.predict_proba(X_test)\n",
    "probs = probs[:, 1]\n",
    "# calculate AUC\n",
    "auc = roc_auc_score(y_test, probs)\n",
    "print('AUC: %.3f' % auc)\n",
    "# calculate roc curve\n",
    "fpr, tpr, thresholds = roc_curve(y_test, probs, pos_label= 1 )\n",
    "plt.plot([0, 1], [0, 1], linestyle='--')\n",
    "# plot the roc curve for the model\n",
    "plt.plot(fpr, tpr, marker='.')\n",
    "# show the plot\n",
    "plt.show()"
   ]
  },
  {
   "cell_type": "markdown",
   "metadata": {},
   "source": [
    "## 4.SVM Classifyer "
   ]
  },
  {
   "cell_type": "code",
   "execution_count": 37,
   "metadata": {
    "collapsed": true
   },
   "outputs": [
    {
     "name": "stdout",
     "output_type": "stream",
     "text": [
      "Fitting 4 folds for each of 24 candidates, totalling 96 fits\n"
     ]
    },
    {
     "name": "stderr",
     "output_type": "stream",
     "text": [
      "[Parallel(n_jobs=-1)]: Using backend LokyBackend with 4 concurrent workers.\n"
     ]
    },
    {
     "ename": "KeyboardInterrupt",
     "evalue": "",
     "output_type": "error",
     "traceback": [
      "\u001b[0;31m---------------------------------------------------------------------------\u001b[0m",
      "\u001b[0;31mKeyboardInterrupt\u001b[0m                         Traceback (most recent call last)",
      "\u001b[0;32m<ipython-input-37-8e052aa2f3aa>\u001b[0m in \u001b[0;36m<module>\u001b[0;34m\u001b[0m\n\u001b[1;32m     11\u001b[0m \u001b[0;34m\u001b[0m\u001b[0m\n\u001b[1;32m     12\u001b[0m \u001b[0;31m#Fit the grid\u001b[0m\u001b[0;34m\u001b[0m\u001b[0;34m\u001b[0m\u001b[0;34m\u001b[0m\u001b[0m\n\u001b[0;32m---> 13\u001b[0;31m \u001b[0msvc_grid\u001b[0m\u001b[0;34m.\u001b[0m\u001b[0mfit\u001b[0m\u001b[0;34m(\u001b[0m\u001b[0mfeatures\u001b[0m\u001b[0;34m,\u001b[0m\u001b[0my\u001b[0m\u001b[0;34m)\u001b[0m\u001b[0;34m\u001b[0m\u001b[0;34m\u001b[0m\u001b[0m\n\u001b[0m\u001b[1;32m     14\u001b[0m \u001b[0;34m\u001b[0m\u001b[0m\n\u001b[1;32m     15\u001b[0m \u001b[0;31m#return best parameters and best score\u001b[0m\u001b[0;34m\u001b[0m\u001b[0;34m\u001b[0m\u001b[0;34m\u001b[0m\u001b[0m\n",
      "\u001b[0;32m/Library/Frameworks/Python.framework/Versions/3.7/lib/python3.7/site-packages/sklearn/model_selection/_search.py\u001b[0m in \u001b[0;36mfit\u001b[0;34m(self, X, y, groups, **fit_params)\u001b[0m\n\u001b[1;32m    720\u001b[0m                 \u001b[0;32mreturn\u001b[0m \u001b[0mresults_container\u001b[0m\u001b[0;34m[\u001b[0m\u001b[0;36m0\u001b[0m\u001b[0;34m]\u001b[0m\u001b[0;34m\u001b[0m\u001b[0;34m\u001b[0m\u001b[0m\n\u001b[1;32m    721\u001b[0m \u001b[0;34m\u001b[0m\u001b[0m\n\u001b[0;32m--> 722\u001b[0;31m             \u001b[0mself\u001b[0m\u001b[0;34m.\u001b[0m\u001b[0m_run_search\u001b[0m\u001b[0;34m(\u001b[0m\u001b[0mevaluate_candidates\u001b[0m\u001b[0;34m)\u001b[0m\u001b[0;34m\u001b[0m\u001b[0;34m\u001b[0m\u001b[0m\n\u001b[0m\u001b[1;32m    723\u001b[0m \u001b[0;34m\u001b[0m\u001b[0m\n\u001b[1;32m    724\u001b[0m         \u001b[0mresults\u001b[0m \u001b[0;34m=\u001b[0m \u001b[0mresults_container\u001b[0m\u001b[0;34m[\u001b[0m\u001b[0;36m0\u001b[0m\u001b[0;34m]\u001b[0m\u001b[0;34m\u001b[0m\u001b[0;34m\u001b[0m\u001b[0m\n",
      "\u001b[0;32m/Library/Frameworks/Python.framework/Versions/3.7/lib/python3.7/site-packages/sklearn/model_selection/_search.py\u001b[0m in \u001b[0;36m_run_search\u001b[0;34m(self, evaluate_candidates)\u001b[0m\n\u001b[1;32m   1189\u001b[0m     \u001b[0;32mdef\u001b[0m \u001b[0m_run_search\u001b[0m\u001b[0;34m(\u001b[0m\u001b[0mself\u001b[0m\u001b[0;34m,\u001b[0m \u001b[0mevaluate_candidates\u001b[0m\u001b[0;34m)\u001b[0m\u001b[0;34m:\u001b[0m\u001b[0;34m\u001b[0m\u001b[0;34m\u001b[0m\u001b[0m\n\u001b[1;32m   1190\u001b[0m         \u001b[0;34m\"\"\"Search all candidates in param_grid\"\"\"\u001b[0m\u001b[0;34m\u001b[0m\u001b[0;34m\u001b[0m\u001b[0m\n\u001b[0;32m-> 1191\u001b[0;31m         \u001b[0mevaluate_candidates\u001b[0m\u001b[0;34m(\u001b[0m\u001b[0mParameterGrid\u001b[0m\u001b[0;34m(\u001b[0m\u001b[0mself\u001b[0m\u001b[0;34m.\u001b[0m\u001b[0mparam_grid\u001b[0m\u001b[0;34m)\u001b[0m\u001b[0;34m)\u001b[0m\u001b[0;34m\u001b[0m\u001b[0;34m\u001b[0m\u001b[0m\n\u001b[0m\u001b[1;32m   1192\u001b[0m \u001b[0;34m\u001b[0m\u001b[0m\n\u001b[1;32m   1193\u001b[0m \u001b[0;34m\u001b[0m\u001b[0m\n",
      "\u001b[0;32m/Library/Frameworks/Python.framework/Versions/3.7/lib/python3.7/site-packages/sklearn/model_selection/_search.py\u001b[0m in \u001b[0;36mevaluate_candidates\u001b[0;34m(candidate_params)\u001b[0m\n\u001b[1;32m    709\u001b[0m                                \u001b[0;32mfor\u001b[0m \u001b[0mparameters\u001b[0m\u001b[0;34m,\u001b[0m \u001b[0;34m(\u001b[0m\u001b[0mtrain\u001b[0m\u001b[0;34m,\u001b[0m \u001b[0mtest\u001b[0m\u001b[0;34m)\u001b[0m\u001b[0;34m\u001b[0m\u001b[0;34m\u001b[0m\u001b[0m\n\u001b[1;32m    710\u001b[0m                                in product(candidate_params,\n\u001b[0;32m--> 711\u001b[0;31m                                           cv.split(X, y, groups)))\n\u001b[0m\u001b[1;32m    712\u001b[0m \u001b[0;34m\u001b[0m\u001b[0m\n\u001b[1;32m    713\u001b[0m                 \u001b[0mall_candidate_params\u001b[0m\u001b[0;34m.\u001b[0m\u001b[0mextend\u001b[0m\u001b[0;34m(\u001b[0m\u001b[0mcandidate_params\u001b[0m\u001b[0;34m)\u001b[0m\u001b[0;34m\u001b[0m\u001b[0;34m\u001b[0m\u001b[0m\n",
      "\u001b[0;32m/Library/Frameworks/Python.framework/Versions/3.7/lib/python3.7/site-packages/sklearn/externals/joblib/parallel.py\u001b[0m in \u001b[0;36m__call__\u001b[0;34m(self, iterable)\u001b[0m\n\u001b[1;32m    928\u001b[0m \u001b[0;34m\u001b[0m\u001b[0m\n\u001b[1;32m    929\u001b[0m             \u001b[0;32mwith\u001b[0m \u001b[0mself\u001b[0m\u001b[0;34m.\u001b[0m\u001b[0m_backend\u001b[0m\u001b[0;34m.\u001b[0m\u001b[0mretrieval_context\u001b[0m\u001b[0;34m(\u001b[0m\u001b[0;34m)\u001b[0m\u001b[0;34m:\u001b[0m\u001b[0;34m\u001b[0m\u001b[0;34m\u001b[0m\u001b[0m\n\u001b[0;32m--> 930\u001b[0;31m                 \u001b[0mself\u001b[0m\u001b[0;34m.\u001b[0m\u001b[0mretrieve\u001b[0m\u001b[0;34m(\u001b[0m\u001b[0;34m)\u001b[0m\u001b[0;34m\u001b[0m\u001b[0;34m\u001b[0m\u001b[0m\n\u001b[0m\u001b[1;32m    931\u001b[0m             \u001b[0;31m# Make sure that we get a last message telling us we are done\u001b[0m\u001b[0;34m\u001b[0m\u001b[0;34m\u001b[0m\u001b[0;34m\u001b[0m\u001b[0m\n\u001b[1;32m    932\u001b[0m             \u001b[0melapsed_time\u001b[0m \u001b[0;34m=\u001b[0m \u001b[0mtime\u001b[0m\u001b[0;34m.\u001b[0m\u001b[0mtime\u001b[0m\u001b[0;34m(\u001b[0m\u001b[0;34m)\u001b[0m \u001b[0;34m-\u001b[0m \u001b[0mself\u001b[0m\u001b[0;34m.\u001b[0m\u001b[0m_start_time\u001b[0m\u001b[0;34m\u001b[0m\u001b[0;34m\u001b[0m\u001b[0m\n",
      "\u001b[0;32m/Library/Frameworks/Python.framework/Versions/3.7/lib/python3.7/site-packages/sklearn/externals/joblib/parallel.py\u001b[0m in \u001b[0;36mretrieve\u001b[0;34m(self)\u001b[0m\n\u001b[1;32m    831\u001b[0m             \u001b[0;32mtry\u001b[0m\u001b[0;34m:\u001b[0m\u001b[0;34m\u001b[0m\u001b[0;34m\u001b[0m\u001b[0m\n\u001b[1;32m    832\u001b[0m                 \u001b[0;32mif\u001b[0m \u001b[0mgetattr\u001b[0m\u001b[0;34m(\u001b[0m\u001b[0mself\u001b[0m\u001b[0;34m.\u001b[0m\u001b[0m_backend\u001b[0m\u001b[0;34m,\u001b[0m \u001b[0;34m'supports_timeout'\u001b[0m\u001b[0;34m,\u001b[0m \u001b[0;32mFalse\u001b[0m\u001b[0;34m)\u001b[0m\u001b[0;34m:\u001b[0m\u001b[0;34m\u001b[0m\u001b[0;34m\u001b[0m\u001b[0m\n\u001b[0;32m--> 833\u001b[0;31m                     \u001b[0mself\u001b[0m\u001b[0;34m.\u001b[0m\u001b[0m_output\u001b[0m\u001b[0;34m.\u001b[0m\u001b[0mextend\u001b[0m\u001b[0;34m(\u001b[0m\u001b[0mjob\u001b[0m\u001b[0;34m.\u001b[0m\u001b[0mget\u001b[0m\u001b[0;34m(\u001b[0m\u001b[0mtimeout\u001b[0m\u001b[0;34m=\u001b[0m\u001b[0mself\u001b[0m\u001b[0;34m.\u001b[0m\u001b[0mtimeout\u001b[0m\u001b[0;34m)\u001b[0m\u001b[0;34m)\u001b[0m\u001b[0;34m\u001b[0m\u001b[0;34m\u001b[0m\u001b[0m\n\u001b[0m\u001b[1;32m    834\u001b[0m                 \u001b[0;32melse\u001b[0m\u001b[0;34m:\u001b[0m\u001b[0;34m\u001b[0m\u001b[0;34m\u001b[0m\u001b[0m\n\u001b[1;32m    835\u001b[0m                     \u001b[0mself\u001b[0m\u001b[0;34m.\u001b[0m\u001b[0m_output\u001b[0m\u001b[0;34m.\u001b[0m\u001b[0mextend\u001b[0m\u001b[0;34m(\u001b[0m\u001b[0mjob\u001b[0m\u001b[0;34m.\u001b[0m\u001b[0mget\u001b[0m\u001b[0;34m(\u001b[0m\u001b[0;34m)\u001b[0m\u001b[0;34m)\u001b[0m\u001b[0;34m\u001b[0m\u001b[0;34m\u001b[0m\u001b[0m\n",
      "\u001b[0;32m/Library/Frameworks/Python.framework/Versions/3.7/lib/python3.7/site-packages/sklearn/externals/joblib/_parallel_backends.py\u001b[0m in \u001b[0;36mwrap_future_result\u001b[0;34m(future, timeout)\u001b[0m\n\u001b[1;32m    519\u001b[0m         AsyncResults.get from multiprocessing.\"\"\"\n\u001b[1;32m    520\u001b[0m         \u001b[0;32mtry\u001b[0m\u001b[0;34m:\u001b[0m\u001b[0;34m\u001b[0m\u001b[0;34m\u001b[0m\u001b[0m\n\u001b[0;32m--> 521\u001b[0;31m             \u001b[0;32mreturn\u001b[0m \u001b[0mfuture\u001b[0m\u001b[0;34m.\u001b[0m\u001b[0mresult\u001b[0m\u001b[0;34m(\u001b[0m\u001b[0mtimeout\u001b[0m\u001b[0;34m=\u001b[0m\u001b[0mtimeout\u001b[0m\u001b[0;34m)\u001b[0m\u001b[0;34m\u001b[0m\u001b[0;34m\u001b[0m\u001b[0m\n\u001b[0m\u001b[1;32m    522\u001b[0m         \u001b[0;32mexcept\u001b[0m \u001b[0mLokyTimeoutError\u001b[0m\u001b[0;34m:\u001b[0m\u001b[0;34m\u001b[0m\u001b[0;34m\u001b[0m\u001b[0m\n\u001b[1;32m    523\u001b[0m             \u001b[0;32mraise\u001b[0m \u001b[0mTimeoutError\u001b[0m\u001b[0;34m(\u001b[0m\u001b[0;34m)\u001b[0m\u001b[0;34m\u001b[0m\u001b[0;34m\u001b[0m\u001b[0m\n",
      "\u001b[0;32m/Library/Frameworks/Python.framework/Versions/3.7/lib/python3.7/concurrent/futures/_base.py\u001b[0m in \u001b[0;36mresult\u001b[0;34m(self, timeout)\u001b[0m\n\u001b[1;32m    425\u001b[0m                 \u001b[0;32mreturn\u001b[0m \u001b[0mself\u001b[0m\u001b[0;34m.\u001b[0m\u001b[0m__get_result\u001b[0m\u001b[0;34m(\u001b[0m\u001b[0;34m)\u001b[0m\u001b[0;34m\u001b[0m\u001b[0;34m\u001b[0m\u001b[0m\n\u001b[1;32m    426\u001b[0m \u001b[0;34m\u001b[0m\u001b[0m\n\u001b[0;32m--> 427\u001b[0;31m             \u001b[0mself\u001b[0m\u001b[0;34m.\u001b[0m\u001b[0m_condition\u001b[0m\u001b[0;34m.\u001b[0m\u001b[0mwait\u001b[0m\u001b[0;34m(\u001b[0m\u001b[0mtimeout\u001b[0m\u001b[0;34m)\u001b[0m\u001b[0;34m\u001b[0m\u001b[0;34m\u001b[0m\u001b[0m\n\u001b[0m\u001b[1;32m    428\u001b[0m \u001b[0;34m\u001b[0m\u001b[0m\n\u001b[1;32m    429\u001b[0m             \u001b[0;32mif\u001b[0m \u001b[0mself\u001b[0m\u001b[0;34m.\u001b[0m\u001b[0m_state\u001b[0m \u001b[0;32min\u001b[0m \u001b[0;34m[\u001b[0m\u001b[0mCANCELLED\u001b[0m\u001b[0;34m,\u001b[0m \u001b[0mCANCELLED_AND_NOTIFIED\u001b[0m\u001b[0;34m]\u001b[0m\u001b[0;34m:\u001b[0m\u001b[0;34m\u001b[0m\u001b[0;34m\u001b[0m\u001b[0m\n",
      "\u001b[0;32m/Library/Frameworks/Python.framework/Versions/3.7/lib/python3.7/threading.py\u001b[0m in \u001b[0;36mwait\u001b[0;34m(self, timeout)\u001b[0m\n\u001b[1;32m    294\u001b[0m         \u001b[0;32mtry\u001b[0m\u001b[0;34m:\u001b[0m    \u001b[0;31m# restore state no matter what (e.g., KeyboardInterrupt)\u001b[0m\u001b[0;34m\u001b[0m\u001b[0;34m\u001b[0m\u001b[0m\n\u001b[1;32m    295\u001b[0m             \u001b[0;32mif\u001b[0m \u001b[0mtimeout\u001b[0m \u001b[0;32mis\u001b[0m \u001b[0;32mNone\u001b[0m\u001b[0;34m:\u001b[0m\u001b[0;34m\u001b[0m\u001b[0;34m\u001b[0m\u001b[0m\n\u001b[0;32m--> 296\u001b[0;31m                 \u001b[0mwaiter\u001b[0m\u001b[0;34m.\u001b[0m\u001b[0macquire\u001b[0m\u001b[0;34m(\u001b[0m\u001b[0;34m)\u001b[0m\u001b[0;34m\u001b[0m\u001b[0;34m\u001b[0m\u001b[0m\n\u001b[0m\u001b[1;32m    297\u001b[0m                 \u001b[0mgotit\u001b[0m \u001b[0;34m=\u001b[0m \u001b[0;32mTrue\u001b[0m\u001b[0;34m\u001b[0m\u001b[0;34m\u001b[0m\u001b[0m\n\u001b[1;32m    298\u001b[0m             \u001b[0;32melse\u001b[0m\u001b[0;34m:\u001b[0m\u001b[0;34m\u001b[0m\u001b[0;34m\u001b[0m\u001b[0m\n",
      "\u001b[0;31mKeyboardInterrupt\u001b[0m: "
     ]
    }
   ],
   "source": [
    "# SVM gridsearch for best parameters \n",
    "from sklearn.svm import SVC\n",
    "\n",
    "svm = SVC()\n",
    "\n",
    "# new parameters for this model\n",
    "svc_params = [{'C': [.000001,.00001,.001,.01,.1], 'gamma': [.0001,.001,.01,.1]}]\n",
    "\n",
    "# setting up the grid\n",
    "svc_grid = GridSearchCV(svm, svc_params, cv=4, verbose=1, n_jobs=-1)\n",
    "\n",
    "#Fit the grid\n",
    "svc_grid.fit(features,y)\n",
    "\n",
    "#return best parameters and best score\n",
    "\n",
    "print(svc_grid.best_params_)\n",
    "print(svc_grid.best_score_)"
   ]
  },
  {
   "cell_type": "code",
   "execution_count": 23,
   "metadata": {
    "scrolled": true
   },
   "outputs": [
    {
     "name": "stdout",
     "output_type": "stream",
     "text": [
      "With 20% Holdout: 0.7939365389144991\n",
      "Testing on Sample: 0.807354267332463\n",
      "[0.78875467 0.79477775 0.80527609 0.79817625 0.80580793]\n",
      "SVM report :\n",
      "              precision    recall  f1-score   support\n",
      "\n",
      "           0       0.86      0.80      0.83     17201\n",
      "           1       0.75      0.82      0.78     12518\n",
      "\n",
      "   micro avg       0.80      0.80      0.80     29719\n",
      "   macro avg       0.80      0.81      0.80     29719\n",
      "weighted avg       0.81      0.80      0.81     29719\n",
      "\n"
     ]
    }
   ],
   "source": [
    "# SVM model using features \n",
    "from sklearn.svm import SVC\n",
    "svm = SVC(C=.01, gamma=.01)\n",
    "\n",
    "\n",
    "# AttributeError: predict_proba is not available when  probability=False -> ERROR FOR SVM AUC \n",
    "\n",
    "\n",
    "svm.fit(features,y)\n",
    "\n",
    "# Use train_test_split to create the necessary training and test groups\n",
    "X_train, X_test, y_train, y_test = train_test_split(features,y, test_size=0.2, random_state=20)\n",
    "print('With 20% Holdout: ' + str(svm.fit(X_train, y_train).score(X_test, y_test)))\n",
    "print('Testing on Sample: ' + str(svm.fit(features, y).score(features, y)))\n",
    "\n",
    "# Cross validating using 10 folds  \n",
    "from sklearn.model_selection import cross_val_score\n",
    "print(cross_val_score(svm, features,y, cv=5))\n",
    "\n",
    "from sklearn.metrics import classification_report\n",
    "print('SVM report :')\n",
    "print(classification_report(y_test, svm.predict(X_test)))\n",
    "\n"
   ]
  },
  {
   "cell_type": "markdown",
   "metadata": {},
   "source": [
    "## 5.Gradient Boosting"
   ]
  },
  {
   "cell_type": "code",
   "execution_count": 46,
   "metadata": {},
   "outputs": [
    {
     "name": "stdout",
     "output_type": "stream",
     "text": [
      "Fitting 3 folds for each of 30 candidates, totalling 90 fits\n"
     ]
    },
    {
     "name": "stderr",
     "output_type": "stream",
     "text": [
      "[Parallel(n_jobs=-1)]: Using backend LokyBackend with 4 concurrent workers.\n",
      "[Parallel(n_jobs=-1)]: Done  42 tasks      | elapsed: 13.3min\n",
      "[Parallel(n_jobs=-1)]: Done  90 out of  90 | elapsed: 61.2min finished\n"
     ]
    },
    {
     "name": "stdout",
     "output_type": "stream",
     "text": [
      "{'max_depth': 6, 'n_estimators': 100}\n",
      "0.8433180343755468\n"
     ]
    }
   ],
   "source": [
    "# Parameters to test in gridsearch cv \n",
    "\n",
    "params = {'n_estimators': [50, 100, 150, 200, 300, 500],\n",
    "                           \n",
    "          'max_depth': [4,5,6,7,8],\n",
    "         }\n",
    "\n",
    "# Initialize and fit the model.\n",
    "gb = ensemble.GradientBoostingClassifier()\n",
    "\n",
    "# Use the grid\n",
    "gb_grid = GridSearchCV(gb, params, cv=3, verbose=1, n_jobs=-1)\n",
    "\n",
    "# Fit the grid\n",
    "gb_grid.fit(features, y)\n",
    "\n",
    "# Return best parameters and best score\n",
    "print(gb_grid.best_params_)\n",
    "print(gb_grid.best_score_)"
   ]
  },
  {
   "cell_type": "code",
   "execution_count": 47,
   "metadata": {},
   "outputs": [
    {
     "name": "stdout",
     "output_type": "stream",
     "text": [
      "With 20% Holdout: 0.8419866078939399\n",
      "Testing on Sample: 0.8494757527221826\n",
      "[0.83674293 0.84313594 0.82267833 0.84831763 0.86217107 0.84817282\n",
      " 0.84238509 0.84595195 0.86122888 0.84985531]\n",
      "Gradient Boosting report :\n",
      "              precision    recall  f1-score   support\n",
      "\n",
      "           0       0.90      0.83      0.86     17201\n",
      "           1       0.79      0.88      0.83     12518\n",
      "\n",
      "   micro avg       0.85      0.85      0.85     29719\n",
      "   macro avg       0.85      0.85      0.85     29719\n",
      "weighted avg       0.85      0.85      0.85     29719\n",
      "\n",
      "AUC: 0.928\n"
     ]
    },
    {
     "data": {
      "image/png": "[encoded data removed]",
      "text/plain": [
       "<Figure size 432x288 with 1 Axes>"
      ]
     },
     "metadata": {
      "needs_background": "light"
     },
     "output_type": "display_data"
    }
   ],
   "source": [
    "# Gradient boosting model \n",
    "# Best Parameters from gridsearchcv \n",
    "params = {'n_estimators': 100,\n",
    "          'max_depth': 6,\n",
    "          'loss': 'deviance'}\n",
    "\n",
    "# Initialize and fit the model.\n",
    "gb = ensemble.GradientBoostingClassifier(**params)\n",
    "\n",
    "gb.fit(features,y)\n",
    "\n",
    "# Use train_test_split to create the necessary training and test groups\n",
    "X_train, X_test, y_train, y_test = train_test_split(features,y, test_size=0.2, random_state=20)\n",
    "print('With 20% Holdout: ' + str(gb.fit(X_train, y_train).score(X_test, y_test)))\n",
    "print('Testing on Sample: ' + str(gb.fit(features, y).score(features, y)))\n",
    "\n",
    "# Cross validating using 10 folds  \n",
    "from sklearn.model_selection import cross_val_score\n",
    "print(cross_val_score(gb, pca_X, y, cv=10))\n",
    "\n",
    "from sklearn.metrics import classification_report\n",
    "print('Gradient Boosting report :')\n",
    "print(classification_report(y_test, gb.predict(X_test)))\n",
    "\n",
    "#AUC \n",
    "probs = gb.predict_proba(X_test)\n",
    "probs = probs[:, 1]\n",
    "# calculate AUC\n",
    "auc = roc_auc_score(y_test, probs)\n",
    "print('AUC: %.3f' % auc)\n",
    "# calculate roc curve\n",
    "fpr, tpr, thresholds = roc_curve(y_test, probs, pos_label= 1 )\n",
    "plt.plot([0, 1], [0, 1], linestyle='--')\n",
    "# plot the roc curve for the model\n",
    "plt.plot(fpr, tpr, marker='.')\n",
    "# show the plot\n",
    "plt.show()\n"
   ]
  },
  {
   "cell_type": "markdown",
   "metadata": {},
   "source": [
    "## Decision Tree"
   ]
  },
  {
   "cell_type": "code",
   "execution_count": 39,
   "metadata": {},
   "outputs": [
    {
     "name": "stdout",
     "output_type": "stream",
     "text": [
      "Fitting 5 folds for each of 16 candidates, totalling 80 fits\n"
     ]
    },
    {
     "name": "stderr",
     "output_type": "stream",
     "text": [
      "[Parallel(n_jobs=-1)]: Using backend LokyBackend with 4 concurrent workers.\n",
      "[Parallel(n_jobs=-1)]: Done  42 tasks      | elapsed:    7.6s\n",
      "[Parallel(n_jobs=-1)]: Done  80 out of  80 | elapsed:   11.9s finished\n"
     ]
    },
    {
     "name": "stdout",
     "output_type": "stream",
     "text": [
      "{'max_depth': 8, 'max_features': 8}\n",
      "0.8398791337469884\n"
     ]
    }
   ],
   "source": [
    "# Decision Tree Gridsearch \n",
    "from sklearn.tree import DecisionTreeClassifier\n",
    "\n",
    "\n",
    "# Initialize the model\n",
    "decision_tree = DecisionTreeClassifier()\n",
    "\n",
    "# Set parameters for dtc\n",
    "params = [{'max_features': [2, 4, 6, 8],\n",
    "             'max_depth': [2, 4, 6, 8]}]\n",
    "\n",
    "# Search for the best paramters. \n",
    "decision_tree_grid = GridSearchCV(decision_tree, params, cv=5, verbose=1, n_jobs=-1)\n",
    "\n",
    "# Fit the grid and obtain results\n",
    "decision_tree_grid.fit(features, y)\n",
    "\n",
    "# Return best parameters and best score\n",
    "print(decision_tree_grid.best_params_)\n",
    "print(decision_tree_grid.best_score_)"
   ]
  },
  {
   "cell_type": "code",
   "execution_count": 40,
   "metadata": {},
   "outputs": [
    {
     "name": "stdout",
     "output_type": "stream",
     "text": [
      "With 20% Holdout: 0.8408762071402134\n",
      "Testing on Sample: 0.8404578919741039\n",
      "[0.82940781 0.83061911 0.81769852 0.84414536 0.85577764 0.83888552\n",
      " 0.83552056 0.83457837 0.84951881 0.84514436]\n",
      "Decision Tree report :\n",
      "              precision    recall  f1-score   support\n",
      "\n",
      "           0       0.88      0.84      0.86     17201\n",
      "           1       0.79      0.84      0.82     12518\n",
      "\n",
      "   micro avg       0.84      0.84      0.84     29719\n",
      "   macro avg       0.84      0.84      0.84     29719\n",
      "weighted avg       0.84      0.84      0.84     29719\n",
      "\n",
      "AUC: 0.919\n"
     ]
    },
    {
     "data": {
      "image/png": "[encoded data removed]",
      "text/plain": [
       "<Figure size 432x288 with 1 Axes>"
      ]
     },
     "metadata": {
      "needs_background": "light"
     },
     "output_type": "display_data"
    }
   ],
   "source": [
    "from sklearn.metrics import roc_curve\n",
    "from sklearn.metrics import roc_auc_score\n",
    "from matplotlib import pyplot\n",
    "\n",
    "decision_tree = DecisionTreeClassifier( \n",
    "    criterion='entropy',\n",
    "    max_features=8,\n",
    "    max_depth=8)\n",
    "\n",
    "\n",
    "from sklearn.model_selection import train_test_split\n",
    "# Use train_test_split to create the necessary training and test groups\n",
    "X_train, X_test, y_train, y_test = train_test_split(features,y, test_size=0.2, random_state=20)\n",
    "print('With 20% Holdout: ' + str(decision_tree.fit(X_train, y_train).score(X_test, y_test)))\n",
    "print('Testing on Sample: ' + str(decision_tree.fit(features, y).score(features, y)))\n",
    "\n",
    "\n",
    "# Cross validating using 10 folds  \n",
    "from sklearn.model_selection import cross_val_score\n",
    "print(cross_val_score(decision_tree, features, y, cv=10))\n",
    "\n",
    "\n",
    "from sklearn.metrics import classification_report\n",
    "print('Decision Tree report :')\n",
    "print(classification_report(y_test, decision_tree.predict(X_test)))\n",
    "\n",
    "#AUC \n",
    "probs = decision_tree.predict_proba(X_test)\n",
    "probs = probs[:, 1]\n",
    "# calculate AUC\n",
    "auc = roc_auc_score(y_test, probs)\n",
    "print('AUC: %.3f' % auc)\n",
    "# calculate roc curve\n",
    "fpr, tpr, thresholds = roc_curve(y_test, probs, pos_label= 1)\n",
    "plt.plot([0, 1], [0, 1], linestyle='--')\n",
    "# plot the roc curve for the model\n",
    "plt.plot(fpr, tpr, marker='.')\n",
    "# show the plot\n",
    "plt.show()"
   ]
  },
  {
   "cell_type": "code",
   "execution_count": 41,
   "metadata": {},
   "outputs": [
    {
     "name": "stdout",
     "output_type": "stream",
     "text": [
      "With 20% Holdout: 0.6164743093643796\n",
      "Testing on Sample: 0.6193924384564653\n",
      "[0.62395693 0.619179   0.62725437 0.61776581 0.61525002 0.61565381\n",
      " 0.62090316 0.61235615 0.62406622 0.61753819]\n",
      "Native Bayes Classification report :\n",
      "              precision    recall  f1-score   support\n",
      "\n",
      "           0       0.61      0.94      0.74     17201\n",
      "           1       0.68      0.17      0.27     12518\n",
      "\n",
      "   micro avg       0.62      0.62      0.62     29719\n",
      "   macro avg       0.65      0.56      0.50     29719\n",
      "weighted avg       0.64      0.62      0.54     29719\n",
      "\n",
      "AUC: 0.555\n"
     ]
    },
    {
     "data": {
      "image/png": "[encoded data removed]",
      "text/plain": [
       "<Figure size 432x288 with 1 Axes>"
      ]
     },
     "metadata": {
      "needs_background": "light"
     },
     "output_type": "display_data"
    }
   ],
   "source": [
    "# Native Bayes \n",
    "\n",
    "from sklearn.naive_bayes import BernoulliNB\n",
    "from sklearn.model_selection import train_test_split\n",
    "\n",
    "\n",
    "# Instantiate our model and Fit our model to the data.\n",
    "bnb = BernoulliNB()\n",
    "bnb.fit(features, y)\n",
    "\n",
    "# Use train_test_split to create the necessary training and test groups\n",
    "X_train, X_test, y_train, y_test = train_test_split(features,y, test_size=0.2, random_state=20)\n",
    "print('With 20% Holdout: ' + str(bnb.fit(X_train, y_train).score(X_test, y_test)))\n",
    "print('Testing on Sample: ' + str(bnb.fit(features, y).score(features, y)))\n",
    "\n",
    "# Cross validating using 10 folds  \n",
    "from sklearn.model_selection import cross_val_score\n",
    "print(cross_val_score(bnb,features, y, cv=10))\n",
    "\n",
    "#Classification report \n",
    "from sklearn.metrics import classification_report\n",
    "print('Native Bayes Classification report :')\n",
    "print(classification_report(y_test, bnb.predict(X_test)))\n",
    "\n",
    "#AUC \n",
    "probs = bnb.predict_proba(X_test)\n",
    "probs = probs[:, 1]\n",
    "# calculate AUC\n",
    "auc = roc_auc_score(y_test, probs)\n",
    "print('AUC: %.3f' % auc)\n",
    "# calculate roc curve\n",
    "fpr, tpr, thresholds = roc_curve(y_test, probs, pos_label= 1)\n",
    "plt.plot([0, 1], [0, 1], linestyle='--')\n",
    "# plot the roc curve for the model\n",
    "plt.plot(fpr, tpr, marker='.')\n",
    "# show the plot\n",
    "plt.show()\n"
   ]
  },
  {
   "cell_type": "markdown",
   "metadata": {},
   "source": [
    "# Models Using PCA"
   ]
  },
  {
   "cell_type": "code",
   "execution_count": 13,
   "metadata": {},
   "outputs": [],
   "source": [
    "# PCA \n",
    "\n",
    "# PCA for 10 components \n",
    "from sklearn.decomposition import PCA\n",
    "\n",
    "y = census['lowerpov']\n",
    "X = census.drop(['lowerpov'],1)\n",
    "\n",
    "# Use PCA to create new columns \n",
    "pca = PCA(n_components=10)\n",
    "principalComponents = pca.fit_transform(X)\n",
    "pca_X = pd.DataFrame(data = principalComponents, \n",
    "                     columns = ['principal component 1', 'principal component 2', 'principal component 3', \n",
    "                                'principal component 4','principal component 5','principal component 6', \n",
    "                               'principal component 7', 'principal component 8','principal component 9','principal component 10'])\n",
    "\n"
   ]
  },
  {
   "cell_type": "markdown",
   "metadata": {},
   "source": [
    "## 1) Random Forest"
   ]
  },
  {
   "cell_type": "code",
   "execution_count": 29,
   "metadata": {},
   "outputs": [
    {
     "name": "stdout",
     "output_type": "stream",
     "text": [
      "Fitting 3 folds for each of 64 candidates, totalling 192 fits\n"
     ]
    },
    {
     "name": "stderr",
     "output_type": "stream",
     "text": [
      "[Parallel(n_jobs=-1)]: Using backend LokyBackend with 4 concurrent workers.\n",
      "[Parallel(n_jobs=-1)]: Done  24 tasks      | elapsed: 14.2min\n",
      "[Parallel(n_jobs=-1)]: Done 120 tasks      | elapsed: 124.7min\n",
      "[Parallel(n_jobs=-1)]: Done 192 out of 192 | elapsed: 218.7min finished\n"
     ]
    },
    {
     "name": "stdout",
     "output_type": "stream",
     "text": [
      "{'max_depth': 8, 'max_features': 6, 'n_estimators': 750}\n",
      "0.8403300267843924\n"
     ]
    }
   ],
   "source": [
    "# Model 3: Random Forest gridsearchcv, took 300 min \n",
    "from sklearn import ensemble\n",
    "from sklearn.model_selection import GridSearchCV\n",
    "rfc = ensemble.RandomForestClassifier()\n",
    "\n",
    "param_grid = { \n",
    "    'n_estimators': [15, 200, 500, 750],\n",
    "    'max_features': [2,4,6,7],\n",
    "    'max_depth': [5,6,7,8]\n",
    "}\n",
    "\n",
    "\n",
    "grid = GridSearchCV(rfc, param_grid, cv=3, verbose=3, n_jobs=-1)\n",
    "\n",
    "grid.fit(pca_X,y)\n",
    "\n",
    "# Show the best parameter and best score \n",
    "print(grid.best_params_)\n",
    "print( grid.best_score_)"
   ]
  },
  {
   "cell_type": "code",
   "execution_count": 14,
   "metadata": {},
   "outputs": [
    {
     "name": "stdout",
     "output_type": "stream",
     "text": [
      "With 20% Holdout: 0.8372758168175242\n",
      "Testing on Sample: 0.8405722976701616\n",
      "[0.82496046 0.82607086 0.84467849 0.83387732 0.84147655]\n",
      "Random Forest report :\n",
      "              precision    recall  f1-score   support\n",
      "\n",
      "           0       0.89      0.83      0.86     17154\n",
      "           1       0.79      0.87      0.82     12565\n",
      "\n",
      "   micro avg       0.84      0.84      0.84     29719\n",
      "   macro avg       0.84      0.85      0.84     29719\n",
      "weighted avg       0.85      0.84      0.84     29719\n",
      "\n",
      "AUC: 0.923\n"
     ]
    },
    {
     "data": {
      "image/png": "[encoded data removed]",
      "text/plain": [
       "<Figure size 432x288 with 1 Axes>"
      ]
     },
     "metadata": {
      "needs_background": "light"
     },
     "output_type": "display_data"
    }
   ],
   "source": [
    "#Gridsearch results for PCA \n",
    "#{'max_depth': 8, 'max_features': 6, 'n_estimators': 750}\n",
    "#0.8403300267843924\n",
    "\n",
    "\n",
    "# Random forest model using PCA\n",
    "\n",
    "from sklearn import ensemble\n",
    "rfc = ensemble.RandomForestClassifier(n_estimators=750, max_features= 6, max_depth=8)\n",
    "\n",
    "from sklearn.model_selection import train_test_split\n",
    "# Use train_test_split to create the necessary training and test groups\n",
    "X_train, X_test, y_train, y_test = train_test_split(pca_X, y ,test_size=0.2, random_state=100)\n",
    "print('With 20% Holdout: ' + str(rfc.fit(X_train, y_train).score(X_test, y_test)))\n",
    "print('Testing on Sample: ' + str(rfc.fit(pca_X, y).score(pca_X, y)))\n",
    "\n",
    "\n",
    "# Cross validating using 10 folds  \n",
    "from sklearn.model_selection import cross_val_score\n",
    "print(cross_val_score(rfc, pca_X, y, cv=5))\n",
    "\n",
    "\n",
    "from sklearn.metrics import classification_report\n",
    "print('Random Forest report :')\n",
    "print(classification_report(y_test, rfc.predict(X_test)))\n",
    "\n",
    "\n",
    "#AUC \n",
    "probs = rfc.predict_proba(X_test)\n",
    "probs = probs[:, 1]\n",
    "\n",
    "# calculate AUC\n",
    "auc = roc_auc_score(y_test, probs)\n",
    "print('AUC: %.3f' % auc)\n",
    "\n",
    "\n",
    "import matplotlib.pyplot as plt\n",
    "import matplotlib.pyplot as plt\n",
    "# calculate roc curve\n",
    "fpr, tpr, thresholds = roc_curve(y_test, probs, pos_label= 1 )\n",
    "plt.plot([0, 1], [0, 1], linestyle='--')\n",
    "\n",
    "# plot the roc curve for the model\n",
    "plt.plot(fpr, tpr, marker='.')\n",
    "\n",
    "# show the plot\n",
    "plt.show()"
   ]
  },
  {
   "cell_type": "code",
   "execution_count": null,
   "metadata": {},
   "outputs": [],
   "source": [
    "#AUC \n",
    "probs = rfc.predict_proba(X_test)\n",
    "probs = probs[:, 1]\n",
    "\n",
    "# calculate AUC\n",
    "auc = roc_auc_score(y_test, probs)\n",
    "print('AUC: %.3f' % auc)\n",
    "\n",
    "\n",
    "import matplotlib.pyplot as plt\n",
    "import matplotlib.pyplot as plt\n",
    "# calculate roc curve\n",
    "fpr, tpr, thresholds = roc_curve(y_test, probs, pos_label= 1 )\n",
    "plt.plot([0, 1], [0, 1], linestyle='--')\n",
    "\n",
    "# plot the roc curve for the model\n",
    "plt.plot(fpr, tpr, marker='.')\n",
    "\n",
    "# show the plot\n",
    "plt.show()"
   ]
  },
  {
   "cell_type": "markdown",
   "metadata": {},
   "source": [
    "## 2) K-Nearest Neighbor \n"
   ]
  },
  {
   "cell_type": "code",
   "execution_count": 31,
   "metadata": {},
   "outputs": [
    {
     "name": "stdout",
     "output_type": "stream",
     "text": [
      "Fitting 7 folds for each of 7 candidates, totalling 49 fits\n"
     ]
    },
    {
     "name": "stderr",
     "output_type": "stream",
     "text": [
      "[Parallel(n_jobs=-1)]: Using backend LokyBackend with 4 concurrent workers.\n",
      "[Parallel(n_jobs=-1)]: Done  42 tasks      | elapsed:  6.2min\n",
      "[Parallel(n_jobs=-1)]: Done  49 out of  49 | elapsed:  7.3min finished\n"
     ]
    },
    {
     "name": "stdout",
     "output_type": "stream",
     "text": [
      "{'n_neighbors': 25}\n",
      "0.8158673970685223\n"
     ]
    }
   ],
   "source": [
    "# Model 2: KNN gridsearch\n",
    "from sklearn.neighbors import KNeighborsClassifier\n",
    "from sklearn.model_selection import GridSearchCV \n",
    "\n",
    "# Initialize the model\n",
    "knn = KNeighborsClassifier()\n",
    "\n",
    "# Set parameters for KNN\n",
    "# List of values to try \n",
    "knn_params = [{'n_neighbors': [2,3,5,7,10,15,25]}]\n",
    "\n",
    "#GridSearchCV(estimator, param_grid, scoring=None, fit_params=None, \n",
    "    #n_jobs=None, iid=’warn’, refit=True, cv=’warn’, verbose=0, pre_dispatch=‘2*n_jobs’,\n",
    "    #error_score=’raise-deprecating’, return_train_score=’warn’)\n",
    "\n",
    "# Search for the best paramters. \n",
    "knn_grid = GridSearchCV(knn, knn_params, cv=7, verbose=1, n_jobs=-1)\n",
    "\n",
    "# Fit the grid and obtain results\n",
    "knn_grid.fit(pca_X, y)\n",
    "\n",
    "# Return best parameters and best score\n",
    "print(knn_grid.best_params_)\n",
    "print(knn_grid.best_score_)"
   ]
  },
  {
   "cell_type": "code",
   "execution_count": 32,
   "metadata": {},
   "outputs": [
    {
     "name": "stdout",
     "output_type": "stream",
     "text": [
      "With 20% Holdout: 0.816312796527474\n",
      "Testing on Sample: 0.8315948154030446\n",
      "[0.8039031  0.81144011 0.79421265 0.81971736 0.83720304 0.81627297\n",
      " 0.81586917 0.81728246 0.83080961 0.8221953 ]\n",
      "KNN report :\n",
      "              precision    recall  f1-score   support\n",
      "\n",
      "           0       0.90      0.80      0.85     17201\n",
      "           1       0.76      0.88      0.81     12518\n",
      "\n",
      "   micro avg       0.83      0.83      0.83     29719\n",
      "   macro avg       0.83      0.84      0.83     29719\n",
      "weighted avg       0.84      0.83      0.83     29719\n",
      "\n",
      "AUC: 0.911\n"
     ]
    },
    {
     "data": {
      "image/png": "[encoded data removed]",
      "text/plain": [
       "<Figure size 432x288 with 1 Axes>"
      ]
     },
     "metadata": {
      "needs_background": "light"
     },
     "output_type": "display_data"
    }
   ],
   "source": [
    "# Nearest neighbors model \n",
    "knn = KNeighborsClassifier(n_neighbors=25)\n",
    "\n",
    "knn.fit(pca_X,y)\n",
    "\n",
    "# Use train_test_split to create the necessary training and test groups\n",
    "X_train, X_test, y_train, y_test = train_test_split(pca_X,y, test_size=0.2, random_state=20)\n",
    "print('With 20% Holdout: ' + str(knn.fit(X_train, y_train).score(X_test, y_test)))\n",
    "print('Testing on Sample: ' + str(knn.fit(pca_X, y).score(pca_X, y)))\n",
    "\n",
    "# Cross validating using 10 folds  \n",
    "from sklearn.model_selection import cross_val_score\n",
    "print(cross_val_score(knn, pca_X, y, cv=10))\n",
    "\n",
    "from sklearn.metrics import classification_report\n",
    "print('KNN report :')\n",
    "print(classification_report(y_test, knn.predict(X_test)))\n",
    "\n",
    "#AUC \n",
    "probs = knn.predict_proba(X_test)\n",
    "probs = probs[:, 1]\n",
    "# calculate AUC\n",
    "auc = roc_auc_score(y_test, probs)\n",
    "print('AUC: %.3f' % auc)\n",
    "# calculate roc curve\n",
    "fpr, tpr, thresholds = roc_curve(y_test, probs, pos_label= 1)\n",
    "plt.plot([0, 1], [0, 1], linestyle='--')\n",
    "# plot the roc curve for the model\n",
    "plt.plot(fpr, tpr, marker='.')\n",
    "# show the plot\n",
    "plt.show()"
   ]
  },
  {
   "cell_type": "markdown",
   "metadata": {},
   "source": [
    "## 3) Logistic Regression\n"
   ]
  },
  {
   "cell_type": "code",
   "execution_count": 18,
   "metadata": {},
   "outputs": [
    {
     "name": "stdout",
     "output_type": "stream",
     "text": [
      "Fitting 4 folds for each of 8 candidates, totalling 32 fits\n"
     ]
    },
    {
     "name": "stderr",
     "output_type": "stream",
     "text": [
      "[Parallel(n_jobs=1)]: Using backend SequentialBackend with 1 concurrent workers.\n",
      "/Library/Frameworks/Python.framework/Versions/3.7/lib/python3.7/site-packages/sklearn/linear_model/logistic.py:433: FutureWarning: Default solver will be changed to 'lbfgs' in 0.22. Specify a solver to silence this warning.\n",
      "  FutureWarning)\n",
      "/Library/Frameworks/Python.framework/Versions/3.7/lib/python3.7/site-packages/sklearn/linear_model/logistic.py:433: FutureWarning: Default solver will be changed to 'lbfgs' in 0.22. Specify a solver to silence this warning.\n",
      "  FutureWarning)\n",
      "/Library/Frameworks/Python.framework/Versions/3.7/lib/python3.7/site-packages/sklearn/linear_model/logistic.py:433: FutureWarning: Default solver will be changed to 'lbfgs' in 0.22. Specify a solver to silence this warning.\n",
      "  FutureWarning)\n",
      "/Library/Frameworks/Python.framework/Versions/3.7/lib/python3.7/site-packages/sklearn/linear_model/logistic.py:433: FutureWarning: Default solver will be changed to 'lbfgs' in 0.22. Specify a solver to silence this warning.\n",
      "  FutureWarning)\n",
      "/Library/Frameworks/Python.framework/Versions/3.7/lib/python3.7/site-packages/sklearn/linear_model/logistic.py:433: FutureWarning: Default solver will be changed to 'lbfgs' in 0.22. Specify a solver to silence this warning.\n",
      "  FutureWarning)\n",
      "/Library/Frameworks/Python.framework/Versions/3.7/lib/python3.7/site-packages/sklearn/linear_model/logistic.py:433: FutureWarning: Default solver will be changed to 'lbfgs' in 0.22. Specify a solver to silence this warning.\n",
      "  FutureWarning)\n",
      "/Library/Frameworks/Python.framework/Versions/3.7/lib/python3.7/site-packages/sklearn/linear_model/logistic.py:433: FutureWarning: Default solver will be changed to 'lbfgs' in 0.22. Specify a solver to silence this warning.\n",
      "  FutureWarning)\n",
      "/Library/Frameworks/Python.framework/Versions/3.7/lib/python3.7/site-packages/sklearn/linear_model/logistic.py:433: FutureWarning: Default solver will be changed to 'lbfgs' in 0.22. Specify a solver to silence this warning.\n",
      "  FutureWarning)\n",
      "/Library/Frameworks/Python.framework/Versions/3.7/lib/python3.7/site-packages/sklearn/linear_model/logistic.py:433: FutureWarning: Default solver will be changed to 'lbfgs' in 0.22. Specify a solver to silence this warning.\n",
      "  FutureWarning)\n",
      "/Library/Frameworks/Python.framework/Versions/3.7/lib/python3.7/site-packages/sklearn/linear_model/logistic.py:433: FutureWarning: Default solver will be changed to 'lbfgs' in 0.22. Specify a solver to silence this warning.\n",
      "  FutureWarning)\n",
      "/Library/Frameworks/Python.framework/Versions/3.7/lib/python3.7/site-packages/sklearn/linear_model/logistic.py:433: FutureWarning: Default solver will be changed to 'lbfgs' in 0.22. Specify a solver to silence this warning.\n",
      "  FutureWarning)\n",
      "/Library/Frameworks/Python.framework/Versions/3.7/lib/python3.7/site-packages/sklearn/linear_model/logistic.py:433: FutureWarning: Default solver will be changed to 'lbfgs' in 0.22. Specify a solver to silence this warning.\n",
      "  FutureWarning)\n",
      "/Library/Frameworks/Python.framework/Versions/3.7/lib/python3.7/site-packages/sklearn/linear_model/logistic.py:433: FutureWarning: Default solver will be changed to 'lbfgs' in 0.22. Specify a solver to silence this warning.\n",
      "  FutureWarning)\n",
      "/Library/Frameworks/Python.framework/Versions/3.7/lib/python3.7/site-packages/sklearn/linear_model/logistic.py:433: FutureWarning: Default solver will be changed to 'lbfgs' in 0.22. Specify a solver to silence this warning.\n",
      "  FutureWarning)\n",
      "/Library/Frameworks/Python.framework/Versions/3.7/lib/python3.7/site-packages/sklearn/linear_model/logistic.py:433: FutureWarning: Default solver will be changed to 'lbfgs' in 0.22. Specify a solver to silence this warning.\n",
      "  FutureWarning)\n",
      "/Library/Frameworks/Python.framework/Versions/3.7/lib/python3.7/site-packages/sklearn/linear_model/logistic.py:433: FutureWarning: Default solver will be changed to 'lbfgs' in 0.22. Specify a solver to silence this warning.\n",
      "  FutureWarning)\n",
      "/Library/Frameworks/Python.framework/Versions/3.7/lib/python3.7/site-packages/sklearn/linear_model/logistic.py:433: FutureWarning: Default solver will be changed to 'lbfgs' in 0.22. Specify a solver to silence this warning.\n",
      "  FutureWarning)\n",
      "/Library/Frameworks/Python.framework/Versions/3.7/lib/python3.7/site-packages/sklearn/linear_model/logistic.py:433: FutureWarning: Default solver will be changed to 'lbfgs' in 0.22. Specify a solver to silence this warning.\n",
      "  FutureWarning)\n",
      "/Library/Frameworks/Python.framework/Versions/3.7/lib/python3.7/site-packages/sklearn/linear_model/logistic.py:433: FutureWarning: Default solver will be changed to 'lbfgs' in 0.22. Specify a solver to silence this warning.\n",
      "  FutureWarning)\n",
      "/Library/Frameworks/Python.framework/Versions/3.7/lib/python3.7/site-packages/sklearn/linear_model/logistic.py:433: FutureWarning: Default solver will be changed to 'lbfgs' in 0.22. Specify a solver to silence this warning.\n",
      "  FutureWarning)\n",
      "/Library/Frameworks/Python.framework/Versions/3.7/lib/python3.7/site-packages/sklearn/linear_model/logistic.py:433: FutureWarning: Default solver will be changed to 'lbfgs' in 0.22. Specify a solver to silence this warning.\n",
      "  FutureWarning)\n",
      "/Library/Frameworks/Python.framework/Versions/3.7/lib/python3.7/site-packages/sklearn/linear_model/logistic.py:433: FutureWarning: Default solver will be changed to 'lbfgs' in 0.22. Specify a solver to silence this warning.\n",
      "  FutureWarning)\n",
      "/Library/Frameworks/Python.framework/Versions/3.7/lib/python3.7/site-packages/sklearn/linear_model/logistic.py:433: FutureWarning: Default solver will be changed to 'lbfgs' in 0.22. Specify a solver to silence this warning.\n",
      "  FutureWarning)\n",
      "/Library/Frameworks/Python.framework/Versions/3.7/lib/python3.7/site-packages/sklearn/linear_model/logistic.py:433: FutureWarning: Default solver will be changed to 'lbfgs' in 0.22. Specify a solver to silence this warning.\n",
      "  FutureWarning)\n",
      "/Library/Frameworks/Python.framework/Versions/3.7/lib/python3.7/site-packages/sklearn/linear_model/logistic.py:433: FutureWarning: Default solver will be changed to 'lbfgs' in 0.22. Specify a solver to silence this warning.\n",
      "  FutureWarning)\n",
      "/Library/Frameworks/Python.framework/Versions/3.7/lib/python3.7/site-packages/sklearn/linear_model/logistic.py:433: FutureWarning: Default solver will be changed to 'lbfgs' in 0.22. Specify a solver to silence this warning.\n",
      "  FutureWarning)\n",
      "/Library/Frameworks/Python.framework/Versions/3.7/lib/python3.7/site-packages/sklearn/linear_model/logistic.py:433: FutureWarning: Default solver will be changed to 'lbfgs' in 0.22. Specify a solver to silence this warning.\n",
      "  FutureWarning)\n",
      "/Library/Frameworks/Python.framework/Versions/3.7/lib/python3.7/site-packages/sklearn/linear_model/logistic.py:433: FutureWarning: Default solver will be changed to 'lbfgs' in 0.22. Specify a solver to silence this warning.\n",
      "  FutureWarning)\n",
      "/Library/Frameworks/Python.framework/Versions/3.7/lib/python3.7/site-packages/sklearn/linear_model/logistic.py:433: FutureWarning: Default solver will be changed to 'lbfgs' in 0.22. Specify a solver to silence this warning.\n",
      "  FutureWarning)\n",
      "/Library/Frameworks/Python.framework/Versions/3.7/lib/python3.7/site-packages/sklearn/linear_model/logistic.py:433: FutureWarning: Default solver will be changed to 'lbfgs' in 0.22. Specify a solver to silence this warning.\n",
      "  FutureWarning)\n",
      "/Library/Frameworks/Python.framework/Versions/3.7/lib/python3.7/site-packages/sklearn/linear_model/logistic.py:433: FutureWarning: Default solver will be changed to 'lbfgs' in 0.22. Specify a solver to silence this warning.\n",
      "  FutureWarning)\n",
      "/Library/Frameworks/Python.framework/Versions/3.7/lib/python3.7/site-packages/sklearn/linear_model/logistic.py:433: FutureWarning: Default solver will be changed to 'lbfgs' in 0.22. Specify a solver to silence this warning.\n",
      "  FutureWarning)\n",
      "[Parallel(n_jobs=1)]: Done  32 out of  32 | elapsed:   17.0s finished\n",
      "/Library/Frameworks/Python.framework/Versions/3.7/lib/python3.7/site-packages/sklearn/linear_model/logistic.py:433: FutureWarning: Default solver will be changed to 'lbfgs' in 0.22. Specify a solver to silence this warning.\n",
      "  FutureWarning)\n"
     ]
    },
    {
     "name": "stdout",
     "output_type": "stream",
     "text": [
      "{'C': 0.001, 'penalty': 'l1'}\n",
      "0.8111969527706367\n"
     ]
    }
   ],
   "source": [
    "# Logistic Regression Gridsearch cv \n",
    "from sklearn.model_selection import GridSearchCV \n",
    "\n",
    "from sklearn.linear_model import LogisticRegression\n",
    "logr = LogisticRegression()\n",
    "\n",
    "# Create regularization penalty space\n",
    "penalty = ['l1', 'l2']\n",
    "\n",
    "# Create regularization hyperparameter space\n",
    "C = (0.001, 0.01, 0.1, 1)\n",
    "\n",
    "# Create hyperparameter options\n",
    "parameters = dict(C=C, penalty=penalty)\n",
    "\n",
    "# Use GS-CV to see which alpha level is best.\n",
    "\n",
    "logr_grid = GridSearchCV(logr, parameters, cv=4, verbose=1)\n",
    "\n",
    "#Fit the logistic regression \n",
    "logr_grid.fit(pca_X, y)\n",
    "\n",
    "#return best parameters and best score\n",
    "\n",
    "print(logr_grid.best_params_)\n",
    "print(logr_grid.best_score_)"
   ]
  },
  {
   "cell_type": "code",
   "execution_count": 19,
   "metadata": {},
   "outputs": [
    {
     "name": "stderr",
     "output_type": "stream",
     "text": [
      "/Library/Frameworks/Python.framework/Versions/3.7/lib/python3.7/site-packages/sklearn/linear_model/logistic.py:433: FutureWarning: Default solver will be changed to 'lbfgs' in 0.22. Specify a solver to silence this warning.\n",
      "  FutureWarning)\n",
      "/Library/Frameworks/Python.framework/Versions/3.7/lib/python3.7/site-packages/sklearn/linear_model/logistic.py:433: FutureWarning: Default solver will be changed to 'lbfgs' in 0.22. Specify a solver to silence this warning.\n",
      "  FutureWarning)\n"
     ]
    },
    {
     "name": "stdout",
     "output_type": "stream",
     "text": [
      "With 20% Holdout: 0.8089774218513409\n"
     ]
    },
    {
     "name": "stderr",
     "output_type": "stream",
     "text": [
      "/Library/Frameworks/Python.framework/Versions/3.7/lib/python3.7/site-packages/sklearn/linear_model/logistic.py:433: FutureWarning: Default solver will be changed to 'lbfgs' in 0.22. Specify a solver to silence this warning.\n",
      "  FutureWarning)\n"
     ]
    },
    {
     "name": "stdout",
     "output_type": "stream",
     "text": [
      "Testing on Sample: 0.810739329986406\n"
     ]
    },
    {
     "name": "stderr",
     "output_type": "stream",
     "text": [
      "/Library/Frameworks/Python.framework/Versions/3.7/lib/python3.7/site-packages/sklearn/linear_model/logistic.py:433: FutureWarning: Default solver will be changed to 'lbfgs' in 0.22. Specify a solver to silence this warning.\n",
      "  FutureWarning)\n",
      "/Library/Frameworks/Python.framework/Versions/3.7/lib/python3.7/site-packages/sklearn/linear_model/logistic.py:433: FutureWarning: Default solver will be changed to 'lbfgs' in 0.22. Specify a solver to silence this warning.\n",
      "  FutureWarning)\n",
      "/Library/Frameworks/Python.framework/Versions/3.7/lib/python3.7/site-packages/sklearn/linear_model/logistic.py:433: FutureWarning: Default solver will be changed to 'lbfgs' in 0.22. Specify a solver to silence this warning.\n",
      "  FutureWarning)\n",
      "/Library/Frameworks/Python.framework/Versions/3.7/lib/python3.7/site-packages/sklearn/linear_model/logistic.py:433: FutureWarning: Default solver will be changed to 'lbfgs' in 0.22. Specify a solver to silence this warning.\n",
      "  FutureWarning)\n",
      "/Library/Frameworks/Python.framework/Versions/3.7/lib/python3.7/site-packages/sklearn/linear_model/logistic.py:433: FutureWarning: Default solver will be changed to 'lbfgs' in 0.22. Specify a solver to silence this warning.\n",
      "  FutureWarning)\n"
     ]
    },
    {
     "name": "stdout",
     "output_type": "stream",
     "text": [
      "[0.80460312 0.80416569 0.81779333 0.814092   0.81506158]\n",
      "Logistic regression report :\n",
      "              precision    recall  f1-score   support\n",
      "\n",
      "           0       0.85      0.82      0.83     17201\n",
      "           1       0.76      0.80      0.78     12518\n",
      "\n",
      "   micro avg       0.81      0.81      0.81     29719\n",
      "   macro avg       0.80      0.81      0.80     29719\n",
      "weighted avg       0.81      0.81      0.81     29719\n",
      "\n",
      "AUC: 0.892\n"
     ]
    },
    {
     "data": {
      "image/png": "[encoded data removed]",
      "text/plain": [
       "<Figure size 432x288 with 1 Axes>"
      ]
     },
     "metadata": {
      "needs_background": "light"
     },
     "output_type": "display_data"
    }
   ],
   "source": [
    "# Logistic regression model \n",
    "logr = LogisticRegression(C= .001, penalty='l1')\n",
    "\n",
    "\n",
    "logr.fit(pca_X,y)\n",
    "\n",
    "# Use train_test_split to create the necessary training and test groups\n",
    "X_train, X_test, y_train, y_test = train_test_split(pca_X, y, test_size=0.2, random_state=20)\n",
    "print('With 20% Holdout: ' + str(logr.fit(X_train, y_train).score(X_test, y_test)))\n",
    "print('Testing on Sample: ' + str(logr.fit(pca_X, y).score(pca_X, y)))\n",
    "\n",
    "# Cross validating using 10 folds  \n",
    "from sklearn.model_selection import cross_val_score\n",
    "print(cross_val_score(logr, pca_X, y, cv=5))\n",
    "\n",
    "from sklearn.metrics import classification_report\n",
    "print('Logistic regression report :')\n",
    "print(classification_report(y_test, logr.predict(X_test)))\n",
    "\n",
    "#AUC \n",
    "probs = logr.predict_proba(X_test)\n",
    "probs = probs[:, 1]\n",
    "# calculate AUC\n",
    "auc = roc_auc_score(y_test, probs)\n",
    "print('AUC: %.3f' % auc)\n",
    "# calculate roc curve\n",
    "fpr, tpr, thresholds = roc_curve(y_test, probs, pos_label= 1 )\n",
    "plt.plot([0, 1], [0, 1], linestyle='--')\n",
    "# plot the roc curve for the model\n",
    "plt.plot(fpr, tpr, marker='.')\n",
    "# show the plot\n",
    "plt.show()"
   ]
  },
  {
   "cell_type": "markdown",
   "metadata": {},
   "source": [
    "## 4) Native Bayes"
   ]
  },
  {
   "cell_type": "code",
   "execution_count": 48,
   "metadata": {},
   "outputs": [
    {
     "name": "stdout",
     "output_type": "stream",
     "text": [
      "With 20% Holdout: 0.7659073320098254\n",
      "Testing on Sample: 0.7677564370028399\n",
      "[0.7666218  0.77557201 0.74602961 0.76554509 0.77367252 0.7660677\n",
      " 0.77919106 0.76169325 0.76108756 0.77791238]\n",
      "Native Bayes Classification report :\n",
      "              precision    recall  f1-score   support\n",
      "\n",
      "           0       0.85      0.72      0.78     17201\n",
      "           1       0.68      0.83      0.75     12518\n",
      "\n",
      "   micro avg       0.77      0.77      0.77     29719\n",
      "   macro avg       0.77      0.77      0.76     29719\n",
      "weighted avg       0.78      0.77      0.77     29719\n",
      "\n",
      "AUC: 0.850\n"
     ]
    },
    {
     "data": {
      "image/png": "[encoded data removed]",
      "text/plain": [
       "<Figure size 432x288 with 1 Axes>"
      ]
     },
     "metadata": {
      "needs_background": "light"
     },
     "output_type": "display_data"
    }
   ],
   "source": [
    "# Native Bayes \n",
    "\n",
    "from sklearn.naive_bayes import BernoulliNB\n",
    "from sklearn.model_selection import train_test_split\n",
    "\n",
    "\n",
    "# Instantiate our model and Fit our model to the data.\n",
    "bnb = BernoulliNB()\n",
    "bnb.fit(pca_X, y)\n",
    "\n",
    "# Use train_test_split to create the necessary training and test groups\n",
    "X_train, X_test, y_train, y_test = train_test_split(pca_X,y, test_size=0.2, random_state=20)\n",
    "print('With 20% Holdout: ' + str(bnb.fit(X_train, y_train).score(X_test, y_test)))\n",
    "print('Testing on Sample: ' + str(bnb.fit(pca_X, y).score(pca_X, y)))\n",
    "\n",
    "# Cross validating using 10 folds  \n",
    "from sklearn.model_selection import cross_val_score\n",
    "print(cross_val_score(bnb,pca_X , y, cv=10))\n",
    "\n",
    "#Classification report \n",
    "from sklearn.metrics import classification_report\n",
    "print('Native Bayes Classification report :')\n",
    "print(classification_report(y_test, bnb.predict(X_test)))\n",
    "\n",
    "#AUC \n",
    "probs = bnb.predict_proba(X_test)\n",
    "probs = probs[:, 1]\n",
    "# calculate AUC\n",
    "auc = roc_auc_score(y_test, probs)\n",
    "print('AUC: %.3f' % auc)\n",
    "# calculate roc curve\n",
    "fpr, tpr, thresholds = roc_curve(y_test, probs, pos_label= 1)\n",
    "plt.plot([0, 1], [0, 1], linestyle='--')\n",
    "# plot the roc curve for the model\n",
    "plt.plot(fpr, tpr, marker='.')\n",
    "# show the plot\n",
    "plt.show()\n"
   ]
  },
  {
   "cell_type": "code",
   "execution_count": 50,
   "metadata": {},
   "outputs": [
    {
     "name": "stdout",
     "output_type": "stream",
     "text": [
      "Fitting 5 folds for each of 16 candidates, totalling 80 fits\n"
     ]
    },
    {
     "name": "stderr",
     "output_type": "stream",
     "text": [
      "[Parallel(n_jobs=-1)]: Using backend LokyBackend with 4 concurrent workers.\n",
      "[Parallel(n_jobs=-1)]: Done  42 tasks      | elapsed:    6.7s\n",
      "[Parallel(n_jobs=-1)]: Done  80 out of  80 | elapsed:   17.9s finished\n"
     ]
    },
    {
     "name": "stdout",
     "output_type": "stream",
     "text": [
      "{'max_depth': 8, 'max_features': 8}\n",
      "0.8292528635072749\n"
     ]
    }
   ],
   "source": [
    "# Decision Tree Gridsearch \n",
    "from sklearn.tree import DecisionTreeClassifier\n",
    "\n",
    "\n",
    "# Initialize the model\n",
    "decision_tree = DecisionTreeClassifier()\n",
    "\n",
    "# Set parameters for dtc\n",
    "params = [{'max_features': [2, 4, 6, 8],\n",
    "             'max_depth': [2, 4, 6, 8]}]\n",
    "\n",
    "# Search for the best paramters. \n",
    "decision_tree_grid = GridSearchCV(decision_tree, params, cv=5, verbose=1, n_jobs=-1)\n",
    "\n",
    "# Fit the grid and obtain results\n",
    "decision_tree_grid.fit(pca_X, y)\n",
    "\n",
    "# Return best parameters and best score\n",
    "print(decision_tree_grid.best_params_)\n",
    "print(decision_tree_grid.best_score_)"
   ]
  },
  {
   "cell_type": "markdown",
   "metadata": {},
   "source": [
    "## 5) Decision Tree\n"
   ]
  },
  {
   "cell_type": "code",
   "execution_count": 51,
   "metadata": {},
   "outputs": [
    {
     "name": "stdout",
     "output_type": "stream",
     "text": [
      "With 20% Holdout: 0.8327669167872405\n",
      "Testing on Sample: 0.8352221489427568\n",
      "[0.81884253 0.82133244 0.80316285 0.83492598 0.84696144 0.83377078\n",
      " 0.82508917 0.82656976 0.83659735 0.83471297]\n",
      "Decision Tree report :\n",
      "              precision    recall  f1-score   support\n",
      "\n",
      "           0       0.86      0.86      0.86     17201\n",
      "           1       0.80      0.81      0.81     12518\n",
      "\n",
      "   micro avg       0.84      0.84      0.84     29719\n",
      "   macro avg       0.83      0.83      0.83     29719\n",
      "weighted avg       0.84      0.84      0.84     29719\n",
      "\n",
      "AUC: 0.917\n"
     ]
    },
    {
     "data": {
      "image/png": "[encoded data removed]",
      "text/plain": [
       "<Figure size 432x288 with 1 Axes>"
      ]
     },
     "metadata": {
      "needs_background": "light"
     },
     "output_type": "display_data"
    }
   ],
   "source": [
    "from sklearn.metrics import roc_curve\n",
    "from sklearn.metrics import roc_auc_score\n",
    "from matplotlib import pyplot\n",
    "\n",
    "decision_tree = DecisionTreeClassifier( \n",
    "    criterion='entropy',\n",
    "    max_features=8,\n",
    "    max_depth=8)\n",
    "\n",
    "\n",
    "from sklearn.model_selection import train_test_split\n",
    "# Use train_test_split to create the necessary training and test groups\n",
    "X_train, X_test, y_train, y_test = train_test_split(pca_X,y, test_size=0.2, random_state=20)\n",
    "print('With 20% Holdout: ' + str(decision_tree.fit(X_train, y_train).score(X_test, y_test)))\n",
    "print('Testing on Sample: ' + str(decision_tree.fit(pca_X, y).score(pca_X, y)))\n",
    "\n",
    "\n",
    "# Cross validating using 10 folds  \n",
    "from sklearn.model_selection import cross_val_score\n",
    "print(cross_val_score(decision_tree, pca_X, y, cv=10))\n",
    "\n",
    "\n",
    "from sklearn.metrics import classification_report\n",
    "print('Decision Tree report :')\n",
    "print(classification_report(y_test, decision_tree.predict(X_test)))\n",
    "\n",
    "#AUC \n",
    "probs = decision_tree.predict_proba(X_test)\n",
    "probs = probs[:, 1]\n",
    "# calculate AUC\n",
    "auc = roc_auc_score(y_test, probs)\n",
    "print('AUC: %.3f' % auc)\n",
    "# calculate roc curve\n",
    "fpr, tpr, thresholds = roc_curve(y_test, probs, pos_label= 1)\n",
    "plt.plot([0, 1], [0, 1], linestyle='--')\n",
    "# plot the roc curve for the model\n",
    "plt.plot(fpr, tpr, marker='.')\n",
    "# show the plot\n",
    "plt.show()"
   ]
  },
  {
   "cell_type": "markdown",
   "metadata": {},
   "source": [
    "## 6) Gradient Boosted Model "
   ]
  },
  {
   "cell_type": "code",
   "execution_count": 52,
   "metadata": {},
   "outputs": [
    {
     "name": "stdout",
     "output_type": "stream",
     "text": [
      "Fitting 3 folds for each of 30 candidates, totalling 90 fits\n"
     ]
    },
    {
     "name": "stderr",
     "output_type": "stream",
     "text": [
      "[Parallel(n_jobs=-1)]: Using backend LokyBackend with 4 concurrent workers.\n",
      "[Parallel(n_jobs=-1)]: Done  42 tasks      | elapsed: 34.7min\n",
      "[Parallel(n_jobs=-1)]: Done  90 out of  90 | elapsed: 129.7min finished\n"
     ]
    },
    {
     "name": "stdout",
     "output_type": "stream",
     "text": [
      "{'max_depth': 7, 'n_estimators': 50}\n",
      "0.8448389571584317\n"
     ]
    }
   ],
   "source": [
    "# Parameters to test in gridsearch cv \n",
    "\n",
    "params = {'n_estimators': [50, 100, 150, 200, 300, 500],\n",
    "                           \n",
    "          'max_depth': [4,5,6,7,8],\n",
    "         }\n",
    "\n",
    "# Initialize and fit the model.\n",
    "gb = ensemble.GradientBoostingClassifier()\n",
    "\n",
    "# Use the grid\n",
    "gb_grid = GridSearchCV(gb, params, cv=3, verbose=1, n_jobs=-1)\n",
    "\n",
    "# Fit the grid\n",
    "gb_grid.fit(pca_X, y)\n",
    "\n",
    "# Return best parameters and best score\n",
    "print(gb_grid.best_params_)\n",
    "print(gb_grid.best_score_)"
   ]
  },
  {
   "cell_type": "code",
   "execution_count": 53,
   "metadata": {},
   "outputs": [
    {
     "name": "stdout",
     "output_type": "stream",
     "text": [
      "With 20% Holdout: 0.8448130825397894\n",
      "Testing on Sample: 0.8595636432157422\n",
      "[0.83627187 0.84212651 0.82106326 0.84905787 0.86183458 0.84837472\n",
      " 0.84245239 0.84393297 0.8595464  0.84797093]\n",
      "Gradient Boosting report :\n",
      "              precision    recall  f1-score   support\n",
      "\n",
      "           0       0.90      0.85      0.88     17201\n",
      "           1       0.81      0.87      0.84     12518\n",
      "\n",
      "   micro avg       0.86      0.86      0.86     29719\n",
      "   macro avg       0.86      0.86      0.86     29719\n",
      "weighted avg       0.86      0.86      0.86     29719\n",
      "\n",
      "AUC: 0.936\n"
     ]
    },
    {
     "data": {
      "image/png": "[encoded data removed]",
      "text/plain": [
       "<Figure size 432x288 with 1 Axes>"
      ]
     },
     "metadata": {
      "needs_background": "light"
     },
     "output_type": "display_data"
    }
   ],
   "source": [
    "# Gradient boosting model \n",
    "# Best Parameters from gridsearchcv \n",
    "params = {'n_estimators': 50,\n",
    "          'max_depth': 7,\n",
    "          'loss': 'deviance'}\n",
    "\n",
    "# Initialize and fit the model.\n",
    "gb = ensemble.GradientBoostingClassifier(**params)\n",
    "\n",
    "gb.fit(pca_X,y)\n",
    "\n",
    "\n",
    "# Use train_test_split to create the necessary training and test groups\n",
    "X_train, X_test, y_train, y_test = train_test_split(pca_X,y, test_size=0.2, random_state=20)\n",
    "print('With 20% Holdout: ' + str(gb.fit(X_train, y_train).score(X_test, y_test)))\n",
    "print('Testing on Sample: ' + str(gb.fit(pca_X, y).score(pca_X, y)))\n",
    "\n",
    "# Cross validating using 10 folds  \n",
    "from sklearn.model_selection import cross_val_score\n",
    "print(cross_val_score(gb, pca_X, y, cv=10))\n",
    "\n",
    "from sklearn.metrics import classification_report\n",
    "print('Gradient Boosting report :')\n",
    "print(classification_report(y_test, gb.predict(X_test)))\n",
    "\n",
    "#AUC \n",
    "probs = gb.predict_proba(X_test)\n",
    "probs = probs[:, 1]\n",
    "# calculate AUC\n",
    "auc = roc_auc_score(y_test, probs)\n",
    "print('AUC: %.3f' % auc)\n",
    "# calculate roc curve\n",
    "fpr, tpr, thresholds = roc_curve(y_test, probs, pos_label= 1)\n",
    "plt.plot([0, 1], [0, 1], linestyle='--')\n",
    "# plot the roc curve for the model\n",
    "plt.plot(fpr, tpr, marker='.')\n",
    "# show the plot\n",
    "plt.show()\n"
   ]
  },
  {
   "cell_type": "markdown",
   "metadata": {},
   "source": [
    "## 7) SVM\n"
   ]
  },
  {
   "cell_type": "code",
   "execution_count": null,
   "metadata": {},
   "outputs": [
    {
     "name": "stdout",
     "output_type": "stream",
     "text": [
      "Fitting 3 folds for each of 9 candidates, totalling 27 fits\n"
     ]
    },
    {
     "name": "stderr",
     "output_type": "stream",
     "text": [
      "[Parallel(n_jobs=-1)]: Using backend LokyBackend with 4 concurrent workers.\n"
     ]
    }
   ],
   "source": [
    "# SVM gridsearch for best parameters \n",
    "from sklearn.svm import SVC\n",
    "from sklearn.model_selection import GridSearchCV\n",
    "\n",
    "svm = SVC()\n",
    "\n",
    "# new parameters for this model\n",
    "svc_params = [{'C': [.01,.1,1], 'gamma': [.01,.1,1]}]\n",
    "\n",
    "# setting up the grid\n",
    "svc_grid = GridSearchCV(svm, svc_params, cv=3, verbose=1, n_jobs=-1)\n",
    "\n",
    "#Fit the grid\n",
    "svc_grid.fit(pca_X,y)\n",
    "\n",
    "#return best parameters and best score\n",
    "\n",
    "print(svc_grid.best_params_)\n",
    "print(svc_grid.best_score_)"
   ]
  },
  {
   "cell_type": "code",
   "execution_count": 22,
   "metadata": {
    "scrolled": true
   },
   "outputs": [
    {
     "name": "stdout",
     "output_type": "stream",
     "text": [
      "With 20% Holdout: 0.6403647498233453\n",
      "Testing on Sample: 0.6528123611989717\n",
      "[0.62341517 0.63128142 0.63027195]\n",
      "SVM report :\n",
      "              precision    recall  f1-score   support\n",
      "\n",
      "           0       0.64      0.93      0.75     17201\n",
      "           1       0.73      0.27      0.40     12518\n",
      "\n",
      "   micro avg       0.65      0.65      0.65     29719\n",
      "   macro avg       0.68      0.60      0.58     29719\n",
      "weighted avg       0.68      0.65      0.60     29719\n",
      "\n"
     ]
    }
   ],
   "source": [
    "# SVM model using pca \n",
    "from sklearn.svm import SVC\n",
    "svm = SVC(C=0.01, gamma=.01)\n",
    "\n",
    "svm.fit(pca_X,y)\n",
    "\n",
    "# Use train_test_split to create the necessary training and test groups\n",
    "X_train, X_test, y_train, y_test = train_test_split(pca_X, y, test_size=0.2, random_state=20)\n",
    "print('With 20% Holdout: ' + str(svm.fit(X_train, y_train).score(X_test, y_test)))\n",
    "print('Testing on Sample: ' + str(svm.fit(pca_X, y).score(pca_X, y)))\n",
    "\n",
    "# Cross validating using 10 folds  \n",
    "from sklearn.model_selection import cross_val_score\n",
    "print(cross_val_score(svm, pca_X, y, cv=3))\n",
    "\n",
    "from sklearn.metrics import classification_report\n",
    "print('SVM report :')\n",
    "print(classification_report(y_test, svm.predict(X_test)))\n",
    "\n"
   ]
  },
  {
   "cell_type": "markdown",
   "metadata": {},
   "source": [
    "## Conclusion "
   ]
  },
  {
   "cell_type": "markdown",
   "metadata": {},
   "source": [
    "\n",
    "Visualization suggested several features were prone to suggetive to our target varible, those between a poverty threshold of  100 and 200 were much more likely to use foodstamps. Using select k best, the varible that were most impactful included: 'METRO', 'FOODSTMP', 'SEX', 'AGE', 'RACBLK', 'RACWHT', 'HCOVANY','HCOVPRIV', 'HCOVPUB', 'EDUC', 'EDUCD', 'income_vs_rent'(our feature). It is interesting to see that metro, or wheter or not you are located in or outside of a metropolitan area and principal city, is the most prominent variable. The visualization of this varibale shows that  living outside of a metropolitan area and principal city is particular to those with lower poverty thresholds, while those with higher poverty thresholds concentrate in metro areas and cities. \n",
    "\n",
    "\n",
    "After visualizing the data, We tested several modeling technique using two different feature selection methods, specifically select k best and PCA. Both performed similarly yet in certain model types, there were stark differences in performance. Specifically among Native Bayes and SVM. Native bayes using select k best preformed the worst among all of the models, but preformed moderatly well using PCA. SVM using pca was the second worst performing model, but performed moderatly well using select k best. \n",
    "\n",
    "\n",
    "To evaluate each of the models, I used a clasification report giving scores in precision, recall, and f1 - scores. Additionally, I used AUC or area under the curve. It is used in classification analysis in order to determine which of the used models predicts the classes best.  Here, the true positive rates are plotted against false positive rates. An example is below. The closer AUC for a model comes to 1, the better it is, and the closer the AUC is to .5 is it nearly random. Among all of the models, using both PCA and select k best, the best performing model was the gradient boosted classifier using PCA. Both model maintains a simlar score in the classification of our non target class, but the model using PCA had a greater precision score in the classification of our target class. Thus giving the PCA model an overall AUC of .936 higher f1 score. \n",
    "\n",
    "\n",
    "\n",
    "\n",
    "\n",
    "       "
   ]
  },
  {
   "cell_type": "code",
   "execution_count": null,
   "metadata": {},
   "outputs": [],
   "source": []
  }
 ],
 "metadata": {
  "kernelspec": {
   "display_name": "Python 3",
   "language": "python",
   "name": "python3"
  },
  "language_info": {
   "codemirror_mode": {
    "name": "ipython",
    "version": 3
   },
   "file_extension": ".py",
   "mimetype": "text/x-python",
   "name": "python",
   "nbconvert_exporter": "python",
   "pygments_lexer": "ipython3",
   "version": "3.7.1"
  }
 },
 "nbformat": 4,
 "nbformat_minor": 2
}
